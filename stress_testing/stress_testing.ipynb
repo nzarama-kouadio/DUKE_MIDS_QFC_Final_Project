{
 "cells": [
  {
   "cell_type": "code",
   "execution_count": 2,
   "metadata": {
    "vscode": {
     "languageId": "r"
    }
   },
   "outputs": [
    {
     "name": "stderr",
     "output_type": "stream",
     "text": [
      "\n",
      "Attaching package: ‘dplyr’\n",
      "\n",
      "\n",
      "The following objects are masked from ‘package:stats’:\n",
      "\n",
      "    filter, lag\n",
      "\n",
      "\n",
      "The following objects are masked from ‘package:base’:\n",
      "\n",
      "    intersect, setdiff, setequal, union\n",
      "\n",
      "\n",
      "Warning message in system(\"timedatectl\", intern = TRUE):\n",
      "“running command 'timedatectl' had status 1”\n",
      "\n",
      "Attaching package: ‘lubridate’\n",
      "\n",
      "\n",
      "The following objects are masked from ‘package:base’:\n",
      "\n",
      "    date, intersect, setdiff, union\n",
      "\n",
      "\n",
      "Registered S3 method overwritten by 'quantmod':\n",
      "  method            from\n",
      "  as.zoo.data.frame zoo \n",
      "\n",
      "Loading required package: rlang\n",
      "\n",
      "\n",
      "Attaching package: ‘Metrics’\n",
      "\n",
      "\n",
      "The following object is masked from ‘package:rlang’:\n",
      "\n",
      "    ll\n",
      "\n",
      "\n",
      "The following object is masked from ‘package:forecast’:\n",
      "\n",
      "    accuracy\n",
      "\n",
      "\n",
      "\n",
      "Attaching package: ‘zoo’\n",
      "\n",
      "\n",
      "The following objects are masked from ‘package:base’:\n",
      "\n",
      "    as.Date, as.Date.numeric\n",
      "\n",
      "\n",
      "Loading required package: lattice\n",
      "\n",
      "\n",
      "Attaching package: ‘caret’\n",
      "\n",
      "\n",
      "The following objects are masked from ‘package:Metrics’:\n",
      "\n",
      "    precision, recall\n",
      "\n",
      "\n",
      "Loading required package: Matrix\n",
      "\n",
      "Loaded glmnet 4.1-8\n",
      "\n"
     ]
    }
   ],
   "source": [
    "# https://otexts.com/fpp3/prophet.html\n",
    "# Load required libraries. Make sure to install them too\n",
    "library(readxl)\n",
    "library(dplyr)\n",
    "library(Rcpp)\n",
    "library(ggplot2)\n",
    "library(lubridate)\n",
    "library(forecast)\n",
    "library(prophet)\n",
    "library(Metrics)\n",
    "library(zoo) # use for date formatting \n",
    "library(stats) # use for additive\n",
    "library(caret)\n",
    "library(glmnet)\n",
    "library(fredr)\n",
    "#library(tidyverse)\n",
    "\n"
   ]
  },
  {
   "cell_type": "code",
   "execution_count": 3,
   "metadata": {
    "vscode": {
     "languageId": "r"
    }
   },
   "outputs": [],
   "source": [
    "# Extract deposit_levels to use it in this file\n",
    "deposits <- readRDS(\"/workspaces/DUKE_MIDS_QFC_Final_Project/model_prediction/deposits.rds\") # Load the data\n",
    "deposits$date <- deposits$time_as_date\n"
   ]
  },
  {
   "cell_type": "code",
   "execution_count": 4,
   "metadata": {
    "vscode": {
     "languageId": "r"
    }
   },
   "outputs": [],
   "source": [
    "# Extract regressors_data to use it in this file\n",
    "regressors_data <- readRDS(\"/workspaces/DUKE_MIDS_QFC_Final_Project/data_cleaning/regressors_data.rds\")"
   ]
  },
  {
   "cell_type": "code",
   "execution_count": 5,
   "metadata": {
    "vscode": {
     "languageId": "r"
    }
   },
   "outputs": [],
   "source": [
    "# Extract regressors_data to use it in this file\n",
    "prediction_data_2 <-readRDS(\"/workspaces/DUKE_MIDS_QFC_Final_Project/model_prediction/prediction_data_2.rds\")\n"
   ]
  },
  {
   "cell_type": "code",
   "execution_count": 6,
   "metadata": {
    "vscode": {
     "languageId": "r"
    }
   },
   "outputs": [
    {
     "name": "stderr",
     "output_type": "stream",
     "text": [
      "Warning message in check_tzones(e1, e2):\n",
      "“'tzone' attributes are inconsistent”\n"
     ]
    },
    {
     "data": {
      "text/html": [
       "362328333050.143"
      ],
      "text/latex": [
       "362328333050.143"
      ],
      "text/markdown": [
       "362328333050.143"
      ],
      "text/plain": [
       "[1] 362328333050"
      ]
     },
     "metadata": {},
     "output_type": "display_data"
    }
   ],
   "source": [
    "# Take in quaterly deposits of 2025 (from prediction made by XGboost)\n",
    "\n",
    "# Step 2: Total annual deposit for 2025\n",
    "deposits_2025_year <- prediction_data_2$yhat[prediction_data_2$ds == as.Date(\"2025-10-01\")] #  Q4 figure would represent deposits at the end of the year (a point-in-time total).\n",
    "deposits_2025_year"
   ]
  },
  {
   "cell_type": "code",
   "execution_count": 7,
   "metadata": {
    "vscode": {
     "languageId": "r"
    }
   },
   "outputs": [
    {
     "name": "stderr",
     "output_type": "stream",
     "text": [
      "Warning message in merge.data.frame(x, y, by = c(\"date\"), all = TRUE):\n",
      "“column names ‘series_id.x’, ‘realtime_start.x’, ‘realtime_end.x’, ‘series_id.y’, ‘realtime_start.y’, ‘realtime_end.y’ are duplicated in the result”\n",
      "Warning message in merge.data.frame(x, y, by = c(\"date\"), all = TRUE):\n",
      "“column names ‘series_id.x’, ‘realtime_start.x’, ‘realtime_end.x’, ‘series_id.y’, ‘realtime_start.y’, ‘realtime_end.y’ are duplicated in the result”\n",
      "Warning message in merge.data.frame(x, y, by = c(\"date\"), all = TRUE):\n",
      "“column names ‘series_id.x’, ‘realtime_start.x’, ‘realtime_end.x’, ‘series_id.y’, ‘realtime_start.y’, ‘realtime_end.y’, ‘series_id.x’, ‘realtime_start.x’, ‘realtime_end.x’, ‘series_id.y’, ‘realtime_start.y’, ‘realtime_end.y’ are duplicated in the result”\n",
      "Warning message in merge.data.frame(x, y, by = c(\"date\"), all = TRUE):\n",
      "“column names ‘series_id.x’, ‘realtime_start.x’, ‘realtime_end.x’, ‘series_id.y’, ‘realtime_start.y’, ‘realtime_end.y’, ‘series_id.x’, ‘realtime_start.x’, ‘realtime_end.x’, ‘series_id.y’, ‘realtime_start.y’, ‘realtime_end.y’ are duplicated in the result”\n"
     ]
    }
   ],
   "source": [
    "# Create a linear regression model to asssess the relationship (sensitivity=coefficient) of different factors on the deposit \n",
    "\n",
    "# Step 1: Fetch the regressors online: fed_rate (FEDFUNDS), unemployment_rate (UNRATE), consumer_price_index (UMCSENT), GDP, NASDAQ (NASDAQCOM), (U.S. National Home Price Index) CSUSHPINSA.\n",
    "# NOTE: use change rate for all the indicators to capture the reaction to shifts in rates and not the plain absolute value\n",
    "\n",
    "  # FRED API KEY: 4bb02eefc8f7c17a772e030373156e50\n",
    "fredr_set_key(\"4bb02eefc8f7c17a772e030373156e50\")\n",
    "\n",
    "  # Define the time range\n",
    "start_date <- as.Date(\"1984-01-01\")\n",
    "end_date <- as.Date(\"2024-04-01\")\n",
    "\n",
    "  # Fetch federal funds rate data\n",
    "fed_funds <- fredr(\n",
    "  series_id = \"FEDFUNDS\",\n",
    "  observation_start = start_date,\n",
    "  observation_end = end_date,\n",
    "  frequency = \"q\",\n",
    "  units = \"pch\"\n",
    ")\n",
    "fed_funds <- fed_funds %>%\n",
    "  rename(federal_rate = value)\n",
    "\n",
    "  # Fetch unemployment rate data\n",
    "unemployment <- fredr(\n",
    "  series_id = \"UNRATE\",\n",
    "  observation_start = start_date,\n",
    "  observation_end = end_date,\n",
    "  frequency = \"q\",\n",
    "  units = \"pch\"\n",
    "\n",
    ")\n",
    "unemployment <- unemployment %>%\n",
    "  rename(unemployment_rate = value)\n",
    "\n",
    "  # Fetch consumer_price_index (UMCSENT)\n",
    "\n",
    "CPI <- fredr(\n",
    "  series_id = \"UMCSENT\",\n",
    "  observation_start = start_date,\n",
    "  observation_end = end_date,\n",
    "  frequency = \"q\",\n",
    "  units = \"pch\"\n",
    "\n",
    ")\n",
    "CPI <- CPI %>%\n",
    "  rename(CPI = value)\n",
    "\n",
    "   # Fetch GDP rate data\n",
    "GDP <- fredr(\n",
    "  series_id = \"GDP\",\n",
    "  observation_start = start_date,\n",
    "  observation_end = end_date,\n",
    "  frequency = \"q\",\n",
    "  units = \"pch\"\n",
    "\n",
    ")\n",
    "GDP <- GDP %>%\n",
    "  rename(gdp_rate = value)\n",
    "\n",
    "\n",
    "   # Fetch NASDAQ rate data\n",
    "NASDAQ <- fredr(\n",
    "  series_id = \"NASDAQCOM\",\n",
    "  observation_start = start_date,\n",
    "  observation_end = end_date,\n",
    "  frequency = \"q\",\n",
    "  units = \"pch\"\n",
    ")\n",
    "NASDAQ <- NASDAQ %>%\n",
    "  rename(NASDAQ_value = value)\n",
    "\n",
    "   # Fetch Case-Shiller Home Price Index rate data\n",
    "housing <- fredr(\n",
    "  series_id = \"CSUSHPINSA\",\n",
    "  observation_start = start_date,\n",
    "  observation_end = end_date,\n",
    "  frequency = \"q\",\n",
    "  units = \"pch\"\n",
    ")\n",
    "housing <- housing %>%\n",
    "  rename(Home_Price_Index = value)\n",
    "\n",
    "# Step 2: Create a dataframe off all the regressors with the deposit level from 1984 to 2024 \n",
    "\n",
    "data_to_merge <- list(fed_funds, unemployment, CPI, GDP, NASDAQ, housing, deposits)\n",
    "\n",
    "merge_data <- Reduce(function(x, y) {\n",
    "  merge(x, y, by = c(\"date\"), all = TRUE)\n",
    "}, data_to_merge) # merge to get only the all regressors\n",
    "\n",
    "merge_data <- merge_data %>%\n",
    "  select(-matches(\"series_id|realtime_end|realtime_start|time|time_as_date|time_as_numeric\")) # filter to remove unwanted columns\n",
    "\n",
    "\n",
    "\n"
   ]
  },
  {
   "cell_type": "code",
   "execution_count": 8,
   "metadata": {
    "vscode": {
     "languageId": "r"
    }
   },
   "outputs": [],
   "source": [
    "#merge_data\n"
   ]
  },
  {
   "cell_type": "code",
   "execution_count": 9,
   "metadata": {
    "vscode": {
     "languageId": "r"
    }
   },
   "outputs": [
    {
     "data": {
      "text/plain": [
       "\n",
       "Call:\n",
       "lm(formula = deposits ~ federal_rate + gdp_rate + unemployment_rate + \n",
       "    CPI + Home_Price_Index + NASDAQ_value, data = merge_data)\n",
       "\n",
       "Residuals:\n",
       "       Min         1Q     Median         3Q        Max \n",
       "-2.002e+11 -1.409e+11  5.578e+10  1.145e+11  2.743e+11 \n",
       "\n",
       "Coefficients:\n",
       "                    Estimate Std. Error t value Pr(>|t|)    \n",
       "(Intercept)        2.134e+11  2.121e+10  10.063   <2e-16 ***\n",
       "federal_rate       5.906e+08  2.329e+08   2.536   0.0123 *  \n",
       "gdp_rate          -2.392e+10  1.571e+10  -1.523   0.1301    \n",
       "unemployment_rate -4.798e+08  9.069e+08  -0.529   0.5976    \n",
       "CPI               -9.238e+08  1.967e+09  -0.470   0.6393    \n",
       "Home_Price_Index  -2.774e+09  6.542e+09  -0.424   0.6722    \n",
       "NASDAQ_value       1.039e+09  1.405e+09   0.740   0.4606    \n",
       "---\n",
       "Signif. codes:  0 ‘***’ 0.001 ‘**’ 0.01 ‘*’ 0.05 ‘.’ 0.1 ‘ ’ 1\n",
       "\n",
       "Residual standard error: 1.363e+11 on 142 degrees of freedom\n",
       "Multiple R-squared:  0.05643,\tAdjusted R-squared:  0.01656 \n",
       "F-statistic: 1.415 on 6 and 142 DF,  p-value: 0.2127\n"
      ]
     },
     "metadata": {},
     "output_type": "display_data"
    }
   ],
   "source": [
    "# Calculate sensitivy:\n",
    "\n",
    "# Drop nas\n",
    "merge_data <- na.omit(merge_data)\n",
    "\n",
    "# Linear regression\n",
    "linear_regression <- lm(deposits ~ federal_rate + gdp_rate + unemployment_rate + CPI + Home_Price_Index + NASDAQ_value , data = merge_data)\n",
    "summary(linear_regression)\n",
    "# Running the model with all the regressors gives me a pvalue > 0.05 so i had to remove some regressors for the regressors to be significant\n",
    "# A 1% change in federal rate leads to a $548,000,000 change in deposits"
   ]
  },
  {
   "cell_type": "code",
   "execution_count": 14,
   "metadata": {
    "vscode": {
     "languageId": "r"
    }
   },
   "outputs": [
    {
     "name": "stderr",
     "output_type": "stream",
     "text": [
      "Warning message in geom_vline(xintercept = mean_value, color = \"blue\", linetype = \"dashed\", :\n",
      "“\u001b[1m\u001b[22mIgnoring unknown parameters: `label`”\n",
      "Warning message in annotate(\"text\", x = mean_value, y = 45, label = (\"Mean:  $343 trillion\"), :\n",
      "“\u001b[1m\u001b[22mIgnoring unknown parameters: `face`”\n",
      "Warning message in annotate(\"text\", x = VAR, y = 50, label = (\"VAR: $314 trillion\"), :\n",
      "“\u001b[1m\u001b[22mIgnoring unknown parameters: `face`”\n"
     ]
    },
    {
     "data": {
      "image/png": "[encoded data removed]",
      "text/plain": [
       "plot without title"
      ]
     },
     "metadata": {
      "image/png": {
       "height": 420,
       "width": 420
      }
     },
     "output_type": "display_data"
    }
   ],
   "source": [
    "\n",
    "# Step 3: Define stress test parameters\n",
    "\n",
    "drop_in_interest_rate <- 0.05  # 5% drop based mid 2007-to december 2028\n",
    "sensitivity <- -0.591  # ($ 0.59 in billion)  A 1% change in federal rate leads to a $596,000,000 decline in deposits based on lm mode\n",
    "\n",
    "\n",
    "# Step 4: Monte Carlo simulation\n",
    "set.seed(42) # For reproducibility\n",
    "num_simulations <- 100000\n",
    "simulated_deposits <- numeric(num_simulations)\n",
    "deposit_2025 <- 354271700 #(in thousands, from XGboost ==> 3.54 trillion)\n",
    "\n",
    "for (i in 1:num_simulations) {\n",
    "  random_factor <- rnorm(1, mean = 1 + sensitivity * drop_in_interest_rate, sd = 0.05) # Adjust standard deviation as needed\n",
    "  simulated_deposits[i] <- deposit_2025 * random_factor\n",
    "}\n",
    "\n",
    "# Calculate statistics\n",
    "mean_value <- mean(simulated_deposits)\n",
    "VAR <- quantile(simulated_deposits, 0.05)\n",
    "\n",
    "data <- data.frame(simulated_deposits)\n",
    "\n",
    "# Plot\n",
    "ggplot(data, aes(x = simulated_deposits)) +\n",
    "  geom_histogram(binwidth = 10000, fill = \"skyblue\", color = \"skyblue\", alpha = 0.7) +\n",
    "  geom_vline(xintercept = mean_value, color = \"blue\", linetype = \"dashed\", size = 1, label = \"Mean\") +\n",
    "  geom_vline(xintercept = VAR, color = \"red\", linetype = \"dashed\", size = 1) +\n",
    "  labs(\n",
    "    title = \"Distribution of Deposit Levels Under Stress Test 2025\",\n",
    "    x = \"Deposit Level ($)\",\n",
    "    y = \"Frequency\"\n",
    "  ) +\n",
    "  annotate(\"text\", x = mean_value, y = 45, label = (\"Mean:  $343 trillion\"), color = \"blue\", size = 8, face = \"bold\") +\n",
    "  annotate(\"text\", x = VAR, y = 50, label = (\"VAR: $314 trillion\"), color = \"red\", size = 8, face = \"bold\") +\n",
    "  theme_classic() +\n",
    "  theme(\n",
    "    plot.title = element_text(size = 15, face = \"bold\"),\n",
    "    axis.title = element_text(size = 14),\n",
    "    axis.text = element_text(size = 12)\n",
    "  )\n"
   ]
  },
  {
   "cell_type": "code",
   "execution_count": 11,
   "metadata": {
    "vscode": {
     "languageId": "r"
    }
   },
   "outputs": [
    {
     "data": {
      "text/html": [
       "<strong>5%:</strong> 314443196.954947"
      ],
      "text/latex": [
       "\\textbf{5\\textbackslash{}\\%:} 314443196.954947"
      ],
      "text/markdown": [
       "**5%:** 314443196.954947"
      ],
      "text/plain": [
       "       5% \n",
       "314443197 "
      ]
     },
     "metadata": {},
     "output_type": "display_data"
    }
   ],
   "source": [
    "VAR"
   ]
  }
 ],
 "metadata": {
  "kernelspec": {
   "display_name": "R",
   "language": "R",
   "name": "ir"
  },
  "language_info": {
   "codemirror_mode": "r",
   "file_extension": ".r",
   "mimetype": "text/x-r-source",
   "name": "R",
   "pygments_lexer": "r",
   "version": "3.6.3"
  }
 },
 "nbformat": 4,
 "nbformat_minor": 2
}
