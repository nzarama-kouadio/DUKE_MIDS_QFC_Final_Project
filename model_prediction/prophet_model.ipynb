{
 "cells": [
  {
   "cell_type": "markdown",
   "metadata": {},
   "source": [
    "## Part 1: Load Libaries and Import necessary dataset"
   ]
  },
  {
   "cell_type": "code",
   "execution_count": 377,
   "metadata": {
    "vscode": {
     "languageId": "r"
    }
   },
   "outputs": [],
   "source": [
    "# https://otexts.com/fpp3/prophet.html\n",
    "# Load required libraries. Make sure to install them too\n",
    "library(readxl)\n",
    "library(dplyr)\n",
    "library(Rcpp)\n",
    "library(ggplot2)\n",
    "library(lubridate)\n",
    "library(forecast)\n",
    "library(prophet)\n",
    "library(Metrics)\n",
    "library(zoo) # use for date formatting \n",
    "library(stats) # use for additive\n",
    "library(caret)\n",
    "library(glmnet)\n"
   ]
  },
  {
   "cell_type": "code",
   "execution_count": 378,
   "metadata": {
    "vscode": {
     "languageId": "r"
    }
   },
   "outputs": [],
   "source": [
    "# Extract deposit_levels to use it in this file\n",
    "deposit_levels <- readRDS(\"/workspaces/DUKE_MIDS_QFC_Final_Project/data_cleaning/deposit_levels.rds\") # Load the data\n"
   ]
  },
  {
   "cell_type": "code",
   "execution_count": 379,
   "metadata": {
    "vscode": {
     "languageId": "r"
    }
   },
   "outputs": [],
   "source": [
    "# Extract regressors_data to use it in this file\n",
    "regressors_data <- readRDS(\"/workspaces/DUKE_MIDS_QFC_Final_Project/data_cleaning/regressors_data.rds\")"
   ]
  },
  {
   "cell_type": "code",
   "execution_count": 380,
   "metadata": {
    "vscode": {
     "languageId": "r"
    }
   },
   "outputs": [
    {
     "name": "stdout",
     "output_type": "stream",
     "text": [
      "Rows: 162\n",
      "Columns: 2\n",
      "$ time     \u001b[3m\u001b[90m<chr>\u001b[39m\u001b[23m \"1984Q1\", \"1984Q2\", \"1984Q3\", \"1984Q4\", \"1985Q1\", \"1985Q2\", \"…\n",
      "$ deposits \u001b[3m\u001b[90m<dbl>\u001b[39m\u001b[23m 22917257000, 23575192000, 24308965000, 24967964000, 256737460…\n"
     ]
    }
   ],
   "source": [
    "glimpse(deposit_levels)"
   ]
  },
  {
   "cell_type": "markdown",
   "metadata": {},
   "source": [
    "## Part 2: Data Exploration for Prophet Assumption"
   ]
  },
  {
   "cell_type": "markdown",
   "metadata": {},
   "source": [
    "### Step 1: Data Regularity and Sufficient Historical Data Expectation"
   ]
  },
  {
   "cell_type": "markdown",
   "metadata": {},
   "source": [
    "- **Purpose**: Prophet requires data to be regular (no gaps in time periods) and free of missing values to build accurate forecasts."
   ]
  },
  {
   "cell_type": "code",
   "execution_count": 381,
   "metadata": {
    "vscode": {
     "languageId": "r"
    }
   },
   "outputs": [
    {
     "data": {
      "text/html": [
       "0"
      ],
      "text/latex": [
       "0"
      ],
      "text/markdown": [
       "0"
      ],
      "text/plain": [
       "[1] 0"
      ]
     },
     "metadata": {},
     "output_type": "display_data"
    }
   ],
   "source": [
    "sum(is.na(deposit_levels))  # no missing values"
   ]
  },
  {
   "cell_type": "markdown",
   "metadata": {},
   "source": [
    "- The time series has regular quaterly intervals and no missing values so the data regurlarity expectation is satified. \n",
    "\n",
    "- It also has decades worth of data so the \"sufficient historical data\" expectation is satisfied. "
   ]
  },
  {
   "cell_type": "markdown",
   "metadata": {},
   "source": [
    "### Step 2: Presence of Trend Expectation"
   ]
  },
  {
   "cell_type": "markdown",
   "metadata": {},
   "source": [
    "- **Purpose**: Prophet models require a clear understanding of the trend to accurately forecast future values. \n",
    "\n",
    "- **Next Steps**: Evaluate whether the data exhibits a linear or logistic trend.\n",
    "\n",
    "- **Question** Does the choice of a linear trend or logistic trend affect Prophet's predictions?\n",
    "\n",
    "- **Answer** : Yes, it absolutely affects the predictions. Here’s how:\n",
    "\n",
    "    - **Linear Trend**: Assumes that growth continues indefinitely at a constant rate.\n",
    "        - Future predictions will show a strong upward trend, even if the data is slowing down.\n",
    "        - Example: If you fit a linear trend to deposit levels, Prophet will extrapolate a steadily increasing deposit level far into the future.\n",
    "\n",
    "    - **Logistic Trend**: Assumes growth slows as it approaches a saturation point. \n",
    "        - Future predictions will show a more tamed upward trend, leveling off over time.\n",
    "        - Example: If deposits are approaching a plateau, a logistic trend will reflect that in future predictions, ensuring the model doesn't over-predict growth.\n",
    "\n",
    "- **Key Insight**:If you fit Prophet with the wrong trend type (e.g., linear when the data shows signs of saturation), your forecasts will misrepresent the future. Context is critical here: If you know from domain expertise or external analysis that growth will saturate, using a logistic trend will give more realistic predictions."
   ]
  },
  {
   "cell_type": "markdown",
   "metadata": {},
   "source": [
    "#### a. Formatting the time as a date instead of a character and also have anumeric format of the date"
   ]
  },
  {
   "cell_type": "code",
   "execution_count": 382,
   "metadata": {
    "vscode": {
     "languageId": "r"
    }
   },
   "outputs": [
    {
     "name": "stdout",
     "output_type": "stream",
     "text": [
      "Rows: 162\n",
      "Columns: 4\n",
      "$ time            \u001b[3m\u001b[90m<chr>\u001b[39m\u001b[23m \"1984Q1\", \"1984Q2\", \"1984Q3\", \"1984Q4\", \"1985Q1\", \"198…\n",
      "$ deposits        \u001b[3m\u001b[90m<dbl>\u001b[39m\u001b[23m 22917257000, 23575192000, 24308965000, 24967964000, 25…\n",
      "$ time_as_date    \u001b[3m\u001b[90m<date>\u001b[39m\u001b[23m 1984-01-01, 1984-04-01, 1984-07-01, 1984-10-01, 1985-…\n",
      "$ time_as_numeric \u001b[3m\u001b[90m<dbl>\u001b[39m\u001b[23m 5113, 5204, 5295, 5387, 5479, 5569, 5660, 5752, 5844, …\n"
     ]
    }
   ],
   "source": [
    "# Step 1: Format time as date \n",
    "# Format\n",
    "time <- as.Date(as.yearqtr(deposit_levels$time, format = \"%YQ%q\"))\n",
    "# Add the formatted date back into the dataset\n",
    "deposit_levels$time_as_date <- time\n",
    "\n",
    "# Step 2: Format time as numeric\n",
    "# Format\n",
    "time2 <- as.numeric(deposit_levels$time_as_date)\n",
    "#  Add the formatted date back into the dataset\n",
    "deposit_levels$time_as_numeric <- time2\n",
    "\n",
    "# Check\n",
    "glimpse(deposit_levels)"
   ]
  },
  {
   "cell_type": "markdown",
   "metadata": {},
   "source": [
    "#### b. Visualizing Linear Trend"
   ]
  },
  {
   "cell_type": "code",
   "execution_count": 383,
   "metadata": {
    "vscode": {
     "languageId": "r"
    }
   },
   "outputs": [
    {
     "name": "stderr",
     "output_type": "stream",
     "text": [
      "\u001b[1m\u001b[22m`geom_smooth()` using formula = 'y ~ x'\n"
     ]
    },
    {
     "data": {
      "image/png": "[encoded data removed]",
      "text/plain": [
       "plot without title"
      ]
     },
     "metadata": {
      "image/png": {
       "height": 420,
       "width": 420
      }
     },
     "output_type": "display_data"
    }
   ],
   "source": [
    "# Step 1: Time needs to be formatted as numeric for it to work ==> DONE above\n",
    "\n",
    "# Step 2: Fit the linear model\n",
    "linear_model <- lm(deposits ~ time_as_numeric ,data = deposit_levels) # Use time as numeric here\n",
    "\n",
    "# Step 3: Plot the model\n",
    "ggplot(deposit_levels, aes(x = time_as_date, y = deposits)) + \n",
    "  geom_point() +\n",
    "  geom_smooth(method = lm, col = \"green\", linewidth = 3) + \n",
    "  labs(title = \"Linear Fit of Deposit Levels (in $)\", \n",
    "       x = \"Time\", \n",
    "       y = \"Deposit Level (in $)\") +\n",
    "  theme_classic() + \n",
    "  theme(\n",
    "    plot.title = element_text(size = 20, face = \"bold\"), # Increase title size\n",
    "    axis.title.x = element_text(size = 14),             # Increase x-axis label size\n",
    "    axis.title.y = element_text(size = 14),             # Increase y-axis label size\n",
    "    axis.text = element_text(size = 12)                 # Increase axis tick labels size\n",
    "  )"
   ]
  },
  {
   "cell_type": "markdown",
   "metadata": {},
   "source": [
    "#### c. Visualizing Logistic Growth Trend"
   ]
  },
  {
   "cell_type": "markdown",
   "metadata": {},
   "source": [
    "- Not the same as logistic resgression\n",
    "\n",
    "- A mathematical model used to describe non-linear growth that slows as it approaches a saturation point."
   ]
  },
  {
   "cell_type": "code",
   "execution_count": 384,
   "metadata": {
    "vscode": {
     "languageId": "r"
    }
   },
   "outputs": [
    {
     "name": "stderr",
     "output_type": "stream",
     "text": [
      "Warning message in geom_point(color = \"black\", linewidth = 1):\n",
      "“\u001b[1m\u001b[22mIgnoring unknown parameters: `linewidth`”\n"
     ]
    },
    {
     "data": {
      "image/png": "[encoded data removed]",
      "text/plain": [
       "plot without title"
      ]
     },
     "metadata": {
      "image/png": {
       "height": 420,
       "width": 420
      }
     },
     "output_type": "display_data"
    }
   ],
   "source": [
    "# Step 1: Define a logistic function\n",
    "logistic_function <- function(x, L, k, x0) {\n",
    "  L / (1 + exp(-k * (x - x0)))  # L = carrying capacity, k = growth rate, x0 = midpoint\n",
    "}\n",
    "\n",
    "# Step 2: Fit the logistic model\n",
    "logistic_model <- nls(deposits ~ logistic_function(time_as_numeric, L, k, x0),\n",
    "                      data = deposit_levels,\n",
    "                      start = list(L = max(deposit_levels$deposits), k = 0.01, x0 = median(deposit_levels$time_as_numeric)))\n",
    "\n",
    "\n",
    "# Step 3: Add logistic trend predictions to the dataset\n",
    "deposit_levels <- deposit_levels %>%\n",
    "  mutate(logistic_trend = predict(logistic_model))\n",
    "\n",
    "# Step 4: Plot the linear model\n",
    "ggplot(deposit_levels, aes(x = time_as_date, y = deposits)) +\n",
    "  geom_point(color = \"black\", linewidth = 1) +  # Actual data\n",
    "  geom_line(aes(y = logistic_trend), color = \"blue\", linewidth = 3) +  # Logistic trend\n",
    "  labs(title = \"Logistic Trend Fit of Deposit Levels (in $)\", \n",
    "       x = \"Date\", \n",
    "       y = \"Deposits (in $)\") +\n",
    "  theme_classic() +  # Simplify the appearance\n",
    "  theme(\n",
    "    plot.title = element_text(size = 18, face = \"bold\"), # Increase title size\n",
    "    axis.title.x = element_text(size = 14),             # Increase x-axis label size\n",
    "    axis.title.y = element_text(size = 14),             # Increase y-axis label size\n",
    "    axis.text = element_text(size = 12)                 # Increase tick label size\n",
    "  )\n"
   ]
  },
  {
   "cell_type": "markdown",
   "metadata": {},
   "source": [
    "#### d. Conclusion for Trend"
   ]
  },
  {
   "cell_type": "markdown",
   "metadata": {},
   "source": [
    "**Why NOT logistic trend model?**\n",
    "\n",
    "- Even though, the logistic trend line seems to fit better past data, the logistic trend assumes market saturation and plateau. \n",
    "- But due to contextual information we have, we know that this is not a plateau but the slow growth was due to the 2008 crisis which is a one time event and not a recurring structural pattern.\n",
    "- If we pick logistic trend, it might lead to under-predictions if the future involves a period of growth.\n",
    "- This highlights the importance of blending data patterns with domain insights. A blind reliance on \"best fit\" could lead to a misinterpretation of the trends.\n",
    "\n",
    "**Why pick linear trend fit?**\n",
    "- Linear trends assume consistent growth over time, which aligns well with long-term economic expansion and deposit accumulation in a stable financial system\n",
    "- Plus, current high interest rate environment incentivizes deposits.\n",
    "- We see a continued economic recovery post 2008 crisis, suggesting deposits will grow, though slower than pre-crisis period.\n",
    "- Uncertainty about inflation and the economy may drive precautionary savings since we are also recovering from the covid 19 crisis.\n",
    "- Ultimately, choosing linear growth aligns with the economic rationale that deposits will likely grow as part of the recovery phase. \n",
    "\n",
    "**Additional Data Manipulation?**\n",
    "- Will we have to use log? Or will that change the linearity?\n",
    "- Applying a log transformation to your data can help make it fit better if your deposit levels grow exponentially rather than linearly. However, this doesn't change the fact that you're still modeling a linear trend—it just adjusts the scale to make it easier for Prophet to handle the data\n",
    "- If your data already behaves linearly, logging may unnecessarily distort it. ==> I think it's fine\n",
    "\n",
    "\n",
    " \n"
   ]
  },
  {
   "cell_type": "code",
   "execution_count": 385,
   "metadata": {
    "vscode": {
     "languageId": "r"
    }
   },
   "outputs": [],
   "source": [
    "# Code to check for linearit assumption\n",
    "linear_model1 <- lm(deposits ~ time_as_numeric, data = deposit_levels) # Linearity is struggling due to changepoints but I can add changepoints to prophet\n",
    "#plot(linear_model1)\n",
    "# Transform with log and see if it's better\n",
    "linear_model2 <- lm(log(deposits) ~ time_as_numeric, data = deposit_levels) # No it did not help improve\n",
    "#plot(linear_model2)\n"
   ]
  },
  {
   "cell_type": "markdown",
   "metadata": {},
   "source": [
    "### Step 3: Seasonality Expectation"
   ]
  },
  {
   "cell_type": "markdown",
   "metadata": {},
   "source": [
    "- Tools like Prophet and others can explicitly model seasonality if detected, which improves forecasting by capturing these periodic variations.\n",
    "\n",
    "- However it's important to manually double check and understand the context behind the model.\n",
    "\n",
    "- If seasonality exists but isn’t accounted for in the model, predictions may be inaccurate.\n",
    "\n",
    "- For instance, if deposits consistently increase in Q4 but your model doesn’t include seasonality, it will underestimate future deposits in that quarter."
   ]
  },
  {
   "cell_type": "markdown",
   "metadata": {},
   "source": [
    "#### a. Let's plot a detrended ACF to check for seasonality\n",
    "\n",
    "**How to read an ACF Plot**\n",
    "\n",
    "- We look at the peaks that go above the blue line. Check lags based on the frequency:\n",
    "   - Lag = 12 for monthly data (12 months in a year)\n",
    "   - Lag = 4 for quarterly data\n",
    "   - Lag = 52 for weekly data"
   ]
  },
  {
   "cell_type": "code",
   "execution_count": 386,
   "metadata": {
    "vscode": {
     "languageId": "r"
    }
   },
   "outputs": [
    {
     "data": {
      "image/png": "[encoded data removed]",
      "text/plain": [
       "Plot with title “Autocorrelation Plot of the Detrended of Deposits”"
      ]
     },
     "metadata": {
      "image/png": {
       "height": 420,
       "width": 420
      }
     },
     "output_type": "display_data"
    }
   ],
   "source": [
    "# Step 1: Convert deposits into a time series object. ACF only takes in time series data. \n",
    "deposit_time_series <- ts(deposit_levels$deposits, \n",
    "                        start = c(1984, 1), # we could have put deposit_levels$time_as_numeric but later on when plotting randomness the x axis won't show time properly so we just hardcode to tell where X axis will start and with frequency it knows how to link X and Y. \n",
    "                        frequency = 4) # Quarterly frequency \n",
    "\n",
    "# Step 2: Subtract the trend component, since the trend dominates, remove it to isolate the seasonality\n",
    "        # Decompose the trend: breaks down the trend\n",
    "deposit_decompose_trend <- decompose(deposit_time_series, type=\"additive\") # breaks down dataset into 4 categories: observed data, trend, seasonality and randomness plot(deposit_decompose_trend) to see all 4 \n",
    "        # Remove the trend from the time series data\n",
    "deposit_detrended <- deposit_time_series - deposit_decompose_trend$trend\n",
    "\n",
    "# Step 3: Plot ACF to check for seasonality\n",
    "acf(deposit_detrended, na.action = na.omit, main = \"Autocorrelation Plot of the Detrended of Deposits\") # NAs comes from decomposition algorithm uses a moving window to calculate the trend, and it cannot compute values for the edges of the series."
   ]
  },
  {
   "cell_type": "markdown",
   "metadata": {},
   "source": [
    "#### b. Conclusion for Seasonality\n",
    "\n",
    "- There are no peaks above the blue line at lag 4 (Quarterly Seasonality), the absence of such spikes suggests that quarterly seasonality is weak or not present in this case.\n",
    "\n",
    "- For now, we will let Prophet's built-in seasonal detection handle any weak seasonal patterns"
   ]
  },
  {
   "cell_type": "markdown",
   "metadata": {},
   "source": [
    "### Step 4: Outliers Expectation"
   ]
  },
  {
   "cell_type": "markdown",
   "metadata": {},
   "source": [
    "**Why check for outliers**:  \n",
    "\n",
    "- Prophet is designed to handle outliers and is fairly robust to their presence.\n",
    "\n",
    "- However, extreme anomalies (like sudden, sharp increases or drops) can still affect the trend and seasonal components, distorting predictions."
   ]
  },
  {
   "cell_type": "code",
   "execution_count": 387,
   "metadata": {
    "vscode": {
     "languageId": "r"
    }
   },
   "outputs": [
    {
     "data": {
      "text/html": [
       "<table class=\"dataframe\">\n",
       "<caption>A data.frame: 0 × 5</caption>\n",
       "<thead>\n",
       "\t<tr><th scope=col>time</th><th scope=col>deposits</th><th scope=col>time_as_date</th><th scope=col>time_as_numeric</th><th scope=col>logistic_trend</th></tr>\n",
       "\t<tr><th scope=col>&lt;chr&gt;</th><th scope=col>&lt;dbl&gt;</th><th scope=col>&lt;date&gt;</th><th scope=col>&lt;dbl&gt;</th><th scope=col>&lt;dbl&gt;</th></tr>\n",
       "</thead>\n",
       "<tbody>\n",
       "</tbody>\n",
       "</table>\n"
      ],
      "text/latex": [
       "A data.frame: 0 × 5\n",
       "\\begin{tabular}{lllll}\n",
       " time & deposits & time\\_as\\_date & time\\_as\\_numeric & logistic\\_trend\\\\\n",
       " <chr> & <dbl> & <date> & <dbl> & <dbl>\\\\\n",
       "\\hline\n",
       "\\end{tabular}\n"
      ],
      "text/markdown": [
       "\n",
       "A data.frame: 0 × 5\n",
       "\n",
       "| time &lt;chr&gt; | deposits &lt;dbl&gt; | time_as_date &lt;date&gt; | time_as_numeric &lt;dbl&gt; | logistic_trend &lt;dbl&gt; |\n",
       "|---|---|---|---|---|\n",
       "\n"
      ],
      "text/plain": [
       "     time deposits time_as_date time_as_numeric logistic_trend"
      ]
     },
     "metadata": {},
     "output_type": "display_data"
    }
   ],
   "source": [
    "# Check steps here: https://sqlpad.io/tutorial/interquartile-range/#:~:text=The%20standard%20method%20involves%20calculating,these%20bounds%20are%20potential%20outliers.\n",
    "\n",
    "# Step 1: Calculate the IQR\n",
    "IQR_value <- IQR(deposit_levels$deposits)\n",
    "\n",
    "# Step 2: Define Boundaries\n",
    "lower_bound <- quantile(deposit_levels$deposits, 0.25) - 1.5 * IQR_value\n",
    "upper_bound <- quantile(deposit_levels$deposits, 0.75) + 1.5 * IQR_value\n",
    "\n",
    "# Step 3: Flag Outliers\n",
    "outliers <- subset(deposit_levels, deposits < lower_bound | deposits > upper_bound)\n",
    "\n",
    "# step 4: Print Outliers\n",
    "outliers"
   ]
  },
  {
   "cell_type": "markdown",
   "metadata": {},
   "source": [
    "\n",
    "**Conclusion for Outliers:**\n",
    "\n",
    "- Based of the results, it looks like the IQR method did not flag any outliers in the data. The deposit levels in the dataset fall within the acceptable range defined by the IQR method. The deposit levels may be naturally smooth without extreme spikes or dips (maybe lol?)\n",
    "\n",
    "- Even without detected outliers, we should remain aware of contextual anomalies (e.g., the 2008 crisis) that could still affect model interpretation and trends."
   ]
  },
  {
   "cell_type": "markdown",
   "metadata": {},
   "source": [
    "### Step 5: Noise"
   ]
  },
  {
   "cell_type": "markdown",
   "metadata": {},
   "source": [
    "\n",
    "**Why check for noise?**\n",
    "\n",
    "- Noise refers to the unexplained or irrelevant variation in the data that cannot be attributed to meaningful patterns.\n",
    "- Prophet is robust to noise, but excessive noise may require preprocessing (e.g., smoothing).\n",
    "- A higher proportion (close to 1) indicates the data is dominated by noise.\n",
    "- A lower proportion (closer to 0) means the data has more structured patterns (e.g., trend, seasonality)."
   ]
  },
  {
   "cell_type": "code",
   "execution_count": 388,
   "metadata": {
    "vscode": {
     "languageId": "r"
    }
   },
   "outputs": [
    {
     "data": {
      "text/html": [
       "0.000667822546461893"
      ],
      "text/latex": [
       "0.000667822546461893"
      ],
      "text/markdown": [
       "0.000667822546461893"
      ],
      "text/plain": [
       "[1] 0.0006678225"
      ]
     },
     "metadata": {},
     "output_type": "display_data"
    }
   ],
   "source": [
    "# Calculate the variance of the residuals to quantify the noise and Compare this variance to the overall variance in the observed data.\n",
    "\n",
    "# Variance of residuals (randomness)\n",
    "residual_variance <- var(deposit_decompose_trend$random, na.rm = TRUE) # Use our decomposed dataset\n",
    "\n",
    "# Variance of the original data\n",
    "observed_variance <- var(deposit_time_series, na.rm = TRUE)  # Use our dataset that was transformed to time series, if we use deposit_levels directly it won't work\n",
    "\n",
    "# Proportion of variance due to noise\n",
    "global_noise_proportion <- residual_variance / observed_variance\n",
    "global_noise_proportion"
   ]
  },
  {
   "cell_type": "markdown",
   "metadata": {},
   "source": [
    "**Conclusion for Noise**\n",
    "\n",
    "- Our noise proportion of approximately 0.00067 (a very small number), which means: noise contributes very little to the overall variability in your data. \n",
    "- This is typical seen when our data has a strong long-term trend.\n",
    "- So there won't be any need for excessive smoothing or denoising steps. Prophet can effectively handle the low-level noise."
   ]
  },
  {
   "cell_type": "markdown",
   "metadata": {},
   "source": [
    "#### Step 6: Localised Randomness"
   ]
  },
  {
   "cell_type": "markdown",
   "metadata": {},
   "source": [
    "**Why check for randomness?**\n",
    "\n",
    "-  Randomness, as shown in decomposition, includes localized irregularities or residual variations that aren't explained by the trend or seasonality but may include event-driven or one-off effects (like the 2008 crisis). It’s more localized and descriptive of specific periods rather than a global property like noise.\n",
    "- While Prophet is robust to some noise, high randomness (localized irregularities) can make it harder to discern meaningful patterns."
   ]
  },
  {
   "cell_type": "code",
   "execution_count": 389,
   "metadata": {
    "vscode": {
     "languageId": "r"
    }
   },
   "outputs": [
    {
     "data": {
      "image/png": "[encoded data removed]",
      "text/plain": [
       "Plot with title “Random Component of Deposits over Time”"
      ]
     },
     "metadata": {
      "image/png": {
       "height": 420,
       "width": 420
      }
     },
     "output_type": "display_data"
    }
   ],
   "source": [
    "# plot(deposit_decompose_trend) ==> from the ACF code above in step 3.a\n",
    "\n",
    "plot(deposit_decompose_trend$random,\n",
    "    xlab = \"Time\",\n",
    "    ylab = \"Random Component\",\n",
    "    main = \"Random Component of Deposits over Time\")"
   ]
  },
  {
   "cell_type": "markdown",
   "metadata": {},
   "source": [
    "**Conclusion for Randomness**\n",
    "- There is significant randomness during the 2008 crisis period.\n",
    "- We can add on a changepoint to handle abrupt trend changes.\n",
    "- Prophet will automatically detects changepoints in the trend. However, you can manually specify changepoints (e.g., around 2008) where the data exhibits high variability.\n"
   ]
  },
  {
   "cell_type": "markdown",
   "metadata": {},
   "source": [
    "## Part 3: Forecasting with Prophet"
   ]
  },
  {
   "cell_type": "markdown",
   "metadata": {},
   "source": [
    "### Step 1: Split Data between training and test data"
   ]
  },
  {
   "cell_type": "code",
   "execution_count": 390,
   "metadata": {
    "vscode": {
     "languageId": "r"
    }
   },
   "outputs": [],
   "source": [
    "train_data <- deposit_levels[deposit_levels$time_as_date <= \"2020-12-31\", ]  # Training data: 1984 Q1 to 2020 Q4\n",
    "test_data <- deposit_levels[deposit_levels$time_as_date > \"2020-12-31\", ]  # Testing data: 2021 Q1 to 2024 Q2\n",
    "\n",
    "# Check\n",
    "#View(train_data)\n",
    "#View(test_data)\n"
   ]
  },
  {
   "cell_type": "markdown",
   "metadata": {},
   "source": [
    "### Step 2: Prepared the Data"
   ]
  },
  {
   "cell_type": "code",
   "execution_count": 391,
   "metadata": {
    "vscode": {
     "languageId": "r"
    }
   },
   "outputs": [],
   "source": [
    "# Step 1: Prepare data for prophet to work\n",
    "\n",
    "# you have to rename them as ds and y for prophet to work and it will automatically ignore all other columns ==> RULE\n",
    "train_data$ds <- as.Date(train_data$time_as_date)\n",
    "train_data$y <- train_data$deposits\n",
    "\n",
    "test_data$ds <- as.Date(test_data$time_as_date)\n",
    "test_data$y <- test_data$deposits"
   ]
  },
  {
   "cell_type": "markdown",
   "metadata": {},
   "source": [
    "### Step 3: Fit Prophet on training data"
   ]
  },
  {
   "cell_type": "code",
   "execution_count": 392,
   "metadata": {
    "vscode": {
     "languageId": "r"
    }
   },
   "outputs": [
    {
     "name": "stderr",
     "output_type": "stream",
     "text": [
      "Disabling weekly seasonality. Run prophet with weekly.seasonality=TRUE to override this.\n",
      "\n",
      "Disabling daily seasonality. Run prophet with daily.seasonality=TRUE to override this.\n",
      "\n",
      "Warning message in .local(object, ...):\n",
      "“non-zero return code in optimizing”\n",
      "Optimization terminated abnormally. Falling back to Newton optimizer.\n",
      "\n"
     ]
    }
   ],
   "source": [
    "# Step 1: Initialize the model\n",
    "prophet_model<- prophet(changepoints = c(\"2008-01-01\")) # Add Customizations based on assumptions made above https://stackoverflow.com/questions/64822488/how-to-use-prophets-make-future-dataframe-with-multiple-regressors\n",
    "# We can later add on additional regressor to the best model\n",
    "\n",
    "# Step 2: Fit the model: Training the model\n",
    "prophet_model <- fit.prophet(prophet_model, train_data) # syntax\n"
   ]
  },
  {
   "cell_type": "markdown",
   "metadata": {},
   "source": [
    "### Step 4: Create a Future Dataframe"
   ]
  },
  {
   "cell_type": "code",
   "execution_count": 393,
   "metadata": {
    "vscode": {
     "languageId": "r"
    }
   },
   "outputs": [],
   "source": [
    "future_train_data <- make_future_dataframe(prophet_model, periods = 33, freq = \"quarter\") # start counting from the end of the training data: 2020 Q4 to 2028 Q1\n",
    "#future_train_data # The output of make_future_dataframe() will include both the training data dates and the newly created future dates."
   ]
  },
  {
   "cell_type": "code",
   "execution_count": 394,
   "metadata": {
    "vscode": {
     "languageId": "r"
    }
   },
   "outputs": [
    {
     "data": {
      "text/html": [
       "<table class=\"dataframe\">\n",
       "<caption>A data.frame: 181 × 1</caption>\n",
       "<thead>\n",
       "\t<tr><th scope=col>ds</th></tr>\n",
       "\t<tr><th scope=col>&lt;dttm&gt;</th></tr>\n",
       "</thead>\n",
       "<tbody>\n",
       "\t<tr><td>1984-01-01</td></tr>\n",
       "\t<tr><td>1984-04-01</td></tr>\n",
       "\t<tr><td>1984-07-01</td></tr>\n",
       "\t<tr><td>1984-10-01</td></tr>\n",
       "\t<tr><td>1985-01-01</td></tr>\n",
       "\t<tr><td>1985-04-01</td></tr>\n",
       "\t<tr><td>1985-07-01</td></tr>\n",
       "\t<tr><td>1985-10-01</td></tr>\n",
       "\t<tr><td>1986-01-01</td></tr>\n",
       "\t<tr><td>1986-04-01</td></tr>\n",
       "\t<tr><td>1986-07-01</td></tr>\n",
       "\t<tr><td>1986-10-01</td></tr>\n",
       "\t<tr><td>1987-01-01</td></tr>\n",
       "\t<tr><td>1987-04-01</td></tr>\n",
       "\t<tr><td>1987-07-01</td></tr>\n",
       "\t<tr><td>1987-10-01</td></tr>\n",
       "\t<tr><td>1988-01-01</td></tr>\n",
       "\t<tr><td>1988-04-01</td></tr>\n",
       "\t<tr><td>1988-07-01</td></tr>\n",
       "\t<tr><td>1988-10-01</td></tr>\n",
       "\t<tr><td>1989-01-01</td></tr>\n",
       "\t<tr><td>1989-04-01</td></tr>\n",
       "\t<tr><td>1989-07-01</td></tr>\n",
       "\t<tr><td>1989-10-01</td></tr>\n",
       "\t<tr><td>1990-01-01</td></tr>\n",
       "\t<tr><td>1990-04-01</td></tr>\n",
       "\t<tr><td>1990-07-01</td></tr>\n",
       "\t<tr><td>1990-10-01</td></tr>\n",
       "\t<tr><td>1991-01-01</td></tr>\n",
       "\t<tr><td>1991-04-01</td></tr>\n",
       "\t<tr><td>⋮</td></tr>\n",
       "\t<tr><td>2021-10-01</td></tr>\n",
       "\t<tr><td>2022-01-01</td></tr>\n",
       "\t<tr><td>2022-04-01</td></tr>\n",
       "\t<tr><td>2022-07-01</td></tr>\n",
       "\t<tr><td>2022-10-01</td></tr>\n",
       "\t<tr><td>2023-01-01</td></tr>\n",
       "\t<tr><td>2023-04-01</td></tr>\n",
       "\t<tr><td>2023-07-01</td></tr>\n",
       "\t<tr><td>2023-10-01</td></tr>\n",
       "\t<tr><td>2024-01-01</td></tr>\n",
       "\t<tr><td>2024-04-01</td></tr>\n",
       "\t<tr><td>2024-07-01</td></tr>\n",
       "\t<tr><td>2024-10-01</td></tr>\n",
       "\t<tr><td>2025-01-01</td></tr>\n",
       "\t<tr><td>2025-04-01</td></tr>\n",
       "\t<tr><td>2025-07-01</td></tr>\n",
       "\t<tr><td>2025-10-01</td></tr>\n",
       "\t<tr><td>2026-01-01</td></tr>\n",
       "\t<tr><td>2026-04-01</td></tr>\n",
       "\t<tr><td>2026-07-01</td></tr>\n",
       "\t<tr><td>2026-10-01</td></tr>\n",
       "\t<tr><td>2027-01-01</td></tr>\n",
       "\t<tr><td>2027-04-01</td></tr>\n",
       "\t<tr><td>2027-07-01</td></tr>\n",
       "\t<tr><td>2027-10-01</td></tr>\n",
       "\t<tr><td>2028-01-01</td></tr>\n",
       "\t<tr><td>2028-04-01</td></tr>\n",
       "\t<tr><td>2028-07-01</td></tr>\n",
       "\t<tr><td>2028-10-01</td></tr>\n",
       "\t<tr><td>2029-01-01</td></tr>\n",
       "</tbody>\n",
       "</table>\n"
      ],
      "text/latex": [
       "A data.frame: 181 × 1\n",
       "\\begin{tabular}{l}\n",
       " ds\\\\\n",
       " <dttm>\\\\\n",
       "\\hline\n",
       "\t 1984-01-01\\\\\n",
       "\t 1984-04-01\\\\\n",
       "\t 1984-07-01\\\\\n",
       "\t 1984-10-01\\\\\n",
       "\t 1985-01-01\\\\\n",
       "\t 1985-04-01\\\\\n",
       "\t 1985-07-01\\\\\n",
       "\t 1985-10-01\\\\\n",
       "\t 1986-01-01\\\\\n",
       "\t 1986-04-01\\\\\n",
       "\t 1986-07-01\\\\\n",
       "\t 1986-10-01\\\\\n",
       "\t 1987-01-01\\\\\n",
       "\t 1987-04-01\\\\\n",
       "\t 1987-07-01\\\\\n",
       "\t 1987-10-01\\\\\n",
       "\t 1988-01-01\\\\\n",
       "\t 1988-04-01\\\\\n",
       "\t 1988-07-01\\\\\n",
       "\t 1988-10-01\\\\\n",
       "\t 1989-01-01\\\\\n",
       "\t 1989-04-01\\\\\n",
       "\t 1989-07-01\\\\\n",
       "\t 1989-10-01\\\\\n",
       "\t 1990-01-01\\\\\n",
       "\t 1990-04-01\\\\\n",
       "\t 1990-07-01\\\\\n",
       "\t 1990-10-01\\\\\n",
       "\t 1991-01-01\\\\\n",
       "\t 1991-04-01\\\\\n",
       "\t ⋮\\\\\n",
       "\t 2021-10-01\\\\\n",
       "\t 2022-01-01\\\\\n",
       "\t 2022-04-01\\\\\n",
       "\t 2022-07-01\\\\\n",
       "\t 2022-10-01\\\\\n",
       "\t 2023-01-01\\\\\n",
       "\t 2023-04-01\\\\\n",
       "\t 2023-07-01\\\\\n",
       "\t 2023-10-01\\\\\n",
       "\t 2024-01-01\\\\\n",
       "\t 2024-04-01\\\\\n",
       "\t 2024-07-01\\\\\n",
       "\t 2024-10-01\\\\\n",
       "\t 2025-01-01\\\\\n",
       "\t 2025-04-01\\\\\n",
       "\t 2025-07-01\\\\\n",
       "\t 2025-10-01\\\\\n",
       "\t 2026-01-01\\\\\n",
       "\t 2026-04-01\\\\\n",
       "\t 2026-07-01\\\\\n",
       "\t 2026-10-01\\\\\n",
       "\t 2027-01-01\\\\\n",
       "\t 2027-04-01\\\\\n",
       "\t 2027-07-01\\\\\n",
       "\t 2027-10-01\\\\\n",
       "\t 2028-01-01\\\\\n",
       "\t 2028-04-01\\\\\n",
       "\t 2028-07-01\\\\\n",
       "\t 2028-10-01\\\\\n",
       "\t 2029-01-01\\\\\n",
       "\\end{tabular}\n"
      ],
      "text/markdown": [
       "\n",
       "A data.frame: 181 × 1\n",
       "\n",
       "| ds &lt;dttm&gt; |\n",
       "|---|\n",
       "| 1984-01-01 |\n",
       "| 1984-04-01 |\n",
       "| 1984-07-01 |\n",
       "| 1984-10-01 |\n",
       "| 1985-01-01 |\n",
       "| 1985-04-01 |\n",
       "| 1985-07-01 |\n",
       "| 1985-10-01 |\n",
       "| 1986-01-01 |\n",
       "| 1986-04-01 |\n",
       "| 1986-07-01 |\n",
       "| 1986-10-01 |\n",
       "| 1987-01-01 |\n",
       "| 1987-04-01 |\n",
       "| 1987-07-01 |\n",
       "| 1987-10-01 |\n",
       "| 1988-01-01 |\n",
       "| 1988-04-01 |\n",
       "| 1988-07-01 |\n",
       "| 1988-10-01 |\n",
       "| 1989-01-01 |\n",
       "| 1989-04-01 |\n",
       "| 1989-07-01 |\n",
       "| 1989-10-01 |\n",
       "| 1990-01-01 |\n",
       "| 1990-04-01 |\n",
       "| 1990-07-01 |\n",
       "| 1990-10-01 |\n",
       "| 1991-01-01 |\n",
       "| 1991-04-01 |\n",
       "| ⋮ |\n",
       "| 2021-10-01 |\n",
       "| 2022-01-01 |\n",
       "| 2022-04-01 |\n",
       "| 2022-07-01 |\n",
       "| 2022-10-01 |\n",
       "| 2023-01-01 |\n",
       "| 2023-04-01 |\n",
       "| 2023-07-01 |\n",
       "| 2023-10-01 |\n",
       "| 2024-01-01 |\n",
       "| 2024-04-01 |\n",
       "| 2024-07-01 |\n",
       "| 2024-10-01 |\n",
       "| 2025-01-01 |\n",
       "| 2025-04-01 |\n",
       "| 2025-07-01 |\n",
       "| 2025-10-01 |\n",
       "| 2026-01-01 |\n",
       "| 2026-04-01 |\n",
       "| 2026-07-01 |\n",
       "| 2026-10-01 |\n",
       "| 2027-01-01 |\n",
       "| 2027-04-01 |\n",
       "| 2027-07-01 |\n",
       "| 2027-10-01 |\n",
       "| 2028-01-01 |\n",
       "| 2028-04-01 |\n",
       "| 2028-07-01 |\n",
       "| 2028-10-01 |\n",
       "| 2029-01-01 |\n",
       "\n"
      ],
      "text/plain": [
       "    ds        \n",
       "1   1984-01-01\n",
       "2   1984-04-01\n",
       "3   1984-07-01\n",
       "4   1984-10-01\n",
       "5   1985-01-01\n",
       "6   1985-04-01\n",
       "7   1985-07-01\n",
       "8   1985-10-01\n",
       "9   1986-01-01\n",
       "10  1986-04-01\n",
       "11  1986-07-01\n",
       "12  1986-10-01\n",
       "13  1987-01-01\n",
       "14  1987-04-01\n",
       "15  1987-07-01\n",
       "16  1987-10-01\n",
       "17  1988-01-01\n",
       "18  1988-04-01\n",
       "19  1988-07-01\n",
       "20  1988-10-01\n",
       "21  1989-01-01\n",
       "22  1989-04-01\n",
       "23  1989-07-01\n",
       "24  1989-10-01\n",
       "25  1990-01-01\n",
       "26  1990-04-01\n",
       "27  1990-07-01\n",
       "28  1990-10-01\n",
       "29  1991-01-01\n",
       "30  1991-04-01\n",
       "⋮   ⋮         \n",
       "152 2021-10-01\n",
       "153 2022-01-01\n",
       "154 2022-04-01\n",
       "155 2022-07-01\n",
       "156 2022-10-01\n",
       "157 2023-01-01\n",
       "158 2023-04-01\n",
       "159 2023-07-01\n",
       "160 2023-10-01\n",
       "161 2024-01-01\n",
       "162 2024-04-01\n",
       "163 2024-07-01\n",
       "164 2024-10-01\n",
       "165 2025-01-01\n",
       "166 2025-04-01\n",
       "167 2025-07-01\n",
       "168 2025-10-01\n",
       "169 2026-01-01\n",
       "170 2026-04-01\n",
       "171 2026-07-01\n",
       "172 2026-10-01\n",
       "173 2027-01-01\n",
       "174 2027-04-01\n",
       "175 2027-07-01\n",
       "176 2027-10-01\n",
       "177 2028-01-01\n",
       "178 2028-04-01\n",
       "179 2028-07-01\n",
       "180 2028-10-01\n",
       "181 2029-01-01"
      ]
     },
     "metadata": {},
     "output_type": "display_data"
    }
   ],
   "source": [
    "future_train_data"
   ]
  },
  {
   "cell_type": "markdown",
   "metadata": {},
   "source": [
    "### Step 5: Predict Future Values"
   ]
  },
  {
   "cell_type": "code",
   "execution_count": 395,
   "metadata": {
    "vscode": {
     "languageId": "r"
    }
   },
   "outputs": [],
   "source": [
    "prediction_train_data <- predict(prophet_model, future_train_data)"
   ]
  },
  {
   "cell_type": "code",
   "execution_count": 396,
   "metadata": {
    "vscode": {
     "languageId": "r"
    }
   },
   "outputs": [
    {
     "data": {
      "text/html": [
       "<table class=\"dataframe\">\n",
       "<caption>A data.frame: 181 × 16</caption>\n",
       "<thead>\n",
       "\t<tr><th scope=col>ds</th><th scope=col>trend</th><th scope=col>additive_terms</th><th scope=col>additive_terms_lower</th><th scope=col>additive_terms_upper</th><th scope=col>yearly</th><th scope=col>yearly_lower</th><th scope=col>yearly_upper</th><th scope=col>multiplicative_terms</th><th scope=col>multiplicative_terms_lower</th><th scope=col>multiplicative_terms_upper</th><th scope=col>yhat_lower</th><th scope=col>yhat_upper</th><th scope=col>trend_lower</th><th scope=col>trend_upper</th><th scope=col>yhat</th></tr>\n",
       "\t<tr><th scope=col>&lt;dttm&gt;</th><th scope=col>&lt;dbl&gt;</th><th scope=col>&lt;dbl&gt;</th><th scope=col>&lt;dbl&gt;</th><th scope=col>&lt;dbl&gt;</th><th scope=col>&lt;dbl&gt;</th><th scope=col>&lt;dbl&gt;</th><th scope=col>&lt;dbl&gt;</th><th scope=col>&lt;dbl&gt;</th><th scope=col>&lt;dbl&gt;</th><th scope=col>&lt;dbl&gt;</th><th scope=col>&lt;dbl&gt;</th><th scope=col>&lt;dbl&gt;</th><th scope=col>&lt;dbl&gt;</th><th scope=col>&lt;dbl&gt;</th><th scope=col>&lt;dbl&gt;</th></tr>\n",
       "</thead>\n",
       "<tbody>\n",
       "\t<tr><td>1984-01-01</td><td> 61881576748</td><td>-113084478129</td><td>-113084478129</td><td>-113084478129</td><td>-113084478129</td><td>-113084478129</td><td>-113084478129</td><td>0</td><td>0</td><td>0</td><td>-116651659842</td><td>19215573189</td><td> 61881576748</td><td> 61881576748</td><td>-51202901381</td></tr>\n",
       "\t<tr><td>1984-04-01</td><td> 64733317975</td><td>-110302906240</td><td>-110302906240</td><td>-110302906240</td><td>-110302906240</td><td>-110302906240</td><td>-110302906240</td><td>0</td><td>0</td><td>0</td><td>-111069460150</td><td>25931001679</td><td> 64733317975</td><td> 64733317975</td><td>-45569588265</td></tr>\n",
       "\t<tr><td>1984-07-01</td><td> 67585059201</td><td>-109580939640</td><td>-109580939640</td><td>-109580939640</td><td>-109580939640</td><td>-109580939640</td><td>-109580939640</td><td>0</td><td>0</td><td>0</td><td>-108886333677</td><td>27213875092</td><td> 67585059201</td><td> 67585059201</td><td>-41995880439</td></tr>\n",
       "\t<tr><td>1984-10-01</td><td> 70468138243</td><td>-113475956303</td><td>-113475956303</td><td>-113475956303</td><td>-113475956303</td><td>-113475956303</td><td>-113475956303</td><td>0</td><td>0</td><td>0</td><td>-114959010705</td><td>23631092588</td><td> 70468138243</td><td> 70468138243</td><td>-43007818059</td></tr>\n",
       "\t<tr><td>1985-01-01</td><td> 73351217285</td><td>-113647658322</td><td>-113647658322</td><td>-113647658322</td><td>-113647658322</td><td>-113647658322</td><td>-113647658322</td><td>0</td><td>0</td><td>0</td><td>-106837368490</td><td>21883288920</td><td> 73351217285</td><td> 73351217285</td><td>-40296441037</td></tr>\n",
       "\t<tr><td>1985-04-01</td><td> 76171620696</td><td>-112979125446</td><td>-112979125446</td><td>-112979125446</td><td>-112979125446</td><td>-112979125446</td><td>-112979125446</td><td>0</td><td>0</td><td>0</td><td>-100764602975</td><td>33410948570</td><td> 76171620696</td><td> 76171620696</td><td>-36807504751</td></tr>\n",
       "\t<tr><td>1985-07-01</td><td> 79023361922</td><td>-113276079940</td><td>-113276079940</td><td>-113276079940</td><td>-113276079940</td><td>-113276079940</td><td>-113276079940</td><td>0</td><td>0</td><td>0</td><td>-102701985354</td><td>30551140126</td><td> 79023361922</td><td> 79023361922</td><td>-34252718018</td></tr>\n",
       "\t<tr><td>1985-10-01</td><td> 81906440964</td><td>-114743706036</td><td>-114743706036</td><td>-114743706036</td><td>-114743706036</td><td>-114743706036</td><td>-114743706036</td><td>0</td><td>0</td><td>0</td><td>-101087827828</td><td>36644385234</td><td> 81906440964</td><td> 81906440964</td><td>-32837265072</td></tr>\n",
       "\t<tr><td>1986-01-01</td><td> 84789520006</td><td>-114053967918</td><td>-114053967918</td><td>-114053967918</td><td>-114053967918</td><td>-114053967918</td><td>-114053967918</td><td>0</td><td>0</td><td>0</td><td> -98636390787</td><td>38178320742</td><td> 84789520006</td><td> 84789520006</td><td>-29264447912</td></tr>\n",
       "\t<tr><td>1986-04-01</td><td> 87609923417</td><td>-115688395591</td><td>-115688395591</td><td>-115688395591</td><td>-115688395591</td><td>-115688395591</td><td>-115688395591</td><td>0</td><td>0</td><td>0</td><td> -96483224795</td><td>38962620081</td><td> 87609923417</td><td> 87609923417</td><td>-28078472174</td></tr>\n",
       "\t<tr><td>1986-07-01</td><td> 90461664643</td><td>-116416045777</td><td>-116416045777</td><td>-116416045777</td><td>-116416045777</td><td>-116416045777</td><td>-116416045777</td><td>0</td><td>0</td><td>0</td><td> -93658608734</td><td>36263007899</td><td> 90461664643</td><td> 90461664643</td><td>-25954381133</td></tr>\n",
       "\t<tr><td>1986-10-01</td><td> 93344743686</td><td>-116141654269</td><td>-116141654269</td><td>-116141654269</td><td>-116141654269</td><td>-116141654269</td><td>-116141654269</td><td>0</td><td>0</td><td>0</td><td> -90066340719</td><td>42451676539</td><td> 93344743686</td><td> 93344743686</td><td>-22796910583</td></tr>\n",
       "\t<tr><td>1987-01-01</td><td> 96227822728</td><td>-113866245336</td><td>-113866245336</td><td>-113866245336</td><td>-113866245336</td><td>-113866245336</td><td>-113866245336</td><td>0</td><td>0</td><td>0</td><td> -81565078347</td><td>54150027667</td><td> 96227822728</td><td> 96227822728</td><td>-17638422608</td></tr>\n",
       "\t<tr><td>1987-04-01</td><td> 99048226138</td><td>-118427189291</td><td>-118427189291</td><td>-118427189291</td><td>-118427189291</td><td>-118427189291</td><td>-118427189291</td><td>0</td><td>0</td><td>0</td><td> -84051600504</td><td>51717273781</td><td> 99048226138</td><td> 99048226138</td><td>-19378963153</td></tr>\n",
       "\t<tr><td>1987-07-01</td><td>101899967365</td><td>-118998227626</td><td>-118998227626</td><td>-118998227626</td><td>-118998227626</td><td>-118998227626</td><td>-118998227626</td><td>0</td><td>0</td><td>0</td><td> -83609596385</td><td>50464293383</td><td>101899967365</td><td>101899967365</td><td>-17098260261</td></tr>\n",
       "\t<tr><td>1987-10-01</td><td>104783046407</td><td>-117668445183</td><td>-117668445183</td><td>-117668445183</td><td>-117668445183</td><td>-117668445183</td><td>-117668445183</td><td>0</td><td>0</td><td>0</td><td> -84674009395</td><td>57849582088</td><td>104783046407</td><td>104783046407</td><td>-12885398777</td></tr>\n",
       "\t<tr><td>1988-01-01</td><td>107666125449</td><td>-113084478129</td><td>-113084478129</td><td>-113084478129</td><td>-113084478129</td><td>-113084478129</td><td>-113084478129</td><td>0</td><td>0</td><td>0</td><td> -70603458951</td><td>59573493338</td><td>107666125449</td><td>107666125449</td><td> -5418352681</td></tr>\n",
       "\t<tr><td>1988-04-01</td><td>110517866675</td><td>-110302906240</td><td>-110302906240</td><td>-110302906240</td><td>-110302906240</td><td>-110302906240</td><td>-110302906240</td><td>0</td><td>0</td><td>0</td><td> -67388636551</td><td>68356776013</td><td>110517866675</td><td>110517866675</td><td>   214960435</td></tr>\n",
       "\t<tr><td>1988-07-01</td><td>113369607902</td><td>-109580939640</td><td>-109580939640</td><td>-109580939640</td><td>-109580939640</td><td>-109580939640</td><td>-109580939640</td><td>0</td><td>0</td><td>0</td><td> -60142882360</td><td>71426214881</td><td>113369607902</td><td>113369607902</td><td>  3788668262</td></tr>\n",
       "\t<tr><td>1988-10-01</td><td>116252686944</td><td>-113475956303</td><td>-113475956303</td><td>-113475956303</td><td>-113475956303</td><td>-113475956303</td><td>-113475956303</td><td>0</td><td>0</td><td>0</td><td> -63322347337</td><td>73756224541</td><td>116252686944</td><td>116252686944</td><td>  2776730641</td></tr>\n",
       "\t<tr><td>1989-01-01</td><td>119135765986</td><td>-113647658322</td><td>-113647658322</td><td>-113647658322</td><td>-113647658322</td><td>-113647658322</td><td>-113647658322</td><td>0</td><td>0</td><td>0</td><td> -62807379448</td><td>74594162108</td><td>119135765986</td><td>119135765986</td><td>  5488107664</td></tr>\n",
       "\t<tr><td>1989-04-01</td><td>121956169396</td><td>-112979125446</td><td>-112979125446</td><td>-112979125446</td><td>-112979125446</td><td>-112979125446</td><td>-112979125446</td><td>0</td><td>0</td><td>0</td><td> -53050890387</td><td>74434672275</td><td>121956169396</td><td>121956169396</td><td>  8977043950</td></tr>\n",
       "\t<tr><td>1989-07-01</td><td>124807910623</td><td>-113276079940</td><td>-113276079940</td><td>-113276079940</td><td>-113276079940</td><td>-113276079940</td><td>-113276079940</td><td>0</td><td>0</td><td>0</td><td> -56305752847</td><td>82385130837</td><td>124807910623</td><td>124807910623</td><td> 11531830683</td></tr>\n",
       "\t<tr><td>1989-10-01</td><td>127690989665</td><td>-114743706036</td><td>-114743706036</td><td>-114743706036</td><td>-114743706036</td><td>-114743706036</td><td>-114743706036</td><td>0</td><td>0</td><td>0</td><td> -54800927873</td><td>79693736164</td><td>127690989665</td><td>127690989665</td><td> 12947283629</td></tr>\n",
       "\t<tr><td>1990-01-01</td><td>130574068707</td><td>-114053967918</td><td>-114053967918</td><td>-114053967918</td><td>-114053967918</td><td>-114053967918</td><td>-114053967918</td><td>0</td><td>0</td><td>0</td><td> -53123038818</td><td>84847247368</td><td>130574068707</td><td>130574068707</td><td> 16520100789</td></tr>\n",
       "\t<tr><td>1990-04-01</td><td>133394472118</td><td>-115688395591</td><td>-115688395591</td><td>-115688395591</td><td>-115688395591</td><td>-115688395591</td><td>-115688395591</td><td>0</td><td>0</td><td>0</td><td> -52717700493</td><td>87286922925</td><td>133394472118</td><td>133394472118</td><td> 17706076527</td></tr>\n",
       "\t<tr><td>1990-07-01</td><td>136246213344</td><td>-116416045777</td><td>-116416045777</td><td>-116416045777</td><td>-116416045777</td><td>-116416045777</td><td>-116416045777</td><td>0</td><td>0</td><td>0</td><td> -48816380626</td><td>86540267486</td><td>136246213344</td><td>136246213344</td><td> 19830167568</td></tr>\n",
       "\t<tr><td>1990-10-01</td><td>139129292386</td><td>-116141654269</td><td>-116141654269</td><td>-116141654269</td><td>-116141654269</td><td>-116141654269</td><td>-116141654269</td><td>0</td><td>0</td><td>0</td><td> -49310800505</td><td>89972734146</td><td>139129292386</td><td>139129292386</td><td> 22987638117</td></tr>\n",
       "\t<tr><td>1991-01-01</td><td>142012371428</td><td>-113866245336</td><td>-113866245336</td><td>-113866245336</td><td>-113866245336</td><td>-113866245336</td><td>-113866245336</td><td>0</td><td>0</td><td>0</td><td> -40963695854</td><td>94323151795</td><td>142012371428</td><td>142012371428</td><td> 28146126093</td></tr>\n",
       "\t<tr><td>1991-04-01</td><td>144832774839</td><td>-118427189291</td><td>-118427189291</td><td>-118427189291</td><td>-118427189291</td><td>-118427189291</td><td>-118427189291</td><td>0</td><td>0</td><td>0</td><td> -38417487817</td><td>92855572377</td><td>144832774839</td><td>144832774839</td><td> 26405585548</td></tr>\n",
       "\t<tr><td>⋮</td><td>⋮</td><td>⋮</td><td>⋮</td><td>⋮</td><td>⋮</td><td>⋮</td><td>⋮</td><td>⋮</td><td>⋮</td><td>⋮</td><td>⋮</td><td>⋮</td><td>⋮</td><td>⋮</td><td>⋮</td></tr>\n",
       "\t<tr><td>2021-10-01</td><td>493967378895</td><td>-114743706036</td><td>-114743706036</td><td>-114743706036</td><td>-114743706036</td><td>-114743706036</td><td>-114743706036</td><td>0</td><td>0</td><td>0</td><td>307888477367</td><td>445634702342</td><td>493967378895</td><td>493967378895</td><td>379223672859</td></tr>\n",
       "\t<tr><td>2022-01-01</td><td>496850457930</td><td>-114053967918</td><td>-114053967918</td><td>-114053967918</td><td>-114053967918</td><td>-114053967918</td><td>-114053967918</td><td>0</td><td>0</td><td>0</td><td>315850393050</td><td>448190893387</td><td>496850457930</td><td>496850457930</td><td>382796490012</td></tr>\n",
       "\t<tr><td>2022-04-01</td><td>499670861334</td><td>-115688395591</td><td>-115688395591</td><td>-115688395591</td><td>-115688395591</td><td>-115688395591</td><td>-115688395591</td><td>0</td><td>0</td><td>0</td><td>315772636890</td><td>450915605064</td><td>499670861334</td><td>499670861334</td><td>383982465743</td></tr>\n",
       "\t<tr><td>2022-07-01</td><td>502522602553</td><td>-116416045777</td><td>-116416045777</td><td>-116416045777</td><td>-116416045777</td><td>-116416045777</td><td>-116416045777</td><td>0</td><td>0</td><td>0</td><td>321160166084</td><td>456941135172</td><td>502522602553</td><td>502522602553</td><td>386106556777</td></tr>\n",
       "\t<tr><td>2022-10-01</td><td>505405681589</td><td>-116141654269</td><td>-116141654269</td><td>-116141654269</td><td>-116141654269</td><td>-116141654269</td><td>-116141654269</td><td>0</td><td>0</td><td>0</td><td>317974749873</td><td>455854580615</td><td>505405681589</td><td>505405681589</td><td>389264027320</td></tr>\n",
       "\t<tr><td>2023-01-01</td><td>508288760624</td><td>-113866245336</td><td>-113866245336</td><td>-113866245336</td><td>-113866245336</td><td>-113866245336</td><td>-113866245336</td><td>0</td><td>0</td><td>0</td><td>324858404763</td><td>465376170376</td><td>508288760624</td><td>508288760624</td><td>394422515288</td></tr>\n",
       "\t<tr><td>2023-04-01</td><td>511109164028</td><td>-118427189291</td><td>-118427189291</td><td>-118427189291</td><td>-118427189291</td><td>-118427189291</td><td>-118427189291</td><td>0</td><td>0</td><td>0</td><td>326733934554</td><td>459663528301</td><td>511109164028</td><td>511109164028</td><td>392681974737</td></tr>\n",
       "\t<tr><td>2023-07-01</td><td>513960905247</td><td>-118998227626</td><td>-118998227626</td><td>-118998227626</td><td>-118998227626</td><td>-118998227626</td><td>-118998227626</td><td>0</td><td>0</td><td>0</td><td>327615122898</td><td>466089869988</td><td>513960905247</td><td>513960905247</td><td>394962677622</td></tr>\n",
       "\t<tr><td>2023-10-01</td><td>516843984283</td><td>-117668445183</td><td>-117668445183</td><td>-117668445183</td><td>-117668445183</td><td>-117668445183</td><td>-117668445183</td><td>0</td><td>0</td><td>0</td><td>334612207931</td><td>467591622895</td><td>516843984283</td><td>516843984283</td><td>399175539099</td></tr>\n",
       "\t<tr><td>2024-01-01</td><td>519727063318</td><td>-113084478129</td><td>-113084478129</td><td>-113084478129</td><td>-113084478129</td><td>-113084478129</td><td>-113084478129</td><td>0</td><td>0</td><td>0</td><td>344132226448</td><td>472219005521</td><td>519727063318</td><td>519727063318</td><td>406642585188</td></tr>\n",
       "\t<tr><td>2024-04-01</td><td>522578804537</td><td>-110302906240</td><td>-110302906240</td><td>-110302906240</td><td>-110302906240</td><td>-110302906240</td><td>-110302906240</td><td>0</td><td>0</td><td>0</td><td>349767443020</td><td>478360620400</td><td>522578804537</td><td>522578804537</td><td>412275898297</td></tr>\n",
       "\t<tr><td>2024-07-01</td><td>525430545757</td><td>-109580939640</td><td>-109580939640</td><td>-109580939640</td><td>-109580939640</td><td>-109580939640</td><td>-109580939640</td><td>0</td><td>0</td><td>0</td><td>344812436927</td><td>482002827156</td><td>525430545757</td><td>525430545757</td><td>415849606117</td></tr>\n",
       "\t<tr><td>2024-10-01</td><td>528313624792</td><td>-113475956303</td><td>-113475956303</td><td>-113475956303</td><td>-113475956303</td><td>-113475956303</td><td>-113475956303</td><td>0</td><td>0</td><td>0</td><td>348164739519</td><td>482250814182</td><td>528313624792</td><td>528313624792</td><td>414837668490</td></tr>\n",
       "\t<tr><td>2025-01-01</td><td>531196703827</td><td>-113647658322</td><td>-113647658322</td><td>-113647658322</td><td>-113647658322</td><td>-113647658322</td><td>-113647658322</td><td>0</td><td>0</td><td>0</td><td>350965707107</td><td>482688742846</td><td>531196703827</td><td>531196703827</td><td>417549045505</td></tr>\n",
       "\t<tr><td>2025-04-01</td><td>534017107231</td><td>-112979125446</td><td>-112979125446</td><td>-112979125446</td><td>-112979125446</td><td>-112979125446</td><td>-112979125446</td><td>0</td><td>0</td><td>0</td><td>352619657043</td><td>487395941972</td><td>534017107231</td><td>534017107231</td><td>421037981785</td></tr>\n",
       "\t<tr><td>2025-07-01</td><td>536868848451</td><td>-113276079940</td><td>-113276079940</td><td>-113276079940</td><td>-113276079940</td><td>-113276079940</td><td>-113276079940</td><td>0</td><td>0</td><td>0</td><td>358193827644</td><td>485140798982</td><td>536868848451</td><td>536868848451</td><td>423592768511</td></tr>\n",
       "\t<tr><td>2025-10-01</td><td>539751927486</td><td>-114743706036</td><td>-114743706036</td><td>-114743706036</td><td>-114743706036</td><td>-114743706036</td><td>-114743706036</td><td>0</td><td>0</td><td>0</td><td>358103293620</td><td>491054991655</td><td>539751927486</td><td>539751927486</td><td>425008221450</td></tr>\n",
       "\t<tr><td>2026-01-01</td><td>542635006521</td><td>-114053967918</td><td>-114053967918</td><td>-114053967918</td><td>-114053967918</td><td>-114053967918</td><td>-114053967918</td><td>0</td><td>0</td><td>0</td><td>360321173641</td><td>494470715276</td><td>542635006521</td><td>542635006521</td><td>428581038603</td></tr>\n",
       "\t<tr><td>2026-04-01</td><td>545455409925</td><td>-115688395591</td><td>-115688395591</td><td>-115688395591</td><td>-115688395591</td><td>-115688395591</td><td>-115688395591</td><td>0</td><td>0</td><td>0</td><td>364496947264</td><td>499303043421</td><td>545455409925</td><td>545455409925</td><td>429767014334</td></tr>\n",
       "\t<tr><td>2026-07-01</td><td>548307151145</td><td>-116416045777</td><td>-116416045777</td><td>-116416045777</td><td>-116416045777</td><td>-116416045777</td><td>-116416045777</td><td>0</td><td>0</td><td>0</td><td>369137124312</td><td>503196394575</td><td>548307151145</td><td>548307151145</td><td>431891105368</td></tr>\n",
       "\t<tr><td>2026-10-01</td><td>551190230180</td><td>-116141654269</td><td>-116141654269</td><td>-116141654269</td><td>-116141654269</td><td>-116141654269</td><td>-116141654269</td><td>0</td><td>0</td><td>0</td><td>368605036535</td><td>500481569580</td><td>551190230180</td><td>551190230180</td><td>435048575911</td></tr>\n",
       "\t<tr><td>2027-01-01</td><td>554073309215</td><td>-113866245336</td><td>-113866245336</td><td>-113866245336</td><td>-113866245336</td><td>-113866245336</td><td>-113866245336</td><td>0</td><td>0</td><td>0</td><td>375093203991</td><td>508295395160</td><td>554073309215</td><td>554073309215</td><td>440207063880</td></tr>\n",
       "\t<tr><td>2027-04-01</td><td>556893712619</td><td>-118427189291</td><td>-118427189291</td><td>-118427189291</td><td>-118427189291</td><td>-118427189291</td><td>-118427189291</td><td>0</td><td>0</td><td>0</td><td>369344279850</td><td>503121673095</td><td>556893712619</td><td>556893712619</td><td>438466523328</td></tr>\n",
       "\t<tr><td>2027-07-01</td><td>559745453839</td><td>-118998227626</td><td>-118998227626</td><td>-118998227626</td><td>-118998227626</td><td>-118998227626</td><td>-118998227626</td><td>0</td><td>0</td><td>0</td><td>376613533889</td><td>510109454176</td><td>559745453839</td><td>559745453839</td><td>440747226213</td></tr>\n",
       "\t<tr><td>2027-10-01</td><td>562628532874</td><td>-117668445183</td><td>-117668445183</td><td>-117668445183</td><td>-117668445183</td><td>-117668445183</td><td>-117668445183</td><td>0</td><td>0</td><td>0</td><td>376876769683</td><td>517570269673</td><td>562628532874</td><td>562628532874</td><td>444960087691</td></tr>\n",
       "\t<tr><td>2028-01-01</td><td>565511611909</td><td>-113084478129</td><td>-113084478129</td><td>-113084478129</td><td>-113084478129</td><td>-113084478129</td><td>-113084478129</td><td>0</td><td>0</td><td>0</td><td>383555243543</td><td>518431720525</td><td>565511611909</td><td>565511611909</td><td>452427133780</td></tr>\n",
       "\t<tr><td>2028-04-01</td><td>568363353129</td><td>-110302906240</td><td>-110302906240</td><td>-110302906240</td><td>-110302906240</td><td>-110302906240</td><td>-110302906240</td><td>0</td><td>0</td><td>0</td><td>388327420910</td><td>519254547345</td><td>568363353125</td><td>568363353129</td><td>458060446889</td></tr>\n",
       "\t<tr><td>2028-07-01</td><td>571215094349</td><td>-109580939640</td><td>-109580939640</td><td>-109580939640</td><td>-109580939640</td><td>-109580939640</td><td>-109580939640</td><td>0</td><td>0</td><td>0</td><td>399230791215</td><td>528222023141</td><td>571215094339</td><td>571215094349</td><td>461634154709</td></tr>\n",
       "\t<tr><td>2028-10-01</td><td>574098173384</td><td>-113475956303</td><td>-113475956303</td><td>-113475956303</td><td>-113475956303</td><td>-113475956303</td><td>-113475956303</td><td>0</td><td>0</td><td>0</td><td>390983908734</td><td>525699741453</td><td>574098173369</td><td>574098173384</td><td>460622217081</td></tr>\n",
       "\t<tr><td>2029-01-01</td><td>576981252419</td><td>-113647658322</td><td>-113647658322</td><td>-113647658322</td><td>-113647658322</td><td>-113647658322</td><td>-113647658322</td><td>0</td><td>0</td><td>0</td><td>395346441560</td><td>525895516333</td><td>576981252400</td><td>576981252419</td><td>463333594097</td></tr>\n",
       "</tbody>\n",
       "</table>\n"
      ],
      "text/latex": [
       "A data.frame: 181 × 16\n",
       "\\begin{tabular}{llllllllllllllll}\n",
       " ds & trend & additive\\_terms & additive\\_terms\\_lower & additive\\_terms\\_upper & yearly & yearly\\_lower & yearly\\_upper & multiplicative\\_terms & multiplicative\\_terms\\_lower & multiplicative\\_terms\\_upper & yhat\\_lower & yhat\\_upper & trend\\_lower & trend\\_upper & yhat\\\\\n",
       " <dttm> & <dbl> & <dbl> & <dbl> & <dbl> & <dbl> & <dbl> & <dbl> & <dbl> & <dbl> & <dbl> & <dbl> & <dbl> & <dbl> & <dbl> & <dbl>\\\\\n",
       "\\hline\n",
       "\t 1984-01-01 &  61881576748 & -113084478129 & -113084478129 & -113084478129 & -113084478129 & -113084478129 & -113084478129 & 0 & 0 & 0 & -116651659842 & 19215573189 &  61881576748 &  61881576748 & -51202901381\\\\\n",
       "\t 1984-04-01 &  64733317975 & -110302906240 & -110302906240 & -110302906240 & -110302906240 & -110302906240 & -110302906240 & 0 & 0 & 0 & -111069460150 & 25931001679 &  64733317975 &  64733317975 & -45569588265\\\\\n",
       "\t 1984-07-01 &  67585059201 & -109580939640 & -109580939640 & -109580939640 & -109580939640 & -109580939640 & -109580939640 & 0 & 0 & 0 & -108886333677 & 27213875092 &  67585059201 &  67585059201 & -41995880439\\\\\n",
       "\t 1984-10-01 &  70468138243 & -113475956303 & -113475956303 & -113475956303 & -113475956303 & -113475956303 & -113475956303 & 0 & 0 & 0 & -114959010705 & 23631092588 &  70468138243 &  70468138243 & -43007818059\\\\\n",
       "\t 1985-01-01 &  73351217285 & -113647658322 & -113647658322 & -113647658322 & -113647658322 & -113647658322 & -113647658322 & 0 & 0 & 0 & -106837368490 & 21883288920 &  73351217285 &  73351217285 & -40296441037\\\\\n",
       "\t 1985-04-01 &  76171620696 & -112979125446 & -112979125446 & -112979125446 & -112979125446 & -112979125446 & -112979125446 & 0 & 0 & 0 & -100764602975 & 33410948570 &  76171620696 &  76171620696 & -36807504751\\\\\n",
       "\t 1985-07-01 &  79023361922 & -113276079940 & -113276079940 & -113276079940 & -113276079940 & -113276079940 & -113276079940 & 0 & 0 & 0 & -102701985354 & 30551140126 &  79023361922 &  79023361922 & -34252718018\\\\\n",
       "\t 1985-10-01 &  81906440964 & -114743706036 & -114743706036 & -114743706036 & -114743706036 & -114743706036 & -114743706036 & 0 & 0 & 0 & -101087827828 & 36644385234 &  81906440964 &  81906440964 & -32837265072\\\\\n",
       "\t 1986-01-01 &  84789520006 & -114053967918 & -114053967918 & -114053967918 & -114053967918 & -114053967918 & -114053967918 & 0 & 0 & 0 &  -98636390787 & 38178320742 &  84789520006 &  84789520006 & -29264447912\\\\\n",
       "\t 1986-04-01 &  87609923417 & -115688395591 & -115688395591 & -115688395591 & -115688395591 & -115688395591 & -115688395591 & 0 & 0 & 0 &  -96483224795 & 38962620081 &  87609923417 &  87609923417 & -28078472174\\\\\n",
       "\t 1986-07-01 &  90461664643 & -116416045777 & -116416045777 & -116416045777 & -116416045777 & -116416045777 & -116416045777 & 0 & 0 & 0 &  -93658608734 & 36263007899 &  90461664643 &  90461664643 & -25954381133\\\\\n",
       "\t 1986-10-01 &  93344743686 & -116141654269 & -116141654269 & -116141654269 & -116141654269 & -116141654269 & -116141654269 & 0 & 0 & 0 &  -90066340719 & 42451676539 &  93344743686 &  93344743686 & -22796910583\\\\\n",
       "\t 1987-01-01 &  96227822728 & -113866245336 & -113866245336 & -113866245336 & -113866245336 & -113866245336 & -113866245336 & 0 & 0 & 0 &  -81565078347 & 54150027667 &  96227822728 &  96227822728 & -17638422608\\\\\n",
       "\t 1987-04-01 &  99048226138 & -118427189291 & -118427189291 & -118427189291 & -118427189291 & -118427189291 & -118427189291 & 0 & 0 & 0 &  -84051600504 & 51717273781 &  99048226138 &  99048226138 & -19378963153\\\\\n",
       "\t 1987-07-01 & 101899967365 & -118998227626 & -118998227626 & -118998227626 & -118998227626 & -118998227626 & -118998227626 & 0 & 0 & 0 &  -83609596385 & 50464293383 & 101899967365 & 101899967365 & -17098260261\\\\\n",
       "\t 1987-10-01 & 104783046407 & -117668445183 & -117668445183 & -117668445183 & -117668445183 & -117668445183 & -117668445183 & 0 & 0 & 0 &  -84674009395 & 57849582088 & 104783046407 & 104783046407 & -12885398777\\\\\n",
       "\t 1988-01-01 & 107666125449 & -113084478129 & -113084478129 & -113084478129 & -113084478129 & -113084478129 & -113084478129 & 0 & 0 & 0 &  -70603458951 & 59573493338 & 107666125449 & 107666125449 &  -5418352681\\\\\n",
       "\t 1988-04-01 & 110517866675 & -110302906240 & -110302906240 & -110302906240 & -110302906240 & -110302906240 & -110302906240 & 0 & 0 & 0 &  -67388636551 & 68356776013 & 110517866675 & 110517866675 &    214960435\\\\\n",
       "\t 1988-07-01 & 113369607902 & -109580939640 & -109580939640 & -109580939640 & -109580939640 & -109580939640 & -109580939640 & 0 & 0 & 0 &  -60142882360 & 71426214881 & 113369607902 & 113369607902 &   3788668262\\\\\n",
       "\t 1988-10-01 & 116252686944 & -113475956303 & -113475956303 & -113475956303 & -113475956303 & -113475956303 & -113475956303 & 0 & 0 & 0 &  -63322347337 & 73756224541 & 116252686944 & 116252686944 &   2776730641\\\\\n",
       "\t 1989-01-01 & 119135765986 & -113647658322 & -113647658322 & -113647658322 & -113647658322 & -113647658322 & -113647658322 & 0 & 0 & 0 &  -62807379448 & 74594162108 & 119135765986 & 119135765986 &   5488107664\\\\\n",
       "\t 1989-04-01 & 121956169396 & -112979125446 & -112979125446 & -112979125446 & -112979125446 & -112979125446 & -112979125446 & 0 & 0 & 0 &  -53050890387 & 74434672275 & 121956169396 & 121956169396 &   8977043950\\\\\n",
       "\t 1989-07-01 & 124807910623 & -113276079940 & -113276079940 & -113276079940 & -113276079940 & -113276079940 & -113276079940 & 0 & 0 & 0 &  -56305752847 & 82385130837 & 124807910623 & 124807910623 &  11531830683\\\\\n",
       "\t 1989-10-01 & 127690989665 & -114743706036 & -114743706036 & -114743706036 & -114743706036 & -114743706036 & -114743706036 & 0 & 0 & 0 &  -54800927873 & 79693736164 & 127690989665 & 127690989665 &  12947283629\\\\\n",
       "\t 1990-01-01 & 130574068707 & -114053967918 & -114053967918 & -114053967918 & -114053967918 & -114053967918 & -114053967918 & 0 & 0 & 0 &  -53123038818 & 84847247368 & 130574068707 & 130574068707 &  16520100789\\\\\n",
       "\t 1990-04-01 & 133394472118 & -115688395591 & -115688395591 & -115688395591 & -115688395591 & -115688395591 & -115688395591 & 0 & 0 & 0 &  -52717700493 & 87286922925 & 133394472118 & 133394472118 &  17706076527\\\\\n",
       "\t 1990-07-01 & 136246213344 & -116416045777 & -116416045777 & -116416045777 & -116416045777 & -116416045777 & -116416045777 & 0 & 0 & 0 &  -48816380626 & 86540267486 & 136246213344 & 136246213344 &  19830167568\\\\\n",
       "\t 1990-10-01 & 139129292386 & -116141654269 & -116141654269 & -116141654269 & -116141654269 & -116141654269 & -116141654269 & 0 & 0 & 0 &  -49310800505 & 89972734146 & 139129292386 & 139129292386 &  22987638117\\\\\n",
       "\t 1991-01-01 & 142012371428 & -113866245336 & -113866245336 & -113866245336 & -113866245336 & -113866245336 & -113866245336 & 0 & 0 & 0 &  -40963695854 & 94323151795 & 142012371428 & 142012371428 &  28146126093\\\\\n",
       "\t 1991-04-01 & 144832774839 & -118427189291 & -118427189291 & -118427189291 & -118427189291 & -118427189291 & -118427189291 & 0 & 0 & 0 &  -38417487817 & 92855572377 & 144832774839 & 144832774839 &  26405585548\\\\\n",
       "\t ⋮ & ⋮ & ⋮ & ⋮ & ⋮ & ⋮ & ⋮ & ⋮ & ⋮ & ⋮ & ⋮ & ⋮ & ⋮ & ⋮ & ⋮ & ⋮\\\\\n",
       "\t 2021-10-01 & 493967378895 & -114743706036 & -114743706036 & -114743706036 & -114743706036 & -114743706036 & -114743706036 & 0 & 0 & 0 & 307888477367 & 445634702342 & 493967378895 & 493967378895 & 379223672859\\\\\n",
       "\t 2022-01-01 & 496850457930 & -114053967918 & -114053967918 & -114053967918 & -114053967918 & -114053967918 & -114053967918 & 0 & 0 & 0 & 315850393050 & 448190893387 & 496850457930 & 496850457930 & 382796490012\\\\\n",
       "\t 2022-04-01 & 499670861334 & -115688395591 & -115688395591 & -115688395591 & -115688395591 & -115688395591 & -115688395591 & 0 & 0 & 0 & 315772636890 & 450915605064 & 499670861334 & 499670861334 & 383982465743\\\\\n",
       "\t 2022-07-01 & 502522602553 & -116416045777 & -116416045777 & -116416045777 & -116416045777 & -116416045777 & -116416045777 & 0 & 0 & 0 & 321160166084 & 456941135172 & 502522602553 & 502522602553 & 386106556777\\\\\n",
       "\t 2022-10-01 & 505405681589 & -116141654269 & -116141654269 & -116141654269 & -116141654269 & -116141654269 & -116141654269 & 0 & 0 & 0 & 317974749873 & 455854580615 & 505405681589 & 505405681589 & 389264027320\\\\\n",
       "\t 2023-01-01 & 508288760624 & -113866245336 & -113866245336 & -113866245336 & -113866245336 & -113866245336 & -113866245336 & 0 & 0 & 0 & 324858404763 & 465376170376 & 508288760624 & 508288760624 & 394422515288\\\\\n",
       "\t 2023-04-01 & 511109164028 & -118427189291 & -118427189291 & -118427189291 & -118427189291 & -118427189291 & -118427189291 & 0 & 0 & 0 & 326733934554 & 459663528301 & 511109164028 & 511109164028 & 392681974737\\\\\n",
       "\t 2023-07-01 & 513960905247 & -118998227626 & -118998227626 & -118998227626 & -118998227626 & -118998227626 & -118998227626 & 0 & 0 & 0 & 327615122898 & 466089869988 & 513960905247 & 513960905247 & 394962677622\\\\\n",
       "\t 2023-10-01 & 516843984283 & -117668445183 & -117668445183 & -117668445183 & -117668445183 & -117668445183 & -117668445183 & 0 & 0 & 0 & 334612207931 & 467591622895 & 516843984283 & 516843984283 & 399175539099\\\\\n",
       "\t 2024-01-01 & 519727063318 & -113084478129 & -113084478129 & -113084478129 & -113084478129 & -113084478129 & -113084478129 & 0 & 0 & 0 & 344132226448 & 472219005521 & 519727063318 & 519727063318 & 406642585188\\\\\n",
       "\t 2024-04-01 & 522578804537 & -110302906240 & -110302906240 & -110302906240 & -110302906240 & -110302906240 & -110302906240 & 0 & 0 & 0 & 349767443020 & 478360620400 & 522578804537 & 522578804537 & 412275898297\\\\\n",
       "\t 2024-07-01 & 525430545757 & -109580939640 & -109580939640 & -109580939640 & -109580939640 & -109580939640 & -109580939640 & 0 & 0 & 0 & 344812436927 & 482002827156 & 525430545757 & 525430545757 & 415849606117\\\\\n",
       "\t 2024-10-01 & 528313624792 & -113475956303 & -113475956303 & -113475956303 & -113475956303 & -113475956303 & -113475956303 & 0 & 0 & 0 & 348164739519 & 482250814182 & 528313624792 & 528313624792 & 414837668490\\\\\n",
       "\t 2025-01-01 & 531196703827 & -113647658322 & -113647658322 & -113647658322 & -113647658322 & -113647658322 & -113647658322 & 0 & 0 & 0 & 350965707107 & 482688742846 & 531196703827 & 531196703827 & 417549045505\\\\\n",
       "\t 2025-04-01 & 534017107231 & -112979125446 & -112979125446 & -112979125446 & -112979125446 & -112979125446 & -112979125446 & 0 & 0 & 0 & 352619657043 & 487395941972 & 534017107231 & 534017107231 & 421037981785\\\\\n",
       "\t 2025-07-01 & 536868848451 & -113276079940 & -113276079940 & -113276079940 & -113276079940 & -113276079940 & -113276079940 & 0 & 0 & 0 & 358193827644 & 485140798982 & 536868848451 & 536868848451 & 423592768511\\\\\n",
       "\t 2025-10-01 & 539751927486 & -114743706036 & -114743706036 & -114743706036 & -114743706036 & -114743706036 & -114743706036 & 0 & 0 & 0 & 358103293620 & 491054991655 & 539751927486 & 539751927486 & 425008221450\\\\\n",
       "\t 2026-01-01 & 542635006521 & -114053967918 & -114053967918 & -114053967918 & -114053967918 & -114053967918 & -114053967918 & 0 & 0 & 0 & 360321173641 & 494470715276 & 542635006521 & 542635006521 & 428581038603\\\\\n",
       "\t 2026-04-01 & 545455409925 & -115688395591 & -115688395591 & -115688395591 & -115688395591 & -115688395591 & -115688395591 & 0 & 0 & 0 & 364496947264 & 499303043421 & 545455409925 & 545455409925 & 429767014334\\\\\n",
       "\t 2026-07-01 & 548307151145 & -116416045777 & -116416045777 & -116416045777 & -116416045777 & -116416045777 & -116416045777 & 0 & 0 & 0 & 369137124312 & 503196394575 & 548307151145 & 548307151145 & 431891105368\\\\\n",
       "\t 2026-10-01 & 551190230180 & -116141654269 & -116141654269 & -116141654269 & -116141654269 & -116141654269 & -116141654269 & 0 & 0 & 0 & 368605036535 & 500481569580 & 551190230180 & 551190230180 & 435048575911\\\\\n",
       "\t 2027-01-01 & 554073309215 & -113866245336 & -113866245336 & -113866245336 & -113866245336 & -113866245336 & -113866245336 & 0 & 0 & 0 & 375093203991 & 508295395160 & 554073309215 & 554073309215 & 440207063880\\\\\n",
       "\t 2027-04-01 & 556893712619 & -118427189291 & -118427189291 & -118427189291 & -118427189291 & -118427189291 & -118427189291 & 0 & 0 & 0 & 369344279850 & 503121673095 & 556893712619 & 556893712619 & 438466523328\\\\\n",
       "\t 2027-07-01 & 559745453839 & -118998227626 & -118998227626 & -118998227626 & -118998227626 & -118998227626 & -118998227626 & 0 & 0 & 0 & 376613533889 & 510109454176 & 559745453839 & 559745453839 & 440747226213\\\\\n",
       "\t 2027-10-01 & 562628532874 & -117668445183 & -117668445183 & -117668445183 & -117668445183 & -117668445183 & -117668445183 & 0 & 0 & 0 & 376876769683 & 517570269673 & 562628532874 & 562628532874 & 444960087691\\\\\n",
       "\t 2028-01-01 & 565511611909 & -113084478129 & -113084478129 & -113084478129 & -113084478129 & -113084478129 & -113084478129 & 0 & 0 & 0 & 383555243543 & 518431720525 & 565511611909 & 565511611909 & 452427133780\\\\\n",
       "\t 2028-04-01 & 568363353129 & -110302906240 & -110302906240 & -110302906240 & -110302906240 & -110302906240 & -110302906240 & 0 & 0 & 0 & 388327420910 & 519254547345 & 568363353125 & 568363353129 & 458060446889\\\\\n",
       "\t 2028-07-01 & 571215094349 & -109580939640 & -109580939640 & -109580939640 & -109580939640 & -109580939640 & -109580939640 & 0 & 0 & 0 & 399230791215 & 528222023141 & 571215094339 & 571215094349 & 461634154709\\\\\n",
       "\t 2028-10-01 & 574098173384 & -113475956303 & -113475956303 & -113475956303 & -113475956303 & -113475956303 & -113475956303 & 0 & 0 & 0 & 390983908734 & 525699741453 & 574098173369 & 574098173384 & 460622217081\\\\\n",
       "\t 2029-01-01 & 576981252419 & -113647658322 & -113647658322 & -113647658322 & -113647658322 & -113647658322 & -113647658322 & 0 & 0 & 0 & 395346441560 & 525895516333 & 576981252400 & 576981252419 & 463333594097\\\\\n",
       "\\end{tabular}\n"
      ],
      "text/markdown": [
       "\n",
       "A data.frame: 181 × 16\n",
       "\n",
       "| ds &lt;dttm&gt; | trend &lt;dbl&gt; | additive_terms &lt;dbl&gt; | additive_terms_lower &lt;dbl&gt; | additive_terms_upper &lt;dbl&gt; | yearly &lt;dbl&gt; | yearly_lower &lt;dbl&gt; | yearly_upper &lt;dbl&gt; | multiplicative_terms &lt;dbl&gt; | multiplicative_terms_lower &lt;dbl&gt; | multiplicative_terms_upper &lt;dbl&gt; | yhat_lower &lt;dbl&gt; | yhat_upper &lt;dbl&gt; | trend_lower &lt;dbl&gt; | trend_upper &lt;dbl&gt; | yhat &lt;dbl&gt; |\n",
       "|---|---|---|---|---|---|---|---|---|---|---|---|---|---|---|---|\n",
       "| 1984-01-01 |  61881576748 | -113084478129 | -113084478129 | -113084478129 | -113084478129 | -113084478129 | -113084478129 | 0 | 0 | 0 | -116651659842 | 19215573189 |  61881576748 |  61881576748 | -51202901381 |\n",
       "| 1984-04-01 |  64733317975 | -110302906240 | -110302906240 | -110302906240 | -110302906240 | -110302906240 | -110302906240 | 0 | 0 | 0 | -111069460150 | 25931001679 |  64733317975 |  64733317975 | -45569588265 |\n",
       "| 1984-07-01 |  67585059201 | -109580939640 | -109580939640 | -109580939640 | -109580939640 | -109580939640 | -109580939640 | 0 | 0 | 0 | -108886333677 | 27213875092 |  67585059201 |  67585059201 | -41995880439 |\n",
       "| 1984-10-01 |  70468138243 | -113475956303 | -113475956303 | -113475956303 | -113475956303 | -113475956303 | -113475956303 | 0 | 0 | 0 | -114959010705 | 23631092588 |  70468138243 |  70468138243 | -43007818059 |\n",
       "| 1985-01-01 |  73351217285 | -113647658322 | -113647658322 | -113647658322 | -113647658322 | -113647658322 | -113647658322 | 0 | 0 | 0 | -106837368490 | 21883288920 |  73351217285 |  73351217285 | -40296441037 |\n",
       "| 1985-04-01 |  76171620696 | -112979125446 | -112979125446 | -112979125446 | -112979125446 | -112979125446 | -112979125446 | 0 | 0 | 0 | -100764602975 | 33410948570 |  76171620696 |  76171620696 | -36807504751 |\n",
       "| 1985-07-01 |  79023361922 | -113276079940 | -113276079940 | -113276079940 | -113276079940 | -113276079940 | -113276079940 | 0 | 0 | 0 | -102701985354 | 30551140126 |  79023361922 |  79023361922 | -34252718018 |\n",
       "| 1985-10-01 |  81906440964 | -114743706036 | -114743706036 | -114743706036 | -114743706036 | -114743706036 | -114743706036 | 0 | 0 | 0 | -101087827828 | 36644385234 |  81906440964 |  81906440964 | -32837265072 |\n",
       "| 1986-01-01 |  84789520006 | -114053967918 | -114053967918 | -114053967918 | -114053967918 | -114053967918 | -114053967918 | 0 | 0 | 0 |  -98636390787 | 38178320742 |  84789520006 |  84789520006 | -29264447912 |\n",
       "| 1986-04-01 |  87609923417 | -115688395591 | -115688395591 | -115688395591 | -115688395591 | -115688395591 | -115688395591 | 0 | 0 | 0 |  -96483224795 | 38962620081 |  87609923417 |  87609923417 | -28078472174 |\n",
       "| 1986-07-01 |  90461664643 | -116416045777 | -116416045777 | -116416045777 | -116416045777 | -116416045777 | -116416045777 | 0 | 0 | 0 |  -93658608734 | 36263007899 |  90461664643 |  90461664643 | -25954381133 |\n",
       "| 1986-10-01 |  93344743686 | -116141654269 | -116141654269 | -116141654269 | -116141654269 | -116141654269 | -116141654269 | 0 | 0 | 0 |  -90066340719 | 42451676539 |  93344743686 |  93344743686 | -22796910583 |\n",
       "| 1987-01-01 |  96227822728 | -113866245336 | -113866245336 | -113866245336 | -113866245336 | -113866245336 | -113866245336 | 0 | 0 | 0 |  -81565078347 | 54150027667 |  96227822728 |  96227822728 | -17638422608 |\n",
       "| 1987-04-01 |  99048226138 | -118427189291 | -118427189291 | -118427189291 | -118427189291 | -118427189291 | -118427189291 | 0 | 0 | 0 |  -84051600504 | 51717273781 |  99048226138 |  99048226138 | -19378963153 |\n",
       "| 1987-07-01 | 101899967365 | -118998227626 | -118998227626 | -118998227626 | -118998227626 | -118998227626 | -118998227626 | 0 | 0 | 0 |  -83609596385 | 50464293383 | 101899967365 | 101899967365 | -17098260261 |\n",
       "| 1987-10-01 | 104783046407 | -117668445183 | -117668445183 | -117668445183 | -117668445183 | -117668445183 | -117668445183 | 0 | 0 | 0 |  -84674009395 | 57849582088 | 104783046407 | 104783046407 | -12885398777 |\n",
       "| 1988-01-01 | 107666125449 | -113084478129 | -113084478129 | -113084478129 | -113084478129 | -113084478129 | -113084478129 | 0 | 0 | 0 |  -70603458951 | 59573493338 | 107666125449 | 107666125449 |  -5418352681 |\n",
       "| 1988-04-01 | 110517866675 | -110302906240 | -110302906240 | -110302906240 | -110302906240 | -110302906240 | -110302906240 | 0 | 0 | 0 |  -67388636551 | 68356776013 | 110517866675 | 110517866675 |    214960435 |\n",
       "| 1988-07-01 | 113369607902 | -109580939640 | -109580939640 | -109580939640 | -109580939640 | -109580939640 | -109580939640 | 0 | 0 | 0 |  -60142882360 | 71426214881 | 113369607902 | 113369607902 |   3788668262 |\n",
       "| 1988-10-01 | 116252686944 | -113475956303 | -113475956303 | -113475956303 | -113475956303 | -113475956303 | -113475956303 | 0 | 0 | 0 |  -63322347337 | 73756224541 | 116252686944 | 116252686944 |   2776730641 |\n",
       "| 1989-01-01 | 119135765986 | -113647658322 | -113647658322 | -113647658322 | -113647658322 | -113647658322 | -113647658322 | 0 | 0 | 0 |  -62807379448 | 74594162108 | 119135765986 | 119135765986 |   5488107664 |\n",
       "| 1989-04-01 | 121956169396 | -112979125446 | -112979125446 | -112979125446 | -112979125446 | -112979125446 | -112979125446 | 0 | 0 | 0 |  -53050890387 | 74434672275 | 121956169396 | 121956169396 |   8977043950 |\n",
       "| 1989-07-01 | 124807910623 | -113276079940 | -113276079940 | -113276079940 | -113276079940 | -113276079940 | -113276079940 | 0 | 0 | 0 |  -56305752847 | 82385130837 | 124807910623 | 124807910623 |  11531830683 |\n",
       "| 1989-10-01 | 127690989665 | -114743706036 | -114743706036 | -114743706036 | -114743706036 | -114743706036 | -114743706036 | 0 | 0 | 0 |  -54800927873 | 79693736164 | 127690989665 | 127690989665 |  12947283629 |\n",
       "| 1990-01-01 | 130574068707 | -114053967918 | -114053967918 | -114053967918 | -114053967918 | -114053967918 | -114053967918 | 0 | 0 | 0 |  -53123038818 | 84847247368 | 130574068707 | 130574068707 |  16520100789 |\n",
       "| 1990-04-01 | 133394472118 | -115688395591 | -115688395591 | -115688395591 | -115688395591 | -115688395591 | -115688395591 | 0 | 0 | 0 |  -52717700493 | 87286922925 | 133394472118 | 133394472118 |  17706076527 |\n",
       "| 1990-07-01 | 136246213344 | -116416045777 | -116416045777 | -116416045777 | -116416045777 | -116416045777 | -116416045777 | 0 | 0 | 0 |  -48816380626 | 86540267486 | 136246213344 | 136246213344 |  19830167568 |\n",
       "| 1990-10-01 | 139129292386 | -116141654269 | -116141654269 | -116141654269 | -116141654269 | -116141654269 | -116141654269 | 0 | 0 | 0 |  -49310800505 | 89972734146 | 139129292386 | 139129292386 |  22987638117 |\n",
       "| 1991-01-01 | 142012371428 | -113866245336 | -113866245336 | -113866245336 | -113866245336 | -113866245336 | -113866245336 | 0 | 0 | 0 |  -40963695854 | 94323151795 | 142012371428 | 142012371428 |  28146126093 |\n",
       "| 1991-04-01 | 144832774839 | -118427189291 | -118427189291 | -118427189291 | -118427189291 | -118427189291 | -118427189291 | 0 | 0 | 0 |  -38417487817 | 92855572377 | 144832774839 | 144832774839 |  26405585548 |\n",
       "| ⋮ | ⋮ | ⋮ | ⋮ | ⋮ | ⋮ | ⋮ | ⋮ | ⋮ | ⋮ | ⋮ | ⋮ | ⋮ | ⋮ | ⋮ | ⋮ |\n",
       "| 2021-10-01 | 493967378895 | -114743706036 | -114743706036 | -114743706036 | -114743706036 | -114743706036 | -114743706036 | 0 | 0 | 0 | 307888477367 | 445634702342 | 493967378895 | 493967378895 | 379223672859 |\n",
       "| 2022-01-01 | 496850457930 | -114053967918 | -114053967918 | -114053967918 | -114053967918 | -114053967918 | -114053967918 | 0 | 0 | 0 | 315850393050 | 448190893387 | 496850457930 | 496850457930 | 382796490012 |\n",
       "| 2022-04-01 | 499670861334 | -115688395591 | -115688395591 | -115688395591 | -115688395591 | -115688395591 | -115688395591 | 0 | 0 | 0 | 315772636890 | 450915605064 | 499670861334 | 499670861334 | 383982465743 |\n",
       "| 2022-07-01 | 502522602553 | -116416045777 | -116416045777 | -116416045777 | -116416045777 | -116416045777 | -116416045777 | 0 | 0 | 0 | 321160166084 | 456941135172 | 502522602553 | 502522602553 | 386106556777 |\n",
       "| 2022-10-01 | 505405681589 | -116141654269 | -116141654269 | -116141654269 | -116141654269 | -116141654269 | -116141654269 | 0 | 0 | 0 | 317974749873 | 455854580615 | 505405681589 | 505405681589 | 389264027320 |\n",
       "| 2023-01-01 | 508288760624 | -113866245336 | -113866245336 | -113866245336 | -113866245336 | -113866245336 | -113866245336 | 0 | 0 | 0 | 324858404763 | 465376170376 | 508288760624 | 508288760624 | 394422515288 |\n",
       "| 2023-04-01 | 511109164028 | -118427189291 | -118427189291 | -118427189291 | -118427189291 | -118427189291 | -118427189291 | 0 | 0 | 0 | 326733934554 | 459663528301 | 511109164028 | 511109164028 | 392681974737 |\n",
       "| 2023-07-01 | 513960905247 | -118998227626 | -118998227626 | -118998227626 | -118998227626 | -118998227626 | -118998227626 | 0 | 0 | 0 | 327615122898 | 466089869988 | 513960905247 | 513960905247 | 394962677622 |\n",
       "| 2023-10-01 | 516843984283 | -117668445183 | -117668445183 | -117668445183 | -117668445183 | -117668445183 | -117668445183 | 0 | 0 | 0 | 334612207931 | 467591622895 | 516843984283 | 516843984283 | 399175539099 |\n",
       "| 2024-01-01 | 519727063318 | -113084478129 | -113084478129 | -113084478129 | -113084478129 | -113084478129 | -113084478129 | 0 | 0 | 0 | 344132226448 | 472219005521 | 519727063318 | 519727063318 | 406642585188 |\n",
       "| 2024-04-01 | 522578804537 | -110302906240 | -110302906240 | -110302906240 | -110302906240 | -110302906240 | -110302906240 | 0 | 0 | 0 | 349767443020 | 478360620400 | 522578804537 | 522578804537 | 412275898297 |\n",
       "| 2024-07-01 | 525430545757 | -109580939640 | -109580939640 | -109580939640 | -109580939640 | -109580939640 | -109580939640 | 0 | 0 | 0 | 344812436927 | 482002827156 | 525430545757 | 525430545757 | 415849606117 |\n",
       "| 2024-10-01 | 528313624792 | -113475956303 | -113475956303 | -113475956303 | -113475956303 | -113475956303 | -113475956303 | 0 | 0 | 0 | 348164739519 | 482250814182 | 528313624792 | 528313624792 | 414837668490 |\n",
       "| 2025-01-01 | 531196703827 | -113647658322 | -113647658322 | -113647658322 | -113647658322 | -113647658322 | -113647658322 | 0 | 0 | 0 | 350965707107 | 482688742846 | 531196703827 | 531196703827 | 417549045505 |\n",
       "| 2025-04-01 | 534017107231 | -112979125446 | -112979125446 | -112979125446 | -112979125446 | -112979125446 | -112979125446 | 0 | 0 | 0 | 352619657043 | 487395941972 | 534017107231 | 534017107231 | 421037981785 |\n",
       "| 2025-07-01 | 536868848451 | -113276079940 | -113276079940 | -113276079940 | -113276079940 | -113276079940 | -113276079940 | 0 | 0 | 0 | 358193827644 | 485140798982 | 536868848451 | 536868848451 | 423592768511 |\n",
       "| 2025-10-01 | 539751927486 | -114743706036 | -114743706036 | -114743706036 | -114743706036 | -114743706036 | -114743706036 | 0 | 0 | 0 | 358103293620 | 491054991655 | 539751927486 | 539751927486 | 425008221450 |\n",
       "| 2026-01-01 | 542635006521 | -114053967918 | -114053967918 | -114053967918 | -114053967918 | -114053967918 | -114053967918 | 0 | 0 | 0 | 360321173641 | 494470715276 | 542635006521 | 542635006521 | 428581038603 |\n",
       "| 2026-04-01 | 545455409925 | -115688395591 | -115688395591 | -115688395591 | -115688395591 | -115688395591 | -115688395591 | 0 | 0 | 0 | 364496947264 | 499303043421 | 545455409925 | 545455409925 | 429767014334 |\n",
       "| 2026-07-01 | 548307151145 | -116416045777 | -116416045777 | -116416045777 | -116416045777 | -116416045777 | -116416045777 | 0 | 0 | 0 | 369137124312 | 503196394575 | 548307151145 | 548307151145 | 431891105368 |\n",
       "| 2026-10-01 | 551190230180 | -116141654269 | -116141654269 | -116141654269 | -116141654269 | -116141654269 | -116141654269 | 0 | 0 | 0 | 368605036535 | 500481569580 | 551190230180 | 551190230180 | 435048575911 |\n",
       "| 2027-01-01 | 554073309215 | -113866245336 | -113866245336 | -113866245336 | -113866245336 | -113866245336 | -113866245336 | 0 | 0 | 0 | 375093203991 | 508295395160 | 554073309215 | 554073309215 | 440207063880 |\n",
       "| 2027-04-01 | 556893712619 | -118427189291 | -118427189291 | -118427189291 | -118427189291 | -118427189291 | -118427189291 | 0 | 0 | 0 | 369344279850 | 503121673095 | 556893712619 | 556893712619 | 438466523328 |\n",
       "| 2027-07-01 | 559745453839 | -118998227626 | -118998227626 | -118998227626 | -118998227626 | -118998227626 | -118998227626 | 0 | 0 | 0 | 376613533889 | 510109454176 | 559745453839 | 559745453839 | 440747226213 |\n",
       "| 2027-10-01 | 562628532874 | -117668445183 | -117668445183 | -117668445183 | -117668445183 | -117668445183 | -117668445183 | 0 | 0 | 0 | 376876769683 | 517570269673 | 562628532874 | 562628532874 | 444960087691 |\n",
       "| 2028-01-01 | 565511611909 | -113084478129 | -113084478129 | -113084478129 | -113084478129 | -113084478129 | -113084478129 | 0 | 0 | 0 | 383555243543 | 518431720525 | 565511611909 | 565511611909 | 452427133780 |\n",
       "| 2028-04-01 | 568363353129 | -110302906240 | -110302906240 | -110302906240 | -110302906240 | -110302906240 | -110302906240 | 0 | 0 | 0 | 388327420910 | 519254547345 | 568363353125 | 568363353129 | 458060446889 |\n",
       "| 2028-07-01 | 571215094349 | -109580939640 | -109580939640 | -109580939640 | -109580939640 | -109580939640 | -109580939640 | 0 | 0 | 0 | 399230791215 | 528222023141 | 571215094339 | 571215094349 | 461634154709 |\n",
       "| 2028-10-01 | 574098173384 | -113475956303 | -113475956303 | -113475956303 | -113475956303 | -113475956303 | -113475956303 | 0 | 0 | 0 | 390983908734 | 525699741453 | 574098173369 | 574098173384 | 460622217081 |\n",
       "| 2029-01-01 | 576981252419 | -113647658322 | -113647658322 | -113647658322 | -113647658322 | -113647658322 | -113647658322 | 0 | 0 | 0 | 395346441560 | 525895516333 | 576981252400 | 576981252419 | 463333594097 |\n",
       "\n"
      ],
      "text/plain": [
       "    ds         trend        additive_terms additive_terms_lower\n",
       "1   1984-01-01  61881576748 -113084478129  -113084478129       \n",
       "2   1984-04-01  64733317975 -110302906240  -110302906240       \n",
       "3   1984-07-01  67585059201 -109580939640  -109580939640       \n",
       "4   1984-10-01  70468138243 -113475956303  -113475956303       \n",
       "5   1985-01-01  73351217285 -113647658322  -113647658322       \n",
       "6   1985-04-01  76171620696 -112979125446  -112979125446       \n",
       "7   1985-07-01  79023361922 -113276079940  -113276079940       \n",
       "8   1985-10-01  81906440964 -114743706036  -114743706036       \n",
       "9   1986-01-01  84789520006 -114053967918  -114053967918       \n",
       "10  1986-04-01  87609923417 -115688395591  -115688395591       \n",
       "11  1986-07-01  90461664643 -116416045777  -116416045777       \n",
       "12  1986-10-01  93344743686 -116141654269  -116141654269       \n",
       "13  1987-01-01  96227822728 -113866245336  -113866245336       \n",
       "14  1987-04-01  99048226138 -118427189291  -118427189291       \n",
       "15  1987-07-01 101899967365 -118998227626  -118998227626       \n",
       "16  1987-10-01 104783046407 -117668445183  -117668445183       \n",
       "17  1988-01-01 107666125449 -113084478129  -113084478129       \n",
       "18  1988-04-01 110517866675 -110302906240  -110302906240       \n",
       "19  1988-07-01 113369607902 -109580939640  -109580939640       \n",
       "20  1988-10-01 116252686944 -113475956303  -113475956303       \n",
       "21  1989-01-01 119135765986 -113647658322  -113647658322       \n",
       "22  1989-04-01 121956169396 -112979125446  -112979125446       \n",
       "23  1989-07-01 124807910623 -113276079940  -113276079940       \n",
       "24  1989-10-01 127690989665 -114743706036  -114743706036       \n",
       "25  1990-01-01 130574068707 -114053967918  -114053967918       \n",
       "26  1990-04-01 133394472118 -115688395591  -115688395591       \n",
       "27  1990-07-01 136246213344 -116416045777  -116416045777       \n",
       "28  1990-10-01 139129292386 -116141654269  -116141654269       \n",
       "29  1991-01-01 142012371428 -113866245336  -113866245336       \n",
       "30  1991-04-01 144832774839 -118427189291  -118427189291       \n",
       "⋮   ⋮          ⋮            ⋮              ⋮                   \n",
       "152 2021-10-01 493967378895 -114743706036  -114743706036       \n",
       "153 2022-01-01 496850457930 -114053967918  -114053967918       \n",
       "154 2022-04-01 499670861334 -115688395591  -115688395591       \n",
       "155 2022-07-01 502522602553 -116416045777  -116416045777       \n",
       "156 2022-10-01 505405681589 -116141654269  -116141654269       \n",
       "157 2023-01-01 508288760624 -113866245336  -113866245336       \n",
       "158 2023-04-01 511109164028 -118427189291  -118427189291       \n",
       "159 2023-07-01 513960905247 -118998227626  -118998227626       \n",
       "160 2023-10-01 516843984283 -117668445183  -117668445183       \n",
       "161 2024-01-01 519727063318 -113084478129  -113084478129       \n",
       "162 2024-04-01 522578804537 -110302906240  -110302906240       \n",
       "163 2024-07-01 525430545757 -109580939640  -109580939640       \n",
       "164 2024-10-01 528313624792 -113475956303  -113475956303       \n",
       "165 2025-01-01 531196703827 -113647658322  -113647658322       \n",
       "166 2025-04-01 534017107231 -112979125446  -112979125446       \n",
       "167 2025-07-01 536868848451 -113276079940  -113276079940       \n",
       "168 2025-10-01 539751927486 -114743706036  -114743706036       \n",
       "169 2026-01-01 542635006521 -114053967918  -114053967918       \n",
       "170 2026-04-01 545455409925 -115688395591  -115688395591       \n",
       "171 2026-07-01 548307151145 -116416045777  -116416045777       \n",
       "172 2026-10-01 551190230180 -116141654269  -116141654269       \n",
       "173 2027-01-01 554073309215 -113866245336  -113866245336       \n",
       "174 2027-04-01 556893712619 -118427189291  -118427189291       \n",
       "175 2027-07-01 559745453839 -118998227626  -118998227626       \n",
       "176 2027-10-01 562628532874 -117668445183  -117668445183       \n",
       "177 2028-01-01 565511611909 -113084478129  -113084478129       \n",
       "178 2028-04-01 568363353129 -110302906240  -110302906240       \n",
       "179 2028-07-01 571215094349 -109580939640  -109580939640       \n",
       "180 2028-10-01 574098173384 -113475956303  -113475956303       \n",
       "181 2029-01-01 576981252419 -113647658322  -113647658322       \n",
       "    additive_terms_upper yearly        yearly_lower  yearly_upper \n",
       "1   -113084478129        -113084478129 -113084478129 -113084478129\n",
       "2   -110302906240        -110302906240 -110302906240 -110302906240\n",
       "3   -109580939640        -109580939640 -109580939640 -109580939640\n",
       "4   -113475956303        -113475956303 -113475956303 -113475956303\n",
       "5   -113647658322        -113647658322 -113647658322 -113647658322\n",
       "6   -112979125446        -112979125446 -112979125446 -112979125446\n",
       "7   -113276079940        -113276079940 -113276079940 -113276079940\n",
       "8   -114743706036        -114743706036 -114743706036 -114743706036\n",
       "9   -114053967918        -114053967918 -114053967918 -114053967918\n",
       "10  -115688395591        -115688395591 -115688395591 -115688395591\n",
       "11  -116416045777        -116416045777 -116416045777 -116416045777\n",
       "12  -116141654269        -116141654269 -116141654269 -116141654269\n",
       "13  -113866245336        -113866245336 -113866245336 -113866245336\n",
       "14  -118427189291        -118427189291 -118427189291 -118427189291\n",
       "15  -118998227626        -118998227626 -118998227626 -118998227626\n",
       "16  -117668445183        -117668445183 -117668445183 -117668445183\n",
       "17  -113084478129        -113084478129 -113084478129 -113084478129\n",
       "18  -110302906240        -110302906240 -110302906240 -110302906240\n",
       "19  -109580939640        -109580939640 -109580939640 -109580939640\n",
       "20  -113475956303        -113475956303 -113475956303 -113475956303\n",
       "21  -113647658322        -113647658322 -113647658322 -113647658322\n",
       "22  -112979125446        -112979125446 -112979125446 -112979125446\n",
       "23  -113276079940        -113276079940 -113276079940 -113276079940\n",
       "24  -114743706036        -114743706036 -114743706036 -114743706036\n",
       "25  -114053967918        -114053967918 -114053967918 -114053967918\n",
       "26  -115688395591        -115688395591 -115688395591 -115688395591\n",
       "27  -116416045777        -116416045777 -116416045777 -116416045777\n",
       "28  -116141654269        -116141654269 -116141654269 -116141654269\n",
       "29  -113866245336        -113866245336 -113866245336 -113866245336\n",
       "30  -118427189291        -118427189291 -118427189291 -118427189291\n",
       "⋮   ⋮                    ⋮             ⋮             ⋮            \n",
       "152 -114743706036        -114743706036 -114743706036 -114743706036\n",
       "153 -114053967918        -114053967918 -114053967918 -114053967918\n",
       "154 -115688395591        -115688395591 -115688395591 -115688395591\n",
       "155 -116416045777        -116416045777 -116416045777 -116416045777\n",
       "156 -116141654269        -116141654269 -116141654269 -116141654269\n",
       "157 -113866245336        -113866245336 -113866245336 -113866245336\n",
       "158 -118427189291        -118427189291 -118427189291 -118427189291\n",
       "159 -118998227626        -118998227626 -118998227626 -118998227626\n",
       "160 -117668445183        -117668445183 -117668445183 -117668445183\n",
       "161 -113084478129        -113084478129 -113084478129 -113084478129\n",
       "162 -110302906240        -110302906240 -110302906240 -110302906240\n",
       "163 -109580939640        -109580939640 -109580939640 -109580939640\n",
       "164 -113475956303        -113475956303 -113475956303 -113475956303\n",
       "165 -113647658322        -113647658322 -113647658322 -113647658322\n",
       "166 -112979125446        -112979125446 -112979125446 -112979125446\n",
       "167 -113276079940        -113276079940 -113276079940 -113276079940\n",
       "168 -114743706036        -114743706036 -114743706036 -114743706036\n",
       "169 -114053967918        -114053967918 -114053967918 -114053967918\n",
       "170 -115688395591        -115688395591 -115688395591 -115688395591\n",
       "171 -116416045777        -116416045777 -116416045777 -116416045777\n",
       "172 -116141654269        -116141654269 -116141654269 -116141654269\n",
       "173 -113866245336        -113866245336 -113866245336 -113866245336\n",
       "174 -118427189291        -118427189291 -118427189291 -118427189291\n",
       "175 -118998227626        -118998227626 -118998227626 -118998227626\n",
       "176 -117668445183        -117668445183 -117668445183 -117668445183\n",
       "177 -113084478129        -113084478129 -113084478129 -113084478129\n",
       "178 -110302906240        -110302906240 -110302906240 -110302906240\n",
       "179 -109580939640        -109580939640 -109580939640 -109580939640\n",
       "180 -113475956303        -113475956303 -113475956303 -113475956303\n",
       "181 -113647658322        -113647658322 -113647658322 -113647658322\n",
       "    multiplicative_terms multiplicative_terms_lower multiplicative_terms_upper\n",
       "1   0                    0                          0                         \n",
       "2   0                    0                          0                         \n",
       "3   0                    0                          0                         \n",
       "4   0                    0                          0                         \n",
       "5   0                    0                          0                         \n",
       "6   0                    0                          0                         \n",
       "7   0                    0                          0                         \n",
       "8   0                    0                          0                         \n",
       "9   0                    0                          0                         \n",
       "10  0                    0                          0                         \n",
       "11  0                    0                          0                         \n",
       "12  0                    0                          0                         \n",
       "13  0                    0                          0                         \n",
       "14  0                    0                          0                         \n",
       "15  0                    0                          0                         \n",
       "16  0                    0                          0                         \n",
       "17  0                    0                          0                         \n",
       "18  0                    0                          0                         \n",
       "19  0                    0                          0                         \n",
       "20  0                    0                          0                         \n",
       "21  0                    0                          0                         \n",
       "22  0                    0                          0                         \n",
       "23  0                    0                          0                         \n",
       "24  0                    0                          0                         \n",
       "25  0                    0                          0                         \n",
       "26  0                    0                          0                         \n",
       "27  0                    0                          0                         \n",
       "28  0                    0                          0                         \n",
       "29  0                    0                          0                         \n",
       "30  0                    0                          0                         \n",
       "⋮   ⋮                    ⋮                          ⋮                         \n",
       "152 0                    0                          0                         \n",
       "153 0                    0                          0                         \n",
       "154 0                    0                          0                         \n",
       "155 0                    0                          0                         \n",
       "156 0                    0                          0                         \n",
       "157 0                    0                          0                         \n",
       "158 0                    0                          0                         \n",
       "159 0                    0                          0                         \n",
       "160 0                    0                          0                         \n",
       "161 0                    0                          0                         \n",
       "162 0                    0                          0                         \n",
       "163 0                    0                          0                         \n",
       "164 0                    0                          0                         \n",
       "165 0                    0                          0                         \n",
       "166 0                    0                          0                         \n",
       "167 0                    0                          0                         \n",
       "168 0                    0                          0                         \n",
       "169 0                    0                          0                         \n",
       "170 0                    0                          0                         \n",
       "171 0                    0                          0                         \n",
       "172 0                    0                          0                         \n",
       "173 0                    0                          0                         \n",
       "174 0                    0                          0                         \n",
       "175 0                    0                          0                         \n",
       "176 0                    0                          0                         \n",
       "177 0                    0                          0                         \n",
       "178 0                    0                          0                         \n",
       "179 0                    0                          0                         \n",
       "180 0                    0                          0                         \n",
       "181 0                    0                          0                         \n",
       "    yhat_lower    yhat_upper   trend_lower  trend_upper  yhat        \n",
       "1   -116651659842 19215573189   61881576748  61881576748 -51202901381\n",
       "2   -111069460150 25931001679   64733317975  64733317975 -45569588265\n",
       "3   -108886333677 27213875092   67585059201  67585059201 -41995880439\n",
       "4   -114959010705 23631092588   70468138243  70468138243 -43007818059\n",
       "5   -106837368490 21883288920   73351217285  73351217285 -40296441037\n",
       "6   -100764602975 33410948570   76171620696  76171620696 -36807504751\n",
       "7   -102701985354 30551140126   79023361922  79023361922 -34252718018\n",
       "8   -101087827828 36644385234   81906440964  81906440964 -32837265072\n",
       "9    -98636390787 38178320742   84789520006  84789520006 -29264447912\n",
       "10   -96483224795 38962620081   87609923417  87609923417 -28078472174\n",
       "11   -93658608734 36263007899   90461664643  90461664643 -25954381133\n",
       "12   -90066340719 42451676539   93344743686  93344743686 -22796910583\n",
       "13   -81565078347 54150027667   96227822728  96227822728 -17638422608\n",
       "14   -84051600504 51717273781   99048226138  99048226138 -19378963153\n",
       "15   -83609596385 50464293383  101899967365 101899967365 -17098260261\n",
       "16   -84674009395 57849582088  104783046407 104783046407 -12885398777\n",
       "17   -70603458951 59573493338  107666125449 107666125449  -5418352681\n",
       "18   -67388636551 68356776013  110517866675 110517866675    214960435\n",
       "19   -60142882360 71426214881  113369607902 113369607902   3788668262\n",
       "20   -63322347337 73756224541  116252686944 116252686944   2776730641\n",
       "21   -62807379448 74594162108  119135765986 119135765986   5488107664\n",
       "22   -53050890387 74434672275  121956169396 121956169396   8977043950\n",
       "23   -56305752847 82385130837  124807910623 124807910623  11531830683\n",
       "24   -54800927873 79693736164  127690989665 127690989665  12947283629\n",
       "25   -53123038818 84847247368  130574068707 130574068707  16520100789\n",
       "26   -52717700493 87286922925  133394472118 133394472118  17706076527\n",
       "27   -48816380626 86540267486  136246213344 136246213344  19830167568\n",
       "28   -49310800505 89972734146  139129292386 139129292386  22987638117\n",
       "29   -40963695854 94323151795  142012371428 142012371428  28146126093\n",
       "30   -38417487817 92855572377  144832774839 144832774839  26405585548\n",
       "⋮   ⋮             ⋮            ⋮            ⋮            ⋮           \n",
       "152 307888477367  445634702342 493967378895 493967378895 379223672859\n",
       "153 315850393050  448190893387 496850457930 496850457930 382796490012\n",
       "154 315772636890  450915605064 499670861334 499670861334 383982465743\n",
       "155 321160166084  456941135172 502522602553 502522602553 386106556777\n",
       "156 317974749873  455854580615 505405681589 505405681589 389264027320\n",
       "157 324858404763  465376170376 508288760624 508288760624 394422515288\n",
       "158 326733934554  459663528301 511109164028 511109164028 392681974737\n",
       "159 327615122898  466089869988 513960905247 513960905247 394962677622\n",
       "160 334612207931  467591622895 516843984283 516843984283 399175539099\n",
       "161 344132226448  472219005521 519727063318 519727063318 406642585188\n",
       "162 349767443020  478360620400 522578804537 522578804537 412275898297\n",
       "163 344812436927  482002827156 525430545757 525430545757 415849606117\n",
       "164 348164739519  482250814182 528313624792 528313624792 414837668490\n",
       "165 350965707107  482688742846 531196703827 531196703827 417549045505\n",
       "166 352619657043  487395941972 534017107231 534017107231 421037981785\n",
       "167 358193827644  485140798982 536868848451 536868848451 423592768511\n",
       "168 358103293620  491054991655 539751927486 539751927486 425008221450\n",
       "169 360321173641  494470715276 542635006521 542635006521 428581038603\n",
       "170 364496947264  499303043421 545455409925 545455409925 429767014334\n",
       "171 369137124312  503196394575 548307151145 548307151145 431891105368\n",
       "172 368605036535  500481569580 551190230180 551190230180 435048575911\n",
       "173 375093203991  508295395160 554073309215 554073309215 440207063880\n",
       "174 369344279850  503121673095 556893712619 556893712619 438466523328\n",
       "175 376613533889  510109454176 559745453839 559745453839 440747226213\n",
       "176 376876769683  517570269673 562628532874 562628532874 444960087691\n",
       "177 383555243543  518431720525 565511611909 565511611909 452427133780\n",
       "178 388327420910  519254547345 568363353125 568363353129 458060446889\n",
       "179 399230791215  528222023141 571215094339 571215094349 461634154709\n",
       "180 390983908734  525699741453 574098173369 574098173384 460622217081\n",
       "181 395346441560  525895516333 576981252400 576981252419 463333594097"
      ]
     },
     "metadata": {},
     "output_type": "display_data"
    }
   ],
   "source": [
    "prediction_train_data"
   ]
  },
  {
   "cell_type": "markdown",
   "metadata": {},
   "source": [
    "### Step 6: Visualize the Forecast"
   ]
  },
  {
   "cell_type": "code",
   "execution_count": 397,
   "metadata": {
    "vscode": {
     "languageId": "r"
    }
   },
   "outputs": [
    {
     "data": {
      "image/png": "[encoded data removed]",
      "text/plain": [
       "plot without title"
      ]
     },
     "metadata": {
      "image/png": {
       "height": 420,
       "width": 420
      }
     },
     "output_type": "display_data"
    }
   ],
   "source": [
    "# Ensure 'ds' is a Date object\n",
    "train_data$ds <- as.Date(train_data$ds)\n",
    "prediction_train_data$ds <- as.Date(prediction_train_data$ds)\n",
    "\n",
    "ggplot() +\n",
    "  # Add historical data points\n",
    "  geom_point(data = train_data, aes(x = ds, y = y, color = \"Historical Data\"), size = 1.5, alpha = 0.8) +\n",
    "  # Add the predicted trend line\n",
    "  geom_line(data = prediction_train_data, aes(x = ds, y = yhat, color = \"Predicted Trend\"), size = 2) +\n",
    "  # Add uncertainty intervals for predictions\n",
    "  geom_ribbon(\n",
    "    data = prediction_train_data,\n",
    "    aes(x = ds, ymin = yhat_lower, ymax = yhat_upper, fill = \"Uncertainty Interval\"),\n",
    "    alpha = 0.2\n",
    "  ) +\n",
    "  # Add labels and a title\n",
    "  labs(\n",
    "    title = \"Historical Data and Prediction with Prophet\",\n",
    "    x = \"Date\",\n",
    "    y = \"Deposits (in $)\",\n",
    "    color = \"Legend\",\n",
    "    fill = \"Legend\"\n",
    "  ) +\n",
    "  # Customize colors for the legend\n",
    "  scale_color_manual(\n",
    "    values = c(\"Historical Data\" = \"black\", \"Predicted Trend\" = \"red\")\n",
    "  ) +\n",
    "  scale_fill_manual(\n",
    "    values = c(\"Uncertainty Interval\" = \"blue\")\n",
    "  ) +\n",
    "  # Add a minimal theme\n",
    "  theme_minimal() +\n",
    "  theme(\n",
    "    plot.title = element_text(hjust = 0.5, size = 14, face = \"bold\"),\n",
    "    axis.title.x = element_text(size = 12),\n",
    "    axis.title.y = element_text(size = 12),\n",
    "    legend.title = element_text(size = 12, face = \"bold\"),\n",
    "    legend.text = element_text(size = 10)\n",
    "  )"
   ]
  },
  {
   "cell_type": "markdown",
   "metadata": {},
   "source": [
    "## Part 4: Evaluation of the Model Performance"
   ]
  },
  {
   "cell_type": "markdown",
   "metadata": {},
   "source": [
    "### Step 1: Compare predictions with test data \n",
    "\n",
    "- The test data is unseen data (not used in training) that allows you to assess how well your model generalizes to new data.\n",
    "- Comparing predictions to actual values in the test data helps identify whether the model overfits or underfits.\n",
    "- A good forecast should perform well not only on the training data but also on the test data. This is a crucial check before relying on the model for real-world forecasting."
   ]
  },
  {
   "cell_type": "code",
   "execution_count": 398,
   "metadata": {
    "vscode": {
     "languageId": "r"
    }
   },
   "outputs": [],
   "source": [
    "#glimpse(test_data)\n",
    "\n",
    "# Step 1: Create future dataframe for test data\n",
    "future_test_data <- make_future_dataframe(prophet_model, periods = nrow(test_data), freq = \"quarter\") # Testing data: 2021 Q1 to 2024 Q2\n",
    "#future_test_data\n",
    "\n",
    "# Step 2: Make predictions for the test data\n",
    "prediction_test_data <- predict(prophet_model, future_test_data) \n",
    "prediction_test_data$ds <- as.Date(prediction_test_data$ds) #make sure ds is in date format or else merge will fail"
   ]
  },
  {
   "cell_type": "code",
   "execution_count": 399,
   "metadata": {
    "vscode": {
     "languageId": "r"
    }
   },
   "outputs": [
    {
     "data": {
      "text/html": [
       "<table class=\"dataframe\">\n",
       "<caption>A data.frame: 14 × 8</caption>\n",
       "<thead>\n",
       "\t<tr><th scope=col>ds</th><th scope=col>time</th><th scope=col>deposits</th><th scope=col>time_as_date</th><th scope=col>time_as_numeric</th><th scope=col>logistic_trend</th><th scope=col>y</th><th scope=col>yhat</th></tr>\n",
       "\t<tr><th scope=col>&lt;date&gt;</th><th scope=col>&lt;chr&gt;</th><th scope=col>&lt;dbl&gt;</th><th scope=col>&lt;date&gt;</th><th scope=col>&lt;dbl&gt;</th><th scope=col>&lt;dbl&gt;</th><th scope=col>&lt;dbl&gt;</th><th scope=col>&lt;dbl&gt;</th></tr>\n",
       "</thead>\n",
       "<tbody>\n",
       "\t<tr><td>2021-01-01</td><td>2021Q1</td><td>339070926000</td><td>2021-01-01</td><td>18628</td><td>324359036936</td><td>339070926000</td><td>371764496914</td></tr>\n",
       "\t<tr><td>2021-04-01</td><td>2021Q2</td><td>340991443000</td><td>2021-04-01</td><td>18718</td><td>324365839949</td><td>340991443000</td><td>375253433193</td></tr>\n",
       "\t<tr><td>2021-07-01</td><td>2021Q3</td><td>342317919000</td><td>2021-07-01</td><td>18809</td><td>324371929301</td><td>342317919000</td><td>377808219919</td></tr>\n",
       "\t<tr><td>2021-10-01</td><td>2021Q4</td><td>348156945000</td><td>2021-10-01</td><td>18901</td><td>324377371839</td><td>348156945000</td><td>379223672859</td></tr>\n",
       "\t<tr><td>2022-01-01</td><td>2022Q1</td><td>351425943000</td><td>2022-01-01</td><td>18993</td><td>324382180069</td><td>351425943000</td><td>382796490012</td></tr>\n",
       "\t<tr><td>2022-04-01</td><td>2022Q2</td><td>354666330000</td><td>2022-04-01</td><td>19083</td><td>324386341043</td><td>354666330000</td><td>383982465743</td></tr>\n",
       "\t<tr><td>2022-07-01</td><td>2022Q3</td><td>355495449000</td><td>2022-07-01</td><td>19174</td><td>324390065459</td><td>355495449000</td><td>386106556777</td></tr>\n",
       "\t<tr><td>2022-10-01</td><td>2022Q4</td><td>357699656000</td><td>2022-10-01</td><td>19266</td><td>324393394219</td><td>357699656000</td><td>389264027320</td></tr>\n",
       "\t<tr><td>2023-01-01</td><td>2023Q1</td><td>361631019000</td><td>2023-01-01</td><td>19358</td><td>324396334988</td><td>361631019000</td><td>394422515288</td></tr>\n",
       "\t<tr><td>2023-04-01</td><td>2023Q2</td><td>361428409000</td><td>2023-04-01</td><td>19448</td><td>324398879861</td><td>361428409000</td><td>392681974737</td></tr>\n",
       "\t<tr><td>2023-07-01</td><td>2023Q3</td><td>361265548000</td><td>2023-07-01</td><td>19539</td><td>324401157711</td><td>361265548000</td><td>394962677622</td></tr>\n",
       "\t<tr><td>2023-10-01</td><td>2023Q4</td><td>352951195000</td><td>2023-10-01</td><td>19631</td><td>324403193561</td><td>352951195000</td><td>399175539099</td></tr>\n",
       "\t<tr><td>2024-01-01</td><td>2024Q1</td><td>353246439000</td><td>2024-01-01</td><td>19723</td><td>324404992104</td><td>353246439000</td><td>406642585188</td></tr>\n",
       "\t<tr><td>2024-04-01</td><td>2024Q2</td><td>349452050000</td><td>2024-04-01</td><td>19814</td><td>324406564767</td><td>349452050000</td><td>412275898297</td></tr>\n",
       "</tbody>\n",
       "</table>\n"
      ],
      "text/latex": [
       "A data.frame: 14 × 8\n",
       "\\begin{tabular}{llllllll}\n",
       " ds & time & deposits & time\\_as\\_date & time\\_as\\_numeric & logistic\\_trend & y & yhat\\\\\n",
       " <date> & <chr> & <dbl> & <date> & <dbl> & <dbl> & <dbl> & <dbl>\\\\\n",
       "\\hline\n",
       "\t 2021-01-01 & 2021Q1 & 339070926000 & 2021-01-01 & 18628 & 324359036936 & 339070926000 & 371764496914\\\\\n",
       "\t 2021-04-01 & 2021Q2 & 340991443000 & 2021-04-01 & 18718 & 324365839949 & 340991443000 & 375253433193\\\\\n",
       "\t 2021-07-01 & 2021Q3 & 342317919000 & 2021-07-01 & 18809 & 324371929301 & 342317919000 & 377808219919\\\\\n",
       "\t 2021-10-01 & 2021Q4 & 348156945000 & 2021-10-01 & 18901 & 324377371839 & 348156945000 & 379223672859\\\\\n",
       "\t 2022-01-01 & 2022Q1 & 351425943000 & 2022-01-01 & 18993 & 324382180069 & 351425943000 & 382796490012\\\\\n",
       "\t 2022-04-01 & 2022Q2 & 354666330000 & 2022-04-01 & 19083 & 324386341043 & 354666330000 & 383982465743\\\\\n",
       "\t 2022-07-01 & 2022Q3 & 355495449000 & 2022-07-01 & 19174 & 324390065459 & 355495449000 & 386106556777\\\\\n",
       "\t 2022-10-01 & 2022Q4 & 357699656000 & 2022-10-01 & 19266 & 324393394219 & 357699656000 & 389264027320\\\\\n",
       "\t 2023-01-01 & 2023Q1 & 361631019000 & 2023-01-01 & 19358 & 324396334988 & 361631019000 & 394422515288\\\\\n",
       "\t 2023-04-01 & 2023Q2 & 361428409000 & 2023-04-01 & 19448 & 324398879861 & 361428409000 & 392681974737\\\\\n",
       "\t 2023-07-01 & 2023Q3 & 361265548000 & 2023-07-01 & 19539 & 324401157711 & 361265548000 & 394962677622\\\\\n",
       "\t 2023-10-01 & 2023Q4 & 352951195000 & 2023-10-01 & 19631 & 324403193561 & 352951195000 & 399175539099\\\\\n",
       "\t 2024-01-01 & 2024Q1 & 353246439000 & 2024-01-01 & 19723 & 324404992104 & 353246439000 & 406642585188\\\\\n",
       "\t 2024-04-01 & 2024Q2 & 349452050000 & 2024-04-01 & 19814 & 324406564767 & 349452050000 & 412275898297\\\\\n",
       "\\end{tabular}\n"
      ],
      "text/markdown": [
       "\n",
       "A data.frame: 14 × 8\n",
       "\n",
       "| ds &lt;date&gt; | time &lt;chr&gt; | deposits &lt;dbl&gt; | time_as_date &lt;date&gt; | time_as_numeric &lt;dbl&gt; | logistic_trend &lt;dbl&gt; | y &lt;dbl&gt; | yhat &lt;dbl&gt; |\n",
       "|---|---|---|---|---|---|---|---|\n",
       "| 2021-01-01 | 2021Q1 | 339070926000 | 2021-01-01 | 18628 | 324359036936 | 339070926000 | 371764496914 |\n",
       "| 2021-04-01 | 2021Q2 | 340991443000 | 2021-04-01 | 18718 | 324365839949 | 340991443000 | 375253433193 |\n",
       "| 2021-07-01 | 2021Q3 | 342317919000 | 2021-07-01 | 18809 | 324371929301 | 342317919000 | 377808219919 |\n",
       "| 2021-10-01 | 2021Q4 | 348156945000 | 2021-10-01 | 18901 | 324377371839 | 348156945000 | 379223672859 |\n",
       "| 2022-01-01 | 2022Q1 | 351425943000 | 2022-01-01 | 18993 | 324382180069 | 351425943000 | 382796490012 |\n",
       "| 2022-04-01 | 2022Q2 | 354666330000 | 2022-04-01 | 19083 | 324386341043 | 354666330000 | 383982465743 |\n",
       "| 2022-07-01 | 2022Q3 | 355495449000 | 2022-07-01 | 19174 | 324390065459 | 355495449000 | 386106556777 |\n",
       "| 2022-10-01 | 2022Q4 | 357699656000 | 2022-10-01 | 19266 | 324393394219 | 357699656000 | 389264027320 |\n",
       "| 2023-01-01 | 2023Q1 | 361631019000 | 2023-01-01 | 19358 | 324396334988 | 361631019000 | 394422515288 |\n",
       "| 2023-04-01 | 2023Q2 | 361428409000 | 2023-04-01 | 19448 | 324398879861 | 361428409000 | 392681974737 |\n",
       "| 2023-07-01 | 2023Q3 | 361265548000 | 2023-07-01 | 19539 | 324401157711 | 361265548000 | 394962677622 |\n",
       "| 2023-10-01 | 2023Q4 | 352951195000 | 2023-10-01 | 19631 | 324403193561 | 352951195000 | 399175539099 |\n",
       "| 2024-01-01 | 2024Q1 | 353246439000 | 2024-01-01 | 19723 | 324404992104 | 353246439000 | 406642585188 |\n",
       "| 2024-04-01 | 2024Q2 | 349452050000 | 2024-04-01 | 19814 | 324406564767 | 349452050000 | 412275898297 |\n",
       "\n"
      ],
      "text/plain": [
       "   ds         time   deposits     time_as_date time_as_numeric logistic_trend\n",
       "1  2021-01-01 2021Q1 339070926000 2021-01-01   18628           324359036936  \n",
       "2  2021-04-01 2021Q2 340991443000 2021-04-01   18718           324365839949  \n",
       "3  2021-07-01 2021Q3 342317919000 2021-07-01   18809           324371929301  \n",
       "4  2021-10-01 2021Q4 348156945000 2021-10-01   18901           324377371839  \n",
       "5  2022-01-01 2022Q1 351425943000 2022-01-01   18993           324382180069  \n",
       "6  2022-04-01 2022Q2 354666330000 2022-04-01   19083           324386341043  \n",
       "7  2022-07-01 2022Q3 355495449000 2022-07-01   19174           324390065459  \n",
       "8  2022-10-01 2022Q4 357699656000 2022-10-01   19266           324393394219  \n",
       "9  2023-01-01 2023Q1 361631019000 2023-01-01   19358           324396334988  \n",
       "10 2023-04-01 2023Q2 361428409000 2023-04-01   19448           324398879861  \n",
       "11 2023-07-01 2023Q3 361265548000 2023-07-01   19539           324401157711  \n",
       "12 2023-10-01 2023Q4 352951195000 2023-10-01   19631           324403193561  \n",
       "13 2024-01-01 2024Q1 353246439000 2024-01-01   19723           324404992104  \n",
       "14 2024-04-01 2024Q2 349452050000 2024-04-01   19814           324406564767  \n",
       "   y            yhat        \n",
       "1  339070926000 371764496914\n",
       "2  340991443000 375253433193\n",
       "3  342317919000 377808219919\n",
       "4  348156945000 379223672859\n",
       "5  351425943000 382796490012\n",
       "6  354666330000 383982465743\n",
       "7  355495449000 386106556777\n",
       "8  357699656000 389264027320\n",
       "9  361631019000 394422515288\n",
       "10 361428409000 392681974737\n",
       "11 361265548000 394962677622\n",
       "12 352951195000 399175539099\n",
       "13 353246439000 406642585188\n",
       "14 349452050000 412275898297"
      ]
     },
     "metadata": {},
     "output_type": "display_data"
    }
   ],
   "source": [
    "# Step 3: Merge predictions with actual test data: \n",
    "# The merging step combines your actual test data with the predictions generated by Prophet. This creates a single dataframe where you can directly compare the actual (y) and predicted (yhat) values for each time point (ds)\n",
    "prediction_test_results <- merge(test_data, prediction_test_data[, c(\"ds\", \"yhat\")], by = \"ds\")\n",
    "prediction_test_results\n",
    "\n",
    "#test_data\n",
    "#prediction_test_data"
   ]
  },
  {
   "cell_type": "code",
   "execution_count": 400,
   "metadata": {
    "vscode": {
     "languageId": "r"
    }
   },
   "outputs": [
    {
     "data": {
      "image/png": "[encoded data removed]",
      "text/plain": [
       "plot without title"
      ]
     },
     "metadata": {
      "image/png": {
       "height": 420,
       "width": 420
      }
     },
     "output_type": "display_data"
    }
   ],
   "source": [
    "# Step 4: Plot the predictions vs actuals\n",
    "ggplot(prediction_test_results, aes(x = ds)) +\n",
    "  geom_line(aes(y = y, color = \"Actual\"), size = 1) + # Actual test data\n",
    "  geom_line(aes(y = yhat, color = \"Predicted\"), size = 1, linetype = \"dashed\") + # Predictions\n",
    "  labs(\n",
    "    title = \"Predictions vs Actuals on Test Data with Prophet Model\",\n",
    "    x = \"Time\",\n",
    "    y = \"Deposit Levels\",\n",
    "    color = \"Legend\"\n",
    "  ) +\n",
    "  theme_minimal()\n"
   ]
  },
  {
   "cell_type": "markdown",
   "metadata": {},
   "source": [
    "**Observations**\n",
    "- The predicted model (blue dashed line) done with Prophet does not closely align with the test (actual) data from 2021 to 2024. \n",
    "- There's a significant divergence between the actuals and predictions: the model overpredicts significantly in this range, showing an upward trend, whereas the actual values flatten or slightly decrease."
   ]
  },
  {
   "cell_type": "markdown",
   "metadata": {},
   "source": [
    "### Step 2. Compute Perfomance Metrics"
   ]
  },
  {
   "cell_type": "markdown",
   "metadata": {},
   "source": [
    "- Necessary to be able to quantify the discrepancy between the actual data (test data) and the predicted data"
   ]
  },
  {
   "cell_type": "code",
   "execution_count": 401,
   "metadata": {
    "vscode": {
     "languageId": "r"
    }
   },
   "outputs": [
    {
     "data": {
      "text/html": [
       "36897234426.2431"
      ],
      "text/latex": [
       "36897234426.2431"
      ],
      "text/markdown": [
       "36897234426.2431"
      ],
      "text/plain": [
       "[1] 36897234426"
      ]
     },
     "metadata": {},
     "output_type": "display_data"
    },
    {
     "data": {
      "text/html": [
       "38141270819.3228"
      ],
      "text/latex": [
       "38141270819.3228"
      ],
      "text/markdown": [
       "38141270819.3228"
      ],
      "text/plain": [
       "[1] 38141270819"
      ]
     },
     "metadata": {},
     "output_type": "display_data"
    },
    {
     "data": {
      "text/html": [
       "10.4886342786547"
      ],
      "text/latex": [
       "10.4886342786547"
      ],
      "text/markdown": [
       "10.4886342786547"
      ],
      "text/plain": [
       "[1] 10.48863"
      ]
     },
     "metadata": {},
     "output_type": "display_data"
    }
   ],
   "source": [
    "# Mean Absolute Error (MAE)\n",
    "\n",
    "actual <- prediction_test_results$y\n",
    "predicted <- prediction_test_results$yhat\n",
    "\n",
    "MAE_prophet <- mean(abs(actual - predicted))\n",
    "MAE_prophet\n",
    "\n",
    "# Root Mean Squared Error (RMSE)\n",
    "RMSE_prophet <- sqrt(mean((actual - predicted)^2))\n",
    "RMSE_prophet\n",
    "\n",
    "# Mean Absolute Percentage Error (MAPE)\n",
    "MAPE_prophet <- mean(abs(actual - predicted) / actual) * 100\n",
    "MAPE_prophet"
   ]
  },
  {
   "cell_type": "markdown",
   "metadata": {},
   "source": [
    "- MAE = 36897, on average, our model's predictions are off by $36897 (Million) from the actual values.\n",
    "- RMSE = 38141\n",
    "- MAPE = 10%, on average our prediction are off by 10%. "
   ]
  },
  {
   "cell_type": "code",
   "execution_count": null,
   "metadata": {
    "vscode": {
     "languageId": "r"
    }
   },
   "outputs": [],
   "source": []
  },
  {
   "cell_type": "markdown",
   "metadata": {},
   "source": [
    "# Part 5: Adding on External Regressors to the Model"
   ]
  },
  {
   "cell_type": "markdown",
   "metadata": {},
   "source": [
    "## Step 1: Select Relevant Features through domain knowledge\n",
    "\n",
    "- Our goal here is research features that are likely to affect deposit level\n",
    "- To narrow our options we will use a mix of domain knowledge and a LASSO regression to undertand the relationship between deposit and those potential regressors\n",
    "\n",
    "> Here is a list of features through reserach and domain knowledge that I believe most impact deposit levels:\n",
    "- GDP Growth Rate: Stronger economic growth can lead to higher income and savings\n",
    "- Unemployment Rate: Higher unemployment can reduce deposits due to lower income\n",
    "- Consumer Confidence Index: Reflects consumers' willingness to save vs. spend\n",
    "- Population Growth: Larger populations in a region can increase deposit levels over time\n",
    "- 10 Year Treasury Yield: Represent the interest rate environment, directly affecting deposit rates and competing as an alternative safe investment option.\n",
    "- Federal Funds Effective Rate: impacts savings account interest rate\n",
    "- Disposable Personal Income (percent change from year ago): ok\n",
    "- Consumer Price Index (units: growth rate previos period in decimal): measure of inflation rate. Higher inflation may reduce disposable income and savings levels\n"
   ]
  },
  {
   "cell_type": "markdown",
   "metadata": {},
   "source": [
    "## Step 2: Narrow Down Features through LASSO Regression"
   ]
  },
  {
   "cell_type": "markdown",
   "metadata": {},
   "source": []
  },
  {
   "cell_type": "markdown",
   "metadata": {},
   "source": [
    "### A. Prepare the Data\n",
    "\n",
    "- Combine deposit level data and regressors data into one => deposit_regressor_data\n",
    "- Keeping the target variable (Deposit_Levels) untouched.\n",
    "- Ensuring non-regressor columns (e.g., time) are excluded from scaling. time: A timestamp or date column (used for splitting but not for scaling or modeling).\n",
    "- Scaling only the features (regressors). Other columns (GDP_Growth, Unemployment_Rate, Interest_Rate, SP500, etc.): Features to be scaled."
   ]
  },
  {
   "cell_type": "code",
   "execution_count": 402,
   "metadata": {
    "vscode": {
     "languageId": "r"
    }
   },
   "outputs": [
    {
     "data": {
      "text/html": [
       "<table class=\"dataframe\">\n",
       "<caption>A data.frame: 162 × 13</caption>\n",
       "<thead>\n",
       "\t<tr><th scope=col>time_as_date</th><th scope=col>time_as_numeric</th><th scope=col>time</th><th scope=col>deposits</th><th scope=col>logistic_trend</th><th scope=col>population</th><th scope=col>unemployment_rate</th><th scope=col>ConsumerPriceIndex</th><th scope=col>DisposablePersonalIncome</th><th scope=col>Yield</th><th scope=col>fed_rate</th><th scope=col>GDP</th><th scope=col>GDP_growth_rate</th></tr>\n",
       "\t<tr><th scope=col>&lt;date&gt;</th><th scope=col>&lt;dbl&gt;</th><th scope=col>&lt;chr&gt;</th><th scope=col>&lt;dbl&gt;</th><th scope=col>&lt;dbl&gt;</th><th scope=col>&lt;dbl&gt;</th><th scope=col>&lt;dbl&gt;</th><th scope=col>&lt;dbl&gt;</th><th scope=col>&lt;dbl&gt;</th><th scope=col>&lt;dbl&gt;</th><th scope=col>&lt;dbl&gt;</th><th scope=col>&lt;dbl&gt;</th><th scope=col>&lt;dbl&gt;</th></tr>\n",
       "</thead>\n",
       "<tbody>\n",
       "\t<tr><td>1984-01-01</td><td>5113</td><td>1984Q1</td><td>22917257000</td><td> 21838214</td><td>235604667</td><td>0.07866667</td><td> 1.1202636</td><td>10729270000</td><td>0.11943333</td><td>0.09686667</td><td>3.908054e+12</td><td>          NA</td></tr>\n",
       "\t<tr><td>1984-04-01</td><td>5204</td><td>1984Q2</td><td>23575192000</td><td> 24686425</td><td>236082333</td><td>0.07433333</td><td> 1.0752688</td><td>11779660000</td><td>0.13200000</td><td>0.10556667</td><td>4.009601e+12</td><td> 0.025984032</td></tr>\n",
       "\t<tr><td>1984-07-01</td><td>5295</td><td>1984Q3</td><td>24308965000</td><td> 27906077</td><td>236657333</td><td>0.07433333</td><td> 1.0960671</td><td>10982020000</td><td>0.12866667</td><td>0.11390000</td><td>4.084250e+12</td><td> 0.018617563</td></tr>\n",
       "\t<tr><td>1984-10-01</td><td>5387</td><td>1984Q4</td><td>24967964000</td><td> 31588126</td><td>237232667</td><td>0.07300000</td><td> 0.7334184</td><td> 9470080000</td><td>0.11743333</td><td>0.09266667</td><td>4.148551e+12</td><td> 0.015743649</td></tr>\n",
       "\t<tr><td>1985-01-01</td><td>5479</td><td>1985Q1</td><td>25673746000</td><td> 35755947</td><td>237672667</td><td>0.07233333</td><td> 0.6331117</td><td> 7253910000</td><td>0.11583333</td><td>0.08476667</td><td>4.230168e+12</td><td> 0.019673616</td></tr>\n",
       "\t<tr><td>1985-04-01</td><td>5569</td><td>1985Q2</td><td>26941332000</td><td> 40364715</td><td>238175667</td><td>0.07300000</td><td> 1.2268009</td><td> 7486790000</td><td>0.10813333</td><td>0.07923333</td><td>4.294887e+12</td><td> 0.015299392</td></tr>\n",
       "\t<tr><td>1985-07-01</td><td>5660</td><td>1985Q3</td><td>27141405000</td><td> 45628873</td><td>238789333</td><td>0.07200000</td><td> 0.7147296</td><td> 5819840000</td><td>0.10336667</td><td>0.07900000</td><td>4.386773e+12</td><td> 0.021394276</td></tr>\n",
       "\t<tr><td>1985-10-01</td><td>5752</td><td>1985Q4</td><td>27133355000</td><td> 51648972</td><td>239386667</td><td>0.07033333</td><td> 0.8947856</td><td> 6193650000</td><td>0.09760000</td><td>0.08103333</td><td>4.444094e+12</td><td> 0.013066781</td></tr>\n",
       "\t<tr><td>1986-01-01</td><td>5844</td><td>1986Q1</td><td>28651198000</td><td> 58463197</td><td>239860667</td><td>0.07033333</td><td> 0.2140673</td><td> 7391500000</td><td>0.08556667</td><td>0.07826667</td><td>4.507894e+12</td><td> 0.014356132</td></tr>\n",
       "\t<tr><td>1986-04-01</td><td>5934</td><td>1986Q2</td><td>29041646000</td><td> 65998225</td><td>240367667</td><td>0.07166667</td><td>-0.2136100</td><td> 5646760000</td><td>0.07603333</td><td>0.06920000</td><td>4.545340e+12</td><td> 0.008306761</td></tr>\n",
       "\t<tr><td>1986-07-01</td><td>6025</td><td>1986Q3</td><td>29089391000</td><td> 74604603</td><td>240961667</td><td>0.06966667</td><td> 0.7339450</td><td> 6259350000</td><td>0.07306667</td><td>0.06206667</td><td>4.607669e+12</td><td> 0.013712726</td></tr>\n",
       "\t<tr><td>1986-10-01</td><td>6117</td><td>1986Q4</td><td>28841488000</td><td> 84446655</td><td>241539000</td><td>0.06833333</td><td> 0.5464481</td><td> 5019150000</td><td>0.07263333</td><td>0.06266667</td><td>4.657627e+12</td><td> 0.010842359</td></tr>\n",
       "\t<tr><td>1987-01-01</td><td>6209</td><td>1987Q1</td><td>28715469000</td><td> 95586715</td><td>242009333</td><td>0.06600000</td><td> 1.1171498</td><td> 4623120000</td><td>0.07193333</td><td>0.06220000</td><td>4.722156e+12</td><td> 0.013854480</td></tr>\n",
       "\t<tr><td>1987-04-01</td><td>6299</td><td>1987Q2</td><td>30084121000</td><td>107904815</td><td>242520000</td><td>0.06266667</td><td> 1.3138250</td><td> 3350880000</td><td>0.08343333</td><td>0.06650000</td><td>4.806160e+12</td><td> 0.017789332</td></tr>\n",
       "\t<tr><td>1987-07-01</td><td>6390</td><td>1987Q3</td><td>30114432000</td><td>121973891</td><td>243120333</td><td>0.06000000</td><td> 1.1494253</td><td> 5058160000</td><td>0.08876667</td><td>0.06843333</td><td>4.884555e+12</td><td> 0.016311359</td></tr>\n",
       "\t<tr><td>1987-10-01</td><td>6482</td><td>1987Q4</td><td>30112629000</td><td>138062373</td><td>243720667</td><td>0.05833333</td><td> 0.8449883</td><td> 6832670000</td><td>0.09123333</td><td>0.06916667</td><td>5.007994e+12</td><td> 0.025271289</td></tr>\n",
       "\t<tr><td>1988-01-01</td><td>6574</td><td>1988Q1</td><td>29670701000</td><td>156271920</td><td>244207667</td><td>0.05700000</td><td> 0.6067611</td><td> 7629040000</td><td>0.08416667</td><td>0.06663333</td><td>5.073372e+12</td><td> 0.013054728</td></tr>\n",
       "\t<tr><td>1988-04-01</td><td>6665</td><td>1988Q2</td><td>30050617000</td><td>176643864</td><td>244716667</td><td>0.05466667</td><td> 1.2636416</td><td>10148590000</td><td>0.08910000</td><td>0.07156667</td><td>5.190036e+12</td><td> 0.022995357</td></tr>\n",
       "\t<tr><td>1988-07-01</td><td>6756</td><td>1988Q3</td><td>28929456000</td><td>199669903</td><td>245354000</td><td>0.05466667</td><td> 1.3329552</td><td> 9616820000</td><td>0.09100000</td><td>0.07983333</td><td>5.282835e+12</td><td> 0.017880223</td></tr>\n",
       "\t<tr><td>1988-10-01</td><td>6848</td><td>1988Q4</td><td>27407592000</td><td>225999427</td><td>245966333</td><td>0.05333333</td><td> 1.0355444</td><td> 9249320000</td><td>0.08956667</td><td>0.08470000</td><td>5.399509e+12</td><td> 0.022085490</td></tr>\n",
       "\t<tr><td>1989-01-01</td><td>6940</td><td>1989Q1</td><td>22463251000</td><td>255798162</td><td>246460333</td><td>0.05200000</td><td> 1.1080332</td><td> 9032890000</td><td>0.09206667</td><td>0.09443333</td><td>5.511253e+12</td><td> 0.020695215</td></tr>\n",
       "\t<tr><td>1989-04-01</td><td>7030</td><td>1989Q2</td><td>22035364000</td><td>288744063</td><td>247017333</td><td>0.05233333</td><td> 1.6438356</td><td> 7705630000</td><td>0.08773333</td><td>0.09726667</td><td>5.612463e+12</td><td> 0.018364245</td></tr>\n",
       "\t<tr><td>1989-07-01</td><td>7121</td><td>1989Q3</td><td>20782366000</td><td>326367979</td><td>247698333</td><td>0.05233333</td><td> 0.8086253</td><td> 6642920000</td><td>0.08106667</td><td>0.09083333</td><td>5.695365e+12</td><td> 0.014771055</td></tr>\n",
       "\t<tr><td>1989-10-01</td><td>7213</td><td>1989Q4</td><td>18774087000</td><td>369385545</td><td>248374333</td><td>0.05366667</td><td> 0.9625668</td><td> 6309660000</td><td>0.07906667</td><td>0.08613333</td><td>5.747237e+12</td><td> 0.009107757</td></tr>\n",
       "\t<tr><td>1990-01-01</td><td>7305</td><td>1990Q1</td><td>17379316000</td><td>418065810</td><td>248936333</td><td>0.05300000</td><td> 1.7213983</td><td> 6330230000</td><td>0.08423333</td><td>0.08250000</td><td>5.872701e+12</td><td> 0.021830316</td></tr>\n",
       "\t<tr><td>1990-04-01</td><td>7395</td><td>1990Q2</td><td>17271554000</td><td>471880788</td><td>249711000</td><td>0.05333333</td><td> 1.0153606</td><td> 7001820000</td><td>0.08676667</td><td>0.08243333</td><td>5.960028e+12</td><td> 0.014869989</td></tr>\n",
       "\t<tr><td>1990-07-01</td><td>7486</td><td>1990Q3</td><td>17116974000</td><td>533328513</td><td>250594667</td><td>0.05700000</td><td> 1.7268041</td><td> 7034680000</td><td>0.08703333</td><td>0.08160000</td><td>6.015116e+12</td><td> 0.009242910</td></tr>\n",
       "\t<tr><td>1990-10-01</td><td>7578</td><td>1990Q4</td><td>16174668000</td><td>603574110</td><td>251481667</td><td>0.06133333</td><td> 1.6214847</td><td> 5831290000</td><td>0.08396667</td><td>0.07743333</td><td>6.004733e+12</td><td>-0.001726151</td></tr>\n",
       "\t<tr><td>1991-01-01</td><td>7670</td><td>1991Q1</td><td>15608863000</td><td>683052362</td><td>252257333</td><td>0.06600000</td><td> 0.8227375</td><td> 4349260000</td><td>0.08016667</td><td>0.06426667</td><td>6.035178e+12</td><td> 0.005070167</td></tr>\n",
       "\t<tr><td>1991-04-01</td><td>7760</td><td>1991Q2</td><td>14608075000</td><td>770896232</td><td>253062667</td><td>0.06833333</td><td> 0.5934718</td><td> 3986460000</td><td>0.08130000</td><td>0.05863333</td><td>6.126862e+12</td><td> 0.015191598</td></tr>\n",
       "\t<tr><td>⋮</td><td>⋮</td><td>⋮</td><td>⋮</td><td>⋮</td><td>⋮</td><td>⋮</td><td>⋮</td><td>⋮</td><td>⋮</td><td>⋮</td><td>⋮</td><td>⋮</td></tr>\n",
       "\t<tr><td>2017-01-01</td><td>17167</td><td>2017Q1</td><td>308433213000</td><td>323992539783</td><td>326052667</td><td>0.04566667</td><td> 0.79073696</td><td> 4140810000</td><td>0.024433333</td><td>0.0070000000</td><td>1.928008e+13</td><td> 0.009990110</td></tr>\n",
       "\t<tr><td>2017-04-01</td><td>17257</td><td>2017Q2</td><td>315746028000</td><td>324041137871</td><td>326554000</td><td>0.04366667</td><td> 0.54351771</td><td> 5035230000</td><td>0.022633333</td><td>0.0095000000</td><td>1.943864e+13</td><td> 0.008223979</td></tr>\n",
       "\t<tr><td>2017-07-01</td><td>17348</td><td>2017Q3</td><td>317660727000</td><td>324084648477</td><td>327140333</td><td>0.04333333</td><td> 0.39661569</td><td> 5183240000</td><td>0.022433333</td><td>0.0115333333</td><td>1.969260e+13</td><td> 0.013064286</td></tr>\n",
       "\t<tr><td>2017-10-01</td><td>17440</td><td>2017Q4</td><td>322350768000</td><td>324123545875</td><td>327691667</td><td>0.04166667</td><td> 0.37062964</td><td> 5299520000</td><td>0.023700000</td><td>0.0120333333</td><td>2.003709e+13</td><td> 0.017493530</td></tr>\n",
       "\t<tr><td>2018-01-01</td><td>17532</td><td>2018Q1</td><td>325714789000</td><td>324157916602</td><td>328091000</td><td>0.04033333</td><td> 0.88611838</td><td> 5434620000</td><td>0.027600000</td><td>0.0144666667</td><td>2.032855e+13</td><td> 0.014546275</td></tr>\n",
       "\t<tr><td>2018-04-01</td><td>17622</td><td>2018Q2</td><td>327804206000</td><td>324187665609</td><td>328525667</td><td>0.03933333</td><td> 1.03307557</td><td> 5573150000</td><td>0.029200000</td><td>0.0173666667</td><td>2.058091e+13</td><td> 0.012414017</td></tr>\n",
       "\t<tr><td>2018-07-01</td><td>17713</td><td>2018Q3</td><td>331039546000</td><td>324214297406</td><td>329039667</td><td>0.03766667</td><td> 0.32726757</td><td> 5928130000</td><td>0.029266667</td><td>0.0192333333</td><td>2.079873e+13</td><td> 0.010583496</td></tr>\n",
       "\t<tr><td>2018-10-01</td><td>17805</td><td>2018Q4</td><td>334393555000</td><td>324238103221</td><td>329521667</td><td>0.03833333</td><td>-0.05749474</td><td> 6046360000</td><td>0.030333333</td><td>0.0222000000</td><td>2.091787e+13</td><td> 0.005728090</td></tr>\n",
       "\t<tr><td>2019-01-01</td><td>17897</td><td>2019Q1</td><td>337239215000</td><td>324259136796</td><td>329868333</td><td>0.03866667</td><td> 0.33511603</td><td> 5710890000</td><td>0.026533333</td><td>0.0240333333</td><td>2.111160e+13</td><td> 0.009261604</td></tr>\n",
       "\t<tr><td>2019-04-01</td><td>17987</td><td>2019Q2</td><td>338841270000</td><td>324277340656</td><td>330245333</td><td>0.03633333</td><td> 1.19851323</td><td> 4729290000</td><td>0.023333333</td><td>0.0239666667</td><td>2.139794e+13</td><td> 0.013563065</td></tr>\n",
       "\t<tr><td>2019-07-01</td><td>18078</td><td>2019Q3</td><td>338626199000</td><td>324293635949</td><td>330728667</td><td>0.03600000</td><td> 0.27416601</td><td> 4234170000</td><td>0.017966667</td><td>0.0219000000</td><td>2.171717e+13</td><td> 0.014918867</td></tr>\n",
       "\t<tr><td>2019-10-01</td><td>18170</td><td>2019Q4</td><td>349600055000</td><td>324308201218</td><td>331208000</td><td>0.03600000</td><td> 0.21301800</td><td> 3758380000</td><td>0.017933333</td><td>0.0164333333</td><td>2.193322e+13</td><td> 0.009948165</td></tr>\n",
       "\t<tr><td>2020-01-01</td><td>18262</td><td>2020Q1</td><td>341691380000</td><td>324321069638</td><td>331536667</td><td>0.03833333</td><td> 0.41942742</td><td> 3276590000</td><td>0.013766667</td><td>0.0126000000</td><td>2.172766e+13</td><td>-0.009372086</td></tr>\n",
       "\t<tr><td>2020-04-01</td><td>18353</td><td>2020Q2</td><td>339227043000</td><td>324332322621</td><td>331714667</td><td>0.13000000</td><td>-0.54003542</td><td>12515970000</td><td>0.006866667</td><td>0.0006000000</td><td>1.993544e+13</td><td>-0.082485332</td></tr>\n",
       "\t<tr><td>2020-07-01</td><td>18444</td><td>2020Q3</td><td>338020161000</td><td>324342277848</td><td>331887333</td><td>0.08800000</td><td> 1.13148537</td><td> 8408110000</td><td>0.006500000</td><td>0.0009333333</td><td>2.168455e+13</td><td> 0.087738552</td></tr>\n",
       "\t<tr><td>2020-10-01</td><td>18536</td><td>2020Q4</td><td>339166813000</td><td>324351175827</td><td>332060667</td><td>0.06733333</td><td> 0.22995025</td><td> 5751550000</td><td>0.008633333</td><td>0.0009000000</td><td>2.206877e+13</td><td> 0.017718421</td></tr>\n",
       "\t<tr><td>2021-01-01</td><td>18628</td><td>2021Q1</td><td>339070926000</td><td>324359036936</td><td>332004333</td><td>0.06233333</td><td> 1.07311440</td><td>18680340000</td><td>0.013166667</td><td>0.0008000000</td><td>2.265679e+13</td><td> 0.026645168</td></tr>\n",
       "\t<tr><td>2021-04-01</td><td>18718</td><td>2021Q2</td><td>340991443000</td><td>324365839949</td><td>332166333</td><td>0.05933333</td><td> 2.33978869</td><td> 1505510000</td><td>0.015933333</td><td>0.0007000000</td><td>2.336886e+13</td><td> 0.031428455</td></tr>\n",
       "\t<tr><td>2021-07-01</td><td>18809</td><td>2021Q3</td><td>342317919000</td><td>324371929301</td><td>332497000</td><td>0.05066667</td><td> 1.60097531</td><td> 4622050000</td><td>0.013233333</td><td>0.0009000000</td><td>2.392199e+13</td><td> 0.023669532</td></tr>\n",
       "\t<tr><td>2021-10-01</td><td>18901</td><td>2021Q4</td><td>348156945000</td><td>324377371839</td><td>332801667</td><td>0.04166667</td><td> 1.51776143</td><td> 6859340000</td><td>0.015366667</td><td>0.0008000000</td><td>2.477704e+13</td><td> 0.035743137</td></tr>\n",
       "\t<tr><td>2022-01-01</td><td>18993</td><td>2022Q1</td><td>351425943000</td><td>324382180069</td><td>332990667</td><td>0.03800000</td><td> 2.28346447</td><td>-6652650000</td><td>0.019400000</td><td>0.0012000000</td><td>2.521549e+13</td><td> 0.017695941</td></tr>\n",
       "\t<tr><td>2022-04-01</td><td>19083</td><td>2022Q2</td><td>354666330000</td><td>324386341043</td><td>333319667</td><td>0.03633333</td><td> 2.97383290</td><td> 1069950000</td><td>0.029300000</td><td>0.0077000000</td><td>2.580579e+13</td><td> 0.023410212</td></tr>\n",
       "\t<tr><td>2022-07-01</td><td>19174</td><td>2022Q3</td><td>355495449000</td><td>324390065459</td><td>333762000</td><td>0.03533333</td><td> 1.31466215</td><td> 3674510000</td><td>0.031066667</td><td>0.0219000000</td><td>2.627201e+13</td><td> 0.018066487</td></tr>\n",
       "\t<tr><td>2022-10-01</td><td>19266</td><td>2022Q4</td><td>357699656000</td><td>324393394219</td><td>334201000</td><td>0.03566667</td><td> 0.36716128</td><td> 5139560000</td><td>0.038300000</td><td>0.0365333333</td><td>2.673428e+13</td><td> 0.017595379</td></tr>\n",
       "\t<tr><td>2023-01-01</td><td>19358</td><td>2023Q1</td><td>361631019000</td><td>324396334988</td><td>334547000</td><td>0.03500000</td><td> 1.04490656</td><td>10073050000</td><td>0.036466667</td><td>0.0451666667</td><td>2.716436e+13</td><td> 0.016087287</td></tr>\n",
       "\t<tr><td>2023-04-01</td><td>19448</td><td>2023Q2</td><td>361428409000</td><td>324398879861</td><td>334933667</td><td>0.03566667</td><td> 1.19233217</td><td>10265010000</td><td>0.035933333</td><td>0.0499000000</td><td>2.745382e+13</td><td> 0.010655727</td></tr>\n",
       "\t<tr><td>2023-07-01</td><td>19539</td><td>2023Q3</td><td>361265548000</td><td>324401157711</td><td>335430333</td><td>0.03700000</td><td> 0.86642655</td><td> 8343430000</td><td>0.041500000</td><td>0.0526000000</td><td>2.796770e+13</td><td> 0.018718054</td></tr>\n",
       "\t<tr><td>2023-10-01</td><td>19631</td><td>2023Q4</td><td>352951195000</td><td>324403193561</td><td>335922667</td><td>0.03733333</td><td> 0.10450774</td><td> 7567190000</td><td>0.044400000</td><td>0.0533000000</td><td>2.829697e+13</td><td> 0.011773225</td></tr>\n",
       "\t<tr><td>2024-01-01</td><td>19723</td><td>2024Q1</td><td>353246439000</td><td>324404992104</td><td>336307667</td><td>0.03800000</td><td> 1.04257554</td><td> 6112900000</td><td>0.041600000</td><td>0.0533000000</td><td>2.862407e+13</td><td> 0.011559613</td></tr>\n",
       "\t<tr><td>2024-04-01</td><td>19814</td><td>2024Q2</td><td>349452050000</td><td>324406564767</td><td>336692000</td><td>0.04000000</td><td>         NA</td><td> 5416660000</td><td>0.044433333</td><td>0.0533000000</td><td>2.901671e+13</td><td> 0.013717302</td></tr>\n",
       "</tbody>\n",
       "</table>\n"
      ],
      "text/latex": [
       "A data.frame: 162 × 13\n",
       "\\begin{tabular}{lllllllllllll}\n",
       " time\\_as\\_date & time\\_as\\_numeric & time & deposits & logistic\\_trend & population & unemployment\\_rate & ConsumerPriceIndex & DisposablePersonalIncome & Yield & fed\\_rate & GDP & GDP\\_growth\\_rate\\\\\n",
       " <date> & <dbl> & <chr> & <dbl> & <dbl> & <dbl> & <dbl> & <dbl> & <dbl> & <dbl> & <dbl> & <dbl> & <dbl>\\\\\n",
       "\\hline\n",
       "\t 1984-01-01 & 5113 & 1984Q1 & 22917257000 &  21838214 & 235604667 & 0.07866667 &  1.1202636 & 10729270000 & 0.11943333 & 0.09686667 & 3.908054e+12 &           NA\\\\\n",
       "\t 1984-04-01 & 5204 & 1984Q2 & 23575192000 &  24686425 & 236082333 & 0.07433333 &  1.0752688 & 11779660000 & 0.13200000 & 0.10556667 & 4.009601e+12 &  0.025984032\\\\\n",
       "\t 1984-07-01 & 5295 & 1984Q3 & 24308965000 &  27906077 & 236657333 & 0.07433333 &  1.0960671 & 10982020000 & 0.12866667 & 0.11390000 & 4.084250e+12 &  0.018617563\\\\\n",
       "\t 1984-10-01 & 5387 & 1984Q4 & 24967964000 &  31588126 & 237232667 & 0.07300000 &  0.7334184 &  9470080000 & 0.11743333 & 0.09266667 & 4.148551e+12 &  0.015743649\\\\\n",
       "\t 1985-01-01 & 5479 & 1985Q1 & 25673746000 &  35755947 & 237672667 & 0.07233333 &  0.6331117 &  7253910000 & 0.11583333 & 0.08476667 & 4.230168e+12 &  0.019673616\\\\\n",
       "\t 1985-04-01 & 5569 & 1985Q2 & 26941332000 &  40364715 & 238175667 & 0.07300000 &  1.2268009 &  7486790000 & 0.10813333 & 0.07923333 & 4.294887e+12 &  0.015299392\\\\\n",
       "\t 1985-07-01 & 5660 & 1985Q3 & 27141405000 &  45628873 & 238789333 & 0.07200000 &  0.7147296 &  5819840000 & 0.10336667 & 0.07900000 & 4.386773e+12 &  0.021394276\\\\\n",
       "\t 1985-10-01 & 5752 & 1985Q4 & 27133355000 &  51648972 & 239386667 & 0.07033333 &  0.8947856 &  6193650000 & 0.09760000 & 0.08103333 & 4.444094e+12 &  0.013066781\\\\\n",
       "\t 1986-01-01 & 5844 & 1986Q1 & 28651198000 &  58463197 & 239860667 & 0.07033333 &  0.2140673 &  7391500000 & 0.08556667 & 0.07826667 & 4.507894e+12 &  0.014356132\\\\\n",
       "\t 1986-04-01 & 5934 & 1986Q2 & 29041646000 &  65998225 & 240367667 & 0.07166667 & -0.2136100 &  5646760000 & 0.07603333 & 0.06920000 & 4.545340e+12 &  0.008306761\\\\\n",
       "\t 1986-07-01 & 6025 & 1986Q3 & 29089391000 &  74604603 & 240961667 & 0.06966667 &  0.7339450 &  6259350000 & 0.07306667 & 0.06206667 & 4.607669e+12 &  0.013712726\\\\\n",
       "\t 1986-10-01 & 6117 & 1986Q4 & 28841488000 &  84446655 & 241539000 & 0.06833333 &  0.5464481 &  5019150000 & 0.07263333 & 0.06266667 & 4.657627e+12 &  0.010842359\\\\\n",
       "\t 1987-01-01 & 6209 & 1987Q1 & 28715469000 &  95586715 & 242009333 & 0.06600000 &  1.1171498 &  4623120000 & 0.07193333 & 0.06220000 & 4.722156e+12 &  0.013854480\\\\\n",
       "\t 1987-04-01 & 6299 & 1987Q2 & 30084121000 & 107904815 & 242520000 & 0.06266667 &  1.3138250 &  3350880000 & 0.08343333 & 0.06650000 & 4.806160e+12 &  0.017789332\\\\\n",
       "\t 1987-07-01 & 6390 & 1987Q3 & 30114432000 & 121973891 & 243120333 & 0.06000000 &  1.1494253 &  5058160000 & 0.08876667 & 0.06843333 & 4.884555e+12 &  0.016311359\\\\\n",
       "\t 1987-10-01 & 6482 & 1987Q4 & 30112629000 & 138062373 & 243720667 & 0.05833333 &  0.8449883 &  6832670000 & 0.09123333 & 0.06916667 & 5.007994e+12 &  0.025271289\\\\\n",
       "\t 1988-01-01 & 6574 & 1988Q1 & 29670701000 & 156271920 & 244207667 & 0.05700000 &  0.6067611 &  7629040000 & 0.08416667 & 0.06663333 & 5.073372e+12 &  0.013054728\\\\\n",
       "\t 1988-04-01 & 6665 & 1988Q2 & 30050617000 & 176643864 & 244716667 & 0.05466667 &  1.2636416 & 10148590000 & 0.08910000 & 0.07156667 & 5.190036e+12 &  0.022995357\\\\\n",
       "\t 1988-07-01 & 6756 & 1988Q3 & 28929456000 & 199669903 & 245354000 & 0.05466667 &  1.3329552 &  9616820000 & 0.09100000 & 0.07983333 & 5.282835e+12 &  0.017880223\\\\\n",
       "\t 1988-10-01 & 6848 & 1988Q4 & 27407592000 & 225999427 & 245966333 & 0.05333333 &  1.0355444 &  9249320000 & 0.08956667 & 0.08470000 & 5.399509e+12 &  0.022085490\\\\\n",
       "\t 1989-01-01 & 6940 & 1989Q1 & 22463251000 & 255798162 & 246460333 & 0.05200000 &  1.1080332 &  9032890000 & 0.09206667 & 0.09443333 & 5.511253e+12 &  0.020695215\\\\\n",
       "\t 1989-04-01 & 7030 & 1989Q2 & 22035364000 & 288744063 & 247017333 & 0.05233333 &  1.6438356 &  7705630000 & 0.08773333 & 0.09726667 & 5.612463e+12 &  0.018364245\\\\\n",
       "\t 1989-07-01 & 7121 & 1989Q3 & 20782366000 & 326367979 & 247698333 & 0.05233333 &  0.8086253 &  6642920000 & 0.08106667 & 0.09083333 & 5.695365e+12 &  0.014771055\\\\\n",
       "\t 1989-10-01 & 7213 & 1989Q4 & 18774087000 & 369385545 & 248374333 & 0.05366667 &  0.9625668 &  6309660000 & 0.07906667 & 0.08613333 & 5.747237e+12 &  0.009107757\\\\\n",
       "\t 1990-01-01 & 7305 & 1990Q1 & 17379316000 & 418065810 & 248936333 & 0.05300000 &  1.7213983 &  6330230000 & 0.08423333 & 0.08250000 & 5.872701e+12 &  0.021830316\\\\\n",
       "\t 1990-04-01 & 7395 & 1990Q2 & 17271554000 & 471880788 & 249711000 & 0.05333333 &  1.0153606 &  7001820000 & 0.08676667 & 0.08243333 & 5.960028e+12 &  0.014869989\\\\\n",
       "\t 1990-07-01 & 7486 & 1990Q3 & 17116974000 & 533328513 & 250594667 & 0.05700000 &  1.7268041 &  7034680000 & 0.08703333 & 0.08160000 & 6.015116e+12 &  0.009242910\\\\\n",
       "\t 1990-10-01 & 7578 & 1990Q4 & 16174668000 & 603574110 & 251481667 & 0.06133333 &  1.6214847 &  5831290000 & 0.08396667 & 0.07743333 & 6.004733e+12 & -0.001726151\\\\\n",
       "\t 1991-01-01 & 7670 & 1991Q1 & 15608863000 & 683052362 & 252257333 & 0.06600000 &  0.8227375 &  4349260000 & 0.08016667 & 0.06426667 & 6.035178e+12 &  0.005070167\\\\\n",
       "\t 1991-04-01 & 7760 & 1991Q2 & 14608075000 & 770896232 & 253062667 & 0.06833333 &  0.5934718 &  3986460000 & 0.08130000 & 0.05863333 & 6.126862e+12 &  0.015191598\\\\\n",
       "\t ⋮ & ⋮ & ⋮ & ⋮ & ⋮ & ⋮ & ⋮ & ⋮ & ⋮ & ⋮ & ⋮ & ⋮ & ⋮\\\\\n",
       "\t 2017-01-01 & 17167 & 2017Q1 & 308433213000 & 323992539783 & 326052667 & 0.04566667 &  0.79073696 &  4140810000 & 0.024433333 & 0.0070000000 & 1.928008e+13 &  0.009990110\\\\\n",
       "\t 2017-04-01 & 17257 & 2017Q2 & 315746028000 & 324041137871 & 326554000 & 0.04366667 &  0.54351771 &  5035230000 & 0.022633333 & 0.0095000000 & 1.943864e+13 &  0.008223979\\\\\n",
       "\t 2017-07-01 & 17348 & 2017Q3 & 317660727000 & 324084648477 & 327140333 & 0.04333333 &  0.39661569 &  5183240000 & 0.022433333 & 0.0115333333 & 1.969260e+13 &  0.013064286\\\\\n",
       "\t 2017-10-01 & 17440 & 2017Q4 & 322350768000 & 324123545875 & 327691667 & 0.04166667 &  0.37062964 &  5299520000 & 0.023700000 & 0.0120333333 & 2.003709e+13 &  0.017493530\\\\\n",
       "\t 2018-01-01 & 17532 & 2018Q1 & 325714789000 & 324157916602 & 328091000 & 0.04033333 &  0.88611838 &  5434620000 & 0.027600000 & 0.0144666667 & 2.032855e+13 &  0.014546275\\\\\n",
       "\t 2018-04-01 & 17622 & 2018Q2 & 327804206000 & 324187665609 & 328525667 & 0.03933333 &  1.03307557 &  5573150000 & 0.029200000 & 0.0173666667 & 2.058091e+13 &  0.012414017\\\\\n",
       "\t 2018-07-01 & 17713 & 2018Q3 & 331039546000 & 324214297406 & 329039667 & 0.03766667 &  0.32726757 &  5928130000 & 0.029266667 & 0.0192333333 & 2.079873e+13 &  0.010583496\\\\\n",
       "\t 2018-10-01 & 17805 & 2018Q4 & 334393555000 & 324238103221 & 329521667 & 0.03833333 & -0.05749474 &  6046360000 & 0.030333333 & 0.0222000000 & 2.091787e+13 &  0.005728090\\\\\n",
       "\t 2019-01-01 & 17897 & 2019Q1 & 337239215000 & 324259136796 & 329868333 & 0.03866667 &  0.33511603 &  5710890000 & 0.026533333 & 0.0240333333 & 2.111160e+13 &  0.009261604\\\\\n",
       "\t 2019-04-01 & 17987 & 2019Q2 & 338841270000 & 324277340656 & 330245333 & 0.03633333 &  1.19851323 &  4729290000 & 0.023333333 & 0.0239666667 & 2.139794e+13 &  0.013563065\\\\\n",
       "\t 2019-07-01 & 18078 & 2019Q3 & 338626199000 & 324293635949 & 330728667 & 0.03600000 &  0.27416601 &  4234170000 & 0.017966667 & 0.0219000000 & 2.171717e+13 &  0.014918867\\\\\n",
       "\t 2019-10-01 & 18170 & 2019Q4 & 349600055000 & 324308201218 & 331208000 & 0.03600000 &  0.21301800 &  3758380000 & 0.017933333 & 0.0164333333 & 2.193322e+13 &  0.009948165\\\\\n",
       "\t 2020-01-01 & 18262 & 2020Q1 & 341691380000 & 324321069638 & 331536667 & 0.03833333 &  0.41942742 &  3276590000 & 0.013766667 & 0.0126000000 & 2.172766e+13 & -0.009372086\\\\\n",
       "\t 2020-04-01 & 18353 & 2020Q2 & 339227043000 & 324332322621 & 331714667 & 0.13000000 & -0.54003542 & 12515970000 & 0.006866667 & 0.0006000000 & 1.993544e+13 & -0.082485332\\\\\n",
       "\t 2020-07-01 & 18444 & 2020Q3 & 338020161000 & 324342277848 & 331887333 & 0.08800000 &  1.13148537 &  8408110000 & 0.006500000 & 0.0009333333 & 2.168455e+13 &  0.087738552\\\\\n",
       "\t 2020-10-01 & 18536 & 2020Q4 & 339166813000 & 324351175827 & 332060667 & 0.06733333 &  0.22995025 &  5751550000 & 0.008633333 & 0.0009000000 & 2.206877e+13 &  0.017718421\\\\\n",
       "\t 2021-01-01 & 18628 & 2021Q1 & 339070926000 & 324359036936 & 332004333 & 0.06233333 &  1.07311440 & 18680340000 & 0.013166667 & 0.0008000000 & 2.265679e+13 &  0.026645168\\\\\n",
       "\t 2021-04-01 & 18718 & 2021Q2 & 340991443000 & 324365839949 & 332166333 & 0.05933333 &  2.33978869 &  1505510000 & 0.015933333 & 0.0007000000 & 2.336886e+13 &  0.031428455\\\\\n",
       "\t 2021-07-01 & 18809 & 2021Q3 & 342317919000 & 324371929301 & 332497000 & 0.05066667 &  1.60097531 &  4622050000 & 0.013233333 & 0.0009000000 & 2.392199e+13 &  0.023669532\\\\\n",
       "\t 2021-10-01 & 18901 & 2021Q4 & 348156945000 & 324377371839 & 332801667 & 0.04166667 &  1.51776143 &  6859340000 & 0.015366667 & 0.0008000000 & 2.477704e+13 &  0.035743137\\\\\n",
       "\t 2022-01-01 & 18993 & 2022Q1 & 351425943000 & 324382180069 & 332990667 & 0.03800000 &  2.28346447 & -6652650000 & 0.019400000 & 0.0012000000 & 2.521549e+13 &  0.017695941\\\\\n",
       "\t 2022-04-01 & 19083 & 2022Q2 & 354666330000 & 324386341043 & 333319667 & 0.03633333 &  2.97383290 &  1069950000 & 0.029300000 & 0.0077000000 & 2.580579e+13 &  0.023410212\\\\\n",
       "\t 2022-07-01 & 19174 & 2022Q3 & 355495449000 & 324390065459 & 333762000 & 0.03533333 &  1.31466215 &  3674510000 & 0.031066667 & 0.0219000000 & 2.627201e+13 &  0.018066487\\\\\n",
       "\t 2022-10-01 & 19266 & 2022Q4 & 357699656000 & 324393394219 & 334201000 & 0.03566667 &  0.36716128 &  5139560000 & 0.038300000 & 0.0365333333 & 2.673428e+13 &  0.017595379\\\\\n",
       "\t 2023-01-01 & 19358 & 2023Q1 & 361631019000 & 324396334988 & 334547000 & 0.03500000 &  1.04490656 & 10073050000 & 0.036466667 & 0.0451666667 & 2.716436e+13 &  0.016087287\\\\\n",
       "\t 2023-04-01 & 19448 & 2023Q2 & 361428409000 & 324398879861 & 334933667 & 0.03566667 &  1.19233217 & 10265010000 & 0.035933333 & 0.0499000000 & 2.745382e+13 &  0.010655727\\\\\n",
       "\t 2023-07-01 & 19539 & 2023Q3 & 361265548000 & 324401157711 & 335430333 & 0.03700000 &  0.86642655 &  8343430000 & 0.041500000 & 0.0526000000 & 2.796770e+13 &  0.018718054\\\\\n",
       "\t 2023-10-01 & 19631 & 2023Q4 & 352951195000 & 324403193561 & 335922667 & 0.03733333 &  0.10450774 &  7567190000 & 0.044400000 & 0.0533000000 & 2.829697e+13 &  0.011773225\\\\\n",
       "\t 2024-01-01 & 19723 & 2024Q1 & 353246439000 & 324404992104 & 336307667 & 0.03800000 &  1.04257554 &  6112900000 & 0.041600000 & 0.0533000000 & 2.862407e+13 &  0.011559613\\\\\n",
       "\t 2024-04-01 & 19814 & 2024Q2 & 349452050000 & 324406564767 & 336692000 & 0.04000000 &          NA &  5416660000 & 0.044433333 & 0.0533000000 & 2.901671e+13 &  0.013717302\\\\\n",
       "\\end{tabular}\n"
      ],
      "text/markdown": [
       "\n",
       "A data.frame: 162 × 13\n",
       "\n",
       "| time_as_date &lt;date&gt; | time_as_numeric &lt;dbl&gt; | time &lt;chr&gt; | deposits &lt;dbl&gt; | logistic_trend &lt;dbl&gt; | population &lt;dbl&gt; | unemployment_rate &lt;dbl&gt; | ConsumerPriceIndex &lt;dbl&gt; | DisposablePersonalIncome &lt;dbl&gt; | Yield &lt;dbl&gt; | fed_rate &lt;dbl&gt; | GDP &lt;dbl&gt; | GDP_growth_rate &lt;dbl&gt; |\n",
       "|---|---|---|---|---|---|---|---|---|---|---|---|---|\n",
       "| 1984-01-01 | 5113 | 1984Q1 | 22917257000 |  21838214 | 235604667 | 0.07866667 |  1.1202636 | 10729270000 | 0.11943333 | 0.09686667 | 3.908054e+12 |           NA |\n",
       "| 1984-04-01 | 5204 | 1984Q2 | 23575192000 |  24686425 | 236082333 | 0.07433333 |  1.0752688 | 11779660000 | 0.13200000 | 0.10556667 | 4.009601e+12 |  0.025984032 |\n",
       "| 1984-07-01 | 5295 | 1984Q3 | 24308965000 |  27906077 | 236657333 | 0.07433333 |  1.0960671 | 10982020000 | 0.12866667 | 0.11390000 | 4.084250e+12 |  0.018617563 |\n",
       "| 1984-10-01 | 5387 | 1984Q4 | 24967964000 |  31588126 | 237232667 | 0.07300000 |  0.7334184 |  9470080000 | 0.11743333 | 0.09266667 | 4.148551e+12 |  0.015743649 |\n",
       "| 1985-01-01 | 5479 | 1985Q1 | 25673746000 |  35755947 | 237672667 | 0.07233333 |  0.6331117 |  7253910000 | 0.11583333 | 0.08476667 | 4.230168e+12 |  0.019673616 |\n",
       "| 1985-04-01 | 5569 | 1985Q2 | 26941332000 |  40364715 | 238175667 | 0.07300000 |  1.2268009 |  7486790000 | 0.10813333 | 0.07923333 | 4.294887e+12 |  0.015299392 |\n",
       "| 1985-07-01 | 5660 | 1985Q3 | 27141405000 |  45628873 | 238789333 | 0.07200000 |  0.7147296 |  5819840000 | 0.10336667 | 0.07900000 | 4.386773e+12 |  0.021394276 |\n",
       "| 1985-10-01 | 5752 | 1985Q4 | 27133355000 |  51648972 | 239386667 | 0.07033333 |  0.8947856 |  6193650000 | 0.09760000 | 0.08103333 | 4.444094e+12 |  0.013066781 |\n",
       "| 1986-01-01 | 5844 | 1986Q1 | 28651198000 |  58463197 | 239860667 | 0.07033333 |  0.2140673 |  7391500000 | 0.08556667 | 0.07826667 | 4.507894e+12 |  0.014356132 |\n",
       "| 1986-04-01 | 5934 | 1986Q2 | 29041646000 |  65998225 | 240367667 | 0.07166667 | -0.2136100 |  5646760000 | 0.07603333 | 0.06920000 | 4.545340e+12 |  0.008306761 |\n",
       "| 1986-07-01 | 6025 | 1986Q3 | 29089391000 |  74604603 | 240961667 | 0.06966667 |  0.7339450 |  6259350000 | 0.07306667 | 0.06206667 | 4.607669e+12 |  0.013712726 |\n",
       "| 1986-10-01 | 6117 | 1986Q4 | 28841488000 |  84446655 | 241539000 | 0.06833333 |  0.5464481 |  5019150000 | 0.07263333 | 0.06266667 | 4.657627e+12 |  0.010842359 |\n",
       "| 1987-01-01 | 6209 | 1987Q1 | 28715469000 |  95586715 | 242009333 | 0.06600000 |  1.1171498 |  4623120000 | 0.07193333 | 0.06220000 | 4.722156e+12 |  0.013854480 |\n",
       "| 1987-04-01 | 6299 | 1987Q2 | 30084121000 | 107904815 | 242520000 | 0.06266667 |  1.3138250 |  3350880000 | 0.08343333 | 0.06650000 | 4.806160e+12 |  0.017789332 |\n",
       "| 1987-07-01 | 6390 | 1987Q3 | 30114432000 | 121973891 | 243120333 | 0.06000000 |  1.1494253 |  5058160000 | 0.08876667 | 0.06843333 | 4.884555e+12 |  0.016311359 |\n",
       "| 1987-10-01 | 6482 | 1987Q4 | 30112629000 | 138062373 | 243720667 | 0.05833333 |  0.8449883 |  6832670000 | 0.09123333 | 0.06916667 | 5.007994e+12 |  0.025271289 |\n",
       "| 1988-01-01 | 6574 | 1988Q1 | 29670701000 | 156271920 | 244207667 | 0.05700000 |  0.6067611 |  7629040000 | 0.08416667 | 0.06663333 | 5.073372e+12 |  0.013054728 |\n",
       "| 1988-04-01 | 6665 | 1988Q2 | 30050617000 | 176643864 | 244716667 | 0.05466667 |  1.2636416 | 10148590000 | 0.08910000 | 0.07156667 | 5.190036e+12 |  0.022995357 |\n",
       "| 1988-07-01 | 6756 | 1988Q3 | 28929456000 | 199669903 | 245354000 | 0.05466667 |  1.3329552 |  9616820000 | 0.09100000 | 0.07983333 | 5.282835e+12 |  0.017880223 |\n",
       "| 1988-10-01 | 6848 | 1988Q4 | 27407592000 | 225999427 | 245966333 | 0.05333333 |  1.0355444 |  9249320000 | 0.08956667 | 0.08470000 | 5.399509e+12 |  0.022085490 |\n",
       "| 1989-01-01 | 6940 | 1989Q1 | 22463251000 | 255798162 | 246460333 | 0.05200000 |  1.1080332 |  9032890000 | 0.09206667 | 0.09443333 | 5.511253e+12 |  0.020695215 |\n",
       "| 1989-04-01 | 7030 | 1989Q2 | 22035364000 | 288744063 | 247017333 | 0.05233333 |  1.6438356 |  7705630000 | 0.08773333 | 0.09726667 | 5.612463e+12 |  0.018364245 |\n",
       "| 1989-07-01 | 7121 | 1989Q3 | 20782366000 | 326367979 | 247698333 | 0.05233333 |  0.8086253 |  6642920000 | 0.08106667 | 0.09083333 | 5.695365e+12 |  0.014771055 |\n",
       "| 1989-10-01 | 7213 | 1989Q4 | 18774087000 | 369385545 | 248374333 | 0.05366667 |  0.9625668 |  6309660000 | 0.07906667 | 0.08613333 | 5.747237e+12 |  0.009107757 |\n",
       "| 1990-01-01 | 7305 | 1990Q1 | 17379316000 | 418065810 | 248936333 | 0.05300000 |  1.7213983 |  6330230000 | 0.08423333 | 0.08250000 | 5.872701e+12 |  0.021830316 |\n",
       "| 1990-04-01 | 7395 | 1990Q2 | 17271554000 | 471880788 | 249711000 | 0.05333333 |  1.0153606 |  7001820000 | 0.08676667 | 0.08243333 | 5.960028e+12 |  0.014869989 |\n",
       "| 1990-07-01 | 7486 | 1990Q3 | 17116974000 | 533328513 | 250594667 | 0.05700000 |  1.7268041 |  7034680000 | 0.08703333 | 0.08160000 | 6.015116e+12 |  0.009242910 |\n",
       "| 1990-10-01 | 7578 | 1990Q4 | 16174668000 | 603574110 | 251481667 | 0.06133333 |  1.6214847 |  5831290000 | 0.08396667 | 0.07743333 | 6.004733e+12 | -0.001726151 |\n",
       "| 1991-01-01 | 7670 | 1991Q1 | 15608863000 | 683052362 | 252257333 | 0.06600000 |  0.8227375 |  4349260000 | 0.08016667 | 0.06426667 | 6.035178e+12 |  0.005070167 |\n",
       "| 1991-04-01 | 7760 | 1991Q2 | 14608075000 | 770896232 | 253062667 | 0.06833333 |  0.5934718 |  3986460000 | 0.08130000 | 0.05863333 | 6.126862e+12 |  0.015191598 |\n",
       "| ⋮ | ⋮ | ⋮ | ⋮ | ⋮ | ⋮ | ⋮ | ⋮ | ⋮ | ⋮ | ⋮ | ⋮ | ⋮ |\n",
       "| 2017-01-01 | 17167 | 2017Q1 | 308433213000 | 323992539783 | 326052667 | 0.04566667 |  0.79073696 |  4140810000 | 0.024433333 | 0.0070000000 | 1.928008e+13 |  0.009990110 |\n",
       "| 2017-04-01 | 17257 | 2017Q2 | 315746028000 | 324041137871 | 326554000 | 0.04366667 |  0.54351771 |  5035230000 | 0.022633333 | 0.0095000000 | 1.943864e+13 |  0.008223979 |\n",
       "| 2017-07-01 | 17348 | 2017Q3 | 317660727000 | 324084648477 | 327140333 | 0.04333333 |  0.39661569 |  5183240000 | 0.022433333 | 0.0115333333 | 1.969260e+13 |  0.013064286 |\n",
       "| 2017-10-01 | 17440 | 2017Q4 | 322350768000 | 324123545875 | 327691667 | 0.04166667 |  0.37062964 |  5299520000 | 0.023700000 | 0.0120333333 | 2.003709e+13 |  0.017493530 |\n",
       "| 2018-01-01 | 17532 | 2018Q1 | 325714789000 | 324157916602 | 328091000 | 0.04033333 |  0.88611838 |  5434620000 | 0.027600000 | 0.0144666667 | 2.032855e+13 |  0.014546275 |\n",
       "| 2018-04-01 | 17622 | 2018Q2 | 327804206000 | 324187665609 | 328525667 | 0.03933333 |  1.03307557 |  5573150000 | 0.029200000 | 0.0173666667 | 2.058091e+13 |  0.012414017 |\n",
       "| 2018-07-01 | 17713 | 2018Q3 | 331039546000 | 324214297406 | 329039667 | 0.03766667 |  0.32726757 |  5928130000 | 0.029266667 | 0.0192333333 | 2.079873e+13 |  0.010583496 |\n",
       "| 2018-10-01 | 17805 | 2018Q4 | 334393555000 | 324238103221 | 329521667 | 0.03833333 | -0.05749474 |  6046360000 | 0.030333333 | 0.0222000000 | 2.091787e+13 |  0.005728090 |\n",
       "| 2019-01-01 | 17897 | 2019Q1 | 337239215000 | 324259136796 | 329868333 | 0.03866667 |  0.33511603 |  5710890000 | 0.026533333 | 0.0240333333 | 2.111160e+13 |  0.009261604 |\n",
       "| 2019-04-01 | 17987 | 2019Q2 | 338841270000 | 324277340656 | 330245333 | 0.03633333 |  1.19851323 |  4729290000 | 0.023333333 | 0.0239666667 | 2.139794e+13 |  0.013563065 |\n",
       "| 2019-07-01 | 18078 | 2019Q3 | 338626199000 | 324293635949 | 330728667 | 0.03600000 |  0.27416601 |  4234170000 | 0.017966667 | 0.0219000000 | 2.171717e+13 |  0.014918867 |\n",
       "| 2019-10-01 | 18170 | 2019Q4 | 349600055000 | 324308201218 | 331208000 | 0.03600000 |  0.21301800 |  3758380000 | 0.017933333 | 0.0164333333 | 2.193322e+13 |  0.009948165 |\n",
       "| 2020-01-01 | 18262 | 2020Q1 | 341691380000 | 324321069638 | 331536667 | 0.03833333 |  0.41942742 |  3276590000 | 0.013766667 | 0.0126000000 | 2.172766e+13 | -0.009372086 |\n",
       "| 2020-04-01 | 18353 | 2020Q2 | 339227043000 | 324332322621 | 331714667 | 0.13000000 | -0.54003542 | 12515970000 | 0.006866667 | 0.0006000000 | 1.993544e+13 | -0.082485332 |\n",
       "| 2020-07-01 | 18444 | 2020Q3 | 338020161000 | 324342277848 | 331887333 | 0.08800000 |  1.13148537 |  8408110000 | 0.006500000 | 0.0009333333 | 2.168455e+13 |  0.087738552 |\n",
       "| 2020-10-01 | 18536 | 2020Q4 | 339166813000 | 324351175827 | 332060667 | 0.06733333 |  0.22995025 |  5751550000 | 0.008633333 | 0.0009000000 | 2.206877e+13 |  0.017718421 |\n",
       "| 2021-01-01 | 18628 | 2021Q1 | 339070926000 | 324359036936 | 332004333 | 0.06233333 |  1.07311440 | 18680340000 | 0.013166667 | 0.0008000000 | 2.265679e+13 |  0.026645168 |\n",
       "| 2021-04-01 | 18718 | 2021Q2 | 340991443000 | 324365839949 | 332166333 | 0.05933333 |  2.33978869 |  1505510000 | 0.015933333 | 0.0007000000 | 2.336886e+13 |  0.031428455 |\n",
       "| 2021-07-01 | 18809 | 2021Q3 | 342317919000 | 324371929301 | 332497000 | 0.05066667 |  1.60097531 |  4622050000 | 0.013233333 | 0.0009000000 | 2.392199e+13 |  0.023669532 |\n",
       "| 2021-10-01 | 18901 | 2021Q4 | 348156945000 | 324377371839 | 332801667 | 0.04166667 |  1.51776143 |  6859340000 | 0.015366667 | 0.0008000000 | 2.477704e+13 |  0.035743137 |\n",
       "| 2022-01-01 | 18993 | 2022Q1 | 351425943000 | 324382180069 | 332990667 | 0.03800000 |  2.28346447 | -6652650000 | 0.019400000 | 0.0012000000 | 2.521549e+13 |  0.017695941 |\n",
       "| 2022-04-01 | 19083 | 2022Q2 | 354666330000 | 324386341043 | 333319667 | 0.03633333 |  2.97383290 |  1069950000 | 0.029300000 | 0.0077000000 | 2.580579e+13 |  0.023410212 |\n",
       "| 2022-07-01 | 19174 | 2022Q3 | 355495449000 | 324390065459 | 333762000 | 0.03533333 |  1.31466215 |  3674510000 | 0.031066667 | 0.0219000000 | 2.627201e+13 |  0.018066487 |\n",
       "| 2022-10-01 | 19266 | 2022Q4 | 357699656000 | 324393394219 | 334201000 | 0.03566667 |  0.36716128 |  5139560000 | 0.038300000 | 0.0365333333 | 2.673428e+13 |  0.017595379 |\n",
       "| 2023-01-01 | 19358 | 2023Q1 | 361631019000 | 324396334988 | 334547000 | 0.03500000 |  1.04490656 | 10073050000 | 0.036466667 | 0.0451666667 | 2.716436e+13 |  0.016087287 |\n",
       "| 2023-04-01 | 19448 | 2023Q2 | 361428409000 | 324398879861 | 334933667 | 0.03566667 |  1.19233217 | 10265010000 | 0.035933333 | 0.0499000000 | 2.745382e+13 |  0.010655727 |\n",
       "| 2023-07-01 | 19539 | 2023Q3 | 361265548000 | 324401157711 | 335430333 | 0.03700000 |  0.86642655 |  8343430000 | 0.041500000 | 0.0526000000 | 2.796770e+13 |  0.018718054 |\n",
       "| 2023-10-01 | 19631 | 2023Q4 | 352951195000 | 324403193561 | 335922667 | 0.03733333 |  0.10450774 |  7567190000 | 0.044400000 | 0.0533000000 | 2.829697e+13 |  0.011773225 |\n",
       "| 2024-01-01 | 19723 | 2024Q1 | 353246439000 | 324404992104 | 336307667 | 0.03800000 |  1.04257554 |  6112900000 | 0.041600000 | 0.0533000000 | 2.862407e+13 |  0.011559613 |\n",
       "| 2024-04-01 | 19814 | 2024Q2 | 349452050000 | 324406564767 | 336692000 | 0.04000000 |          NA |  5416660000 | 0.044433333 | 0.0533000000 | 2.901671e+13 |  0.013717302 |\n",
       "\n"
      ],
      "text/plain": [
       "    time_as_date time_as_numeric time   deposits     logistic_trend population\n",
       "1   1984-01-01   5113            1984Q1 22917257000   21838214      235604667 \n",
       "2   1984-04-01   5204            1984Q2 23575192000   24686425      236082333 \n",
       "3   1984-07-01   5295            1984Q3 24308965000   27906077      236657333 \n",
       "4   1984-10-01   5387            1984Q4 24967964000   31588126      237232667 \n",
       "5   1985-01-01   5479            1985Q1 25673746000   35755947      237672667 \n",
       "6   1985-04-01   5569            1985Q2 26941332000   40364715      238175667 \n",
       "7   1985-07-01   5660            1985Q3 27141405000   45628873      238789333 \n",
       "8   1985-10-01   5752            1985Q4 27133355000   51648972      239386667 \n",
       "9   1986-01-01   5844            1986Q1 28651198000   58463197      239860667 \n",
       "10  1986-04-01   5934            1986Q2 29041646000   65998225      240367667 \n",
       "11  1986-07-01   6025            1986Q3 29089391000   74604603      240961667 \n",
       "12  1986-10-01   6117            1986Q4 28841488000   84446655      241539000 \n",
       "13  1987-01-01   6209            1987Q1 28715469000   95586715      242009333 \n",
       "14  1987-04-01   6299            1987Q2 30084121000  107904815      242520000 \n",
       "15  1987-07-01   6390            1987Q3 30114432000  121973891      243120333 \n",
       "16  1987-10-01   6482            1987Q4 30112629000  138062373      243720667 \n",
       "17  1988-01-01   6574            1988Q1 29670701000  156271920      244207667 \n",
       "18  1988-04-01   6665            1988Q2 30050617000  176643864      244716667 \n",
       "19  1988-07-01   6756            1988Q3 28929456000  199669903      245354000 \n",
       "20  1988-10-01   6848            1988Q4 27407592000  225999427      245966333 \n",
       "21  1989-01-01   6940            1989Q1 22463251000  255798162      246460333 \n",
       "22  1989-04-01   7030            1989Q2 22035364000  288744063      247017333 \n",
       "23  1989-07-01   7121            1989Q3 20782366000  326367979      247698333 \n",
       "24  1989-10-01   7213            1989Q4 18774087000  369385545      248374333 \n",
       "25  1990-01-01   7305            1990Q1 17379316000  418065810      248936333 \n",
       "26  1990-04-01   7395            1990Q2 17271554000  471880788      249711000 \n",
       "27  1990-07-01   7486            1990Q3 17116974000  533328513      250594667 \n",
       "28  1990-10-01   7578            1990Q4 16174668000  603574110      251481667 \n",
       "29  1991-01-01   7670            1991Q1 15608863000  683052362      252257333 \n",
       "30  1991-04-01   7760            1991Q2 14608075000  770896232      253062667 \n",
       "⋮   ⋮            ⋮               ⋮      ⋮            ⋮              ⋮         \n",
       "133 2017-01-01   17167           2017Q1 308433213000 323992539783   326052667 \n",
       "134 2017-04-01   17257           2017Q2 315746028000 324041137871   326554000 \n",
       "135 2017-07-01   17348           2017Q3 317660727000 324084648477   327140333 \n",
       "136 2017-10-01   17440           2017Q4 322350768000 324123545875   327691667 \n",
       "137 2018-01-01   17532           2018Q1 325714789000 324157916602   328091000 \n",
       "138 2018-04-01   17622           2018Q2 327804206000 324187665609   328525667 \n",
       "139 2018-07-01   17713           2018Q3 331039546000 324214297406   329039667 \n",
       "140 2018-10-01   17805           2018Q4 334393555000 324238103221   329521667 \n",
       "141 2019-01-01   17897           2019Q1 337239215000 324259136796   329868333 \n",
       "142 2019-04-01   17987           2019Q2 338841270000 324277340656   330245333 \n",
       "143 2019-07-01   18078           2019Q3 338626199000 324293635949   330728667 \n",
       "144 2019-10-01   18170           2019Q4 349600055000 324308201218   331208000 \n",
       "145 2020-01-01   18262           2020Q1 341691380000 324321069638   331536667 \n",
       "146 2020-04-01   18353           2020Q2 339227043000 324332322621   331714667 \n",
       "147 2020-07-01   18444           2020Q3 338020161000 324342277848   331887333 \n",
       "148 2020-10-01   18536           2020Q4 339166813000 324351175827   332060667 \n",
       "149 2021-01-01   18628           2021Q1 339070926000 324359036936   332004333 \n",
       "150 2021-04-01   18718           2021Q2 340991443000 324365839949   332166333 \n",
       "151 2021-07-01   18809           2021Q3 342317919000 324371929301   332497000 \n",
       "152 2021-10-01   18901           2021Q4 348156945000 324377371839   332801667 \n",
       "153 2022-01-01   18993           2022Q1 351425943000 324382180069   332990667 \n",
       "154 2022-04-01   19083           2022Q2 354666330000 324386341043   333319667 \n",
       "155 2022-07-01   19174           2022Q3 355495449000 324390065459   333762000 \n",
       "156 2022-10-01   19266           2022Q4 357699656000 324393394219   334201000 \n",
       "157 2023-01-01   19358           2023Q1 361631019000 324396334988   334547000 \n",
       "158 2023-04-01   19448           2023Q2 361428409000 324398879861   334933667 \n",
       "159 2023-07-01   19539           2023Q3 361265548000 324401157711   335430333 \n",
       "160 2023-10-01   19631           2023Q4 352951195000 324403193561   335922667 \n",
       "161 2024-01-01   19723           2024Q1 353246439000 324404992104   336307667 \n",
       "162 2024-04-01   19814           2024Q2 349452050000 324406564767   336692000 \n",
       "    unemployment_rate ConsumerPriceIndex DisposablePersonalIncome Yield      \n",
       "1   0.07866667         1.1202636         10729270000              0.11943333 \n",
       "2   0.07433333         1.0752688         11779660000              0.13200000 \n",
       "3   0.07433333         1.0960671         10982020000              0.12866667 \n",
       "4   0.07300000         0.7334184          9470080000              0.11743333 \n",
       "5   0.07233333         0.6331117          7253910000              0.11583333 \n",
       "6   0.07300000         1.2268009          7486790000              0.10813333 \n",
       "7   0.07200000         0.7147296          5819840000              0.10336667 \n",
       "8   0.07033333         0.8947856          6193650000              0.09760000 \n",
       "9   0.07033333         0.2140673          7391500000              0.08556667 \n",
       "10  0.07166667        -0.2136100          5646760000              0.07603333 \n",
       "11  0.06966667         0.7339450          6259350000              0.07306667 \n",
       "12  0.06833333         0.5464481          5019150000              0.07263333 \n",
       "13  0.06600000         1.1171498          4623120000              0.07193333 \n",
       "14  0.06266667         1.3138250          3350880000              0.08343333 \n",
       "15  0.06000000         1.1494253          5058160000              0.08876667 \n",
       "16  0.05833333         0.8449883          6832670000              0.09123333 \n",
       "17  0.05700000         0.6067611          7629040000              0.08416667 \n",
       "18  0.05466667         1.2636416         10148590000              0.08910000 \n",
       "19  0.05466667         1.3329552          9616820000              0.09100000 \n",
       "20  0.05333333         1.0355444          9249320000              0.08956667 \n",
       "21  0.05200000         1.1080332          9032890000              0.09206667 \n",
       "22  0.05233333         1.6438356          7705630000              0.08773333 \n",
       "23  0.05233333         0.8086253          6642920000              0.08106667 \n",
       "24  0.05366667         0.9625668          6309660000              0.07906667 \n",
       "25  0.05300000         1.7213983          6330230000              0.08423333 \n",
       "26  0.05333333         1.0153606          7001820000              0.08676667 \n",
       "27  0.05700000         1.7268041          7034680000              0.08703333 \n",
       "28  0.06133333         1.6214847          5831290000              0.08396667 \n",
       "29  0.06600000         0.8227375          4349260000              0.08016667 \n",
       "30  0.06833333         0.5934718          3986460000              0.08130000 \n",
       "⋮   ⋮                 ⋮                  ⋮                        ⋮          \n",
       "133 0.04566667         0.79073696         4140810000              0.024433333\n",
       "134 0.04366667         0.54351771         5035230000              0.022633333\n",
       "135 0.04333333         0.39661569         5183240000              0.022433333\n",
       "136 0.04166667         0.37062964         5299520000              0.023700000\n",
       "137 0.04033333         0.88611838         5434620000              0.027600000\n",
       "138 0.03933333         1.03307557         5573150000              0.029200000\n",
       "139 0.03766667         0.32726757         5928130000              0.029266667\n",
       "140 0.03833333        -0.05749474         6046360000              0.030333333\n",
       "141 0.03866667         0.33511603         5710890000              0.026533333\n",
       "142 0.03633333         1.19851323         4729290000              0.023333333\n",
       "143 0.03600000         0.27416601         4234170000              0.017966667\n",
       "144 0.03600000         0.21301800         3758380000              0.017933333\n",
       "145 0.03833333         0.41942742         3276590000              0.013766667\n",
       "146 0.13000000        -0.54003542        12515970000              0.006866667\n",
       "147 0.08800000         1.13148537         8408110000              0.006500000\n",
       "148 0.06733333         0.22995025         5751550000              0.008633333\n",
       "149 0.06233333         1.07311440        18680340000              0.013166667\n",
       "150 0.05933333         2.33978869         1505510000              0.015933333\n",
       "151 0.05066667         1.60097531         4622050000              0.013233333\n",
       "152 0.04166667         1.51776143         6859340000              0.015366667\n",
       "153 0.03800000         2.28346447        -6652650000              0.019400000\n",
       "154 0.03633333         2.97383290         1069950000              0.029300000\n",
       "155 0.03533333         1.31466215         3674510000              0.031066667\n",
       "156 0.03566667         0.36716128         5139560000              0.038300000\n",
       "157 0.03500000         1.04490656        10073050000              0.036466667\n",
       "158 0.03566667         1.19233217        10265010000              0.035933333\n",
       "159 0.03700000         0.86642655         8343430000              0.041500000\n",
       "160 0.03733333         0.10450774         7567190000              0.044400000\n",
       "161 0.03800000         1.04257554         6112900000              0.041600000\n",
       "162 0.04000000                 NA         5416660000              0.044433333\n",
       "    fed_rate     GDP          GDP_growth_rate\n",
       "1   0.09686667   3.908054e+12           NA   \n",
       "2   0.10556667   4.009601e+12  0.025984032   \n",
       "3   0.11390000   4.084250e+12  0.018617563   \n",
       "4   0.09266667   4.148551e+12  0.015743649   \n",
       "5   0.08476667   4.230168e+12  0.019673616   \n",
       "6   0.07923333   4.294887e+12  0.015299392   \n",
       "7   0.07900000   4.386773e+12  0.021394276   \n",
       "8   0.08103333   4.444094e+12  0.013066781   \n",
       "9   0.07826667   4.507894e+12  0.014356132   \n",
       "10  0.06920000   4.545340e+12  0.008306761   \n",
       "11  0.06206667   4.607669e+12  0.013712726   \n",
       "12  0.06266667   4.657627e+12  0.010842359   \n",
       "13  0.06220000   4.722156e+12  0.013854480   \n",
       "14  0.06650000   4.806160e+12  0.017789332   \n",
       "15  0.06843333   4.884555e+12  0.016311359   \n",
       "16  0.06916667   5.007994e+12  0.025271289   \n",
       "17  0.06663333   5.073372e+12  0.013054728   \n",
       "18  0.07156667   5.190036e+12  0.022995357   \n",
       "19  0.07983333   5.282835e+12  0.017880223   \n",
       "20  0.08470000   5.399509e+12  0.022085490   \n",
       "21  0.09443333   5.511253e+12  0.020695215   \n",
       "22  0.09726667   5.612463e+12  0.018364245   \n",
       "23  0.09083333   5.695365e+12  0.014771055   \n",
       "24  0.08613333   5.747237e+12  0.009107757   \n",
       "25  0.08250000   5.872701e+12  0.021830316   \n",
       "26  0.08243333   5.960028e+12  0.014869989   \n",
       "27  0.08160000   6.015116e+12  0.009242910   \n",
       "28  0.07743333   6.004733e+12 -0.001726151   \n",
       "29  0.06426667   6.035178e+12  0.005070167   \n",
       "30  0.05863333   6.126862e+12  0.015191598   \n",
       "⋮   ⋮            ⋮            ⋮              \n",
       "133 0.0070000000 1.928008e+13  0.009990110   \n",
       "134 0.0095000000 1.943864e+13  0.008223979   \n",
       "135 0.0115333333 1.969260e+13  0.013064286   \n",
       "136 0.0120333333 2.003709e+13  0.017493530   \n",
       "137 0.0144666667 2.032855e+13  0.014546275   \n",
       "138 0.0173666667 2.058091e+13  0.012414017   \n",
       "139 0.0192333333 2.079873e+13  0.010583496   \n",
       "140 0.0222000000 2.091787e+13  0.005728090   \n",
       "141 0.0240333333 2.111160e+13  0.009261604   \n",
       "142 0.0239666667 2.139794e+13  0.013563065   \n",
       "143 0.0219000000 2.171717e+13  0.014918867   \n",
       "144 0.0164333333 2.193322e+13  0.009948165   \n",
       "145 0.0126000000 2.172766e+13 -0.009372086   \n",
       "146 0.0006000000 1.993544e+13 -0.082485332   \n",
       "147 0.0009333333 2.168455e+13  0.087738552   \n",
       "148 0.0009000000 2.206877e+13  0.017718421   \n",
       "149 0.0008000000 2.265679e+13  0.026645168   \n",
       "150 0.0007000000 2.336886e+13  0.031428455   \n",
       "151 0.0009000000 2.392199e+13  0.023669532   \n",
       "152 0.0008000000 2.477704e+13  0.035743137   \n",
       "153 0.0012000000 2.521549e+13  0.017695941   \n",
       "154 0.0077000000 2.580579e+13  0.023410212   \n",
       "155 0.0219000000 2.627201e+13  0.018066487   \n",
       "156 0.0365333333 2.673428e+13  0.017595379   \n",
       "157 0.0451666667 2.716436e+13  0.016087287   \n",
       "158 0.0499000000 2.745382e+13  0.010655727   \n",
       "159 0.0526000000 2.796770e+13  0.018718054   \n",
       "160 0.0533000000 2.829697e+13  0.011773225   \n",
       "161 0.0533000000 2.862407e+13  0.011559613   \n",
       "162 0.0533000000 2.901671e+13  0.013717302   "
      ]
     },
     "metadata": {},
     "output_type": "display_data"
    }
   ],
   "source": [
    "# Combine deposit level data and regressors data into one => deposit_regressor_data\n",
    "deposit_regressor_data <- merge(deposit_levels, regressors_data, by = c(\"time_as_date\", \"time_as_numeric\"))\n",
    "deposit_regressor_data "
   ]
  },
  {
   "cell_type": "code",
   "execution_count": 403,
   "metadata": {
    "vscode": {
     "languageId": "r"
    }
   },
   "outputs": [],
   "source": [
    "# Pre process only the regressors inside your data\n",
    "\n",
    "# Exclude all that's not a regressor like the target varaiable (deposit) and time variables\n",
    "regressors_col <- setdiff(names(deposit_regressor_data), c(\"logistic_trend\", \"time\", \"time_as_date\", \"time_as_numeric\", \"deposits\"))\n",
    "\n",
    "# The preProcess function centers (mean = 0) and scales (std = 1) your predictors => Apply scaling to the feature columns\n",
    "pre_process_data <- preProcess(deposit_regressor_data[, regressors_col], method=c(\"center\", \"scale\"))\n"
   ]
  },
  {
   "cell_type": "markdown",
   "metadata": {},
   "source": [
    "## B. Split dataset into Training dataset and Test dataset"
   ]
  },
  {
   "cell_type": "code",
   "execution_count": 404,
   "metadata": {
    "vscode": {
     "languageId": "r"
    }
   },
   "outputs": [],
   "source": [
    "# Split data into training and testing based on time\n",
    "train_data_regressor <- subset(deposit_regressor_data, time_as_date <= \"2019-12-31\") # Training data: 1984 Q1 to 2020 Q4\n",
    "test_data_regressor <- subset(deposit_regressor_data, time_as_date > \"2019-12-31\")  # Testing data: 2021 Q1 to 2024 Q2\n"
   ]
  },
  {
   "cell_type": "code",
   "execution_count": 405,
   "metadata": {
    "vscode": {
     "languageId": "r"
    }
   },
   "outputs": [],
   "source": [
    "# Apply the pre-processing to our training and testing dataset\n",
    "\n",
    "# Scale training data (apply preprocessing to the regressor columns only)\n",
    "train_data_scaled <- train_data_regressor\n",
    "train_data_scaled[, regressors_col] <- predict(pre_process_data, train_data_regressor[, regressors_col])\n",
    "\n",
    "# Scale testing data using the same preprocessing parameters\n",
    "test_data_scaled <- test_data_regressor\n",
    "test_data_scaled[, regressors_col] <- predict(pre_process_data, test_data_regressor[, regressors_col])"
   ]
  },
  {
   "cell_type": "code",
   "execution_count": 406,
   "metadata": {
    "vscode": {
     "languageId": "r"
    }
   },
   "outputs": [
    {
     "data": {
      "text/html": [
       "<table class=\"dataframe\">\n",
       "<caption>A data.frame: 144 × 13</caption>\n",
       "<thead>\n",
       "\t<tr><th></th><th scope=col>time_as_date</th><th scope=col>time_as_numeric</th><th scope=col>time</th><th scope=col>deposits</th><th scope=col>logistic_trend</th><th scope=col>population</th><th scope=col>unemployment_rate</th><th scope=col>ConsumerPriceIndex</th><th scope=col>DisposablePersonalIncome</th><th scope=col>Yield</th><th scope=col>fed_rate</th><th scope=col>GDP</th><th scope=col>GDP_growth_rate</th></tr>\n",
       "\t<tr><th></th><th scope=col>&lt;date&gt;</th><th scope=col>&lt;dbl&gt;</th><th scope=col>&lt;chr&gt;</th><th scope=col>&lt;dbl&gt;</th><th scope=col>&lt;dbl&gt;</th><th scope=col>&lt;dbl&gt;</th><th scope=col>&lt;dbl&gt;</th><th scope=col>&lt;dbl&gt;</th><th scope=col>&lt;dbl&gt;</th><th scope=col>&lt;dbl&gt;</th><th scope=col>&lt;dbl&gt;</th><th scope=col>&lt;dbl&gt;</th><th scope=col>&lt;dbl&gt;</th></tr>\n",
       "</thead>\n",
       "<tbody>\n",
       "\t<tr><th scope=row>1</th><td>1984-01-01</td><td>5113</td><td>1984Q1</td><td>22917257000</td><td> 21838214</td><td>-1.723813</td><td> 1.218313013</td><td> 0.65970457</td><td> 2.04629596</td><td>2.5907227</td><td>2.0758097</td><td>-1.374682</td><td>         NA</td></tr>\n",
       "\t<tr><th scope=row>2</th><td>1984-04-01</td><td>5204</td><td>1984Q2</td><td>23575192000</td><td> 24686425</td><td>-1.708746</td><td> 0.957802585</td><td> 0.58896015</td><td> 2.44325446</td><td>3.0606998</td><td>2.3721988</td><td>-1.359221</td><td> 1.12682516</td></tr>\n",
       "\t<tr><th scope=row>3</th><td>1984-07-01</td><td>5295</td><td>1984Q3</td><td>24308965000</td><td> 27906077</td><td>-1.690610</td><td> 0.957802585</td><td> 0.62166082</td><td> 2.14181406</td><td>2.9360374</td><td>2.6560963</td><td>-1.347855</td><td> 0.50660191</td></tr>\n",
       "\t<tr><th scope=row>4</th><td>1984-10-01</td><td>5387</td><td>1984Q4</td><td>24967964000</td><td> 31588126</td><td>-1.672463</td><td> 0.877645531</td><td> 0.05147526</td><td> 1.57042873</td><td>2.5159252</td><td>1.9327254</td><td>-1.338065</td><td> 0.26463140</td></tr>\n",
       "\t<tr><th scope=row>5</th><td>1985-01-01</td><td>5479</td><td>1985Q1</td><td>25673746000</td><td> 35755947</td><td>-1.658584</td><td> 0.837567003</td><td>-0.10623491</td><td> 0.73290408</td><td>2.4560873</td><td>1.6635905</td><td>-1.325639</td><td> 0.59551678</td></tr>\n",
       "\t<tr><th scope=row>6</th><td>1985-04-01</td><td>5569</td><td>1985Q2</td><td>26941332000</td><td> 40364715</td><td>-1.642719</td><td> 0.877645531</td><td> 0.82721110</td><td> 0.82091301</td><td>2.1681172</td><td>1.4750825</td><td>-1.315785</td><td> 0.22722697</td></tr>\n",
       "\t<tr><th scope=row>7</th><td>1985-07-01</td><td>5660</td><td>1985Q3</td><td>27141405000</td><td> 45628873</td><td>-1.623363</td><td> 0.817527739</td><td> 0.02209134</td><td> 0.19094702</td><td>1.9898500</td><td>1.4671334</td><td>-1.301795</td><td> 0.74038857</td></tr>\n",
       "\t<tr><th scope=row>8</th><td>1985-10-01</td><td>5752</td><td>1985Q4</td><td>27133355000</td><td> 51648972</td><td>-1.604522</td><td> 0.717331421</td><td> 0.30518980</td><td> 0.33221556</td><td>1.7741841</td><td>1.5364044</td><td>-1.293068</td><td> 0.03925119</td></tr>\n",
       "\t<tr><th scope=row>9</th><td>1986-01-01</td><td>5844</td><td>1986Q1</td><td>28651198000</td><td> 58463197</td><td>-1.589571</td><td> 0.717331421</td><td>-0.76509047</td><td> 0.78490146</td><td>1.3241530</td><td>1.4421504</td><td>-1.283354</td><td> 0.14780873</td></tr>\n",
       "\t<tr><th scope=row>10</th><td>1986-04-01</td><td>5934</td><td>1986Q2</td><td>29041646000</td><td> 65998225</td><td>-1.573579</td><td> 0.797488476</td><td>-1.43751925</td><td> 0.12553744</td><td>0.9676186</td><td>1.1332699</td><td>-1.277653</td><td>-0.36152083</td></tr>\n",
       "\t<tr><th scope=row>11</th><td>1986-07-01</td><td>6025</td><td>1986Q3</td><td>29089391000</td><td> 74604603</td><td>-1.554843</td><td> 0.677252894</td><td> 0.05230320</td><td> 0.35704460</td><td>0.8566691</td><td>0.8902536</td><td>-1.268163</td><td> 0.09363683</td></tr>\n",
       "\t<tr><th scope=row>12</th><td>1986-10-01</td><td>6117</td><td>1986Q4</td><td>28841488000</td><td> 84446655</td><td>-1.536633</td><td> 0.597095839</td><td>-0.24249451</td><td>-0.11164601</td><td>0.8404629</td><td>0.9106942</td><td>-1.260557</td><td>-0.14803504</td></tr>\n",
       "\t<tr><th scope=row>13</th><td>1987-01-01</td><td>6209</td><td>1987Q1</td><td>28715469000</td><td> 95586715</td><td>-1.521798</td><td> 0.456820993</td><td> 0.65480875</td><td>-0.26131183</td><td>0.8142838</td><td>0.8947960</td><td>-1.250732</td><td> 0.10557191</td></tr>\n",
       "\t<tr><th scope=row>14</th><td>1987-04-01</td><td>6299</td><td>1987Q2</td><td>30084121000</td><td>107904815</td><td>-1.505691</td><td> 0.256428356</td><td> 0.96403749</td><td>-0.74211085</td><td>1.2443690</td><td>1.0412871</td><td>-1.237942</td><td> 0.43686858</td></tr>\n",
       "\t<tr><th scope=row>15</th><td>1987-07-01</td><td>6390</td><td>1987Q3</td><td>30114432000</td><td>121973891</td><td>-1.486755</td><td> 0.096114246</td><td> 0.70555494</td><td>-0.09690354</td><td>1.4438288</td><td>1.1071513</td><td>-1.226006</td><td> 0.31242995</td></tr>\n",
       "\t<tr><th scope=row>16</th><td>1987-10-01</td><td>6482</td><td>1987Q4</td><td>30112629000</td><td>138062373</td><td>-1.467820</td><td>-0.004082072</td><td> 0.22689459</td><td> 0.57371102</td><td>1.5360790</td><td>1.1321343</td><td>-1.207212</td><td> 1.06681542</td></tr>\n",
       "\t<tr><th scope=row>17</th><td>1988-01-01</td><td>6574</td><td>1988Q1</td><td>29670701000</td><td>156271920</td><td>-1.452459</td><td>-0.084239127</td><td>-0.14766560</td><td> 0.87467147</td><td>1.2717948</td><td>1.0458295</td><td>-1.197258</td><td> 0.03823643</td></tr>\n",
       "\t<tr><th scope=row>18</th><td>1988-04-01</td><td>6665</td><td>1988Q2</td><td>30050617000</td><td>176643864</td><td>-1.436404</td><td>-0.224513973</td><td> 0.88513503</td><td> 1.82684807</td><td>1.4562951</td><td>1.2138968</td><td>-1.179496</td><td> 0.87519228</td></tr>\n",
       "\t<tr><th scope=row>19</th><td>1988-07-01</td><td>6756</td><td>1988Q3</td><td>28929456000</td><td>199669903</td><td>-1.416301</td><td>-0.224513973</td><td> 0.99411548</td><td> 1.62588403</td><td>1.5273526</td><td>1.4955232</td><td>-1.165367</td><td> 0.44452119</td></tr>\n",
       "\t<tr><th scope=row>20</th><td>1988-10-01</td><td>6848</td><td>1988Q4</td><td>27407592000</td><td>225999427</td><td>-1.396987</td><td>-0.304671028</td><td> 0.52650215</td><td> 1.48700014</td><td>1.4737478</td><td>1.6613193</td><td>-1.147603</td><td> 0.79858562</td></tr>\n",
       "\t<tr><th scope=row>21</th><td>1989-01-01</td><td>6940</td><td>1989Q1</td><td>22463251000</td><td>255798162</td><td>-1.381406</td><td>-0.384828083</td><td> 0.64047503</td><td> 1.40520792</td><td>1.5672446</td><td>1.9929117</td><td>-1.130589</td><td> 0.68153077</td></tr>\n",
       "\t<tr><th scope=row>22</th><td>1989-04-01</td><td>7030</td><td>1989Q2</td><td>22035364000</td><td>288744063</td><td>-1.363837</td><td>-0.364788819</td><td> 1.48290680</td><td> 0.90361600</td><td>1.4051835</td><td>2.0894368</td><td>-1.115180</td><td> 0.48527366</td></tr>\n",
       "\t<tr><th scope=row>23</th><td>1989-07-01</td><td>7121</td><td>1989Q3</td><td>20782366000</td><td>326367979</td><td>-1.342357</td><td>-0.364788819</td><td> 0.16972173</td><td> 0.50200159</td><td>1.1558587</td><td>1.8702679</td><td>-1.102558</td><td> 0.18274337</td></tr>\n",
       "\t<tr><th scope=row>24</th><td>1989-10-01</td><td>7213</td><td>1989Q4</td><td>18774087000</td><td>369385545</td><td>-1.321035</td><td>-0.284631764</td><td> 0.41176101</td><td> 0.37605752</td><td>1.0810613</td><td>1.7101497</td><td>-1.094660</td><td>-0.29408064</td></tr>\n",
       "\t<tr><th scope=row>25</th><td>1990-01-01</td><td>7305</td><td>1990Q1</td><td>17379316000</td><td>418065810</td><td>-1.303308</td><td>-0.324710291</td><td> 1.60485712</td><td> 0.38383124</td><td>1.2742880</td><td>1.5863704</td><td>-1.075558</td><td> 0.77710112</td></tr>\n",
       "\t<tr><th scope=row>26</th><td>1990-04-01</td><td>7395</td><td>1990Q2</td><td>17271554000</td><td>471880788</td><td>-1.278874</td><td>-0.304671028</td><td> 0.49476759</td><td> 0.63763540</td><td>1.3690314</td><td>1.5840992</td><td>-1.062262</td><td> 0.19107317</td></tr>\n",
       "\t<tr><th scope=row>27</th><td>1990-07-01</td><td>7486</td><td>1990Q3</td><td>17116974000</td><td>533328513</td><td>-1.251001</td><td>-0.084239127</td><td> 1.61335659</td><td> 0.65005370</td><td>1.3790044</td><td>1.5557094</td><td>-1.053875</td><td>-0.28270140</td></tr>\n",
       "\t<tr><th scope=row>28</th><td>1990-10-01</td><td>7578</td><td>1990Q4</td><td>16174668000</td><td>603574110</td><td>-1.223024</td><td> 0.176271301</td><td> 1.44776484</td><td> 0.19527415</td><td>1.2643150</td><td>1.4137607</td><td>-1.055455</td><td>-1.20624657</td></tr>\n",
       "\t<tr><th scope=row>29</th><td>1991-01-01</td><td>7670</td><td>1991Q1</td><td>15608863000</td><td>683052362</td><td>-1.198558</td><td> 0.456820993</td><td> 0.19190997</td><td>-0.36480772</td><td>1.1221999</td><td>0.9652026</td><td>-1.050820</td><td>-0.63402739</td></tr>\n",
       "\t<tr><th scope=row>30</th><td>1991-04-01</td><td>7760</td><td>1991Q2</td><td>14608075000</td><td>770896232</td><td>-1.173156</td><td> 0.597095839</td><td>-0.16856002</td><td>-0.50191541</td><td>1.1645851</td><td>0.7732878</td><td>-1.036861</td><td> 0.21815121</td></tr>\n",
       "\t<tr><th scope=row>⋮</th><td>⋮</td><td>⋮</td><td>⋮</td><td>⋮</td><td>⋮</td><td>⋮</td><td>⋮</td><td>⋮</td><td>⋮</td><td>⋮</td><td>⋮</td><td>⋮</td><td>⋮</td></tr>\n",
       "\t<tr><th scope=row>115</th><td>2012-07-01</td><td>15522</td><td>2012Q3</td><td>289207541000</td><td>320551740723</td><td>0.7814146</td><td> 1.31850933</td><td>-0.75681891</td><td>-0.801481348</td><td>-1.2613447</td><td>-1.1753849</td><td>0.5150093</td><td>-0.47686285</td></tr>\n",
       "\t<tr><th scope=row>116</th><td>2012-10-01</td><td>15614</td><td>2012Q4</td><td>291079234000</td><td>320997766733</td><td>0.8020535</td><td> 1.17823449</td><td>-1.04499860</td><td> 0.285474989</td><td>-1.2376588</td><td>-1.1697069</td><td>0.5303683</td><td>-0.54046461</td></tr>\n",
       "\t<tr><th scope=row>117</th><td>2013-01-01</td><td>15706</td><td>2013Q1</td><td>290947616000</td><td>321392831435</td><td>0.8181608</td><td> 1.13815596</td><td>-0.17350002</td><td>-2.002292241</td><td>-1.1466553</td><td>-1.1753849</td><td>0.5650470</td><td> 0.10697496</td></tr>\n",
       "\t<tr><th scope=row>118</th><td>2013-04-01</td><td>15796</td><td>2013Q2</td><td>287731446000</td><td>321735491131</td><td>0.8351093</td><td> 1.01792038</td><td>-0.25109092</td><td>-2.042082947</td><td>-1.1292025</td><td>-1.1844696</td><td>0.5773031</td><td>-0.65380713</td></tr>\n",
       "\t<tr><th scope=row>119</th><td>2013-07-01</td><td>15887</td><td>2013Q3</td><td>288716911000</td><td>322042812626</td><td>0.8560320</td><td> 0.83756700</td><td>-0.50737468</td><td>-1.561582482</td><td>-0.8624251</td><td>-1.1958255</td><td>0.6115831</td><td> 0.07227228</td></tr>\n",
       "\t<tr><th scope=row>120</th><td>2013-10-01</td><td>15979</td><td>2013Q4</td><td>289580458000</td><td>322317977816</td><td>0.8773542</td><td> 0.65721363</td><td>-1.54043703</td><td>-2.616963991</td><td>-0.8487122</td><td>-1.1946899</td><td>0.6478470</td><td> 0.12193238</td></tr>\n",
       "\t<tr><th scope=row>121</th><td>2014-01-01</td><td>16071</td><td>2014Q1</td><td>290596988000</td><td>322561457288</td><td>0.8954067</td><td> 0.49689952</td><td> 0.09519121</td><td>-0.588790592</td><td>-0.8424791</td><td>-1.1992323</td><td>0.6487177</td><td>-1.03290447</td></tr>\n",
       "\t<tr><th scope=row>122</th><td>2014-04-01</td><td>16161</td><td>2014Q2</td><td>294408116000</td><td>322772452267</td><td>0.9138060</td><td> 0.21634983</td><td> 0.75499142</td><td>-0.238172072</td><td>-0.8948373</td><td>-1.1924187</td><td>0.6975561</td><td> 0.50949051</td></tr>\n",
       "\t<tr><th scope=row>123</th><td>2014-07-01</td><td>16252</td><td>2014Q3</td><td>293778772000</td><td>322961539820</td><td>0.9355909</td><td> 0.13619277</td><td>-0.92136171</td><td>-0.059773354</td><td>-0.9422090</td><td>-1.1935543</td><td>0.7410579</td><td> 0.31228256</td></tr>\n",
       "\t<tr><th scope=row>124</th><td>2014-10-01</td><td>16344</td><td>2014Q4</td><td>294209924000</td><td>323130723992</td><td>0.9574493</td><td>-0.08423913</td><td>-2.36475886</td><td> 0.250714335</td><td>-1.0232395</td><td>-1.1901476</td><td>0.7574786</td><td>-0.55088951</td></tr>\n",
       "\t<tr><th scope=row>125</th><td>2015-01-01</td><td>16436</td><td>2015Q1</td><td>293798340000</td><td>323280333159</td><td>0.9750181</td><td>-0.18443545</td><td>-1.95572568</td><td>-0.028485742</td><td>-1.1404222</td><td>-1.1867408</td><td>0.7805374</td><td>-0.34902397</td></tr>\n",
       "\t<tr><th scope=row>126</th><td>2015-04-01</td><td>16526</td><td>2015Q2</td><td>295206800000</td><td>323409911111</td><td>0.9931757</td><td>-0.24455324</td><td> 0.79387052</td><td>-0.383627909</td><td>-1.0656247</td><td>-1.1821984</td><td>0.8134629</td><td>-0.05293168</td></tr>\n",
       "\t<tr><th scope=row>127</th><td>2015-07-01</td><td>16617</td><td>2015Q3</td><td>295915028000</td><td>323525979371</td><td>1.0147397</td><td>-0.44494587</td><td>-0.68866175</td><td>-0.538467384</td><td>-1.0456788</td><td>-1.1776561</td><td>0.8320138</td><td>-0.49971635</td></tr>\n",
       "\t<tr><th scope=row>128</th><td>2015-10-01</td><td>16709</td><td>2015Q4</td><td>298641755000</td><td>323629785652</td><td>1.0362828</td><td>-0.48502440</td><td>-1.80894492</td><td>-0.849476597</td><td>-1.0568984</td><td>-1.1697069</td><td>0.8371159</td><td>-0.90758502</td></tr>\n",
       "\t<tr><th scope=row>129</th><td>2016-01-01</td><td>16801</td><td>2016Q1</td><td>301259780000</td><td>323721546217</td><td>1.0545244</td><td>-0.56518146</td><td>-1.00004144</td><td>-0.873629166</td><td>-1.1578749</td><td>-1.1015715</td><td>0.8509399</td><td>-0.64623633</td></tr>\n",
       "\t<tr><th scope=row>130</th><td>2016-04-01</td><td>16892</td><td>2016Q2</td><td>302882591000</td><td>323801824299</td><td>1.0727135</td><td>-0.54514219</td><td> 0.74159990</td><td>-1.016775941</td><td>-1.2202061</td><td>-1.0970292</td><td>0.8792239</td><td>-0.21664151</td></tr>\n",
       "\t<tr><th scope=row>131</th><td>2016-07-01</td><td>16983</td><td>2016Q3</td><td>306213405000</td><td>323872872824</td><td>1.0935206</td><td>-0.56518146</td><td>-0.57859492</td><td>-0.980639675</td><td>-1.2912636</td><td>-1.0890800</td><td>0.9067722</td><td>-0.24676554</td></tr>\n",
       "\t<tr><th scope=row>132</th><td>2016-10-01</td><td>17075</td><td>2016Q4</td><td>306029168000</td><td>323936398678</td><td>1.1134550</td><td>-0.64533851</td><td>-0.75171520</td><td>-0.740425345</td><td>-1.0793376</td><td>-1.0709106</td><td>0.9367265</td><td>-0.18413630</td></tr>\n",
       "\t<tr><th scope=row>133</th><td>2017-01-01</td><td>17167</td><td>2017Q1</td><td>308433213000</td><td>323992539783</td><td>1.1290787</td><td>-0.76557409</td><td> 0.14159619</td><td>-0.443584178</td><td>-0.9621550</td><td>-0.9857413</td><td>0.9657620</td><td>-0.21979050</td></tr>\n",
       "\t<tr><th scope=row>134</th><td>2017-04-01</td><td>17257</td><td>2017Q2</td><td>315746028000</td><td>324041137871</td><td>1.1448917</td><td>-0.88580967</td><td>-0.24710190</td><td>-0.105569135</td><td>-1.0294726</td><td>-0.9005721</td><td>0.9899031</td><td>-0.36849076</td></tr>\n",
       "\t<tr><th scope=row>135</th><td>2017-07-01</td><td>17348</td><td>2017Q3</td><td>317660727000</td><td>324084648477</td><td>1.1633857</td><td>-0.90584894</td><td>-0.47807311</td><td>-0.049633885</td><td>-1.0369524</td><td>-0.8313011</td><td>1.0285682</td><td> 0.03904119</td></tr>\n",
       "\t<tr><th scope=row>136</th><td>2017-10-01</td><td>17440</td><td>2017Q4</td><td>322350768000</td><td>324123545875</td><td>1.1807757</td><td>-1.00604526</td><td>-0.51893048</td><td>-0.005689889</td><td>-0.9895807</td><td>-0.8142672</td><td>1.0810184</td><td> 0.41196340</td></tr>\n",
       "\t<tr><th scope=row>137</th><td>2018-01-01</td><td>17532</td><td>2018Q1</td><td>325714789000</td><td>324157916602</td><td>1.1933714</td><td>-1.08620231</td><td> 0.29156256</td><td> 0.045366474</td><td>-0.8437257</td><td>-0.7313691</td><td>1.1253950</td><td> 0.16381794</td></tr>\n",
       "\t<tr><th scope=row>138</th><td>2018-04-01</td><td>17622</td><td>2018Q2</td><td>327804206000</td><td>324187665609</td><td>1.2070816</td><td>-1.14632010</td><td> 0.52262052</td><td> 0.097719087</td><td>-0.7838878</td><td>-0.6325728</td><td>1.1638175</td><td>-0.01570855</td></tr>\n",
       "\t<tr><th scope=row>139</th><td>2018-07-01</td><td>17713</td><td>2018Q3</td><td>331039546000</td><td>324214297406</td><td>1.2232940</td><td>-1.24651642</td><td>-0.58710783</td><td> 0.231871476</td><td>-0.7813945</td><td>-0.5689797</td><td>1.1969810</td><td>-0.16983011</td></tr>\n",
       "\t<tr><th scope=row>140</th><td>2018-10-01</td><td>17805</td><td>2018Q4</td><td>334393555000</td><td>324238103221</td><td>1.2384972</td><td>-1.20643789</td><td>-1.19206220</td><td> 0.276552408</td><td>-0.7415026</td><td>-0.4679122</td><td>1.2151200</td><td>-0.57863326</td></tr>\n",
       "\t<tr><th scope=row>141</th><td>2019-01-01</td><td>17897</td><td>2019Q1</td><td>337239215000</td><td>324259136796</td><td>1.2494317</td><td>-1.18639863</td><td>-0.57476784</td><td> 0.149773147</td><td>-0.8836177</td><td>-0.4054548</td><td>1.2446165</td><td>-0.28112742</td></tr>\n",
       "\t<tr><th scope=row>142</th><td>2019-04-01</td><td>17987</td><td>2019Q2</td><td>338841270000</td><td>324277340656</td><td>1.2613229</td><td>-1.32667348</td><td> 0.78273497</td><td>-0.221188556</td><td>-1.0032935</td><td>-0.4077259</td><td>1.2882125</td><td> 0.08103607</td></tr>\n",
       "\t<tr><th scope=row>143</th><td>2019-07-01</td><td>18078</td><td>2019Q3</td><td>338626199000</td><td>324293635949</td><td>1.2765681</td><td>-1.34671274</td><td>-0.67059839</td><td>-0.408302002</td><td>-1.2040000</td><td>-0.4781325</td><td>1.3368168</td><td> 0.19518850</td></tr>\n",
       "\t<tr><th scope=row>144</th><td>2019-10-01</td><td>18170</td><td>2019Q4</td><td>349600055000</td><td>324308201218</td><td>1.2916871</td><td>-1.34671274</td><td>-0.76674023</td><td>-0.588110344</td><td>-1.2052466</td><td>-0.6643693</td><td>1.3697105</td><td>-0.22332210</td></tr>\n",
       "</tbody>\n",
       "</table>\n"
      ],
      "text/latex": [
       "A data.frame: 144 × 13\n",
       "\\begin{tabular}{r|lllllllllllll}\n",
       "  & time\\_as\\_date & time\\_as\\_numeric & time & deposits & logistic\\_trend & population & unemployment\\_rate & ConsumerPriceIndex & DisposablePersonalIncome & Yield & fed\\_rate & GDP & GDP\\_growth\\_rate\\\\\n",
       "  & <date> & <dbl> & <chr> & <dbl> & <dbl> & <dbl> & <dbl> & <dbl> & <dbl> & <dbl> & <dbl> & <dbl> & <dbl>\\\\\n",
       "\\hline\n",
       "\t1 & 1984-01-01 & 5113 & 1984Q1 & 22917257000 &  21838214 & -1.723813 &  1.218313013 &  0.65970457 &  2.04629596 & 2.5907227 & 2.0758097 & -1.374682 &          NA\\\\\n",
       "\t2 & 1984-04-01 & 5204 & 1984Q2 & 23575192000 &  24686425 & -1.708746 &  0.957802585 &  0.58896015 &  2.44325446 & 3.0606998 & 2.3721988 & -1.359221 &  1.12682516\\\\\n",
       "\t3 & 1984-07-01 & 5295 & 1984Q3 & 24308965000 &  27906077 & -1.690610 &  0.957802585 &  0.62166082 &  2.14181406 & 2.9360374 & 2.6560963 & -1.347855 &  0.50660191\\\\\n",
       "\t4 & 1984-10-01 & 5387 & 1984Q4 & 24967964000 &  31588126 & -1.672463 &  0.877645531 &  0.05147526 &  1.57042873 & 2.5159252 & 1.9327254 & -1.338065 &  0.26463140\\\\\n",
       "\t5 & 1985-01-01 & 5479 & 1985Q1 & 25673746000 &  35755947 & -1.658584 &  0.837567003 & -0.10623491 &  0.73290408 & 2.4560873 & 1.6635905 & -1.325639 &  0.59551678\\\\\n",
       "\t6 & 1985-04-01 & 5569 & 1985Q2 & 26941332000 &  40364715 & -1.642719 &  0.877645531 &  0.82721110 &  0.82091301 & 2.1681172 & 1.4750825 & -1.315785 &  0.22722697\\\\\n",
       "\t7 & 1985-07-01 & 5660 & 1985Q3 & 27141405000 &  45628873 & -1.623363 &  0.817527739 &  0.02209134 &  0.19094702 & 1.9898500 & 1.4671334 & -1.301795 &  0.74038857\\\\\n",
       "\t8 & 1985-10-01 & 5752 & 1985Q4 & 27133355000 &  51648972 & -1.604522 &  0.717331421 &  0.30518980 &  0.33221556 & 1.7741841 & 1.5364044 & -1.293068 &  0.03925119\\\\\n",
       "\t9 & 1986-01-01 & 5844 & 1986Q1 & 28651198000 &  58463197 & -1.589571 &  0.717331421 & -0.76509047 &  0.78490146 & 1.3241530 & 1.4421504 & -1.283354 &  0.14780873\\\\\n",
       "\t10 & 1986-04-01 & 5934 & 1986Q2 & 29041646000 &  65998225 & -1.573579 &  0.797488476 & -1.43751925 &  0.12553744 & 0.9676186 & 1.1332699 & -1.277653 & -0.36152083\\\\\n",
       "\t11 & 1986-07-01 & 6025 & 1986Q3 & 29089391000 &  74604603 & -1.554843 &  0.677252894 &  0.05230320 &  0.35704460 & 0.8566691 & 0.8902536 & -1.268163 &  0.09363683\\\\\n",
       "\t12 & 1986-10-01 & 6117 & 1986Q4 & 28841488000 &  84446655 & -1.536633 &  0.597095839 & -0.24249451 & -0.11164601 & 0.8404629 & 0.9106942 & -1.260557 & -0.14803504\\\\\n",
       "\t13 & 1987-01-01 & 6209 & 1987Q1 & 28715469000 &  95586715 & -1.521798 &  0.456820993 &  0.65480875 & -0.26131183 & 0.8142838 & 0.8947960 & -1.250732 &  0.10557191\\\\\n",
       "\t14 & 1987-04-01 & 6299 & 1987Q2 & 30084121000 & 107904815 & -1.505691 &  0.256428356 &  0.96403749 & -0.74211085 & 1.2443690 & 1.0412871 & -1.237942 &  0.43686858\\\\\n",
       "\t15 & 1987-07-01 & 6390 & 1987Q3 & 30114432000 & 121973891 & -1.486755 &  0.096114246 &  0.70555494 & -0.09690354 & 1.4438288 & 1.1071513 & -1.226006 &  0.31242995\\\\\n",
       "\t16 & 1987-10-01 & 6482 & 1987Q4 & 30112629000 & 138062373 & -1.467820 & -0.004082072 &  0.22689459 &  0.57371102 & 1.5360790 & 1.1321343 & -1.207212 &  1.06681542\\\\\n",
       "\t17 & 1988-01-01 & 6574 & 1988Q1 & 29670701000 & 156271920 & -1.452459 & -0.084239127 & -0.14766560 &  0.87467147 & 1.2717948 & 1.0458295 & -1.197258 &  0.03823643\\\\\n",
       "\t18 & 1988-04-01 & 6665 & 1988Q2 & 30050617000 & 176643864 & -1.436404 & -0.224513973 &  0.88513503 &  1.82684807 & 1.4562951 & 1.2138968 & -1.179496 &  0.87519228\\\\\n",
       "\t19 & 1988-07-01 & 6756 & 1988Q3 & 28929456000 & 199669903 & -1.416301 & -0.224513973 &  0.99411548 &  1.62588403 & 1.5273526 & 1.4955232 & -1.165367 &  0.44452119\\\\\n",
       "\t20 & 1988-10-01 & 6848 & 1988Q4 & 27407592000 & 225999427 & -1.396987 & -0.304671028 &  0.52650215 &  1.48700014 & 1.4737478 & 1.6613193 & -1.147603 &  0.79858562\\\\\n",
       "\t21 & 1989-01-01 & 6940 & 1989Q1 & 22463251000 & 255798162 & -1.381406 & -0.384828083 &  0.64047503 &  1.40520792 & 1.5672446 & 1.9929117 & -1.130589 &  0.68153077\\\\\n",
       "\t22 & 1989-04-01 & 7030 & 1989Q2 & 22035364000 & 288744063 & -1.363837 & -0.364788819 &  1.48290680 &  0.90361600 & 1.4051835 & 2.0894368 & -1.115180 &  0.48527366\\\\\n",
       "\t23 & 1989-07-01 & 7121 & 1989Q3 & 20782366000 & 326367979 & -1.342357 & -0.364788819 &  0.16972173 &  0.50200159 & 1.1558587 & 1.8702679 & -1.102558 &  0.18274337\\\\\n",
       "\t24 & 1989-10-01 & 7213 & 1989Q4 & 18774087000 & 369385545 & -1.321035 & -0.284631764 &  0.41176101 &  0.37605752 & 1.0810613 & 1.7101497 & -1.094660 & -0.29408064\\\\\n",
       "\t25 & 1990-01-01 & 7305 & 1990Q1 & 17379316000 & 418065810 & -1.303308 & -0.324710291 &  1.60485712 &  0.38383124 & 1.2742880 & 1.5863704 & -1.075558 &  0.77710112\\\\\n",
       "\t26 & 1990-04-01 & 7395 & 1990Q2 & 17271554000 & 471880788 & -1.278874 & -0.304671028 &  0.49476759 &  0.63763540 & 1.3690314 & 1.5840992 & -1.062262 &  0.19107317\\\\\n",
       "\t27 & 1990-07-01 & 7486 & 1990Q3 & 17116974000 & 533328513 & -1.251001 & -0.084239127 &  1.61335659 &  0.65005370 & 1.3790044 & 1.5557094 & -1.053875 & -0.28270140\\\\\n",
       "\t28 & 1990-10-01 & 7578 & 1990Q4 & 16174668000 & 603574110 & -1.223024 &  0.176271301 &  1.44776484 &  0.19527415 & 1.2643150 & 1.4137607 & -1.055455 & -1.20624657\\\\\n",
       "\t29 & 1991-01-01 & 7670 & 1991Q1 & 15608863000 & 683052362 & -1.198558 &  0.456820993 &  0.19190997 & -0.36480772 & 1.1221999 & 0.9652026 & -1.050820 & -0.63402739\\\\\n",
       "\t30 & 1991-04-01 & 7760 & 1991Q2 & 14608075000 & 770896232 & -1.173156 &  0.597095839 & -0.16856002 & -0.50191541 & 1.1645851 & 0.7732878 & -1.036861 &  0.21815121\\\\\n",
       "\t⋮ & ⋮ & ⋮ & ⋮ & ⋮ & ⋮ & ⋮ & ⋮ & ⋮ & ⋮ & ⋮ & ⋮ & ⋮ & ⋮\\\\\n",
       "\t115 & 2012-07-01 & 15522 & 2012Q3 & 289207541000 & 320551740723 & 0.7814146 &  1.31850933 & -0.75681891 & -0.801481348 & -1.2613447 & -1.1753849 & 0.5150093 & -0.47686285\\\\\n",
       "\t116 & 2012-10-01 & 15614 & 2012Q4 & 291079234000 & 320997766733 & 0.8020535 &  1.17823449 & -1.04499860 &  0.285474989 & -1.2376588 & -1.1697069 & 0.5303683 & -0.54046461\\\\\n",
       "\t117 & 2013-01-01 & 15706 & 2013Q1 & 290947616000 & 321392831435 & 0.8181608 &  1.13815596 & -0.17350002 & -2.002292241 & -1.1466553 & -1.1753849 & 0.5650470 &  0.10697496\\\\\n",
       "\t118 & 2013-04-01 & 15796 & 2013Q2 & 287731446000 & 321735491131 & 0.8351093 &  1.01792038 & -0.25109092 & -2.042082947 & -1.1292025 & -1.1844696 & 0.5773031 & -0.65380713\\\\\n",
       "\t119 & 2013-07-01 & 15887 & 2013Q3 & 288716911000 & 322042812626 & 0.8560320 &  0.83756700 & -0.50737468 & -1.561582482 & -0.8624251 & -1.1958255 & 0.6115831 &  0.07227228\\\\\n",
       "\t120 & 2013-10-01 & 15979 & 2013Q4 & 289580458000 & 322317977816 & 0.8773542 &  0.65721363 & -1.54043703 & -2.616963991 & -0.8487122 & -1.1946899 & 0.6478470 &  0.12193238\\\\\n",
       "\t121 & 2014-01-01 & 16071 & 2014Q1 & 290596988000 & 322561457288 & 0.8954067 &  0.49689952 &  0.09519121 & -0.588790592 & -0.8424791 & -1.1992323 & 0.6487177 & -1.03290447\\\\\n",
       "\t122 & 2014-04-01 & 16161 & 2014Q2 & 294408116000 & 322772452267 & 0.9138060 &  0.21634983 &  0.75499142 & -0.238172072 & -0.8948373 & -1.1924187 & 0.6975561 &  0.50949051\\\\\n",
       "\t123 & 2014-07-01 & 16252 & 2014Q3 & 293778772000 & 322961539820 & 0.9355909 &  0.13619277 & -0.92136171 & -0.059773354 & -0.9422090 & -1.1935543 & 0.7410579 &  0.31228256\\\\\n",
       "\t124 & 2014-10-01 & 16344 & 2014Q4 & 294209924000 & 323130723992 & 0.9574493 & -0.08423913 & -2.36475886 &  0.250714335 & -1.0232395 & -1.1901476 & 0.7574786 & -0.55088951\\\\\n",
       "\t125 & 2015-01-01 & 16436 & 2015Q1 & 293798340000 & 323280333159 & 0.9750181 & -0.18443545 & -1.95572568 & -0.028485742 & -1.1404222 & -1.1867408 & 0.7805374 & -0.34902397\\\\\n",
       "\t126 & 2015-04-01 & 16526 & 2015Q2 & 295206800000 & 323409911111 & 0.9931757 & -0.24455324 &  0.79387052 & -0.383627909 & -1.0656247 & -1.1821984 & 0.8134629 & -0.05293168\\\\\n",
       "\t127 & 2015-07-01 & 16617 & 2015Q3 & 295915028000 & 323525979371 & 1.0147397 & -0.44494587 & -0.68866175 & -0.538467384 & -1.0456788 & -1.1776561 & 0.8320138 & -0.49971635\\\\\n",
       "\t128 & 2015-10-01 & 16709 & 2015Q4 & 298641755000 & 323629785652 & 1.0362828 & -0.48502440 & -1.80894492 & -0.849476597 & -1.0568984 & -1.1697069 & 0.8371159 & -0.90758502\\\\\n",
       "\t129 & 2016-01-01 & 16801 & 2016Q1 & 301259780000 & 323721546217 & 1.0545244 & -0.56518146 & -1.00004144 & -0.873629166 & -1.1578749 & -1.1015715 & 0.8509399 & -0.64623633\\\\\n",
       "\t130 & 2016-04-01 & 16892 & 2016Q2 & 302882591000 & 323801824299 & 1.0727135 & -0.54514219 &  0.74159990 & -1.016775941 & -1.2202061 & -1.0970292 & 0.8792239 & -0.21664151\\\\\n",
       "\t131 & 2016-07-01 & 16983 & 2016Q3 & 306213405000 & 323872872824 & 1.0935206 & -0.56518146 & -0.57859492 & -0.980639675 & -1.2912636 & -1.0890800 & 0.9067722 & -0.24676554\\\\\n",
       "\t132 & 2016-10-01 & 17075 & 2016Q4 & 306029168000 & 323936398678 & 1.1134550 & -0.64533851 & -0.75171520 & -0.740425345 & -1.0793376 & -1.0709106 & 0.9367265 & -0.18413630\\\\\n",
       "\t133 & 2017-01-01 & 17167 & 2017Q1 & 308433213000 & 323992539783 & 1.1290787 & -0.76557409 &  0.14159619 & -0.443584178 & -0.9621550 & -0.9857413 & 0.9657620 & -0.21979050\\\\\n",
       "\t134 & 2017-04-01 & 17257 & 2017Q2 & 315746028000 & 324041137871 & 1.1448917 & -0.88580967 & -0.24710190 & -0.105569135 & -1.0294726 & -0.9005721 & 0.9899031 & -0.36849076\\\\\n",
       "\t135 & 2017-07-01 & 17348 & 2017Q3 & 317660727000 & 324084648477 & 1.1633857 & -0.90584894 & -0.47807311 & -0.049633885 & -1.0369524 & -0.8313011 & 1.0285682 &  0.03904119\\\\\n",
       "\t136 & 2017-10-01 & 17440 & 2017Q4 & 322350768000 & 324123545875 & 1.1807757 & -1.00604526 & -0.51893048 & -0.005689889 & -0.9895807 & -0.8142672 & 1.0810184 &  0.41196340\\\\\n",
       "\t137 & 2018-01-01 & 17532 & 2018Q1 & 325714789000 & 324157916602 & 1.1933714 & -1.08620231 &  0.29156256 &  0.045366474 & -0.8437257 & -0.7313691 & 1.1253950 &  0.16381794\\\\\n",
       "\t138 & 2018-04-01 & 17622 & 2018Q2 & 327804206000 & 324187665609 & 1.2070816 & -1.14632010 &  0.52262052 &  0.097719087 & -0.7838878 & -0.6325728 & 1.1638175 & -0.01570855\\\\\n",
       "\t139 & 2018-07-01 & 17713 & 2018Q3 & 331039546000 & 324214297406 & 1.2232940 & -1.24651642 & -0.58710783 &  0.231871476 & -0.7813945 & -0.5689797 & 1.1969810 & -0.16983011\\\\\n",
       "\t140 & 2018-10-01 & 17805 & 2018Q4 & 334393555000 & 324238103221 & 1.2384972 & -1.20643789 & -1.19206220 &  0.276552408 & -0.7415026 & -0.4679122 & 1.2151200 & -0.57863326\\\\\n",
       "\t141 & 2019-01-01 & 17897 & 2019Q1 & 337239215000 & 324259136796 & 1.2494317 & -1.18639863 & -0.57476784 &  0.149773147 & -0.8836177 & -0.4054548 & 1.2446165 & -0.28112742\\\\\n",
       "\t142 & 2019-04-01 & 17987 & 2019Q2 & 338841270000 & 324277340656 & 1.2613229 & -1.32667348 &  0.78273497 & -0.221188556 & -1.0032935 & -0.4077259 & 1.2882125 &  0.08103607\\\\\n",
       "\t143 & 2019-07-01 & 18078 & 2019Q3 & 338626199000 & 324293635949 & 1.2765681 & -1.34671274 & -0.67059839 & -0.408302002 & -1.2040000 & -0.4781325 & 1.3368168 &  0.19518850\\\\\n",
       "\t144 & 2019-10-01 & 18170 & 2019Q4 & 349600055000 & 324308201218 & 1.2916871 & -1.34671274 & -0.76674023 & -0.588110344 & -1.2052466 & -0.6643693 & 1.3697105 & -0.22332210\\\\\n",
       "\\end{tabular}\n"
      ],
      "text/markdown": [
       "\n",
       "A data.frame: 144 × 13\n",
       "\n",
       "| <!--/--> | time_as_date &lt;date&gt; | time_as_numeric &lt;dbl&gt; | time &lt;chr&gt; | deposits &lt;dbl&gt; | logistic_trend &lt;dbl&gt; | population &lt;dbl&gt; | unemployment_rate &lt;dbl&gt; | ConsumerPriceIndex &lt;dbl&gt; | DisposablePersonalIncome &lt;dbl&gt; | Yield &lt;dbl&gt; | fed_rate &lt;dbl&gt; | GDP &lt;dbl&gt; | GDP_growth_rate &lt;dbl&gt; |\n",
       "|---|---|---|---|---|---|---|---|---|---|---|---|---|---|\n",
       "| 1 | 1984-01-01 | 5113 | 1984Q1 | 22917257000 |  21838214 | -1.723813 |  1.218313013 |  0.65970457 |  2.04629596 | 2.5907227 | 2.0758097 | -1.374682 |          NA |\n",
       "| 2 | 1984-04-01 | 5204 | 1984Q2 | 23575192000 |  24686425 | -1.708746 |  0.957802585 |  0.58896015 |  2.44325446 | 3.0606998 | 2.3721988 | -1.359221 |  1.12682516 |\n",
       "| 3 | 1984-07-01 | 5295 | 1984Q3 | 24308965000 |  27906077 | -1.690610 |  0.957802585 |  0.62166082 |  2.14181406 | 2.9360374 | 2.6560963 | -1.347855 |  0.50660191 |\n",
       "| 4 | 1984-10-01 | 5387 | 1984Q4 | 24967964000 |  31588126 | -1.672463 |  0.877645531 |  0.05147526 |  1.57042873 | 2.5159252 | 1.9327254 | -1.338065 |  0.26463140 |\n",
       "| 5 | 1985-01-01 | 5479 | 1985Q1 | 25673746000 |  35755947 | -1.658584 |  0.837567003 | -0.10623491 |  0.73290408 | 2.4560873 | 1.6635905 | -1.325639 |  0.59551678 |\n",
       "| 6 | 1985-04-01 | 5569 | 1985Q2 | 26941332000 |  40364715 | -1.642719 |  0.877645531 |  0.82721110 |  0.82091301 | 2.1681172 | 1.4750825 | -1.315785 |  0.22722697 |\n",
       "| 7 | 1985-07-01 | 5660 | 1985Q3 | 27141405000 |  45628873 | -1.623363 |  0.817527739 |  0.02209134 |  0.19094702 | 1.9898500 | 1.4671334 | -1.301795 |  0.74038857 |\n",
       "| 8 | 1985-10-01 | 5752 | 1985Q4 | 27133355000 |  51648972 | -1.604522 |  0.717331421 |  0.30518980 |  0.33221556 | 1.7741841 | 1.5364044 | -1.293068 |  0.03925119 |\n",
       "| 9 | 1986-01-01 | 5844 | 1986Q1 | 28651198000 |  58463197 | -1.589571 |  0.717331421 | -0.76509047 |  0.78490146 | 1.3241530 | 1.4421504 | -1.283354 |  0.14780873 |\n",
       "| 10 | 1986-04-01 | 5934 | 1986Q2 | 29041646000 |  65998225 | -1.573579 |  0.797488476 | -1.43751925 |  0.12553744 | 0.9676186 | 1.1332699 | -1.277653 | -0.36152083 |\n",
       "| 11 | 1986-07-01 | 6025 | 1986Q3 | 29089391000 |  74604603 | -1.554843 |  0.677252894 |  0.05230320 |  0.35704460 | 0.8566691 | 0.8902536 | -1.268163 |  0.09363683 |\n",
       "| 12 | 1986-10-01 | 6117 | 1986Q4 | 28841488000 |  84446655 | -1.536633 |  0.597095839 | -0.24249451 | -0.11164601 | 0.8404629 | 0.9106942 | -1.260557 | -0.14803504 |\n",
       "| 13 | 1987-01-01 | 6209 | 1987Q1 | 28715469000 |  95586715 | -1.521798 |  0.456820993 |  0.65480875 | -0.26131183 | 0.8142838 | 0.8947960 | -1.250732 |  0.10557191 |\n",
       "| 14 | 1987-04-01 | 6299 | 1987Q2 | 30084121000 | 107904815 | -1.505691 |  0.256428356 |  0.96403749 | -0.74211085 | 1.2443690 | 1.0412871 | -1.237942 |  0.43686858 |\n",
       "| 15 | 1987-07-01 | 6390 | 1987Q3 | 30114432000 | 121973891 | -1.486755 |  0.096114246 |  0.70555494 | -0.09690354 | 1.4438288 | 1.1071513 | -1.226006 |  0.31242995 |\n",
       "| 16 | 1987-10-01 | 6482 | 1987Q4 | 30112629000 | 138062373 | -1.467820 | -0.004082072 |  0.22689459 |  0.57371102 | 1.5360790 | 1.1321343 | -1.207212 |  1.06681542 |\n",
       "| 17 | 1988-01-01 | 6574 | 1988Q1 | 29670701000 | 156271920 | -1.452459 | -0.084239127 | -0.14766560 |  0.87467147 | 1.2717948 | 1.0458295 | -1.197258 |  0.03823643 |\n",
       "| 18 | 1988-04-01 | 6665 | 1988Q2 | 30050617000 | 176643864 | -1.436404 | -0.224513973 |  0.88513503 |  1.82684807 | 1.4562951 | 1.2138968 | -1.179496 |  0.87519228 |\n",
       "| 19 | 1988-07-01 | 6756 | 1988Q3 | 28929456000 | 199669903 | -1.416301 | -0.224513973 |  0.99411548 |  1.62588403 | 1.5273526 | 1.4955232 | -1.165367 |  0.44452119 |\n",
       "| 20 | 1988-10-01 | 6848 | 1988Q4 | 27407592000 | 225999427 | -1.396987 | -0.304671028 |  0.52650215 |  1.48700014 | 1.4737478 | 1.6613193 | -1.147603 |  0.79858562 |\n",
       "| 21 | 1989-01-01 | 6940 | 1989Q1 | 22463251000 | 255798162 | -1.381406 | -0.384828083 |  0.64047503 |  1.40520792 | 1.5672446 | 1.9929117 | -1.130589 |  0.68153077 |\n",
       "| 22 | 1989-04-01 | 7030 | 1989Q2 | 22035364000 | 288744063 | -1.363837 | -0.364788819 |  1.48290680 |  0.90361600 | 1.4051835 | 2.0894368 | -1.115180 |  0.48527366 |\n",
       "| 23 | 1989-07-01 | 7121 | 1989Q3 | 20782366000 | 326367979 | -1.342357 | -0.364788819 |  0.16972173 |  0.50200159 | 1.1558587 | 1.8702679 | -1.102558 |  0.18274337 |\n",
       "| 24 | 1989-10-01 | 7213 | 1989Q4 | 18774087000 | 369385545 | -1.321035 | -0.284631764 |  0.41176101 |  0.37605752 | 1.0810613 | 1.7101497 | -1.094660 | -0.29408064 |\n",
       "| 25 | 1990-01-01 | 7305 | 1990Q1 | 17379316000 | 418065810 | -1.303308 | -0.324710291 |  1.60485712 |  0.38383124 | 1.2742880 | 1.5863704 | -1.075558 |  0.77710112 |\n",
       "| 26 | 1990-04-01 | 7395 | 1990Q2 | 17271554000 | 471880788 | -1.278874 | -0.304671028 |  0.49476759 |  0.63763540 | 1.3690314 | 1.5840992 | -1.062262 |  0.19107317 |\n",
       "| 27 | 1990-07-01 | 7486 | 1990Q3 | 17116974000 | 533328513 | -1.251001 | -0.084239127 |  1.61335659 |  0.65005370 | 1.3790044 | 1.5557094 | -1.053875 | -0.28270140 |\n",
       "| 28 | 1990-10-01 | 7578 | 1990Q4 | 16174668000 | 603574110 | -1.223024 |  0.176271301 |  1.44776484 |  0.19527415 | 1.2643150 | 1.4137607 | -1.055455 | -1.20624657 |\n",
       "| 29 | 1991-01-01 | 7670 | 1991Q1 | 15608863000 | 683052362 | -1.198558 |  0.456820993 |  0.19190997 | -0.36480772 | 1.1221999 | 0.9652026 | -1.050820 | -0.63402739 |\n",
       "| 30 | 1991-04-01 | 7760 | 1991Q2 | 14608075000 | 770896232 | -1.173156 |  0.597095839 | -0.16856002 | -0.50191541 | 1.1645851 | 0.7732878 | -1.036861 |  0.21815121 |\n",
       "| ⋮ | ⋮ | ⋮ | ⋮ | ⋮ | ⋮ | ⋮ | ⋮ | ⋮ | ⋮ | ⋮ | ⋮ | ⋮ | ⋮ |\n",
       "| 115 | 2012-07-01 | 15522 | 2012Q3 | 289207541000 | 320551740723 | 0.7814146 |  1.31850933 | -0.75681891 | -0.801481348 | -1.2613447 | -1.1753849 | 0.5150093 | -0.47686285 |\n",
       "| 116 | 2012-10-01 | 15614 | 2012Q4 | 291079234000 | 320997766733 | 0.8020535 |  1.17823449 | -1.04499860 |  0.285474989 | -1.2376588 | -1.1697069 | 0.5303683 | -0.54046461 |\n",
       "| 117 | 2013-01-01 | 15706 | 2013Q1 | 290947616000 | 321392831435 | 0.8181608 |  1.13815596 | -0.17350002 | -2.002292241 | -1.1466553 | -1.1753849 | 0.5650470 |  0.10697496 |\n",
       "| 118 | 2013-04-01 | 15796 | 2013Q2 | 287731446000 | 321735491131 | 0.8351093 |  1.01792038 | -0.25109092 | -2.042082947 | -1.1292025 | -1.1844696 | 0.5773031 | -0.65380713 |\n",
       "| 119 | 2013-07-01 | 15887 | 2013Q3 | 288716911000 | 322042812626 | 0.8560320 |  0.83756700 | -0.50737468 | -1.561582482 | -0.8624251 | -1.1958255 | 0.6115831 |  0.07227228 |\n",
       "| 120 | 2013-10-01 | 15979 | 2013Q4 | 289580458000 | 322317977816 | 0.8773542 |  0.65721363 | -1.54043703 | -2.616963991 | -0.8487122 | -1.1946899 | 0.6478470 |  0.12193238 |\n",
       "| 121 | 2014-01-01 | 16071 | 2014Q1 | 290596988000 | 322561457288 | 0.8954067 |  0.49689952 |  0.09519121 | -0.588790592 | -0.8424791 | -1.1992323 | 0.6487177 | -1.03290447 |\n",
       "| 122 | 2014-04-01 | 16161 | 2014Q2 | 294408116000 | 322772452267 | 0.9138060 |  0.21634983 |  0.75499142 | -0.238172072 | -0.8948373 | -1.1924187 | 0.6975561 |  0.50949051 |\n",
       "| 123 | 2014-07-01 | 16252 | 2014Q3 | 293778772000 | 322961539820 | 0.9355909 |  0.13619277 | -0.92136171 | -0.059773354 | -0.9422090 | -1.1935543 | 0.7410579 |  0.31228256 |\n",
       "| 124 | 2014-10-01 | 16344 | 2014Q4 | 294209924000 | 323130723992 | 0.9574493 | -0.08423913 | -2.36475886 |  0.250714335 | -1.0232395 | -1.1901476 | 0.7574786 | -0.55088951 |\n",
       "| 125 | 2015-01-01 | 16436 | 2015Q1 | 293798340000 | 323280333159 | 0.9750181 | -0.18443545 | -1.95572568 | -0.028485742 | -1.1404222 | -1.1867408 | 0.7805374 | -0.34902397 |\n",
       "| 126 | 2015-04-01 | 16526 | 2015Q2 | 295206800000 | 323409911111 | 0.9931757 | -0.24455324 |  0.79387052 | -0.383627909 | -1.0656247 | -1.1821984 | 0.8134629 | -0.05293168 |\n",
       "| 127 | 2015-07-01 | 16617 | 2015Q3 | 295915028000 | 323525979371 | 1.0147397 | -0.44494587 | -0.68866175 | -0.538467384 | -1.0456788 | -1.1776561 | 0.8320138 | -0.49971635 |\n",
       "| 128 | 2015-10-01 | 16709 | 2015Q4 | 298641755000 | 323629785652 | 1.0362828 | -0.48502440 | -1.80894492 | -0.849476597 | -1.0568984 | -1.1697069 | 0.8371159 | -0.90758502 |\n",
       "| 129 | 2016-01-01 | 16801 | 2016Q1 | 301259780000 | 323721546217 | 1.0545244 | -0.56518146 | -1.00004144 | -0.873629166 | -1.1578749 | -1.1015715 | 0.8509399 | -0.64623633 |\n",
       "| 130 | 2016-04-01 | 16892 | 2016Q2 | 302882591000 | 323801824299 | 1.0727135 | -0.54514219 |  0.74159990 | -1.016775941 | -1.2202061 | -1.0970292 | 0.8792239 | -0.21664151 |\n",
       "| 131 | 2016-07-01 | 16983 | 2016Q3 | 306213405000 | 323872872824 | 1.0935206 | -0.56518146 | -0.57859492 | -0.980639675 | -1.2912636 | -1.0890800 | 0.9067722 | -0.24676554 |\n",
       "| 132 | 2016-10-01 | 17075 | 2016Q4 | 306029168000 | 323936398678 | 1.1134550 | -0.64533851 | -0.75171520 | -0.740425345 | -1.0793376 | -1.0709106 | 0.9367265 | -0.18413630 |\n",
       "| 133 | 2017-01-01 | 17167 | 2017Q1 | 308433213000 | 323992539783 | 1.1290787 | -0.76557409 |  0.14159619 | -0.443584178 | -0.9621550 | -0.9857413 | 0.9657620 | -0.21979050 |\n",
       "| 134 | 2017-04-01 | 17257 | 2017Q2 | 315746028000 | 324041137871 | 1.1448917 | -0.88580967 | -0.24710190 | -0.105569135 | -1.0294726 | -0.9005721 | 0.9899031 | -0.36849076 |\n",
       "| 135 | 2017-07-01 | 17348 | 2017Q3 | 317660727000 | 324084648477 | 1.1633857 | -0.90584894 | -0.47807311 | -0.049633885 | -1.0369524 | -0.8313011 | 1.0285682 |  0.03904119 |\n",
       "| 136 | 2017-10-01 | 17440 | 2017Q4 | 322350768000 | 324123545875 | 1.1807757 | -1.00604526 | -0.51893048 | -0.005689889 | -0.9895807 | -0.8142672 | 1.0810184 |  0.41196340 |\n",
       "| 137 | 2018-01-01 | 17532 | 2018Q1 | 325714789000 | 324157916602 | 1.1933714 | -1.08620231 |  0.29156256 |  0.045366474 | -0.8437257 | -0.7313691 | 1.1253950 |  0.16381794 |\n",
       "| 138 | 2018-04-01 | 17622 | 2018Q2 | 327804206000 | 324187665609 | 1.2070816 | -1.14632010 |  0.52262052 |  0.097719087 | -0.7838878 | -0.6325728 | 1.1638175 | -0.01570855 |\n",
       "| 139 | 2018-07-01 | 17713 | 2018Q3 | 331039546000 | 324214297406 | 1.2232940 | -1.24651642 | -0.58710783 |  0.231871476 | -0.7813945 | -0.5689797 | 1.1969810 | -0.16983011 |\n",
       "| 140 | 2018-10-01 | 17805 | 2018Q4 | 334393555000 | 324238103221 | 1.2384972 | -1.20643789 | -1.19206220 |  0.276552408 | -0.7415026 | -0.4679122 | 1.2151200 | -0.57863326 |\n",
       "| 141 | 2019-01-01 | 17897 | 2019Q1 | 337239215000 | 324259136796 | 1.2494317 | -1.18639863 | -0.57476784 |  0.149773147 | -0.8836177 | -0.4054548 | 1.2446165 | -0.28112742 |\n",
       "| 142 | 2019-04-01 | 17987 | 2019Q2 | 338841270000 | 324277340656 | 1.2613229 | -1.32667348 |  0.78273497 | -0.221188556 | -1.0032935 | -0.4077259 | 1.2882125 |  0.08103607 |\n",
       "| 143 | 2019-07-01 | 18078 | 2019Q3 | 338626199000 | 324293635949 | 1.2765681 | -1.34671274 | -0.67059839 | -0.408302002 | -1.2040000 | -0.4781325 | 1.3368168 |  0.19518850 |\n",
       "| 144 | 2019-10-01 | 18170 | 2019Q4 | 349600055000 | 324308201218 | 1.2916871 | -1.34671274 | -0.76674023 | -0.588110344 | -1.2052466 | -0.6643693 | 1.3697105 | -0.22332210 |\n",
       "\n"
      ],
      "text/plain": [
       "    time_as_date time_as_numeric time   deposits     logistic_trend population\n",
       "1   1984-01-01   5113            1984Q1 22917257000   21838214      -1.723813 \n",
       "2   1984-04-01   5204            1984Q2 23575192000   24686425      -1.708746 \n",
       "3   1984-07-01   5295            1984Q3 24308965000   27906077      -1.690610 \n",
       "4   1984-10-01   5387            1984Q4 24967964000   31588126      -1.672463 \n",
       "5   1985-01-01   5479            1985Q1 25673746000   35755947      -1.658584 \n",
       "6   1985-04-01   5569            1985Q2 26941332000   40364715      -1.642719 \n",
       "7   1985-07-01   5660            1985Q3 27141405000   45628873      -1.623363 \n",
       "8   1985-10-01   5752            1985Q4 27133355000   51648972      -1.604522 \n",
       "9   1986-01-01   5844            1986Q1 28651198000   58463197      -1.589571 \n",
       "10  1986-04-01   5934            1986Q2 29041646000   65998225      -1.573579 \n",
       "11  1986-07-01   6025            1986Q3 29089391000   74604603      -1.554843 \n",
       "12  1986-10-01   6117            1986Q4 28841488000   84446655      -1.536633 \n",
       "13  1987-01-01   6209            1987Q1 28715469000   95586715      -1.521798 \n",
       "14  1987-04-01   6299            1987Q2 30084121000  107904815      -1.505691 \n",
       "15  1987-07-01   6390            1987Q3 30114432000  121973891      -1.486755 \n",
       "16  1987-10-01   6482            1987Q4 30112629000  138062373      -1.467820 \n",
       "17  1988-01-01   6574            1988Q1 29670701000  156271920      -1.452459 \n",
       "18  1988-04-01   6665            1988Q2 30050617000  176643864      -1.436404 \n",
       "19  1988-07-01   6756            1988Q3 28929456000  199669903      -1.416301 \n",
       "20  1988-10-01   6848            1988Q4 27407592000  225999427      -1.396987 \n",
       "21  1989-01-01   6940            1989Q1 22463251000  255798162      -1.381406 \n",
       "22  1989-04-01   7030            1989Q2 22035364000  288744063      -1.363837 \n",
       "23  1989-07-01   7121            1989Q3 20782366000  326367979      -1.342357 \n",
       "24  1989-10-01   7213            1989Q4 18774087000  369385545      -1.321035 \n",
       "25  1990-01-01   7305            1990Q1 17379316000  418065810      -1.303308 \n",
       "26  1990-04-01   7395            1990Q2 17271554000  471880788      -1.278874 \n",
       "27  1990-07-01   7486            1990Q3 17116974000  533328513      -1.251001 \n",
       "28  1990-10-01   7578            1990Q4 16174668000  603574110      -1.223024 \n",
       "29  1991-01-01   7670            1991Q1 15608863000  683052362      -1.198558 \n",
       "30  1991-04-01   7760            1991Q2 14608075000  770896232      -1.173156 \n",
       "⋮   ⋮            ⋮               ⋮      ⋮            ⋮              ⋮         \n",
       "115 2012-07-01   15522           2012Q3 289207541000 320551740723   0.7814146 \n",
       "116 2012-10-01   15614           2012Q4 291079234000 320997766733   0.8020535 \n",
       "117 2013-01-01   15706           2013Q1 290947616000 321392831435   0.8181608 \n",
       "118 2013-04-01   15796           2013Q2 287731446000 321735491131   0.8351093 \n",
       "119 2013-07-01   15887           2013Q3 288716911000 322042812626   0.8560320 \n",
       "120 2013-10-01   15979           2013Q4 289580458000 322317977816   0.8773542 \n",
       "121 2014-01-01   16071           2014Q1 290596988000 322561457288   0.8954067 \n",
       "122 2014-04-01   16161           2014Q2 294408116000 322772452267   0.9138060 \n",
       "123 2014-07-01   16252           2014Q3 293778772000 322961539820   0.9355909 \n",
       "124 2014-10-01   16344           2014Q4 294209924000 323130723992   0.9574493 \n",
       "125 2015-01-01   16436           2015Q1 293798340000 323280333159   0.9750181 \n",
       "126 2015-04-01   16526           2015Q2 295206800000 323409911111   0.9931757 \n",
       "127 2015-07-01   16617           2015Q3 295915028000 323525979371   1.0147397 \n",
       "128 2015-10-01   16709           2015Q4 298641755000 323629785652   1.0362828 \n",
       "129 2016-01-01   16801           2016Q1 301259780000 323721546217   1.0545244 \n",
       "130 2016-04-01   16892           2016Q2 302882591000 323801824299   1.0727135 \n",
       "131 2016-07-01   16983           2016Q3 306213405000 323872872824   1.0935206 \n",
       "132 2016-10-01   17075           2016Q4 306029168000 323936398678   1.1134550 \n",
       "133 2017-01-01   17167           2017Q1 308433213000 323992539783   1.1290787 \n",
       "134 2017-04-01   17257           2017Q2 315746028000 324041137871   1.1448917 \n",
       "135 2017-07-01   17348           2017Q3 317660727000 324084648477   1.1633857 \n",
       "136 2017-10-01   17440           2017Q4 322350768000 324123545875   1.1807757 \n",
       "137 2018-01-01   17532           2018Q1 325714789000 324157916602   1.1933714 \n",
       "138 2018-04-01   17622           2018Q2 327804206000 324187665609   1.2070816 \n",
       "139 2018-07-01   17713           2018Q3 331039546000 324214297406   1.2232940 \n",
       "140 2018-10-01   17805           2018Q4 334393555000 324238103221   1.2384972 \n",
       "141 2019-01-01   17897           2019Q1 337239215000 324259136796   1.2494317 \n",
       "142 2019-04-01   17987           2019Q2 338841270000 324277340656   1.2613229 \n",
       "143 2019-07-01   18078           2019Q3 338626199000 324293635949   1.2765681 \n",
       "144 2019-10-01   18170           2019Q4 349600055000 324308201218   1.2916871 \n",
       "    unemployment_rate ConsumerPriceIndex DisposablePersonalIncome Yield     \n",
       "1    1.218313013       0.65970457         2.04629596              2.5907227 \n",
       "2    0.957802585       0.58896015         2.44325446              3.0606998 \n",
       "3    0.957802585       0.62166082         2.14181406              2.9360374 \n",
       "4    0.877645531       0.05147526         1.57042873              2.5159252 \n",
       "5    0.837567003      -0.10623491         0.73290408              2.4560873 \n",
       "6    0.877645531       0.82721110         0.82091301              2.1681172 \n",
       "7    0.817527739       0.02209134         0.19094702              1.9898500 \n",
       "8    0.717331421       0.30518980         0.33221556              1.7741841 \n",
       "9    0.717331421      -0.76509047         0.78490146              1.3241530 \n",
       "10   0.797488476      -1.43751925         0.12553744              0.9676186 \n",
       "11   0.677252894       0.05230320         0.35704460              0.8566691 \n",
       "12   0.597095839      -0.24249451        -0.11164601              0.8404629 \n",
       "13   0.456820993       0.65480875        -0.26131183              0.8142838 \n",
       "14   0.256428356       0.96403749        -0.74211085              1.2443690 \n",
       "15   0.096114246       0.70555494        -0.09690354              1.4438288 \n",
       "16  -0.004082072       0.22689459         0.57371102              1.5360790 \n",
       "17  -0.084239127      -0.14766560         0.87467147              1.2717948 \n",
       "18  -0.224513973       0.88513503         1.82684807              1.4562951 \n",
       "19  -0.224513973       0.99411548         1.62588403              1.5273526 \n",
       "20  -0.304671028       0.52650215         1.48700014              1.4737478 \n",
       "21  -0.384828083       0.64047503         1.40520792              1.5672446 \n",
       "22  -0.364788819       1.48290680         0.90361600              1.4051835 \n",
       "23  -0.364788819       0.16972173         0.50200159              1.1558587 \n",
       "24  -0.284631764       0.41176101         0.37605752              1.0810613 \n",
       "25  -0.324710291       1.60485712         0.38383124              1.2742880 \n",
       "26  -0.304671028       0.49476759         0.63763540              1.3690314 \n",
       "27  -0.084239127       1.61335659         0.65005370              1.3790044 \n",
       "28   0.176271301       1.44776484         0.19527415              1.2643150 \n",
       "29   0.456820993       0.19190997        -0.36480772              1.1221999 \n",
       "30   0.597095839      -0.16856002        -0.50191541              1.1645851 \n",
       "⋮   ⋮                 ⋮                  ⋮                        ⋮         \n",
       "115  1.31850933       -0.75681891        -0.801481348             -1.2613447\n",
       "116  1.17823449       -1.04499860         0.285474989             -1.2376588\n",
       "117  1.13815596       -0.17350002        -2.002292241             -1.1466553\n",
       "118  1.01792038       -0.25109092        -2.042082947             -1.1292025\n",
       "119  0.83756700       -0.50737468        -1.561582482             -0.8624251\n",
       "120  0.65721363       -1.54043703        -2.616963991             -0.8487122\n",
       "121  0.49689952        0.09519121        -0.588790592             -0.8424791\n",
       "122  0.21634983        0.75499142        -0.238172072             -0.8948373\n",
       "123  0.13619277       -0.92136171        -0.059773354             -0.9422090\n",
       "124 -0.08423913       -2.36475886         0.250714335             -1.0232395\n",
       "125 -0.18443545       -1.95572568        -0.028485742             -1.1404222\n",
       "126 -0.24455324        0.79387052        -0.383627909             -1.0656247\n",
       "127 -0.44494587       -0.68866175        -0.538467384             -1.0456788\n",
       "128 -0.48502440       -1.80894492        -0.849476597             -1.0568984\n",
       "129 -0.56518146       -1.00004144        -0.873629166             -1.1578749\n",
       "130 -0.54514219        0.74159990        -1.016775941             -1.2202061\n",
       "131 -0.56518146       -0.57859492        -0.980639675             -1.2912636\n",
       "132 -0.64533851       -0.75171520        -0.740425345             -1.0793376\n",
       "133 -0.76557409        0.14159619        -0.443584178             -0.9621550\n",
       "134 -0.88580967       -0.24710190        -0.105569135             -1.0294726\n",
       "135 -0.90584894       -0.47807311        -0.049633885             -1.0369524\n",
       "136 -1.00604526       -0.51893048        -0.005689889             -0.9895807\n",
       "137 -1.08620231        0.29156256         0.045366474             -0.8437257\n",
       "138 -1.14632010        0.52262052         0.097719087             -0.7838878\n",
       "139 -1.24651642       -0.58710783         0.231871476             -0.7813945\n",
       "140 -1.20643789       -1.19206220         0.276552408             -0.7415026\n",
       "141 -1.18639863       -0.57476784         0.149773147             -0.8836177\n",
       "142 -1.32667348        0.78273497        -0.221188556             -1.0032935\n",
       "143 -1.34671274       -0.67059839        -0.408302002             -1.2040000\n",
       "144 -1.34671274       -0.76674023        -0.588110344             -1.2052466\n",
       "    fed_rate   GDP       GDP_growth_rate\n",
       "1   2.0758097  -1.374682          NA    \n",
       "2   2.3721988  -1.359221  1.12682516    \n",
       "3   2.6560963  -1.347855  0.50660191    \n",
       "4   1.9327254  -1.338065  0.26463140    \n",
       "5   1.6635905  -1.325639  0.59551678    \n",
       "6   1.4750825  -1.315785  0.22722697    \n",
       "7   1.4671334  -1.301795  0.74038857    \n",
       "8   1.5364044  -1.293068  0.03925119    \n",
       "9   1.4421504  -1.283354  0.14780873    \n",
       "10  1.1332699  -1.277653 -0.36152083    \n",
       "11  0.8902536  -1.268163  0.09363683    \n",
       "12  0.9106942  -1.260557 -0.14803504    \n",
       "13  0.8947960  -1.250732  0.10557191    \n",
       "14  1.0412871  -1.237942  0.43686858    \n",
       "15  1.1071513  -1.226006  0.31242995    \n",
       "16  1.1321343  -1.207212  1.06681542    \n",
       "17  1.0458295  -1.197258  0.03823643    \n",
       "18  1.2138968  -1.179496  0.87519228    \n",
       "19  1.4955232  -1.165367  0.44452119    \n",
       "20  1.6613193  -1.147603  0.79858562    \n",
       "21  1.9929117  -1.130589  0.68153077    \n",
       "22  2.0894368  -1.115180  0.48527366    \n",
       "23  1.8702679  -1.102558  0.18274337    \n",
       "24  1.7101497  -1.094660 -0.29408064    \n",
       "25  1.5863704  -1.075558  0.77710112    \n",
       "26  1.5840992  -1.062262  0.19107317    \n",
       "27  1.5557094  -1.053875 -0.28270140    \n",
       "28  1.4137607  -1.055455 -1.20624657    \n",
       "29  0.9652026  -1.050820 -0.63402739    \n",
       "30  0.7732878  -1.036861  0.21815121    \n",
       "⋮   ⋮          ⋮         ⋮              \n",
       "115 -1.1753849 0.5150093 -0.47686285    \n",
       "116 -1.1697069 0.5303683 -0.54046461    \n",
       "117 -1.1753849 0.5650470  0.10697496    \n",
       "118 -1.1844696 0.5773031 -0.65380713    \n",
       "119 -1.1958255 0.6115831  0.07227228    \n",
       "120 -1.1946899 0.6478470  0.12193238    \n",
       "121 -1.1992323 0.6487177 -1.03290447    \n",
       "122 -1.1924187 0.6975561  0.50949051    \n",
       "123 -1.1935543 0.7410579  0.31228256    \n",
       "124 -1.1901476 0.7574786 -0.55088951    \n",
       "125 -1.1867408 0.7805374 -0.34902397    \n",
       "126 -1.1821984 0.8134629 -0.05293168    \n",
       "127 -1.1776561 0.8320138 -0.49971635    \n",
       "128 -1.1697069 0.8371159 -0.90758502    \n",
       "129 -1.1015715 0.8509399 -0.64623633    \n",
       "130 -1.0970292 0.8792239 -0.21664151    \n",
       "131 -1.0890800 0.9067722 -0.24676554    \n",
       "132 -1.0709106 0.9367265 -0.18413630    \n",
       "133 -0.9857413 0.9657620 -0.21979050    \n",
       "134 -0.9005721 0.9899031 -0.36849076    \n",
       "135 -0.8313011 1.0285682  0.03904119    \n",
       "136 -0.8142672 1.0810184  0.41196340    \n",
       "137 -0.7313691 1.1253950  0.16381794    \n",
       "138 -0.6325728 1.1638175 -0.01570855    \n",
       "139 -0.5689797 1.1969810 -0.16983011    \n",
       "140 -0.4679122 1.2151200 -0.57863326    \n",
       "141 -0.4054548 1.2446165 -0.28112742    \n",
       "142 -0.4077259 1.2882125  0.08103607    \n",
       "143 -0.4781325 1.3368168  0.19518850    \n",
       "144 -0.6643693 1.3697105 -0.22332210    "
      ]
     },
     "metadata": {},
     "output_type": "display_data"
    }
   ],
   "source": [
    "#Check\n",
    "train_data_scaled"
   ]
  },
  {
   "cell_type": "code",
   "execution_count": 407,
   "metadata": {
    "vscode": {
     "languageId": "r"
    }
   },
   "outputs": [
    {
     "data": {
      "text/html": [
       "<style>\n",
       ".list-inline {list-style: none; margin:0; padding: 0}\n",
       ".list-inline>li {display: inline-block}\n",
       ".list-inline>li:not(:last-child)::after {content: \"\\00b7\"; padding: 0 .5ex}\n",
       "</style>\n",
       "<ol class=list-inline><li>'population'</li><li>'unemployment_rate'</li><li>'ConsumerPriceIndex'</li><li>'DisposablePersonalIncome'</li><li>'Yield'</li><li>'fed_rate'</li><li>'GDP'</li><li>'GDP_growth_rate'</li></ol>\n"
      ],
      "text/latex": [
       "\\begin{enumerate*}\n",
       "\\item 'population'\n",
       "\\item 'unemployment\\_rate'\n",
       "\\item 'ConsumerPriceIndex'\n",
       "\\item 'DisposablePersonalIncome'\n",
       "\\item 'Yield'\n",
       "\\item 'fed\\_rate'\n",
       "\\item 'GDP'\n",
       "\\item 'GDP\\_growth\\_rate'\n",
       "\\end{enumerate*}\n"
      ],
      "text/markdown": [
       "1. 'population'\n",
       "2. 'unemployment_rate'\n",
       "3. 'ConsumerPriceIndex'\n",
       "4. 'DisposablePersonalIncome'\n",
       "5. 'Yield'\n",
       "6. 'fed_rate'\n",
       "7. 'GDP'\n",
       "8. 'GDP_growth_rate'\n",
       "\n",
       "\n"
      ],
      "text/plain": [
       "[1] \"population\"               \"unemployment_rate\"       \n",
       "[3] \"ConsumerPriceIndex\"       \"DisposablePersonalIncome\"\n",
       "[5] \"Yield\"                    \"fed_rate\"                \n",
       "[7] \"GDP\"                      \"GDP_growth_rate\"         "
      ]
     },
     "metadata": {},
     "output_type": "display_data"
    }
   ],
   "source": [
    "regressors_col"
   ]
  },
  {
   "cell_type": "markdown",
   "metadata": {},
   "source": [
    "### C. Fit the LASSO Model"
   ]
  },
  {
   "cell_type": "code",
   "execution_count": 408,
   "metadata": {
    "vscode": {
     "languageId": "r"
    }
   },
   "outputs": [],
   "source": [
    "# Create matrices for modeling for training data\n",
    "\n",
    "X_train_lasso <- as.matrix(train_data_scaled[, regressors_col])\n",
    "X_train_lasso[is.na(X_train_lasso)] <- 0 # fill the mssing value with 0\n",
    "y_train_lasso <- train_data_scaled$deposits\n",
    "\n",
    "# Create matrices for modeling for testing data\n",
    "X_test_lasso <- as.matrix(test_data_scaled[, regressors_col])\n",
    "y_test_lasso <- test_data_scaled$deposits\n"
   ]
  },
  {
   "cell_type": "code",
   "execution_count": 409,
   "metadata": {
    "vscode": {
     "languageId": "r"
    }
   },
   "outputs": [
    {
     "data": {
      "text/plain": [
       "           Length Class  Mode     \n",
       "lambda     77     -none- numeric  \n",
       "cvm        77     -none- numeric  \n",
       "cvsd       77     -none- numeric  \n",
       "cvup       77     -none- numeric  \n",
       "cvlo       77     -none- numeric  \n",
       "nzero      77     -none- numeric  \n",
       "call        4     -none- call     \n",
       "name        1     -none- character\n",
       "glmnet.fit 12     elnet  list     \n",
       "lambda.min  1     -none- numeric  \n",
       "lambda.1se  1     -none- numeric  \n",
       "index       2     -none- numeric  "
      ]
     },
     "metadata": {},
     "output_type": "display_data"
    }
   ],
   "source": [
    "# Fit the lasso_model\n",
    "lasso_model <- cv.glmnet(X_train_lasso, y_train_lasso, alpha = 1)\n",
    "summary(lasso_model)"
   ]
  },
  {
   "cell_type": "code",
   "execution_count": 410,
   "metadata": {
    "vscode": {
     "languageId": "r"
    }
   },
   "outputs": [
    {
     "name": "stdout",
     "output_type": "stream",
     "text": [
      "9 x 1 sparse Matrix of class \"dgCMatrix\"\n",
      "                                   s1\n",
      "(Intercept)              193914862865\n",
      "population                          .\n",
      "unemployment_rate         31637026342\n",
      "ConsumerPriceIndex         4136335856\n",
      "DisposablePersonalIncome            .\n",
      "Yield                               .\n",
      "fed_rate                  32786591154\n",
      "GDP                      194313307135\n",
      "GDP_growth_rate          -10250663416\n"
     ]
    }
   ],
   "source": [
    "# Extract selected features at lambda.min\n",
    "selected_features <- coef(lasso_model, s = \"lambda.min\")\n",
    "print(selected_features)\n",
    "\n"
   ]
  },
  {
   "cell_type": "markdown",
   "metadata": {},
   "source": [
    "- You’ve chosen not to scale the deposits column, which is fine as long as you don’t intend to interpret the coefficients from the LASSO model directly. However, if coefficient interpretation is needed, it’s often better to scale the target variable as well (standardize deposits).\n",
    "-  Lasso revealed that only unemployment rate and GDP are useful here."
   ]
  },
  {
   "cell_type": "code",
   "execution_count": 411,
   "metadata": {
    "vscode": {
     "languageId": "r"
    }
   },
   "outputs": [
    {
     "name": "stdout",
     "output_type": "stream",
     "text": [
      "              population        unemployment_rate       ConsumerPriceIndex \n",
      "            0.000000e+00             5.262506e+08             2.630787e+09 \n",
      "DisposablePersonalIncome                    Yield                 fed_rate \n",
      "            0.000000e+00             0.000000e+00             9.623951e+08 \n",
      "                     GDP          GDP_growth_rate \n",
      "            1.276249e+24            -1.217484e+08 \n"
     ]
    }
   ],
   "source": [
    "# Rescale the coefficients to interpret them\n",
    "rescaled_coef <- coef(lasso_model, s = \"lambda.min\")[-1] * pre_process_data$std\n",
    "adjusted_intercept <- coef(lasso_model, s = \"lambda.min\")[1] - sum(rescaled_coef * pre_process_data$mean)\n",
    "# Print the rescaled coefficients\n",
    "print(rescaled_coef)\n"
   ]
  },
  {
   "cell_type": "markdown",
   "metadata": {},
   "source": [
    "### D. LINE Assaumptions"
   ]
  },
  {
   "cell_type": "code",
   "execution_count": 412,
   "metadata": {
    "vscode": {
     "languageId": "r"
    }
   },
   "outputs": [
    {
     "data": {
      "image/png": "[encoded data removed]",
      "text/plain": [
       "plot without title"
      ]
     },
     "metadata": {
      "image/png": {
       "height": 420,
       "width": 420
      }
     },
     "output_type": "display_data"
    }
   ],
   "source": [
    "par(mfrow = c(2,2))\n",
    "plot(lasso_model)"
   ]
  },
  {
   "cell_type": "markdown",
   "metadata": {},
   "source": [
    "- I guess this is the only plot so we don't check for LINE aasumptins casuse Prophet is a semi-parametric model"
   ]
  },
  {
   "cell_type": "markdown",
   "metadata": {},
   "source": [
    "### E. Performance Metrics"
   ]
  },
  {
   "cell_type": "code",
   "execution_count": 413,
   "metadata": {
    "vscode": {
     "languageId": "r"
    }
   },
   "outputs": [
    {
     "data": {
      "text/html": [
       "733914774.817202"
      ],
      "text/latex": [
       "733914774.817202"
      ],
      "text/markdown": [
       "733914774.817202"
      ],
      "text/plain": [
       "[1] 733914775"
      ]
     },
     "metadata": {},
     "output_type": "display_data"
    }
   ],
   "source": [
    "# Extract best lambda values\n",
    "best_lambda <- lasso_model$lambda.min  # Lambda that gives minimum cross-validation error\n",
    "best_lambda"
   ]
  },
  {
   "cell_type": "code",
   "execution_count": 414,
   "metadata": {
    "vscode": {
     "languageId": "r"
    }
   },
   "outputs": [
    {
     "name": "stdout",
     "output_type": "stream",
     "text": [
      "[1] NA\n"
     ]
    }
   ],
   "source": [
    "# Predict on testing data\n",
    "lasso_predictions <- predict(lasso_model, s = best_lambda, newx = X_test_lasso)\n",
    "\n",
    "# Evaluate performance (e.g., Mean Squared Error)\n",
    "MSE <- mean((y_test_lasso - lasso_predictions)^2)\n",
    "print(MSE)"
   ]
  },
  {
   "cell_type": "code",
   "execution_count": 415,
   "metadata": {
    "vscode": {
     "languageId": "r"
    }
   },
   "outputs": [
    {
     "name": "stdout",
     "output_type": "stream",
     "text": [
      "[1] NA\n"
     ]
    }
   ],
   "source": [
    "\n",
    "# Evaluate performance MAPE\n",
    "MAPE <- mean(abs(y_test_lasso - lasso_predictions)/y_test_lasso)*100\n",
    "print(MAPE)\n"
   ]
  },
  {
   "cell_type": "markdown",
   "metadata": {},
   "source": [
    "- On average, the model's predictions are off by about 13% of the actual values. "
   ]
  },
  {
   "cell_type": "markdown",
   "metadata": {},
   "source": [
    "# Part 6: Add the regression into our model"
   ]
  },
  {
   "cell_type": "markdown",
   "metadata": {},
   "source": [
    "## Step 1: Plugging Regressors into Prophet\n",
    "\n",
    "- With a MAPE of 34%, it’s not ideal, but it’s not a dealbreaker\n",
    "- Even if the Lasso model's MAPE is high, the regressors may still contain useful signals that Prophet can leverage.\n",
    "- Prophet doesn't rely solely on the regressors—it also models time-based trends and seasonality, which can compensate for some of the inaccuracy in the regressors."
   ]
  },
  {
   "cell_type": "code",
   "execution_count": 416,
   "metadata": {
    "vscode": {
     "languageId": "r"
    }
   },
   "outputs": [],
   "source": [
    "prophet_data_2 <- data.frame(\n",
    "    ds = deposit_regressor_data$time_as_date,\n",
    "    y = deposit_regressor_data$deposits,\n",
    "    GDP = deposit_regressor_data$GDP,\n",
    "    unemployment_rate = deposit_regressor_data$unemployment_rate,\n",
    "    fed_rate = deposit_regressor_data$fed_rate,\n",
    "    ConsumerPriceIndex = deposit_regressor_data$ConsumerPriceIndex\n",
    "    \n",
    ")\n",
    "#prophet_data_2"
   ]
  },
  {
   "cell_type": "code",
   "execution_count": 417,
   "metadata": {
    "vscode": {
     "languageId": "r"
    }
   },
   "outputs": [
    {
     "data": {
      "text/html": [
       "<table class=\"dataframe\">\n",
       "<caption>A data.frame: 6 × 6</caption>\n",
       "<thead>\n",
       "\t<tr><th></th><th scope=col>ds</th><th scope=col>y</th><th scope=col>GDP</th><th scope=col>unemployment_rate</th><th scope=col>fed_rate</th><th scope=col>ConsumerPriceIndex</th></tr>\n",
       "\t<tr><th></th><th scope=col>&lt;date&gt;</th><th scope=col>&lt;dbl&gt;</th><th scope=col>&lt;dbl&gt;</th><th scope=col>&lt;dbl&gt;</th><th scope=col>&lt;dbl&gt;</th><th scope=col>&lt;dbl&gt;</th></tr>\n",
       "</thead>\n",
       "<tbody>\n",
       "\t<tr><th scope=row>139</th><td>2018-07-01</td><td>331039546000</td><td>2.079873e+13</td><td>0.03766667</td><td>0.01923333</td><td> 0.32726757</td></tr>\n",
       "\t<tr><th scope=row>140</th><td>2018-10-01</td><td>334393555000</td><td>2.091787e+13</td><td>0.03833333</td><td>0.02220000</td><td>-0.05749474</td></tr>\n",
       "\t<tr><th scope=row>141</th><td>2019-01-01</td><td>337239215000</td><td>2.111160e+13</td><td>0.03866667</td><td>0.02403333</td><td> 0.33511603</td></tr>\n",
       "\t<tr><th scope=row>142</th><td>2019-04-01</td><td>338841270000</td><td>2.139794e+13</td><td>0.03633333</td><td>0.02396667</td><td> 1.19851323</td></tr>\n",
       "\t<tr><th scope=row>143</th><td>2019-07-01</td><td>338626199000</td><td>2.171717e+13</td><td>0.03600000</td><td>0.02190000</td><td> 0.27416601</td></tr>\n",
       "\t<tr><th scope=row>144</th><td>2019-10-01</td><td>349600055000</td><td>2.193322e+13</td><td>0.03600000</td><td>0.01643333</td><td> 0.21301800</td></tr>\n",
       "</tbody>\n",
       "</table>\n"
      ],
      "text/latex": [
       "A data.frame: 6 × 6\n",
       "\\begin{tabular}{r|llllll}\n",
       "  & ds & y & GDP & unemployment\\_rate & fed\\_rate & ConsumerPriceIndex\\\\\n",
       "  & <date> & <dbl> & <dbl> & <dbl> & <dbl> & <dbl>\\\\\n",
       "\\hline\n",
       "\t139 & 2018-07-01 & 331039546000 & 2.079873e+13 & 0.03766667 & 0.01923333 &  0.32726757\\\\\n",
       "\t140 & 2018-10-01 & 334393555000 & 2.091787e+13 & 0.03833333 & 0.02220000 & -0.05749474\\\\\n",
       "\t141 & 2019-01-01 & 337239215000 & 2.111160e+13 & 0.03866667 & 0.02403333 &  0.33511603\\\\\n",
       "\t142 & 2019-04-01 & 338841270000 & 2.139794e+13 & 0.03633333 & 0.02396667 &  1.19851323\\\\\n",
       "\t143 & 2019-07-01 & 338626199000 & 2.171717e+13 & 0.03600000 & 0.02190000 &  0.27416601\\\\\n",
       "\t144 & 2019-10-01 & 349600055000 & 2.193322e+13 & 0.03600000 & 0.01643333 &  0.21301800\\\\\n",
       "\\end{tabular}\n"
      ],
      "text/markdown": [
       "\n",
       "A data.frame: 6 × 6\n",
       "\n",
       "| <!--/--> | ds &lt;date&gt; | y &lt;dbl&gt; | GDP &lt;dbl&gt; | unemployment_rate &lt;dbl&gt; | fed_rate &lt;dbl&gt; | ConsumerPriceIndex &lt;dbl&gt; |\n",
       "|---|---|---|---|---|---|---|\n",
       "| 139 | 2018-07-01 | 331039546000 | 2.079873e+13 | 0.03766667 | 0.01923333 |  0.32726757 |\n",
       "| 140 | 2018-10-01 | 334393555000 | 2.091787e+13 | 0.03833333 | 0.02220000 | -0.05749474 |\n",
       "| 141 | 2019-01-01 | 337239215000 | 2.111160e+13 | 0.03866667 | 0.02403333 |  0.33511603 |\n",
       "| 142 | 2019-04-01 | 338841270000 | 2.139794e+13 | 0.03633333 | 0.02396667 |  1.19851323 |\n",
       "| 143 | 2019-07-01 | 338626199000 | 2.171717e+13 | 0.03600000 | 0.02190000 |  0.27416601 |\n",
       "| 144 | 2019-10-01 | 349600055000 | 2.193322e+13 | 0.03600000 | 0.01643333 |  0.21301800 |\n",
       "\n"
      ],
      "text/plain": [
       "    ds         y            GDP          unemployment_rate fed_rate  \n",
       "139 2018-07-01 331039546000 2.079873e+13 0.03766667        0.01923333\n",
       "140 2018-10-01 334393555000 2.091787e+13 0.03833333        0.02220000\n",
       "141 2019-01-01 337239215000 2.111160e+13 0.03866667        0.02403333\n",
       "142 2019-04-01 338841270000 2.139794e+13 0.03633333        0.02396667\n",
       "143 2019-07-01 338626199000 2.171717e+13 0.03600000        0.02190000\n",
       "144 2019-10-01 349600055000 2.193322e+13 0.03600000        0.01643333\n",
       "    ConsumerPriceIndex\n",
       "139  0.32726757       \n",
       "140 -0.05749474       \n",
       "141  0.33511603       \n",
       "142  1.19851323       \n",
       "143  0.27416601       \n",
       "144  0.21301800       "
      ]
     },
     "metadata": {},
     "output_type": "display_data"
    },
    {
     "data": {
      "text/html": [
       "<table class=\"dataframe\">\n",
       "<caption>A data.frame: 18 × 6</caption>\n",
       "<thead>\n",
       "\t<tr><th></th><th scope=col>ds</th><th scope=col>y</th><th scope=col>GDP</th><th scope=col>unemployment_rate</th><th scope=col>fed_rate</th><th scope=col>ConsumerPriceIndex</th></tr>\n",
       "\t<tr><th></th><th scope=col>&lt;date&gt;</th><th scope=col>&lt;dbl&gt;</th><th scope=col>&lt;dbl&gt;</th><th scope=col>&lt;dbl&gt;</th><th scope=col>&lt;dbl&gt;</th><th scope=col>&lt;dbl&gt;</th></tr>\n",
       "</thead>\n",
       "<tbody>\n",
       "\t<tr><th scope=row>145</th><td>2020-01-01</td><td>341691380000</td><td>2.172766e+13</td><td>0.03833333</td><td>0.0126000000</td><td> 0.4194274</td></tr>\n",
       "\t<tr><th scope=row>146</th><td>2020-04-01</td><td>339227043000</td><td>1.993544e+13</td><td>0.13000000</td><td>0.0006000000</td><td>-0.5400354</td></tr>\n",
       "\t<tr><th scope=row>147</th><td>2020-07-01</td><td>338020161000</td><td>2.168455e+13</td><td>0.08800000</td><td>0.0009333333</td><td> 1.1314854</td></tr>\n",
       "\t<tr><th scope=row>148</th><td>2020-10-01</td><td>339166813000</td><td>2.206877e+13</td><td>0.06733333</td><td>0.0009000000</td><td> 0.2299503</td></tr>\n",
       "\t<tr><th scope=row>149</th><td>2021-01-01</td><td>339070926000</td><td>2.265679e+13</td><td>0.06233333</td><td>0.0008000000</td><td> 1.0731144</td></tr>\n",
       "\t<tr><th scope=row>150</th><td>2021-04-01</td><td>340991443000</td><td>2.336886e+13</td><td>0.05933333</td><td>0.0007000000</td><td> 2.3397887</td></tr>\n",
       "\t<tr><th scope=row>151</th><td>2021-07-01</td><td>342317919000</td><td>2.392199e+13</td><td>0.05066667</td><td>0.0009000000</td><td> 1.6009753</td></tr>\n",
       "\t<tr><th scope=row>152</th><td>2021-10-01</td><td>348156945000</td><td>2.477704e+13</td><td>0.04166667</td><td>0.0008000000</td><td> 1.5177614</td></tr>\n",
       "\t<tr><th scope=row>153</th><td>2022-01-01</td><td>351425943000</td><td>2.521549e+13</td><td>0.03800000</td><td>0.0012000000</td><td> 2.2834645</td></tr>\n",
       "\t<tr><th scope=row>154</th><td>2022-04-01</td><td>354666330000</td><td>2.580579e+13</td><td>0.03633333</td><td>0.0077000000</td><td> 2.9738329</td></tr>\n",
       "\t<tr><th scope=row>155</th><td>2022-07-01</td><td>355495449000</td><td>2.627201e+13</td><td>0.03533333</td><td>0.0219000000</td><td> 1.3146621</td></tr>\n",
       "\t<tr><th scope=row>156</th><td>2022-10-01</td><td>357699656000</td><td>2.673428e+13</td><td>0.03566667</td><td>0.0365333333</td><td> 0.3671613</td></tr>\n",
       "\t<tr><th scope=row>157</th><td>2023-01-01</td><td>361631019000</td><td>2.716436e+13</td><td>0.03500000</td><td>0.0451666667</td><td> 1.0449066</td></tr>\n",
       "\t<tr><th scope=row>158</th><td>2023-04-01</td><td>361428409000</td><td>2.745382e+13</td><td>0.03566667</td><td>0.0499000000</td><td> 1.1923322</td></tr>\n",
       "\t<tr><th scope=row>159</th><td>2023-07-01</td><td>361265548000</td><td>2.796770e+13</td><td>0.03700000</td><td>0.0526000000</td><td> 0.8664265</td></tr>\n",
       "\t<tr><th scope=row>160</th><td>2023-10-01</td><td>352951195000</td><td>2.829697e+13</td><td>0.03733333</td><td>0.0533000000</td><td> 0.1045077</td></tr>\n",
       "\t<tr><th scope=row>161</th><td>2024-01-01</td><td>353246439000</td><td>2.862407e+13</td><td>0.03800000</td><td>0.0533000000</td><td> 1.0425755</td></tr>\n",
       "\t<tr><th scope=row>162</th><td>2024-04-01</td><td>349452050000</td><td>2.901671e+13</td><td>0.04000000</td><td>0.0533000000</td><td>        NA</td></tr>\n",
       "</tbody>\n",
       "</table>\n"
      ],
      "text/latex": [
       "A data.frame: 18 × 6\n",
       "\\begin{tabular}{r|llllll}\n",
       "  & ds & y & GDP & unemployment\\_rate & fed\\_rate & ConsumerPriceIndex\\\\\n",
       "  & <date> & <dbl> & <dbl> & <dbl> & <dbl> & <dbl>\\\\\n",
       "\\hline\n",
       "\t145 & 2020-01-01 & 341691380000 & 2.172766e+13 & 0.03833333 & 0.0126000000 &  0.4194274\\\\\n",
       "\t146 & 2020-04-01 & 339227043000 & 1.993544e+13 & 0.13000000 & 0.0006000000 & -0.5400354\\\\\n",
       "\t147 & 2020-07-01 & 338020161000 & 2.168455e+13 & 0.08800000 & 0.0009333333 &  1.1314854\\\\\n",
       "\t148 & 2020-10-01 & 339166813000 & 2.206877e+13 & 0.06733333 & 0.0009000000 &  0.2299503\\\\\n",
       "\t149 & 2021-01-01 & 339070926000 & 2.265679e+13 & 0.06233333 & 0.0008000000 &  1.0731144\\\\\n",
       "\t150 & 2021-04-01 & 340991443000 & 2.336886e+13 & 0.05933333 & 0.0007000000 &  2.3397887\\\\\n",
       "\t151 & 2021-07-01 & 342317919000 & 2.392199e+13 & 0.05066667 & 0.0009000000 &  1.6009753\\\\\n",
       "\t152 & 2021-10-01 & 348156945000 & 2.477704e+13 & 0.04166667 & 0.0008000000 &  1.5177614\\\\\n",
       "\t153 & 2022-01-01 & 351425943000 & 2.521549e+13 & 0.03800000 & 0.0012000000 &  2.2834645\\\\\n",
       "\t154 & 2022-04-01 & 354666330000 & 2.580579e+13 & 0.03633333 & 0.0077000000 &  2.9738329\\\\\n",
       "\t155 & 2022-07-01 & 355495449000 & 2.627201e+13 & 0.03533333 & 0.0219000000 &  1.3146621\\\\\n",
       "\t156 & 2022-10-01 & 357699656000 & 2.673428e+13 & 0.03566667 & 0.0365333333 &  0.3671613\\\\\n",
       "\t157 & 2023-01-01 & 361631019000 & 2.716436e+13 & 0.03500000 & 0.0451666667 &  1.0449066\\\\\n",
       "\t158 & 2023-04-01 & 361428409000 & 2.745382e+13 & 0.03566667 & 0.0499000000 &  1.1923322\\\\\n",
       "\t159 & 2023-07-01 & 361265548000 & 2.796770e+13 & 0.03700000 & 0.0526000000 &  0.8664265\\\\\n",
       "\t160 & 2023-10-01 & 352951195000 & 2.829697e+13 & 0.03733333 & 0.0533000000 &  0.1045077\\\\\n",
       "\t161 & 2024-01-01 & 353246439000 & 2.862407e+13 & 0.03800000 & 0.0533000000 &  1.0425755\\\\\n",
       "\t162 & 2024-04-01 & 349452050000 & 2.901671e+13 & 0.04000000 & 0.0533000000 &         NA\\\\\n",
       "\\end{tabular}\n"
      ],
      "text/markdown": [
       "\n",
       "A data.frame: 18 × 6\n",
       "\n",
       "| <!--/--> | ds &lt;date&gt; | y &lt;dbl&gt; | GDP &lt;dbl&gt; | unemployment_rate &lt;dbl&gt; | fed_rate &lt;dbl&gt; | ConsumerPriceIndex &lt;dbl&gt; |\n",
       "|---|---|---|---|---|---|---|\n",
       "| 145 | 2020-01-01 | 341691380000 | 2.172766e+13 | 0.03833333 | 0.0126000000 |  0.4194274 |\n",
       "| 146 | 2020-04-01 | 339227043000 | 1.993544e+13 | 0.13000000 | 0.0006000000 | -0.5400354 |\n",
       "| 147 | 2020-07-01 | 338020161000 | 2.168455e+13 | 0.08800000 | 0.0009333333 |  1.1314854 |\n",
       "| 148 | 2020-10-01 | 339166813000 | 2.206877e+13 | 0.06733333 | 0.0009000000 |  0.2299503 |\n",
       "| 149 | 2021-01-01 | 339070926000 | 2.265679e+13 | 0.06233333 | 0.0008000000 |  1.0731144 |\n",
       "| 150 | 2021-04-01 | 340991443000 | 2.336886e+13 | 0.05933333 | 0.0007000000 |  2.3397887 |\n",
       "| 151 | 2021-07-01 | 342317919000 | 2.392199e+13 | 0.05066667 | 0.0009000000 |  1.6009753 |\n",
       "| 152 | 2021-10-01 | 348156945000 | 2.477704e+13 | 0.04166667 | 0.0008000000 |  1.5177614 |\n",
       "| 153 | 2022-01-01 | 351425943000 | 2.521549e+13 | 0.03800000 | 0.0012000000 |  2.2834645 |\n",
       "| 154 | 2022-04-01 | 354666330000 | 2.580579e+13 | 0.03633333 | 0.0077000000 |  2.9738329 |\n",
       "| 155 | 2022-07-01 | 355495449000 | 2.627201e+13 | 0.03533333 | 0.0219000000 |  1.3146621 |\n",
       "| 156 | 2022-10-01 | 357699656000 | 2.673428e+13 | 0.03566667 | 0.0365333333 |  0.3671613 |\n",
       "| 157 | 2023-01-01 | 361631019000 | 2.716436e+13 | 0.03500000 | 0.0451666667 |  1.0449066 |\n",
       "| 158 | 2023-04-01 | 361428409000 | 2.745382e+13 | 0.03566667 | 0.0499000000 |  1.1923322 |\n",
       "| 159 | 2023-07-01 | 361265548000 | 2.796770e+13 | 0.03700000 | 0.0526000000 |  0.8664265 |\n",
       "| 160 | 2023-10-01 | 352951195000 | 2.829697e+13 | 0.03733333 | 0.0533000000 |  0.1045077 |\n",
       "| 161 | 2024-01-01 | 353246439000 | 2.862407e+13 | 0.03800000 | 0.0533000000 |  1.0425755 |\n",
       "| 162 | 2024-04-01 | 349452050000 | 2.901671e+13 | 0.04000000 | 0.0533000000 |         NA |\n",
       "\n"
      ],
      "text/plain": [
       "    ds         y            GDP          unemployment_rate fed_rate    \n",
       "145 2020-01-01 341691380000 2.172766e+13 0.03833333        0.0126000000\n",
       "146 2020-04-01 339227043000 1.993544e+13 0.13000000        0.0006000000\n",
       "147 2020-07-01 338020161000 2.168455e+13 0.08800000        0.0009333333\n",
       "148 2020-10-01 339166813000 2.206877e+13 0.06733333        0.0009000000\n",
       "149 2021-01-01 339070926000 2.265679e+13 0.06233333        0.0008000000\n",
       "150 2021-04-01 340991443000 2.336886e+13 0.05933333        0.0007000000\n",
       "151 2021-07-01 342317919000 2.392199e+13 0.05066667        0.0009000000\n",
       "152 2021-10-01 348156945000 2.477704e+13 0.04166667        0.0008000000\n",
       "153 2022-01-01 351425943000 2.521549e+13 0.03800000        0.0012000000\n",
       "154 2022-04-01 354666330000 2.580579e+13 0.03633333        0.0077000000\n",
       "155 2022-07-01 355495449000 2.627201e+13 0.03533333        0.0219000000\n",
       "156 2022-10-01 357699656000 2.673428e+13 0.03566667        0.0365333333\n",
       "157 2023-01-01 361631019000 2.716436e+13 0.03500000        0.0451666667\n",
       "158 2023-04-01 361428409000 2.745382e+13 0.03566667        0.0499000000\n",
       "159 2023-07-01 361265548000 2.796770e+13 0.03700000        0.0526000000\n",
       "160 2023-10-01 352951195000 2.829697e+13 0.03733333        0.0533000000\n",
       "161 2024-01-01 353246439000 2.862407e+13 0.03800000        0.0533000000\n",
       "162 2024-04-01 349452050000 2.901671e+13 0.04000000        0.0533000000\n",
       "    ConsumerPriceIndex\n",
       "145  0.4194274        \n",
       "146 -0.5400354        \n",
       "147  1.1314854        \n",
       "148  0.2299503        \n",
       "149  1.0731144        \n",
       "150  2.3397887        \n",
       "151  1.6009753        \n",
       "152  1.5177614        \n",
       "153  2.2834645        \n",
       "154  2.9738329        \n",
       "155  1.3146621        \n",
       "156  0.3671613        \n",
       "157  1.0449066        \n",
       "158  1.1923322        \n",
       "159  0.8664265        \n",
       "160  0.1045077        \n",
       "161  1.0425755        \n",
       "162         NA        "
      ]
     },
     "metadata": {},
     "output_type": "display_data"
    }
   ],
   "source": [
    "\n",
    "# Step 1: Split Data between training and test data\n",
    "train_data_2 <- subset(prophet_data_2, ds <= \"2019-12-31\") # Training data: 1984 Q1 to 2020 Q4\n",
    "test_data_2 <- subset(prophet_data_2, ds > \"2019-12-31\")  # Testing data: 2021 Q1 to 2024 Q2\n",
    "\n",
    "# Step 1: Prepare data for prophet to work\n",
    "\n",
    "# you have to rename them as ds and y for prophet to work and it will automatically ignore all other columns ==> RULE\n",
    "train_data_2$ds <- as.Date(train_data_2$ds)\n",
    "train_data_2$y <- train_data_2$y\n",
    "\n",
    "test_data_2$ds <- as.Date(test_data_2$ds)\n",
    "test_data_2$y <- test_data_2$y\n",
    "\n",
    "\n",
    "# Check\n",
    "tail(train_data_2)\n",
    "View(test_data_2)"
   ]
  },
  {
   "cell_type": "code",
   "execution_count": 418,
   "metadata": {
    "vscode": {
     "languageId": "r"
    }
   },
   "outputs": [
    {
     "name": "stderr",
     "output_type": "stream",
     "text": [
      "Disabling weekly seasonality. Run prophet with weekly.seasonality=TRUE to override this.\n",
      "\n",
      "Disabling daily seasonality. Run prophet with daily.seasonality=TRUE to override this.\n",
      "\n"
     ]
    }
   ],
   "source": [
    "# Step 3: Initialize the model by adding on regressors and Fit Prophet\n",
    "\n",
    "# Initialize the model\n",
    "prophet_model_2 <- prophet()\n",
    "\n",
    "# Add regressors\n",
    "prophet_model_2 <- add_regressor(prophet_model_2, 'GDP')\n",
    "prophet_model_2 <- add_regressor(prophet_model_2, 'unemployment_rate')\n",
    "prophet_model_2 <- add_regressor(prophet_model_2, 'ConsumerPriceIndex')\n",
    "prophet_model_2 <- add_regressor(prophet_model_2, 'fed_rate')\n",
    "\n",
    "# Step 2: Fit the model: Training the model\n",
    "prophet_model_2 <- fit.prophet(prophet_model_2, train_data_2) # syntax\n"
   ]
  },
  {
   "cell_type": "code",
   "execution_count": 419,
   "metadata": {
    "vscode": {
     "languageId": "r"
    }
   },
   "outputs": [
    {
     "data": {
      "text/html": [
       "<table class=\"dataframe\">\n",
       "<caption>A data.frame: 177 × 1</caption>\n",
       "<thead>\n",
       "\t<tr><th scope=col>ds</th></tr>\n",
       "\t<tr><th scope=col>&lt;dttm&gt;</th></tr>\n",
       "</thead>\n",
       "<tbody>\n",
       "\t<tr><td>1984-01-01</td></tr>\n",
       "\t<tr><td>1984-04-01</td></tr>\n",
       "\t<tr><td>1984-07-01</td></tr>\n",
       "\t<tr><td>1984-10-01</td></tr>\n",
       "\t<tr><td>1985-01-01</td></tr>\n",
       "\t<tr><td>1985-04-01</td></tr>\n",
       "\t<tr><td>1985-07-01</td></tr>\n",
       "\t<tr><td>1985-10-01</td></tr>\n",
       "\t<tr><td>1986-01-01</td></tr>\n",
       "\t<tr><td>1986-04-01</td></tr>\n",
       "\t<tr><td>1986-07-01</td></tr>\n",
       "\t<tr><td>1986-10-01</td></tr>\n",
       "\t<tr><td>1987-01-01</td></tr>\n",
       "\t<tr><td>1987-04-01</td></tr>\n",
       "\t<tr><td>1987-07-01</td></tr>\n",
       "\t<tr><td>1987-10-01</td></tr>\n",
       "\t<tr><td>1988-01-01</td></tr>\n",
       "\t<tr><td>1988-04-01</td></tr>\n",
       "\t<tr><td>1988-07-01</td></tr>\n",
       "\t<tr><td>1988-10-01</td></tr>\n",
       "\t<tr><td>1989-01-01</td></tr>\n",
       "\t<tr><td>1989-04-01</td></tr>\n",
       "\t<tr><td>1989-07-01</td></tr>\n",
       "\t<tr><td>1989-10-01</td></tr>\n",
       "\t<tr><td>1990-01-01</td></tr>\n",
       "\t<tr><td>1990-04-01</td></tr>\n",
       "\t<tr><td>1990-07-01</td></tr>\n",
       "\t<tr><td>1990-10-01</td></tr>\n",
       "\t<tr><td>1991-01-01</td></tr>\n",
       "\t<tr><td>1991-04-01</td></tr>\n",
       "\t<tr><td>⋮</td></tr>\n",
       "\t<tr><td>2020-10-01</td></tr>\n",
       "\t<tr><td>2021-01-01</td></tr>\n",
       "\t<tr><td>2021-04-01</td></tr>\n",
       "\t<tr><td>2021-07-01</td></tr>\n",
       "\t<tr><td>2021-10-01</td></tr>\n",
       "\t<tr><td>2022-01-01</td></tr>\n",
       "\t<tr><td>2022-04-01</td></tr>\n",
       "\t<tr><td>2022-07-01</td></tr>\n",
       "\t<tr><td>2022-10-01</td></tr>\n",
       "\t<tr><td>2023-01-01</td></tr>\n",
       "\t<tr><td>2023-04-01</td></tr>\n",
       "\t<tr><td>2023-07-01</td></tr>\n",
       "\t<tr><td>2023-10-01</td></tr>\n",
       "\t<tr><td>2024-01-01</td></tr>\n",
       "\t<tr><td>2024-04-01</td></tr>\n",
       "\t<tr><td>2024-07-01</td></tr>\n",
       "\t<tr><td>2024-10-01</td></tr>\n",
       "\t<tr><td>2025-01-01</td></tr>\n",
       "\t<tr><td>2025-04-01</td></tr>\n",
       "\t<tr><td>2025-07-01</td></tr>\n",
       "\t<tr><td>2025-10-01</td></tr>\n",
       "\t<tr><td>2026-01-01</td></tr>\n",
       "\t<tr><td>2026-04-01</td></tr>\n",
       "\t<tr><td>2026-07-01</td></tr>\n",
       "\t<tr><td>2026-10-01</td></tr>\n",
       "\t<tr><td>2027-01-01</td></tr>\n",
       "\t<tr><td>2027-04-01</td></tr>\n",
       "\t<tr><td>2027-07-01</td></tr>\n",
       "\t<tr><td>2027-10-01</td></tr>\n",
       "\t<tr><td>2028-01-01</td></tr>\n",
       "</tbody>\n",
       "</table>\n"
      ],
      "text/latex": [
       "A data.frame: 177 × 1\n",
       "\\begin{tabular}{l}\n",
       " ds\\\\\n",
       " <dttm>\\\\\n",
       "\\hline\n",
       "\t 1984-01-01\\\\\n",
       "\t 1984-04-01\\\\\n",
       "\t 1984-07-01\\\\\n",
       "\t 1984-10-01\\\\\n",
       "\t 1985-01-01\\\\\n",
       "\t 1985-04-01\\\\\n",
       "\t 1985-07-01\\\\\n",
       "\t 1985-10-01\\\\\n",
       "\t 1986-01-01\\\\\n",
       "\t 1986-04-01\\\\\n",
       "\t 1986-07-01\\\\\n",
       "\t 1986-10-01\\\\\n",
       "\t 1987-01-01\\\\\n",
       "\t 1987-04-01\\\\\n",
       "\t 1987-07-01\\\\\n",
       "\t 1987-10-01\\\\\n",
       "\t 1988-01-01\\\\\n",
       "\t 1988-04-01\\\\\n",
       "\t 1988-07-01\\\\\n",
       "\t 1988-10-01\\\\\n",
       "\t 1989-01-01\\\\\n",
       "\t 1989-04-01\\\\\n",
       "\t 1989-07-01\\\\\n",
       "\t 1989-10-01\\\\\n",
       "\t 1990-01-01\\\\\n",
       "\t 1990-04-01\\\\\n",
       "\t 1990-07-01\\\\\n",
       "\t 1990-10-01\\\\\n",
       "\t 1991-01-01\\\\\n",
       "\t 1991-04-01\\\\\n",
       "\t ⋮\\\\\n",
       "\t 2020-10-01\\\\\n",
       "\t 2021-01-01\\\\\n",
       "\t 2021-04-01\\\\\n",
       "\t 2021-07-01\\\\\n",
       "\t 2021-10-01\\\\\n",
       "\t 2022-01-01\\\\\n",
       "\t 2022-04-01\\\\\n",
       "\t 2022-07-01\\\\\n",
       "\t 2022-10-01\\\\\n",
       "\t 2023-01-01\\\\\n",
       "\t 2023-04-01\\\\\n",
       "\t 2023-07-01\\\\\n",
       "\t 2023-10-01\\\\\n",
       "\t 2024-01-01\\\\\n",
       "\t 2024-04-01\\\\\n",
       "\t 2024-07-01\\\\\n",
       "\t 2024-10-01\\\\\n",
       "\t 2025-01-01\\\\\n",
       "\t 2025-04-01\\\\\n",
       "\t 2025-07-01\\\\\n",
       "\t 2025-10-01\\\\\n",
       "\t 2026-01-01\\\\\n",
       "\t 2026-04-01\\\\\n",
       "\t 2026-07-01\\\\\n",
       "\t 2026-10-01\\\\\n",
       "\t 2027-01-01\\\\\n",
       "\t 2027-04-01\\\\\n",
       "\t 2027-07-01\\\\\n",
       "\t 2027-10-01\\\\\n",
       "\t 2028-01-01\\\\\n",
       "\\end{tabular}\n"
      ],
      "text/markdown": [
       "\n",
       "A data.frame: 177 × 1\n",
       "\n",
       "| ds &lt;dttm&gt; |\n",
       "|---|\n",
       "| 1984-01-01 |\n",
       "| 1984-04-01 |\n",
       "| 1984-07-01 |\n",
       "| 1984-10-01 |\n",
       "| 1985-01-01 |\n",
       "| 1985-04-01 |\n",
       "| 1985-07-01 |\n",
       "| 1985-10-01 |\n",
       "| 1986-01-01 |\n",
       "| 1986-04-01 |\n",
       "| 1986-07-01 |\n",
       "| 1986-10-01 |\n",
       "| 1987-01-01 |\n",
       "| 1987-04-01 |\n",
       "| 1987-07-01 |\n",
       "| 1987-10-01 |\n",
       "| 1988-01-01 |\n",
       "| 1988-04-01 |\n",
       "| 1988-07-01 |\n",
       "| 1988-10-01 |\n",
       "| 1989-01-01 |\n",
       "| 1989-04-01 |\n",
       "| 1989-07-01 |\n",
       "| 1989-10-01 |\n",
       "| 1990-01-01 |\n",
       "| 1990-04-01 |\n",
       "| 1990-07-01 |\n",
       "| 1990-10-01 |\n",
       "| 1991-01-01 |\n",
       "| 1991-04-01 |\n",
       "| ⋮ |\n",
       "| 2020-10-01 |\n",
       "| 2021-01-01 |\n",
       "| 2021-04-01 |\n",
       "| 2021-07-01 |\n",
       "| 2021-10-01 |\n",
       "| 2022-01-01 |\n",
       "| 2022-04-01 |\n",
       "| 2022-07-01 |\n",
       "| 2022-10-01 |\n",
       "| 2023-01-01 |\n",
       "| 2023-04-01 |\n",
       "| 2023-07-01 |\n",
       "| 2023-10-01 |\n",
       "| 2024-01-01 |\n",
       "| 2024-04-01 |\n",
       "| 2024-07-01 |\n",
       "| 2024-10-01 |\n",
       "| 2025-01-01 |\n",
       "| 2025-04-01 |\n",
       "| 2025-07-01 |\n",
       "| 2025-10-01 |\n",
       "| 2026-01-01 |\n",
       "| 2026-04-01 |\n",
       "| 2026-07-01 |\n",
       "| 2026-10-01 |\n",
       "| 2027-01-01 |\n",
       "| 2027-04-01 |\n",
       "| 2027-07-01 |\n",
       "| 2027-10-01 |\n",
       "| 2028-01-01 |\n",
       "\n"
      ],
      "text/plain": [
       "    ds        \n",
       "1   1984-01-01\n",
       "2   1984-04-01\n",
       "3   1984-07-01\n",
       "4   1984-10-01\n",
       "5   1985-01-01\n",
       "6   1985-04-01\n",
       "7   1985-07-01\n",
       "8   1985-10-01\n",
       "9   1986-01-01\n",
       "10  1986-04-01\n",
       "11  1986-07-01\n",
       "12  1986-10-01\n",
       "13  1987-01-01\n",
       "14  1987-04-01\n",
       "15  1987-07-01\n",
       "16  1987-10-01\n",
       "17  1988-01-01\n",
       "18  1988-04-01\n",
       "19  1988-07-01\n",
       "20  1988-10-01\n",
       "21  1989-01-01\n",
       "22  1989-04-01\n",
       "23  1989-07-01\n",
       "24  1989-10-01\n",
       "25  1990-01-01\n",
       "26  1990-04-01\n",
       "27  1990-07-01\n",
       "28  1990-10-01\n",
       "29  1991-01-01\n",
       "30  1991-04-01\n",
       "⋮   ⋮         \n",
       "148 2020-10-01\n",
       "149 2021-01-01\n",
       "150 2021-04-01\n",
       "151 2021-07-01\n",
       "152 2021-10-01\n",
       "153 2022-01-01\n",
       "154 2022-04-01\n",
       "155 2022-07-01\n",
       "156 2022-10-01\n",
       "157 2023-01-01\n",
       "158 2023-04-01\n",
       "159 2023-07-01\n",
       "160 2023-10-01\n",
       "161 2024-01-01\n",
       "162 2024-04-01\n",
       "163 2024-07-01\n",
       "164 2024-10-01\n",
       "165 2025-01-01\n",
       "166 2025-04-01\n",
       "167 2025-07-01\n",
       "168 2025-10-01\n",
       "169 2026-01-01\n",
       "170 2026-04-01\n",
       "171 2026-07-01\n",
       "172 2026-10-01\n",
       "173 2027-01-01\n",
       "174 2027-04-01\n",
       "175 2027-07-01\n",
       "176 2027-10-01\n",
       "177 2028-01-01"
      ]
     },
     "metadata": {},
     "output_type": "display_data"
    }
   ],
   "source": [
    "# Step 4: Create a future dataframe\n",
    "future_train_data_2 <- make_future_dataframe(prophet_model_2, periods = 33, freq = \"quarter\") # start counting from the end of the training data: 2020 Q4 to 2028 Q1\n",
    "future_train_data_2 # The output of make_future_dataframe() will include both the training data dates and the newly created future dates.future_train_data_2"
   ]
  },
  {
   "cell_type": "code",
   "execution_count": 420,
   "metadata": {
    "vscode": {
     "languageId": "r"
    }
   },
   "outputs": [
    {
     "name": "stderr",
     "output_type": "stream",
     "text": [
      "Disabling weekly seasonality. Run prophet with weekly.seasonality=TRUE to override this.\n",
      "\n",
      "Disabling daily seasonality. Run prophet with daily.seasonality=TRUE to override this.\n",
      "\n"
     ]
    },
    {
     "name": "stderr",
     "output_type": "stream",
     "text": [
      "Disabling weekly seasonality. Run prophet with weekly.seasonality=TRUE to override this.\n",
      "\n",
      "Disabling daily seasonality. Run prophet with daily.seasonality=TRUE to override this.\n",
      "\n",
      "Disabling weekly seasonality. Run prophet with weekly.seasonality=TRUE to override this.\n",
      "\n",
      "Disabling daily seasonality. Run prophet with daily.seasonality=TRUE to override this.\n",
      "\n",
      "Disabling weekly seasonality. Run prophet with weekly.seasonality=TRUE to override this.\n",
      "\n",
      "Disabling daily seasonality. Run prophet with daily.seasonality=TRUE to override this.\n",
      "\n"
     ]
    },
    {
     "data": {
      "text/html": [
       "<table class=\"dataframe\">\n",
       "<caption>A data.frame: 177 × 5</caption>\n",
       "<thead>\n",
       "\t<tr><th scope=col>ds</th><th scope=col>GDP</th><th scope=col>unemployment_rate</th><th scope=col>fed_rate</th><th scope=col>ConsumerPriceIndex</th></tr>\n",
       "\t<tr><th scope=col>&lt;dttm&gt;</th><th scope=col>&lt;dbl&gt;</th><th scope=col>&lt;dbl&gt;</th><th scope=col>&lt;dbl&gt;</th><th scope=col>&lt;dbl&gt;</th></tr>\n",
       "</thead>\n",
       "<tbody>\n",
       "\t<tr><td>1984-01-01</td><td>3.908054e+12</td><td>0.07866667</td><td>0.09686667</td><td> 1.1202636</td></tr>\n",
       "\t<tr><td>1984-04-01</td><td>4.009601e+12</td><td>0.07433333</td><td>0.10556667</td><td> 1.0752688</td></tr>\n",
       "\t<tr><td>1984-07-01</td><td>4.084250e+12</td><td>0.07433333</td><td>0.11390000</td><td> 1.0960671</td></tr>\n",
       "\t<tr><td>1984-10-01</td><td>4.148551e+12</td><td>0.07300000</td><td>0.09266667</td><td> 0.7334184</td></tr>\n",
       "\t<tr><td>1985-01-01</td><td>4.230168e+12</td><td>0.07233333</td><td>0.08476667</td><td> 0.6331117</td></tr>\n",
       "\t<tr><td>1985-04-01</td><td>4.294887e+12</td><td>0.07300000</td><td>0.07923333</td><td> 1.2268009</td></tr>\n",
       "\t<tr><td>1985-07-01</td><td>4.386773e+12</td><td>0.07200000</td><td>0.07900000</td><td> 0.7147296</td></tr>\n",
       "\t<tr><td>1985-10-01</td><td>4.444094e+12</td><td>0.07033333</td><td>0.08103333</td><td> 0.8947856</td></tr>\n",
       "\t<tr><td>1986-01-01</td><td>4.507894e+12</td><td>0.07033333</td><td>0.07826667</td><td> 0.2140673</td></tr>\n",
       "\t<tr><td>1986-04-01</td><td>4.545340e+12</td><td>0.07166667</td><td>0.06920000</td><td>-0.2136100</td></tr>\n",
       "\t<tr><td>1986-07-01</td><td>4.607669e+12</td><td>0.06966667</td><td>0.06206667</td><td> 0.7339450</td></tr>\n",
       "\t<tr><td>1986-10-01</td><td>4.657627e+12</td><td>0.06833333</td><td>0.06266667</td><td> 0.5464481</td></tr>\n",
       "\t<tr><td>1987-01-01</td><td>4.722156e+12</td><td>0.06600000</td><td>0.06220000</td><td> 1.1171498</td></tr>\n",
       "\t<tr><td>1987-04-01</td><td>4.806160e+12</td><td>0.06266667</td><td>0.06650000</td><td> 1.3138250</td></tr>\n",
       "\t<tr><td>1987-07-01</td><td>4.884555e+12</td><td>0.06000000</td><td>0.06843333</td><td> 1.1494253</td></tr>\n",
       "\t<tr><td>1987-10-01</td><td>5.007994e+12</td><td>0.05833333</td><td>0.06916667</td><td> 0.8449883</td></tr>\n",
       "\t<tr><td>1988-01-01</td><td>5.073372e+12</td><td>0.05700000</td><td>0.06663333</td><td> 0.6067611</td></tr>\n",
       "\t<tr><td>1988-04-01</td><td>5.190036e+12</td><td>0.05466667</td><td>0.07156667</td><td> 1.2636416</td></tr>\n",
       "\t<tr><td>1988-07-01</td><td>5.282835e+12</td><td>0.05466667</td><td>0.07983333</td><td> 1.3329552</td></tr>\n",
       "\t<tr><td>1988-10-01</td><td>5.399509e+12</td><td>0.05333333</td><td>0.08470000</td><td> 1.0355444</td></tr>\n",
       "\t<tr><td>1989-01-01</td><td>5.511253e+12</td><td>0.05200000</td><td>0.09443333</td><td> 1.1080332</td></tr>\n",
       "\t<tr><td>1989-04-01</td><td>5.612463e+12</td><td>0.05233333</td><td>0.09726667</td><td> 1.6438356</td></tr>\n",
       "\t<tr><td>1989-07-01</td><td>5.695365e+12</td><td>0.05233333</td><td>0.09083333</td><td> 0.8086253</td></tr>\n",
       "\t<tr><td>1989-10-01</td><td>5.747237e+12</td><td>0.05366667</td><td>0.08613333</td><td> 0.9625668</td></tr>\n",
       "\t<tr><td>1990-01-01</td><td>5.872701e+12</td><td>0.05300000</td><td>0.08250000</td><td> 1.7213983</td></tr>\n",
       "\t<tr><td>1990-04-01</td><td>5.960028e+12</td><td>0.05333333</td><td>0.08243333</td><td> 1.0153606</td></tr>\n",
       "\t<tr><td>1990-07-01</td><td>6.015116e+12</td><td>0.05700000</td><td>0.08160000</td><td> 1.7268041</td></tr>\n",
       "\t<tr><td>1990-10-01</td><td>6.004733e+12</td><td>0.06133333</td><td>0.07743333</td><td> 1.6214847</td></tr>\n",
       "\t<tr><td>1991-01-01</td><td>6.035178e+12</td><td>0.06600000</td><td>0.06426667</td><td> 0.8227375</td></tr>\n",
       "\t<tr><td>1991-04-01</td><td>6.126862e+12</td><td>0.06833333</td><td>0.05863333</td><td> 0.5934718</td></tr>\n",
       "\t<tr><td>⋮</td><td>⋮</td><td>⋮</td><td>⋮</td><td>⋮</td></tr>\n",
       "\t<tr><td>2020-10-01</td><td>2.228005e+13</td><td>0.05547290</td><td>-0.007426903</td><td>-0.03714094</td></tr>\n",
       "\t<tr><td>2021-01-01</td><td>2.246351e+13</td><td>0.05585235</td><td>-0.008406766</td><td> 0.35973681</td></tr>\n",
       "\t<tr><td>2021-04-01</td><td>2.267875e+13</td><td>0.05544690</td><td>-0.008292880</td><td> 0.69450703</td></tr>\n",
       "\t<tr><td>2021-07-01</td><td>2.286532e+13</td><td>0.05518034</td><td>-0.008047669</td><td> 0.26947548</td></tr>\n",
       "\t<tr><td>2021-10-01</td><td>2.304209e+13</td><td>0.05490803</td><td>-0.009746957</td><td>-0.05221124</td></tr>\n",
       "\t<tr><td>2022-01-01</td><td>2.321240e+13</td><td>0.05550376</td><td>-0.010782503</td><td> 0.34325752</td></tr>\n",
       "\t<tr><td>2022-04-01</td><td>2.342388e+13</td><td>0.05503774</td><td>-0.010603254</td><td> 0.67736430</td></tr>\n",
       "\t<tr><td>2022-07-01</td><td>2.362117e+13</td><td>0.05474675</td><td>-0.010397404</td><td> 0.25171737</td></tr>\n",
       "\t<tr><td>2022-10-01</td><td>2.380522e+13</td><td>0.05434984</td><td>-0.012058978</td><td>-0.06699794</td></tr>\n",
       "\t<tr><td>2023-01-01</td><td>2.396110e+13</td><td>0.05516163</td><td>-0.013149937</td><td> 0.32684044</td></tr>\n",
       "\t<tr><td>2023-04-01</td><td>2.417038e+13</td><td>0.05463645</td><td>-0.012905595</td><td> 0.66009693</td></tr>\n",
       "\t<tr><td>2023-07-01</td><td>2.437775e+13</td><td>0.05432101</td><td>-0.012739716</td><td> 0.23405338</td></tr>\n",
       "\t<tr><td>2023-10-01</td><td>2.456941e+13</td><td>0.05379869</td><td>-0.014363016</td><td>-0.08150352</td></tr>\n",
       "\t<tr><td>2024-01-01</td><td>2.470961e+13</td><td>0.05482607</td><td>-0.015509038</td><td> 0.31048639</td></tr>\n",
       "\t<tr><td>2024-04-01</td><td>2.489290e+13</td><td>0.05502374</td><td>-0.015373588</td><td> 0.64344945</td></tr>\n",
       "\t<tr><td>2024-07-01</td><td>2.506809e+13</td><td>0.05478160</td><td>-0.015089683</td><td> 0.21925180</td></tr>\n",
       "\t<tr><td>2024-10-01</td><td>2.523794e+13</td><td>0.05463295</td><td>-0.016826064</td><td>-0.10521686</td></tr>\n",
       "\t<tr><td>2025-01-01</td><td>2.542141e+13</td><td>0.05501240</td><td>-0.017805927</td><td> 0.29166089</td></tr>\n",
       "\t<tr><td>2025-04-01</td><td>2.563664e+13</td><td>0.05460695</td><td>-0.017692041</td><td> 0.62643111</td></tr>\n",
       "\t<tr><td>2025-07-01</td><td>2.582321e+13</td><td>0.05434038</td><td>-0.017446830</td><td> 0.20139956</td></tr>\n",
       "\t<tr><td>2025-10-01</td><td>2.599998e+13</td><td>0.05406808</td><td>-0.019146118</td><td>-0.12028715</td></tr>\n",
       "\t<tr><td>2026-01-01</td><td>2.617029e+13</td><td>0.05466380</td><td>-0.020181665</td><td> 0.27518161</td></tr>\n",
       "\t<tr><td>2026-04-01</td><td>2.638177e+13</td><td>0.05419779</td><td>-0.020002416</td><td> 0.60928839</td></tr>\n",
       "\t<tr><td>2026-07-01</td><td>2.657907e+13</td><td>0.05390680</td><td>-0.019796565</td><td> 0.18364145</td></tr>\n",
       "\t<tr><td>2026-10-01</td><td>2.676311e+13</td><td>0.05350988</td><td>-0.021458139</td><td>-0.13507386</td></tr>\n",
       "\t<tr><td>2027-01-01</td><td>2.691900e+13</td><td>0.05432167</td><td>-0.022549098</td><td> 0.25876452</td></tr>\n",
       "\t<tr><td>2027-04-01</td><td>2.712827e+13</td><td>0.05379649</td><td>-0.022304756</td><td> 0.59202102</td></tr>\n",
       "\t<tr><td>2027-07-01</td><td>2.733564e+13</td><td>0.05348106</td><td>-0.022138877</td><td> 0.16597746</td></tr>\n",
       "\t<tr><td>2027-10-01</td><td>2.752730e+13</td><td>0.05295874</td><td>-0.023762177</td><td>-0.14957943</td></tr>\n",
       "\t<tr><td>2028-01-01</td><td>2.766751e+13</td><td>0.05398611</td><td>-0.024908199</td><td> 0.24241047</td></tr>\n",
       "</tbody>\n",
       "</table>\n"
      ],
      "text/latex": [
       "A data.frame: 177 × 5\n",
       "\\begin{tabular}{lllll}\n",
       " ds & GDP & unemployment\\_rate & fed\\_rate & ConsumerPriceIndex\\\\\n",
       " <dttm> & <dbl> & <dbl> & <dbl> & <dbl>\\\\\n",
       "\\hline\n",
       "\t 1984-01-01 & 3.908054e+12 & 0.07866667 & 0.09686667 &  1.1202636\\\\\n",
       "\t 1984-04-01 & 4.009601e+12 & 0.07433333 & 0.10556667 &  1.0752688\\\\\n",
       "\t 1984-07-01 & 4.084250e+12 & 0.07433333 & 0.11390000 &  1.0960671\\\\\n",
       "\t 1984-10-01 & 4.148551e+12 & 0.07300000 & 0.09266667 &  0.7334184\\\\\n",
       "\t 1985-01-01 & 4.230168e+12 & 0.07233333 & 0.08476667 &  0.6331117\\\\\n",
       "\t 1985-04-01 & 4.294887e+12 & 0.07300000 & 0.07923333 &  1.2268009\\\\\n",
       "\t 1985-07-01 & 4.386773e+12 & 0.07200000 & 0.07900000 &  0.7147296\\\\\n",
       "\t 1985-10-01 & 4.444094e+12 & 0.07033333 & 0.08103333 &  0.8947856\\\\\n",
       "\t 1986-01-01 & 4.507894e+12 & 0.07033333 & 0.07826667 &  0.2140673\\\\\n",
       "\t 1986-04-01 & 4.545340e+12 & 0.07166667 & 0.06920000 & -0.2136100\\\\\n",
       "\t 1986-07-01 & 4.607669e+12 & 0.06966667 & 0.06206667 &  0.7339450\\\\\n",
       "\t 1986-10-01 & 4.657627e+12 & 0.06833333 & 0.06266667 &  0.5464481\\\\\n",
       "\t 1987-01-01 & 4.722156e+12 & 0.06600000 & 0.06220000 &  1.1171498\\\\\n",
       "\t 1987-04-01 & 4.806160e+12 & 0.06266667 & 0.06650000 &  1.3138250\\\\\n",
       "\t 1987-07-01 & 4.884555e+12 & 0.06000000 & 0.06843333 &  1.1494253\\\\\n",
       "\t 1987-10-01 & 5.007994e+12 & 0.05833333 & 0.06916667 &  0.8449883\\\\\n",
       "\t 1988-01-01 & 5.073372e+12 & 0.05700000 & 0.06663333 &  0.6067611\\\\\n",
       "\t 1988-04-01 & 5.190036e+12 & 0.05466667 & 0.07156667 &  1.2636416\\\\\n",
       "\t 1988-07-01 & 5.282835e+12 & 0.05466667 & 0.07983333 &  1.3329552\\\\\n",
       "\t 1988-10-01 & 5.399509e+12 & 0.05333333 & 0.08470000 &  1.0355444\\\\\n",
       "\t 1989-01-01 & 5.511253e+12 & 0.05200000 & 0.09443333 &  1.1080332\\\\\n",
       "\t 1989-04-01 & 5.612463e+12 & 0.05233333 & 0.09726667 &  1.6438356\\\\\n",
       "\t 1989-07-01 & 5.695365e+12 & 0.05233333 & 0.09083333 &  0.8086253\\\\\n",
       "\t 1989-10-01 & 5.747237e+12 & 0.05366667 & 0.08613333 &  0.9625668\\\\\n",
       "\t 1990-01-01 & 5.872701e+12 & 0.05300000 & 0.08250000 &  1.7213983\\\\\n",
       "\t 1990-04-01 & 5.960028e+12 & 0.05333333 & 0.08243333 &  1.0153606\\\\\n",
       "\t 1990-07-01 & 6.015116e+12 & 0.05700000 & 0.08160000 &  1.7268041\\\\\n",
       "\t 1990-10-01 & 6.004733e+12 & 0.06133333 & 0.07743333 &  1.6214847\\\\\n",
       "\t 1991-01-01 & 6.035178e+12 & 0.06600000 & 0.06426667 &  0.8227375\\\\\n",
       "\t 1991-04-01 & 6.126862e+12 & 0.06833333 & 0.05863333 &  0.5934718\\\\\n",
       "\t ⋮ & ⋮ & ⋮ & ⋮ & ⋮\\\\\n",
       "\t 2020-10-01 & 2.228005e+13 & 0.05547290 & -0.007426903 & -0.03714094\\\\\n",
       "\t 2021-01-01 & 2.246351e+13 & 0.05585235 & -0.008406766 &  0.35973681\\\\\n",
       "\t 2021-04-01 & 2.267875e+13 & 0.05544690 & -0.008292880 &  0.69450703\\\\\n",
       "\t 2021-07-01 & 2.286532e+13 & 0.05518034 & -0.008047669 &  0.26947548\\\\\n",
       "\t 2021-10-01 & 2.304209e+13 & 0.05490803 & -0.009746957 & -0.05221124\\\\\n",
       "\t 2022-01-01 & 2.321240e+13 & 0.05550376 & -0.010782503 &  0.34325752\\\\\n",
       "\t 2022-04-01 & 2.342388e+13 & 0.05503774 & -0.010603254 &  0.67736430\\\\\n",
       "\t 2022-07-01 & 2.362117e+13 & 0.05474675 & -0.010397404 &  0.25171737\\\\\n",
       "\t 2022-10-01 & 2.380522e+13 & 0.05434984 & -0.012058978 & -0.06699794\\\\\n",
       "\t 2023-01-01 & 2.396110e+13 & 0.05516163 & -0.013149937 &  0.32684044\\\\\n",
       "\t 2023-04-01 & 2.417038e+13 & 0.05463645 & -0.012905595 &  0.66009693\\\\\n",
       "\t 2023-07-01 & 2.437775e+13 & 0.05432101 & -0.012739716 &  0.23405338\\\\\n",
       "\t 2023-10-01 & 2.456941e+13 & 0.05379869 & -0.014363016 & -0.08150352\\\\\n",
       "\t 2024-01-01 & 2.470961e+13 & 0.05482607 & -0.015509038 &  0.31048639\\\\\n",
       "\t 2024-04-01 & 2.489290e+13 & 0.05502374 & -0.015373588 &  0.64344945\\\\\n",
       "\t 2024-07-01 & 2.506809e+13 & 0.05478160 & -0.015089683 &  0.21925180\\\\\n",
       "\t 2024-10-01 & 2.523794e+13 & 0.05463295 & -0.016826064 & -0.10521686\\\\\n",
       "\t 2025-01-01 & 2.542141e+13 & 0.05501240 & -0.017805927 &  0.29166089\\\\\n",
       "\t 2025-04-01 & 2.563664e+13 & 0.05460695 & -0.017692041 &  0.62643111\\\\\n",
       "\t 2025-07-01 & 2.582321e+13 & 0.05434038 & -0.017446830 &  0.20139956\\\\\n",
       "\t 2025-10-01 & 2.599998e+13 & 0.05406808 & -0.019146118 & -0.12028715\\\\\n",
       "\t 2026-01-01 & 2.617029e+13 & 0.05466380 & -0.020181665 &  0.27518161\\\\\n",
       "\t 2026-04-01 & 2.638177e+13 & 0.05419779 & -0.020002416 &  0.60928839\\\\\n",
       "\t 2026-07-01 & 2.657907e+13 & 0.05390680 & -0.019796565 &  0.18364145\\\\\n",
       "\t 2026-10-01 & 2.676311e+13 & 0.05350988 & -0.021458139 & -0.13507386\\\\\n",
       "\t 2027-01-01 & 2.691900e+13 & 0.05432167 & -0.022549098 &  0.25876452\\\\\n",
       "\t 2027-04-01 & 2.712827e+13 & 0.05379649 & -0.022304756 &  0.59202102\\\\\n",
       "\t 2027-07-01 & 2.733564e+13 & 0.05348106 & -0.022138877 &  0.16597746\\\\\n",
       "\t 2027-10-01 & 2.752730e+13 & 0.05295874 & -0.023762177 & -0.14957943\\\\\n",
       "\t 2028-01-01 & 2.766751e+13 & 0.05398611 & -0.024908199 &  0.24241047\\\\\n",
       "\\end{tabular}\n"
      ],
      "text/markdown": [
       "\n",
       "A data.frame: 177 × 5\n",
       "\n",
       "| ds &lt;dttm&gt; | GDP &lt;dbl&gt; | unemployment_rate &lt;dbl&gt; | fed_rate &lt;dbl&gt; | ConsumerPriceIndex &lt;dbl&gt; |\n",
       "|---|---|---|---|---|\n",
       "| 1984-01-01 | 3.908054e+12 | 0.07866667 | 0.09686667 |  1.1202636 |\n",
       "| 1984-04-01 | 4.009601e+12 | 0.07433333 | 0.10556667 |  1.0752688 |\n",
       "| 1984-07-01 | 4.084250e+12 | 0.07433333 | 0.11390000 |  1.0960671 |\n",
       "| 1984-10-01 | 4.148551e+12 | 0.07300000 | 0.09266667 |  0.7334184 |\n",
       "| 1985-01-01 | 4.230168e+12 | 0.07233333 | 0.08476667 |  0.6331117 |\n",
       "| 1985-04-01 | 4.294887e+12 | 0.07300000 | 0.07923333 |  1.2268009 |\n",
       "| 1985-07-01 | 4.386773e+12 | 0.07200000 | 0.07900000 |  0.7147296 |\n",
       "| 1985-10-01 | 4.444094e+12 | 0.07033333 | 0.08103333 |  0.8947856 |\n",
       "| 1986-01-01 | 4.507894e+12 | 0.07033333 | 0.07826667 |  0.2140673 |\n",
       "| 1986-04-01 | 4.545340e+12 | 0.07166667 | 0.06920000 | -0.2136100 |\n",
       "| 1986-07-01 | 4.607669e+12 | 0.06966667 | 0.06206667 |  0.7339450 |\n",
       "| 1986-10-01 | 4.657627e+12 | 0.06833333 | 0.06266667 |  0.5464481 |\n",
       "| 1987-01-01 | 4.722156e+12 | 0.06600000 | 0.06220000 |  1.1171498 |\n",
       "| 1987-04-01 | 4.806160e+12 | 0.06266667 | 0.06650000 |  1.3138250 |\n",
       "| 1987-07-01 | 4.884555e+12 | 0.06000000 | 0.06843333 |  1.1494253 |\n",
       "| 1987-10-01 | 5.007994e+12 | 0.05833333 | 0.06916667 |  0.8449883 |\n",
       "| 1988-01-01 | 5.073372e+12 | 0.05700000 | 0.06663333 |  0.6067611 |\n",
       "| 1988-04-01 | 5.190036e+12 | 0.05466667 | 0.07156667 |  1.2636416 |\n",
       "| 1988-07-01 | 5.282835e+12 | 0.05466667 | 0.07983333 |  1.3329552 |\n",
       "| 1988-10-01 | 5.399509e+12 | 0.05333333 | 0.08470000 |  1.0355444 |\n",
       "| 1989-01-01 | 5.511253e+12 | 0.05200000 | 0.09443333 |  1.1080332 |\n",
       "| 1989-04-01 | 5.612463e+12 | 0.05233333 | 0.09726667 |  1.6438356 |\n",
       "| 1989-07-01 | 5.695365e+12 | 0.05233333 | 0.09083333 |  0.8086253 |\n",
       "| 1989-10-01 | 5.747237e+12 | 0.05366667 | 0.08613333 |  0.9625668 |\n",
       "| 1990-01-01 | 5.872701e+12 | 0.05300000 | 0.08250000 |  1.7213983 |\n",
       "| 1990-04-01 | 5.960028e+12 | 0.05333333 | 0.08243333 |  1.0153606 |\n",
       "| 1990-07-01 | 6.015116e+12 | 0.05700000 | 0.08160000 |  1.7268041 |\n",
       "| 1990-10-01 | 6.004733e+12 | 0.06133333 | 0.07743333 |  1.6214847 |\n",
       "| 1991-01-01 | 6.035178e+12 | 0.06600000 | 0.06426667 |  0.8227375 |\n",
       "| 1991-04-01 | 6.126862e+12 | 0.06833333 | 0.05863333 |  0.5934718 |\n",
       "| ⋮ | ⋮ | ⋮ | ⋮ | ⋮ |\n",
       "| 2020-10-01 | 2.228005e+13 | 0.05547290 | -0.007426903 | -0.03714094 |\n",
       "| 2021-01-01 | 2.246351e+13 | 0.05585235 | -0.008406766 |  0.35973681 |\n",
       "| 2021-04-01 | 2.267875e+13 | 0.05544690 | -0.008292880 |  0.69450703 |\n",
       "| 2021-07-01 | 2.286532e+13 | 0.05518034 | -0.008047669 |  0.26947548 |\n",
       "| 2021-10-01 | 2.304209e+13 | 0.05490803 | -0.009746957 | -0.05221124 |\n",
       "| 2022-01-01 | 2.321240e+13 | 0.05550376 | -0.010782503 |  0.34325752 |\n",
       "| 2022-04-01 | 2.342388e+13 | 0.05503774 | -0.010603254 |  0.67736430 |\n",
       "| 2022-07-01 | 2.362117e+13 | 0.05474675 | -0.010397404 |  0.25171737 |\n",
       "| 2022-10-01 | 2.380522e+13 | 0.05434984 | -0.012058978 | -0.06699794 |\n",
       "| 2023-01-01 | 2.396110e+13 | 0.05516163 | -0.013149937 |  0.32684044 |\n",
       "| 2023-04-01 | 2.417038e+13 | 0.05463645 | -0.012905595 |  0.66009693 |\n",
       "| 2023-07-01 | 2.437775e+13 | 0.05432101 | -0.012739716 |  0.23405338 |\n",
       "| 2023-10-01 | 2.456941e+13 | 0.05379869 | -0.014363016 | -0.08150352 |\n",
       "| 2024-01-01 | 2.470961e+13 | 0.05482607 | -0.015509038 |  0.31048639 |\n",
       "| 2024-04-01 | 2.489290e+13 | 0.05502374 | -0.015373588 |  0.64344945 |\n",
       "| 2024-07-01 | 2.506809e+13 | 0.05478160 | -0.015089683 |  0.21925180 |\n",
       "| 2024-10-01 | 2.523794e+13 | 0.05463295 | -0.016826064 | -0.10521686 |\n",
       "| 2025-01-01 | 2.542141e+13 | 0.05501240 | -0.017805927 |  0.29166089 |\n",
       "| 2025-04-01 | 2.563664e+13 | 0.05460695 | -0.017692041 |  0.62643111 |\n",
       "| 2025-07-01 | 2.582321e+13 | 0.05434038 | -0.017446830 |  0.20139956 |\n",
       "| 2025-10-01 | 2.599998e+13 | 0.05406808 | -0.019146118 | -0.12028715 |\n",
       "| 2026-01-01 | 2.617029e+13 | 0.05466380 | -0.020181665 |  0.27518161 |\n",
       "| 2026-04-01 | 2.638177e+13 | 0.05419779 | -0.020002416 |  0.60928839 |\n",
       "| 2026-07-01 | 2.657907e+13 | 0.05390680 | -0.019796565 |  0.18364145 |\n",
       "| 2026-10-01 | 2.676311e+13 | 0.05350988 | -0.021458139 | -0.13507386 |\n",
       "| 2027-01-01 | 2.691900e+13 | 0.05432167 | -0.022549098 |  0.25876452 |\n",
       "| 2027-04-01 | 2.712827e+13 | 0.05379649 | -0.022304756 |  0.59202102 |\n",
       "| 2027-07-01 | 2.733564e+13 | 0.05348106 | -0.022138877 |  0.16597746 |\n",
       "| 2027-10-01 | 2.752730e+13 | 0.05295874 | -0.023762177 | -0.14957943 |\n",
       "| 2028-01-01 | 2.766751e+13 | 0.05398611 | -0.024908199 |  0.24241047 |\n",
       "\n"
      ],
      "text/plain": [
       "    ds         GDP          unemployment_rate fed_rate     ConsumerPriceIndex\n",
       "1   1984-01-01 3.908054e+12 0.07866667        0.09686667    1.1202636        \n",
       "2   1984-04-01 4.009601e+12 0.07433333        0.10556667    1.0752688        \n",
       "3   1984-07-01 4.084250e+12 0.07433333        0.11390000    1.0960671        \n",
       "4   1984-10-01 4.148551e+12 0.07300000        0.09266667    0.7334184        \n",
       "5   1985-01-01 4.230168e+12 0.07233333        0.08476667    0.6331117        \n",
       "6   1985-04-01 4.294887e+12 0.07300000        0.07923333    1.2268009        \n",
       "7   1985-07-01 4.386773e+12 0.07200000        0.07900000    0.7147296        \n",
       "8   1985-10-01 4.444094e+12 0.07033333        0.08103333    0.8947856        \n",
       "9   1986-01-01 4.507894e+12 0.07033333        0.07826667    0.2140673        \n",
       "10  1986-04-01 4.545340e+12 0.07166667        0.06920000   -0.2136100        \n",
       "11  1986-07-01 4.607669e+12 0.06966667        0.06206667    0.7339450        \n",
       "12  1986-10-01 4.657627e+12 0.06833333        0.06266667    0.5464481        \n",
       "13  1987-01-01 4.722156e+12 0.06600000        0.06220000    1.1171498        \n",
       "14  1987-04-01 4.806160e+12 0.06266667        0.06650000    1.3138250        \n",
       "15  1987-07-01 4.884555e+12 0.06000000        0.06843333    1.1494253        \n",
       "16  1987-10-01 5.007994e+12 0.05833333        0.06916667    0.8449883        \n",
       "17  1988-01-01 5.073372e+12 0.05700000        0.06663333    0.6067611        \n",
       "18  1988-04-01 5.190036e+12 0.05466667        0.07156667    1.2636416        \n",
       "19  1988-07-01 5.282835e+12 0.05466667        0.07983333    1.3329552        \n",
       "20  1988-10-01 5.399509e+12 0.05333333        0.08470000    1.0355444        \n",
       "21  1989-01-01 5.511253e+12 0.05200000        0.09443333    1.1080332        \n",
       "22  1989-04-01 5.612463e+12 0.05233333        0.09726667    1.6438356        \n",
       "23  1989-07-01 5.695365e+12 0.05233333        0.09083333    0.8086253        \n",
       "24  1989-10-01 5.747237e+12 0.05366667        0.08613333    0.9625668        \n",
       "25  1990-01-01 5.872701e+12 0.05300000        0.08250000    1.7213983        \n",
       "26  1990-04-01 5.960028e+12 0.05333333        0.08243333    1.0153606        \n",
       "27  1990-07-01 6.015116e+12 0.05700000        0.08160000    1.7268041        \n",
       "28  1990-10-01 6.004733e+12 0.06133333        0.07743333    1.6214847        \n",
       "29  1991-01-01 6.035178e+12 0.06600000        0.06426667    0.8227375        \n",
       "30  1991-04-01 6.126862e+12 0.06833333        0.05863333    0.5934718        \n",
       "⋮   ⋮          ⋮            ⋮                 ⋮            ⋮                 \n",
       "148 2020-10-01 2.228005e+13 0.05547290        -0.007426903 -0.03714094       \n",
       "149 2021-01-01 2.246351e+13 0.05585235        -0.008406766  0.35973681       \n",
       "150 2021-04-01 2.267875e+13 0.05544690        -0.008292880  0.69450703       \n",
       "151 2021-07-01 2.286532e+13 0.05518034        -0.008047669  0.26947548       \n",
       "152 2021-10-01 2.304209e+13 0.05490803        -0.009746957 -0.05221124       \n",
       "153 2022-01-01 2.321240e+13 0.05550376        -0.010782503  0.34325752       \n",
       "154 2022-04-01 2.342388e+13 0.05503774        -0.010603254  0.67736430       \n",
       "155 2022-07-01 2.362117e+13 0.05474675        -0.010397404  0.25171737       \n",
       "156 2022-10-01 2.380522e+13 0.05434984        -0.012058978 -0.06699794       \n",
       "157 2023-01-01 2.396110e+13 0.05516163        -0.013149937  0.32684044       \n",
       "158 2023-04-01 2.417038e+13 0.05463645        -0.012905595  0.66009693       \n",
       "159 2023-07-01 2.437775e+13 0.05432101        -0.012739716  0.23405338       \n",
       "160 2023-10-01 2.456941e+13 0.05379869        -0.014363016 -0.08150352       \n",
       "161 2024-01-01 2.470961e+13 0.05482607        -0.015509038  0.31048639       \n",
       "162 2024-04-01 2.489290e+13 0.05502374        -0.015373588  0.64344945       \n",
       "163 2024-07-01 2.506809e+13 0.05478160        -0.015089683  0.21925180       \n",
       "164 2024-10-01 2.523794e+13 0.05463295        -0.016826064 -0.10521686       \n",
       "165 2025-01-01 2.542141e+13 0.05501240        -0.017805927  0.29166089       \n",
       "166 2025-04-01 2.563664e+13 0.05460695        -0.017692041  0.62643111       \n",
       "167 2025-07-01 2.582321e+13 0.05434038        -0.017446830  0.20139956       \n",
       "168 2025-10-01 2.599998e+13 0.05406808        -0.019146118 -0.12028715       \n",
       "169 2026-01-01 2.617029e+13 0.05466380        -0.020181665  0.27518161       \n",
       "170 2026-04-01 2.638177e+13 0.05419779        -0.020002416  0.60928839       \n",
       "171 2026-07-01 2.657907e+13 0.05390680        -0.019796565  0.18364145       \n",
       "172 2026-10-01 2.676311e+13 0.05350988        -0.021458139 -0.13507386       \n",
       "173 2027-01-01 2.691900e+13 0.05432167        -0.022549098  0.25876452       \n",
       "174 2027-04-01 2.712827e+13 0.05379649        -0.022304756  0.59202102       \n",
       "175 2027-07-01 2.733564e+13 0.05348106        -0.022138877  0.16597746       \n",
       "176 2027-10-01 2.752730e+13 0.05295874        -0.023762177 -0.14957943       \n",
       "177 2028-01-01 2.766751e+13 0.05398611        -0.024908199  0.24241047       "
      ]
     },
     "metadata": {},
     "output_type": "display_data"
    }
   ],
   "source": [
    "# Step 1: Create dataframes for GDP and unemployment rate\n",
    "gdp_data <- data.frame(\n",
    "  ds = train_data_2$ds, # Use the same date column as in your training data\n",
    "  y = train_data_2$GDP  # Use the GDP column\n",
    ")\n",
    "\n",
    "unemployment_data <- data.frame(\n",
    "  ds = train_data_2$ds, # Use the same date column as in your training data\n",
    "  y = train_data_2$unemployment_rate # Use the unemployment rate column\n",
    ")\n",
    "\n",
    "fed_data <- data.frame(\n",
    "  ds = train_data_2$ds, # Use the same date column as in your training data\n",
    "  y = train_data_2$fed_rate # Use the fed rate column\n",
    ")\n",
    "\n",
    "CPI_data <- data.frame(\n",
    "  ds = train_data_2$ds, # Use the same date column as in your training data\n",
    "  y = train_data_2$ConsumerPriceIndex # Use the CPI column\n",
    ") \n",
    "\n",
    "# Step 2: Fit Prophet models for GDP and unemployment rate\n",
    "gdp_model <- prophet(gdp_data) # Fit the GDP model\n",
    "unemployment_model <- prophet(unemployment_data) # Fit the unemployment rate model\n",
    "fed_model <- prophet(fed_data)\n",
    "CPI_model <- prophet(CPI_data)\n",
    "\n",
    "# Step 3: Generate future dataframes matching the number of rows in future_train_data_2\n",
    "future_gdp <- make_future_dataframe(gdp_model, periods = nrow(future_train_data_2) - nrow(train_data_2), freq = \"quarter\")\n",
    "future_unemployment <- make_future_dataframe(unemployment_model, periods = nrow(future_train_data_2) - nrow(train_data_2), freq = \"quarter\")\n",
    "future_fed <- make_future_dataframe(fed_model, periods = nrow(future_train_data_2) - nrow(train_data_2), freq = \"quarter\")\n",
    "future_CPI <- make_future_dataframe(CPI_model, periods = nrow(future_train_data_2) - nrow(train_data_2), freq = \"quarter\")\n",
    "\n",
    "# Step 4: Forecast the future regressor values\n",
    "gdp_forecast <- predict(gdp_model, future_gdp)\n",
    "unemployment_forecast <- predict(unemployment_model, future_unemployment)\n",
    "fed_forecast <- predict(fed_model, future_fed)\n",
    "CPI_forcast <- predict(CPI_model, future_CPI)\n",
    "\n",
    "# Step 5: Extract forecasted values for GDP and unemployment rate\n",
    "future_GDP_values <- gdp_forecast$yhat[(nrow(train_data_2) + 1):nrow(future_gdp)]\n",
    "future_unemployment_values <- unemployment_forecast$yhat[(nrow(train_data_2) + 1):nrow(future_unemployment)]\n",
    "future_fed_rate_values <- fed_forecast$yhat[(nrow(train_data_2) + 1):nrow(future_fed)]\n",
    "future_CPI_values <- CPI_forcast$yhat[(nrow(train_data_2) + 1):nrow(future_CPI)]\n",
    "\n",
    "# Step 6: Add future GDP and unemployment rate values to future_train_data_2\n",
    "future_train_data_2$GDP <- c(train_data_2$GDP, future_GDP_values) # Combine training and future GDP values\n",
    "future_train_data_2$unemployment_rate <- c(train_data_2$unemployment_rate, future_unemployment_values) # Combine training and future unemployment rate values\n",
    "future_train_data_2$fed_rate <- c(train_data_2$fed_rate, future_fed_rate_values) # Combine training and future GDP values\n",
    "future_train_data_2$ConsumerPriceIndex <- c(train_data_2$ConsumerPriceIndex, future_CPI_values) # Combine training and future GDP values\n",
    "\n",
    "# Step 7: Verify the updated future_train_data_2\n",
    "View(future_train_data_2) # Check the final dataframe with added columns\n"
   ]
  },
  {
   "cell_type": "code",
   "execution_count": 421,
   "metadata": {
    "vscode": {
     "languageId": "r"
    }
   },
   "outputs": [],
   "source": [
    "# Step 6: Predict Future Values\n",
    "prediction_train_data_2 <- predict(prophet_model_2, future_train_data_2)"
   ]
  },
  {
   "cell_type": "code",
   "execution_count": 422,
   "metadata": {
    "vscode": {
     "languageId": "r"
    }
   },
   "outputs": [
    {
     "data": {
      "image/png": "[encoded data removed]",
      "text/plain": [
       "plot without title"
      ]
     },
     "metadata": {
      "image/png": {
       "height": 420,
       "width": 420
      }
     },
     "output_type": "display_data"
    }
   ],
   "source": [
    "prophet_plot_components(prophet_model_2, prediction_train_data_2)"
   ]
  },
  {
   "cell_type": "markdown",
   "metadata": {},
   "source": [
    "## Step 2: Visualize the foreacast"
   ]
  },
  {
   "cell_type": "code",
   "execution_count": 423,
   "metadata": {
    "vscode": {
     "languageId": "r"
    }
   },
   "outputs": [
    {
     "data": {
      "image/png": "[encoded data removed]",
      "text/plain": [
       "plot without title"
      ]
     },
     "metadata": {
      "image/png": {
       "height": 420,
       "width": 420
      }
     },
     "output_type": "display_data"
    }
   ],
   "source": [
    "# Ensure 'ds' is a Date object\n",
    "train_data_2$ds <- as.Date(train_data_2$ds)\n",
    "prediction_train_data_2$ds <- as.Date(prediction_train_data_2$ds)\n",
    "\n",
    "ggplot() +\n",
    "  # Add historical data points\n",
    "  geom_point(data = train_data_2, aes(x = ds, y = y, color = \"Historical Data\"), size = 1.5, alpha = 0.8) +\n",
    "  # Add the predicted trend line\n",
    "  geom_line(data = prediction_train_data_2, aes(x = ds, y = yhat, color = \"Predicted Trend\"), size = 2) +\n",
    "  # Add uncertainty intervals for predictions\n",
    "  geom_ribbon(\n",
    "    data = prediction_train_data_2,\n",
    "    aes(x = ds, ymin = yhat_lower, ymax = yhat_upper, fill = \"Uncertainty Interval\"),\n",
    "    alpha = 0.2\n",
    "  ) +\n",
    "  # Add labels and a title\n",
    "  labs(\n",
    "    title = \"Historical Data and Prediction with Prophet\",\n",
    "    x = \"Date\",\n",
    "    y = \"Deposits (in $)\",\n",
    "    color = \"Legend\",\n",
    "    fill = \"Legend\"\n",
    "  ) +\n",
    "  # Customize colors for the legend\n",
    "  scale_color_manual(\n",
    "    values = c(\"Historical Data\" = \"black\", \"Predicted Trend\" = \"red\")\n",
    "  ) +\n",
    "  scale_fill_manual(\n",
    "    values = c(\"Uncertainty Interval\" = \"blue\")\n",
    "  ) +\n",
    "  # Add a minimal theme\n",
    "  theme_minimal() +\n",
    "  theme(\n",
    "    plot.title = element_text(hjust = 0.5, size = 14, face = \"bold\"),\n",
    "    axis.title.x = element_text(size = 12),\n",
    "    axis.title.y = element_text(size = 12),\n",
    "    legend.title = element_text(size = 12, face = \"bold\"),\n",
    "    legend.text = element_text(size = 9)\n",
    "  )"
   ]
  },
  {
   "cell_type": "markdown",
   "metadata": {},
   "source": [
    "## Step 3: Evaluation of the Model Performance"
   ]
  },
  {
   "cell_type": "markdown",
   "metadata": {},
   "source": [
    "You don't need to use make_future_dataframe() again for the test data if you already have test_data_2. The test data already contains the actual dates and regressors needed for evaluation."
   ]
  },
  {
   "cell_type": "code",
   "execution_count": 424,
   "metadata": {
    "vscode": {
     "languageId": "r"
    }
   },
   "outputs": [
    {
     "data": {
      "text/html": [
       "<table class=\"dataframe\">\n",
       "<caption>A data.frame: 18 × 6</caption>\n",
       "<thead>\n",
       "\t<tr><th></th><th scope=col>ds</th><th scope=col>y</th><th scope=col>GDP</th><th scope=col>unemployment_rate</th><th scope=col>fed_rate</th><th scope=col>ConsumerPriceIndex</th></tr>\n",
       "\t<tr><th></th><th scope=col>&lt;date&gt;</th><th scope=col>&lt;dbl&gt;</th><th scope=col>&lt;dbl&gt;</th><th scope=col>&lt;dbl&gt;</th><th scope=col>&lt;dbl&gt;</th><th scope=col>&lt;dbl&gt;</th></tr>\n",
       "</thead>\n",
       "<tbody>\n",
       "\t<tr><th scope=row>145</th><td>2020-01-01</td><td>341691380000</td><td>2.172766e+13</td><td>0.03833333</td><td>0.0126000000</td><td> 0.4194274</td></tr>\n",
       "\t<tr><th scope=row>146</th><td>2020-04-01</td><td>339227043000</td><td>1.993544e+13</td><td>0.13000000</td><td>0.0006000000</td><td>-0.5400354</td></tr>\n",
       "\t<tr><th scope=row>147</th><td>2020-07-01</td><td>338020161000</td><td>2.168455e+13</td><td>0.08800000</td><td>0.0009333333</td><td> 1.1314854</td></tr>\n",
       "\t<tr><th scope=row>148</th><td>2020-10-01</td><td>339166813000</td><td>2.206877e+13</td><td>0.06733333</td><td>0.0009000000</td><td> 0.2299503</td></tr>\n",
       "\t<tr><th scope=row>149</th><td>2021-01-01</td><td>339070926000</td><td>2.265679e+13</td><td>0.06233333</td><td>0.0008000000</td><td> 1.0731144</td></tr>\n",
       "\t<tr><th scope=row>150</th><td>2021-04-01</td><td>340991443000</td><td>2.336886e+13</td><td>0.05933333</td><td>0.0007000000</td><td> 2.3397887</td></tr>\n",
       "\t<tr><th scope=row>151</th><td>2021-07-01</td><td>342317919000</td><td>2.392199e+13</td><td>0.05066667</td><td>0.0009000000</td><td> 1.6009753</td></tr>\n",
       "\t<tr><th scope=row>152</th><td>2021-10-01</td><td>348156945000</td><td>2.477704e+13</td><td>0.04166667</td><td>0.0008000000</td><td> 1.5177614</td></tr>\n",
       "\t<tr><th scope=row>153</th><td>2022-01-01</td><td>351425943000</td><td>2.521549e+13</td><td>0.03800000</td><td>0.0012000000</td><td> 2.2834645</td></tr>\n",
       "\t<tr><th scope=row>154</th><td>2022-04-01</td><td>354666330000</td><td>2.580579e+13</td><td>0.03633333</td><td>0.0077000000</td><td> 2.9738329</td></tr>\n",
       "\t<tr><th scope=row>155</th><td>2022-07-01</td><td>355495449000</td><td>2.627201e+13</td><td>0.03533333</td><td>0.0219000000</td><td> 1.3146621</td></tr>\n",
       "\t<tr><th scope=row>156</th><td>2022-10-01</td><td>357699656000</td><td>2.673428e+13</td><td>0.03566667</td><td>0.0365333333</td><td> 0.3671613</td></tr>\n",
       "\t<tr><th scope=row>157</th><td>2023-01-01</td><td>361631019000</td><td>2.716436e+13</td><td>0.03500000</td><td>0.0451666667</td><td> 1.0449066</td></tr>\n",
       "\t<tr><th scope=row>158</th><td>2023-04-01</td><td>361428409000</td><td>2.745382e+13</td><td>0.03566667</td><td>0.0499000000</td><td> 1.1923322</td></tr>\n",
       "\t<tr><th scope=row>159</th><td>2023-07-01</td><td>361265548000</td><td>2.796770e+13</td><td>0.03700000</td><td>0.0526000000</td><td> 0.8664265</td></tr>\n",
       "\t<tr><th scope=row>160</th><td>2023-10-01</td><td>352951195000</td><td>2.829697e+13</td><td>0.03733333</td><td>0.0533000000</td><td> 0.1045077</td></tr>\n",
       "\t<tr><th scope=row>161</th><td>2024-01-01</td><td>353246439000</td><td>2.862407e+13</td><td>0.03800000</td><td>0.0533000000</td><td> 1.0425755</td></tr>\n",
       "\t<tr><th scope=row>162</th><td>2024-04-01</td><td>349452050000</td><td>2.901671e+13</td><td>0.04000000</td><td>0.0533000000</td><td>        NA</td></tr>\n",
       "</tbody>\n",
       "</table>\n"
      ],
      "text/latex": [
       "A data.frame: 18 × 6\n",
       "\\begin{tabular}{r|llllll}\n",
       "  & ds & y & GDP & unemployment\\_rate & fed\\_rate & ConsumerPriceIndex\\\\\n",
       "  & <date> & <dbl> & <dbl> & <dbl> & <dbl> & <dbl>\\\\\n",
       "\\hline\n",
       "\t145 & 2020-01-01 & 341691380000 & 2.172766e+13 & 0.03833333 & 0.0126000000 &  0.4194274\\\\\n",
       "\t146 & 2020-04-01 & 339227043000 & 1.993544e+13 & 0.13000000 & 0.0006000000 & -0.5400354\\\\\n",
       "\t147 & 2020-07-01 & 338020161000 & 2.168455e+13 & 0.08800000 & 0.0009333333 &  1.1314854\\\\\n",
       "\t148 & 2020-10-01 & 339166813000 & 2.206877e+13 & 0.06733333 & 0.0009000000 &  0.2299503\\\\\n",
       "\t149 & 2021-01-01 & 339070926000 & 2.265679e+13 & 0.06233333 & 0.0008000000 &  1.0731144\\\\\n",
       "\t150 & 2021-04-01 & 340991443000 & 2.336886e+13 & 0.05933333 & 0.0007000000 &  2.3397887\\\\\n",
       "\t151 & 2021-07-01 & 342317919000 & 2.392199e+13 & 0.05066667 & 0.0009000000 &  1.6009753\\\\\n",
       "\t152 & 2021-10-01 & 348156945000 & 2.477704e+13 & 0.04166667 & 0.0008000000 &  1.5177614\\\\\n",
       "\t153 & 2022-01-01 & 351425943000 & 2.521549e+13 & 0.03800000 & 0.0012000000 &  2.2834645\\\\\n",
       "\t154 & 2022-04-01 & 354666330000 & 2.580579e+13 & 0.03633333 & 0.0077000000 &  2.9738329\\\\\n",
       "\t155 & 2022-07-01 & 355495449000 & 2.627201e+13 & 0.03533333 & 0.0219000000 &  1.3146621\\\\\n",
       "\t156 & 2022-10-01 & 357699656000 & 2.673428e+13 & 0.03566667 & 0.0365333333 &  0.3671613\\\\\n",
       "\t157 & 2023-01-01 & 361631019000 & 2.716436e+13 & 0.03500000 & 0.0451666667 &  1.0449066\\\\\n",
       "\t158 & 2023-04-01 & 361428409000 & 2.745382e+13 & 0.03566667 & 0.0499000000 &  1.1923322\\\\\n",
       "\t159 & 2023-07-01 & 361265548000 & 2.796770e+13 & 0.03700000 & 0.0526000000 &  0.8664265\\\\\n",
       "\t160 & 2023-10-01 & 352951195000 & 2.829697e+13 & 0.03733333 & 0.0533000000 &  0.1045077\\\\\n",
       "\t161 & 2024-01-01 & 353246439000 & 2.862407e+13 & 0.03800000 & 0.0533000000 &  1.0425755\\\\\n",
       "\t162 & 2024-04-01 & 349452050000 & 2.901671e+13 & 0.04000000 & 0.0533000000 &         NA\\\\\n",
       "\\end{tabular}\n"
      ],
      "text/markdown": [
       "\n",
       "A data.frame: 18 × 6\n",
       "\n",
       "| <!--/--> | ds &lt;date&gt; | y &lt;dbl&gt; | GDP &lt;dbl&gt; | unemployment_rate &lt;dbl&gt; | fed_rate &lt;dbl&gt; | ConsumerPriceIndex &lt;dbl&gt; |\n",
       "|---|---|---|---|---|---|---|\n",
       "| 145 | 2020-01-01 | 341691380000 | 2.172766e+13 | 0.03833333 | 0.0126000000 |  0.4194274 |\n",
       "| 146 | 2020-04-01 | 339227043000 | 1.993544e+13 | 0.13000000 | 0.0006000000 | -0.5400354 |\n",
       "| 147 | 2020-07-01 | 338020161000 | 2.168455e+13 | 0.08800000 | 0.0009333333 |  1.1314854 |\n",
       "| 148 | 2020-10-01 | 339166813000 | 2.206877e+13 | 0.06733333 | 0.0009000000 |  0.2299503 |\n",
       "| 149 | 2021-01-01 | 339070926000 | 2.265679e+13 | 0.06233333 | 0.0008000000 |  1.0731144 |\n",
       "| 150 | 2021-04-01 | 340991443000 | 2.336886e+13 | 0.05933333 | 0.0007000000 |  2.3397887 |\n",
       "| 151 | 2021-07-01 | 342317919000 | 2.392199e+13 | 0.05066667 | 0.0009000000 |  1.6009753 |\n",
       "| 152 | 2021-10-01 | 348156945000 | 2.477704e+13 | 0.04166667 | 0.0008000000 |  1.5177614 |\n",
       "| 153 | 2022-01-01 | 351425943000 | 2.521549e+13 | 0.03800000 | 0.0012000000 |  2.2834645 |\n",
       "| 154 | 2022-04-01 | 354666330000 | 2.580579e+13 | 0.03633333 | 0.0077000000 |  2.9738329 |\n",
       "| 155 | 2022-07-01 | 355495449000 | 2.627201e+13 | 0.03533333 | 0.0219000000 |  1.3146621 |\n",
       "| 156 | 2022-10-01 | 357699656000 | 2.673428e+13 | 0.03566667 | 0.0365333333 |  0.3671613 |\n",
       "| 157 | 2023-01-01 | 361631019000 | 2.716436e+13 | 0.03500000 | 0.0451666667 |  1.0449066 |\n",
       "| 158 | 2023-04-01 | 361428409000 | 2.745382e+13 | 0.03566667 | 0.0499000000 |  1.1923322 |\n",
       "| 159 | 2023-07-01 | 361265548000 | 2.796770e+13 | 0.03700000 | 0.0526000000 |  0.8664265 |\n",
       "| 160 | 2023-10-01 | 352951195000 | 2.829697e+13 | 0.03733333 | 0.0533000000 |  0.1045077 |\n",
       "| 161 | 2024-01-01 | 353246439000 | 2.862407e+13 | 0.03800000 | 0.0533000000 |  1.0425755 |\n",
       "| 162 | 2024-04-01 | 349452050000 | 2.901671e+13 | 0.04000000 | 0.0533000000 |         NA |\n",
       "\n"
      ],
      "text/plain": [
       "    ds         y            GDP          unemployment_rate fed_rate    \n",
       "145 2020-01-01 341691380000 2.172766e+13 0.03833333        0.0126000000\n",
       "146 2020-04-01 339227043000 1.993544e+13 0.13000000        0.0006000000\n",
       "147 2020-07-01 338020161000 2.168455e+13 0.08800000        0.0009333333\n",
       "148 2020-10-01 339166813000 2.206877e+13 0.06733333        0.0009000000\n",
       "149 2021-01-01 339070926000 2.265679e+13 0.06233333        0.0008000000\n",
       "150 2021-04-01 340991443000 2.336886e+13 0.05933333        0.0007000000\n",
       "151 2021-07-01 342317919000 2.392199e+13 0.05066667        0.0009000000\n",
       "152 2021-10-01 348156945000 2.477704e+13 0.04166667        0.0008000000\n",
       "153 2022-01-01 351425943000 2.521549e+13 0.03800000        0.0012000000\n",
       "154 2022-04-01 354666330000 2.580579e+13 0.03633333        0.0077000000\n",
       "155 2022-07-01 355495449000 2.627201e+13 0.03533333        0.0219000000\n",
       "156 2022-10-01 357699656000 2.673428e+13 0.03566667        0.0365333333\n",
       "157 2023-01-01 361631019000 2.716436e+13 0.03500000        0.0451666667\n",
       "158 2023-04-01 361428409000 2.745382e+13 0.03566667        0.0499000000\n",
       "159 2023-07-01 361265548000 2.796770e+13 0.03700000        0.0526000000\n",
       "160 2023-10-01 352951195000 2.829697e+13 0.03733333        0.0533000000\n",
       "161 2024-01-01 353246439000 2.862407e+13 0.03800000        0.0533000000\n",
       "162 2024-04-01 349452050000 2.901671e+13 0.04000000        0.0533000000\n",
       "    ConsumerPriceIndex\n",
       "145  0.4194274        \n",
       "146 -0.5400354        \n",
       "147  1.1314854        \n",
       "148  0.2299503        \n",
       "149  1.0731144        \n",
       "150  2.3397887        \n",
       "151  1.6009753        \n",
       "152  1.5177614        \n",
       "153  2.2834645        \n",
       "154  2.9738329        \n",
       "155  1.3146621        \n",
       "156  0.3671613        \n",
       "157  1.0449066        \n",
       "158  1.1923322        \n",
       "159  0.8664265        \n",
       "160  0.1045077        \n",
       "161  1.0425755        \n",
       "162         NA        "
      ]
     },
     "metadata": {},
     "output_type": "display_data"
    }
   ],
   "source": [
    "View(test_data_2)"
   ]
  },
  {
   "cell_type": "code",
   "execution_count": 425,
   "metadata": {
    "vscode": {
     "languageId": "r"
    }
   },
   "outputs": [
    {
     "name": "stdout",
     "output_type": "stream",
     "text": [
      "Rows: 144\n",
      "Columns: 6\n",
      "$ ds                 \u001b[3m\u001b[90m<date>\u001b[39m\u001b[23m 1984-01-01, 1984-04-01, 1984-07-01, 1984-10-01, 19…\n",
      "$ y                  \u001b[3m\u001b[90m<dbl>\u001b[39m\u001b[23m 22917257000, 23575192000, 24308965000, 24967964000,…\n",
      "$ GDP                \u001b[3m\u001b[90m<dbl>\u001b[39m\u001b[23m 3.908054e+12, 4.009601e+12, 4.084250e+12, 4.148551e…\n",
      "$ unemployment_rate  \u001b[3m\u001b[90m<dbl>\u001b[39m\u001b[23m 0.07866667, 0.07433333, 0.07433333, 0.07300000, 0.0…\n",
      "$ fed_rate           \u001b[3m\u001b[90m<dbl>\u001b[39m\u001b[23m 0.09686667, 0.10556667, 0.11390000, 0.09266667, 0.0…\n",
      "$ ConsumerPriceIndex \u001b[3m\u001b[90m<dbl>\u001b[39m\u001b[23m 1.1202636, 1.0752688, 1.0960671, 0.7334184, 0.63311…\n"
     ]
    }
   ],
   "source": [
    "#colnames(prediction_test_results_2)\n",
    "glimpse(train_data_2)"
   ]
  },
  {
   "cell_type": "code",
   "execution_count": 426,
   "metadata": {
    "vscode": {
     "languageId": "r"
    }
   },
   "outputs": [
    {
     "name": "stderr",
     "output_type": "stream",
     "text": [
      "Disabling weekly seasonality. Run prophet with weekly.seasonality=TRUE to override this.\n",
      "\n",
      "Disabling daily seasonality. Run prophet with daily.seasonality=TRUE to override this.\n",
      "\n"
     ]
    },
    {
     "name": "stderr",
     "output_type": "stream",
     "text": [
      "Disabling weekly seasonality. Run prophet with weekly.seasonality=TRUE to override this.\n",
      "\n",
      "Disabling daily seasonality. Run prophet with daily.seasonality=TRUE to override this.\n",
      "\n",
      "Disabling weekly seasonality. Run prophet with weekly.seasonality=TRUE to override this.\n",
      "\n",
      "Disabling daily seasonality. Run prophet with daily.seasonality=TRUE to override this.\n",
      "\n",
      "Disabling weekly seasonality. Run prophet with weekly.seasonality=TRUE to override this.\n",
      "\n",
      "Disabling daily seasonality. Run prophet with daily.seasonality=TRUE to override this.\n",
      "\n"
     ]
    }
   ],
   "source": [
    "# Train models for GDP and unemployment rate, CPI and fed rate\n",
    "gdp_model_2 <- prophet(data.frame(ds = train_data_2$ds, y = train_data_2$GDP))\n",
    "unemployment_model_2 <- prophet(data.frame(ds = train_data_2$ds, y = train_data_2$unemployment_rate))\n",
    "fed_model_2 <- prophet(data.frame(ds = train_data_2$ds, y = train_data_2$fed_rate))\n",
    "CPI_model_2 <- prophet(data.frame(ds = train_data_2$ds, y = train_data_2$ConsumerPriceIndex))\n",
    "\n",
    "# Create future dataframes for GDP and unemployment rate\n",
    "future_gdp_2 <- make_future_dataframe(gdp_model_2, periods = nrow(test_data_2), freq = \"quarter\")\n",
    "future_unemployment_2 <- make_future_dataframe(unemployment_model_2, periods = nrow(test_data_2), freq = \"quarter\")\n",
    "future_fed_2 <- make_future_dataframe(fed_model_2, periods = nrow(test_data_2), freq = \"quarter\")\n",
    "future_CPI_2 <- make_future_dataframe(CPI_model_2, periods = nrow(test_data_2), freq = \"quarter\")\n",
    "\n",
    "# Predict future values for GDP and unemployment rate\n",
    "gdp_forecast_2 <- predict(gdp_model_2, future_gdp_2)\n",
    "unemployment_forecast_2 <- predict(unemployment_model_2, future_unemployment_2)\n",
    "fed_forecast_2 <- predict(fed_model_2, future_fed_2)\n",
    "CPI_forcast_2 <- predict(CPI_model_2, future_CPI_2)\n",
    "\n",
    "# Create future dataframe for test data\n",
    "future_test_data_2 <- make_future_dataframe(prophet_model_2, periods = nrow(test_data_2), freq = \"quarter\") # Testing data: 2021 Q1 to 2024 Q2\n",
    "#future_test_data_2\n",
    "\n",
    "# Extract predicted values for GDP and unemployment rate\n",
    "future_test_data_2$GDP <- gdp_forecast_2$yhat\n",
    "future_test_data_2$unemployment_rate <- unemployment_forecast_2$yhat\n",
    "future_test_data_2$fed_rate <- fed_forecast_2$yhat\n",
    "future_test_data_2$ConsumerPriceIndex <- CPI_forcast_2$yhat\n"
   ]
  },
  {
   "cell_type": "code",
   "execution_count": 427,
   "metadata": {
    "vscode": {
     "languageId": "r"
    }
   },
   "outputs": [],
   "source": [
    "prediction_test_data_2 <- predict(prophet_model_2, future_test_data_2)\n"
   ]
  },
  {
   "cell_type": "code",
   "execution_count": 428,
   "metadata": {
    "vscode": {
     "languageId": "r"
    }
   },
   "outputs": [
    {
     "data": {
      "text/html": [
       "<table class=\"dataframe\">\n",
       "<caption>A data.frame: 18 × 7</caption>\n",
       "<thead>\n",
       "\t<tr><th scope=col>ds</th><th scope=col>y</th><th scope=col>GDP</th><th scope=col>unemployment_rate</th><th scope=col>fed_rate</th><th scope=col>ConsumerPriceIndex</th><th scope=col>yhat</th></tr>\n",
       "\t<tr><th scope=col>&lt;date&gt;</th><th scope=col>&lt;dbl&gt;</th><th scope=col>&lt;dbl&gt;</th><th scope=col>&lt;dbl&gt;</th><th scope=col>&lt;dbl&gt;</th><th scope=col>&lt;dbl&gt;</th><th scope=col>&lt;dbl&gt;</th></tr>\n",
       "</thead>\n",
       "<tbody>\n",
       "\t<tr><td>2020-01-01</td><td>341691380000</td><td>2.172766e+13</td><td>0.03833333</td><td>0.0126000000</td><td> 0.4194274</td><td>334651343674</td></tr>\n",
       "\t<tr><td>2020-04-01</td><td>339227043000</td><td>1.993544e+13</td><td>0.13000000</td><td>0.0006000000</td><td>-0.5400354</td><td>337896118999</td></tr>\n",
       "\t<tr><td>2020-07-01</td><td>338020161000</td><td>2.168455e+13</td><td>0.08800000</td><td>0.0009333333</td><td> 1.1314854</td><td>341959820109</td></tr>\n",
       "\t<tr><td>2020-10-01</td><td>339166813000</td><td>2.206877e+13</td><td>0.06733333</td><td>0.0009000000</td><td> 0.2299503</td><td>340882212336</td></tr>\n",
       "\t<tr><td>2021-01-01</td><td>339070926000</td><td>2.265679e+13</td><td>0.06233333</td><td>0.0008000000</td><td> 1.0731144</td><td>343210137836</td></tr>\n",
       "\t<tr><td>2021-04-01</td><td>340991443000</td><td>2.336886e+13</td><td>0.05933333</td><td>0.0007000000</td><td> 2.3397887</td><td>344881467019</td></tr>\n",
       "\t<tr><td>2021-07-01</td><td>342317919000</td><td>2.392199e+13</td><td>0.05066667</td><td>0.0009000000</td><td> 1.6009753</td><td>347857595703</td></tr>\n",
       "\t<tr><td>2021-10-01</td><td>348156945000</td><td>2.477704e+13</td><td>0.04166667</td><td>0.0008000000</td><td> 1.5177614</td><td>348352714978</td></tr>\n",
       "\t<tr><td>2022-01-01</td><td>351425943000</td><td>2.521549e+13</td><td>0.03800000</td><td>0.0012000000</td><td> 2.2834645</td><td>349804656687</td></tr>\n",
       "\t<tr><td>2022-04-01</td><td>354666330000</td><td>2.580579e+13</td><td>0.03633333</td><td>0.0077000000</td><td> 2.9738329</td><td>351686465600</td></tr>\n",
       "\t<tr><td>2022-07-01</td><td>355495449000</td><td>2.627201e+13</td><td>0.03533333</td><td>0.0219000000</td><td> 1.3146621</td><td>353553026306</td></tr>\n",
       "\t<tr><td>2022-10-01</td><td>357699656000</td><td>2.673428e+13</td><td>0.03566667</td><td>0.0365333333</td><td> 0.3671613</td><td>355631792897</td></tr>\n",
       "\t<tr><td>2023-01-01</td><td>361631019000</td><td>2.716436e+13</td><td>0.03500000</td><td>0.0451666667</td><td> 1.0449066</td><td>356114100175</td></tr>\n",
       "\t<tr><td>2023-04-01</td><td>361428409000</td><td>2.745382e+13</td><td>0.03566667</td><td>0.0499000000</td><td> 1.1923322</td><td>358310278043</td></tr>\n",
       "\t<tr><td>2023-07-01</td><td>361265548000</td><td>2.796770e+13</td><td>0.03700000</td><td>0.0526000000</td><td> 0.8664265</td><td>359047792992</td></tr>\n",
       "\t<tr><td>2023-10-01</td><td>352951195000</td><td>2.829697e+13</td><td>0.03733333</td><td>0.0533000000</td><td> 0.1045077</td><td>362719189916</td></tr>\n",
       "\t<tr><td>2024-01-01</td><td>353246439000</td><td>2.862407e+13</td><td>0.03800000</td><td>0.0533000000</td><td> 1.0425755</td><td>362139200271</td></tr>\n",
       "\t<tr><td>2024-04-01</td><td>349452050000</td><td>2.901671e+13</td><td>0.04000000</td><td>0.0533000000</td><td>        NA</td><td>365383975595</td></tr>\n",
       "</tbody>\n",
       "</table>\n"
      ],
      "text/latex": [
       "A data.frame: 18 × 7\n",
       "\\begin{tabular}{lllllll}\n",
       " ds & y & GDP & unemployment\\_rate & fed\\_rate & ConsumerPriceIndex & yhat\\\\\n",
       " <date> & <dbl> & <dbl> & <dbl> & <dbl> & <dbl> & <dbl>\\\\\n",
       "\\hline\n",
       "\t 2020-01-01 & 341691380000 & 2.172766e+13 & 0.03833333 & 0.0126000000 &  0.4194274 & 334651343674\\\\\n",
       "\t 2020-04-01 & 339227043000 & 1.993544e+13 & 0.13000000 & 0.0006000000 & -0.5400354 & 337896118999\\\\\n",
       "\t 2020-07-01 & 338020161000 & 2.168455e+13 & 0.08800000 & 0.0009333333 &  1.1314854 & 341959820109\\\\\n",
       "\t 2020-10-01 & 339166813000 & 2.206877e+13 & 0.06733333 & 0.0009000000 &  0.2299503 & 340882212336\\\\\n",
       "\t 2021-01-01 & 339070926000 & 2.265679e+13 & 0.06233333 & 0.0008000000 &  1.0731144 & 343210137836\\\\\n",
       "\t 2021-04-01 & 340991443000 & 2.336886e+13 & 0.05933333 & 0.0007000000 &  2.3397887 & 344881467019\\\\\n",
       "\t 2021-07-01 & 342317919000 & 2.392199e+13 & 0.05066667 & 0.0009000000 &  1.6009753 & 347857595703\\\\\n",
       "\t 2021-10-01 & 348156945000 & 2.477704e+13 & 0.04166667 & 0.0008000000 &  1.5177614 & 348352714978\\\\\n",
       "\t 2022-01-01 & 351425943000 & 2.521549e+13 & 0.03800000 & 0.0012000000 &  2.2834645 & 349804656687\\\\\n",
       "\t 2022-04-01 & 354666330000 & 2.580579e+13 & 0.03633333 & 0.0077000000 &  2.9738329 & 351686465600\\\\\n",
       "\t 2022-07-01 & 355495449000 & 2.627201e+13 & 0.03533333 & 0.0219000000 &  1.3146621 & 353553026306\\\\\n",
       "\t 2022-10-01 & 357699656000 & 2.673428e+13 & 0.03566667 & 0.0365333333 &  0.3671613 & 355631792897\\\\\n",
       "\t 2023-01-01 & 361631019000 & 2.716436e+13 & 0.03500000 & 0.0451666667 &  1.0449066 & 356114100175\\\\\n",
       "\t 2023-04-01 & 361428409000 & 2.745382e+13 & 0.03566667 & 0.0499000000 &  1.1923322 & 358310278043\\\\\n",
       "\t 2023-07-01 & 361265548000 & 2.796770e+13 & 0.03700000 & 0.0526000000 &  0.8664265 & 359047792992\\\\\n",
       "\t 2023-10-01 & 352951195000 & 2.829697e+13 & 0.03733333 & 0.0533000000 &  0.1045077 & 362719189916\\\\\n",
       "\t 2024-01-01 & 353246439000 & 2.862407e+13 & 0.03800000 & 0.0533000000 &  1.0425755 & 362139200271\\\\\n",
       "\t 2024-04-01 & 349452050000 & 2.901671e+13 & 0.04000000 & 0.0533000000 &         NA & 365383975595\\\\\n",
       "\\end{tabular}\n"
      ],
      "text/markdown": [
       "\n",
       "A data.frame: 18 × 7\n",
       "\n",
       "| ds &lt;date&gt; | y &lt;dbl&gt; | GDP &lt;dbl&gt; | unemployment_rate &lt;dbl&gt; | fed_rate &lt;dbl&gt; | ConsumerPriceIndex &lt;dbl&gt; | yhat &lt;dbl&gt; |\n",
       "|---|---|---|---|---|---|---|\n",
       "| 2020-01-01 | 341691380000 | 2.172766e+13 | 0.03833333 | 0.0126000000 |  0.4194274 | 334651343674 |\n",
       "| 2020-04-01 | 339227043000 | 1.993544e+13 | 0.13000000 | 0.0006000000 | -0.5400354 | 337896118999 |\n",
       "| 2020-07-01 | 338020161000 | 2.168455e+13 | 0.08800000 | 0.0009333333 |  1.1314854 | 341959820109 |\n",
       "| 2020-10-01 | 339166813000 | 2.206877e+13 | 0.06733333 | 0.0009000000 |  0.2299503 | 340882212336 |\n",
       "| 2021-01-01 | 339070926000 | 2.265679e+13 | 0.06233333 | 0.0008000000 |  1.0731144 | 343210137836 |\n",
       "| 2021-04-01 | 340991443000 | 2.336886e+13 | 0.05933333 | 0.0007000000 |  2.3397887 | 344881467019 |\n",
       "| 2021-07-01 | 342317919000 | 2.392199e+13 | 0.05066667 | 0.0009000000 |  1.6009753 | 347857595703 |\n",
       "| 2021-10-01 | 348156945000 | 2.477704e+13 | 0.04166667 | 0.0008000000 |  1.5177614 | 348352714978 |\n",
       "| 2022-01-01 | 351425943000 | 2.521549e+13 | 0.03800000 | 0.0012000000 |  2.2834645 | 349804656687 |\n",
       "| 2022-04-01 | 354666330000 | 2.580579e+13 | 0.03633333 | 0.0077000000 |  2.9738329 | 351686465600 |\n",
       "| 2022-07-01 | 355495449000 | 2.627201e+13 | 0.03533333 | 0.0219000000 |  1.3146621 | 353553026306 |\n",
       "| 2022-10-01 | 357699656000 | 2.673428e+13 | 0.03566667 | 0.0365333333 |  0.3671613 | 355631792897 |\n",
       "| 2023-01-01 | 361631019000 | 2.716436e+13 | 0.03500000 | 0.0451666667 |  1.0449066 | 356114100175 |\n",
       "| 2023-04-01 | 361428409000 | 2.745382e+13 | 0.03566667 | 0.0499000000 |  1.1923322 | 358310278043 |\n",
       "| 2023-07-01 | 361265548000 | 2.796770e+13 | 0.03700000 | 0.0526000000 |  0.8664265 | 359047792992 |\n",
       "| 2023-10-01 | 352951195000 | 2.829697e+13 | 0.03733333 | 0.0533000000 |  0.1045077 | 362719189916 |\n",
       "| 2024-01-01 | 353246439000 | 2.862407e+13 | 0.03800000 | 0.0533000000 |  1.0425755 | 362139200271 |\n",
       "| 2024-04-01 | 349452050000 | 2.901671e+13 | 0.04000000 | 0.0533000000 |         NA | 365383975595 |\n",
       "\n"
      ],
      "text/plain": [
       "   ds         y            GDP          unemployment_rate fed_rate    \n",
       "1  2020-01-01 341691380000 2.172766e+13 0.03833333        0.0126000000\n",
       "2  2020-04-01 339227043000 1.993544e+13 0.13000000        0.0006000000\n",
       "3  2020-07-01 338020161000 2.168455e+13 0.08800000        0.0009333333\n",
       "4  2020-10-01 339166813000 2.206877e+13 0.06733333        0.0009000000\n",
       "5  2021-01-01 339070926000 2.265679e+13 0.06233333        0.0008000000\n",
       "6  2021-04-01 340991443000 2.336886e+13 0.05933333        0.0007000000\n",
       "7  2021-07-01 342317919000 2.392199e+13 0.05066667        0.0009000000\n",
       "8  2021-10-01 348156945000 2.477704e+13 0.04166667        0.0008000000\n",
       "9  2022-01-01 351425943000 2.521549e+13 0.03800000        0.0012000000\n",
       "10 2022-04-01 354666330000 2.580579e+13 0.03633333        0.0077000000\n",
       "11 2022-07-01 355495449000 2.627201e+13 0.03533333        0.0219000000\n",
       "12 2022-10-01 357699656000 2.673428e+13 0.03566667        0.0365333333\n",
       "13 2023-01-01 361631019000 2.716436e+13 0.03500000        0.0451666667\n",
       "14 2023-04-01 361428409000 2.745382e+13 0.03566667        0.0499000000\n",
       "15 2023-07-01 361265548000 2.796770e+13 0.03700000        0.0526000000\n",
       "16 2023-10-01 352951195000 2.829697e+13 0.03733333        0.0533000000\n",
       "17 2024-01-01 353246439000 2.862407e+13 0.03800000        0.0533000000\n",
       "18 2024-04-01 349452050000 2.901671e+13 0.04000000        0.0533000000\n",
       "   ConsumerPriceIndex yhat        \n",
       "1   0.4194274         334651343674\n",
       "2  -0.5400354         337896118999\n",
       "3   1.1314854         341959820109\n",
       "4   0.2299503         340882212336\n",
       "5   1.0731144         343210137836\n",
       "6   2.3397887         344881467019\n",
       "7   1.6009753         347857595703\n",
       "8   1.5177614         348352714978\n",
       "9   2.2834645         349804656687\n",
       "10  2.9738329         351686465600\n",
       "11  1.3146621         353553026306\n",
       "12  0.3671613         355631792897\n",
       "13  1.0449066         356114100175\n",
       "14  1.1923322         358310278043\n",
       "15  0.8664265         359047792992\n",
       "16  0.1045077         362719189916\n",
       "17  1.0425755         362139200271\n",
       "18         NA         365383975595"
      ]
     },
     "metadata": {},
     "output_type": "display_data"
    }
   ],
   "source": [
    "# Step 3: Merge predictions with actual test data: \n",
    "\n",
    "prediction_test_data_2$ds <- as.Date(prediction_test_data_2$ds) #make sure ds is in date format or else merge will fail\n",
    "\n",
    "# The merging step combines your actual test data with the predictions generated by Prophet. This creates a single dataframe where you can directly compare the actual (y) and predicted (yhat) values for each time point (ds)\n",
    "prediction_test_results_2 <- merge(test_data_2, prediction_test_data_2[, c(\"ds\", \"yhat\")], by = \"ds\")\n",
    "prediction_test_results_2"
   ]
  },
  {
   "cell_type": "code",
   "execution_count": 429,
   "metadata": {
    "vscode": {
     "languageId": "r"
    }
   },
   "outputs": [
    {
     "data": {
      "text/html": [
       "4547090244.07046"
      ],
      "text/latex": [
       "4547090244.07046"
      ],
      "text/markdown": [
       "4547090244.07046"
      ],
      "text/plain": [
       "[1] 4547090244"
      ]
     },
     "metadata": {},
     "output_type": "display_data"
    },
    {
     "data": {
      "text/html": [
       "5896065832.09714"
      ],
      "text/latex": [
       "5896065832.09714"
      ],
      "text/markdown": [
       "5896065832.09714"
      ],
      "text/plain": [
       "[1] 5896065832"
      ]
     },
     "metadata": {},
     "output_type": "display_data"
    },
    {
     "data": {
      "text/html": [
       "1.30179523170263"
      ],
      "text/latex": [
       "1.30179523170263"
      ],
      "text/markdown": [
       "1.30179523170263"
      ],
      "text/plain": [
       "[1] 1.301795"
      ]
     },
     "metadata": {},
     "output_type": "display_data"
    }
   ],
   "source": [
    "# Mean Absolute Error (MAE)\n",
    "\n",
    "actual_2 <- prediction_test_results_2$y\n",
    "predicted_2 <- prediction_test_results_2$yhat\n",
    "\n",
    "MAE_prophet_2 <- mean(abs(actual_2 - predicted_2))\n",
    "MAE_prophet_2\n",
    "\n",
    "# Root Mean Squared Error (RMSE)\n",
    "RMSE_prophet2 <- sqrt(mean((actual_2 - predicted_2)^2))\n",
    "RMSE_prophet2\n",
    "\n",
    "# Mean Absolute Percentage Error (MAPE)\n",
    "MAPE_prophet2 <- mean(abs(actual_2 - predicted_2) / actual_2) * 100\n",
    "MAPE_prophet2\n",
    "\n",
    "# "
   ]
  },
  {
   "cell_type": "code",
   "execution_count": 430,
   "metadata": {
    "vscode": {
     "languageId": "r"
    }
   },
   "outputs": [
    {
     "name": "stdout",
     "output_type": "stream",
     "text": [
      "[1] \"MASE: 1.20487106026656\"\n"
     ]
    }
   ],
   "source": [
    "# Assuming you have these variables in your data:\n",
    "# train_data_2 is the training dataset\n",
    "# test_data_2 is the testing dataset\n",
    "# prediction_test_results_2 contains the predicted values for the test set\n",
    "\n",
    "# Define the MASE calculation function\n",
    "mase <- function(y_train, y_test, y_preds) {\n",
    "  # Calculate the naive errors for the training data\n",
    "  naive_errors <- abs(diff(y_train))  # Absolute differences between consecutive training values\n",
    "  denom <- mean(naive_errors)        # Mean absolute naive error\n",
    "  \n",
    "  # Calculate the forecast errors for the test data\n",
    "  num <- mean(abs(y_test - y_preds)) # Mean absolute forecast error\n",
    "  \n",
    "  # Return MASE\n",
    "  return(num / denom)\n",
    "}\n",
    "\n",
    "# Use the actual training and test values\n",
    "y_train <- train_data_2$y  # Replace with the actual column name for the dependent variable in your training set\n",
    "y_test <- test_data_2$y    # Replace with the actual column name for the dependent variable in your test set\n",
    "y_preds <- prediction_test_results_2$yhat  # Replace with the column containing predictions in your results\n",
    "\n",
    "# Calculate MASE\n",
    "mase_result <- mase(y_train, y_test, y_preds)\n",
    "\n",
    "# Print the result\n",
    "print(paste(\"MASE:\", mase_result))\n"
   ]
  },
  {
   "cell_type": "code",
   "execution_count": 434,
   "metadata": {
    "vscode": {
     "languageId": "r"
    }
   },
   "outputs": [
    {
     "name": "stderr",
     "output_type": "stream",
     "text": [
      "Warning message:\n",
      "“\u001b[1m\u001b[22mRemoved 1 row containing missing values or values outside the scale range\n",
      "(`geom_line()`).”\n"
     ]
    },
    {
     "data": {
      "image/png": "[encoded data removed]",
      "text/plain": [
       "plot without title"
      ]
     },
     "metadata": {
      "image/png": {
       "height": 420,
       "width": 420
      }
     },
     "output_type": "display_data"
    }
   ],
   "source": [
    "# Calculate naive forecast\n",
    "naive_forecast <- c(NA, head(test_data_2$y, -1))  # Shift y_test by one step for naive forecast\n",
    "\n",
    "# Create a data frame for plotting\n",
    "naive_vs_model <- data.frame(\n",
    "  Date = test_data_2$ds,  # Dates from test data\n",
    "  Actual_Deposits = test_data_2$y,  # Actual deposit values\n",
    "  Naive_Forecast = naive_forecast,  # Naive forecast values\n",
    "  Predicted_Deposits = prediction_test_results_2$yhat  # Predicted deposit values\n",
    ")\n",
    "\n",
    "# Plot the data\n",
    "library(ggplot2)\n",
    "ggplot(naive_vs_model, aes(x = Date)) +\n",
    "  geom_line(aes(y = Actual_Deposits, color = \"Actual Deposits\"), size = 2) +  # Line for actual deposits\n",
    "  geom_line(aes(y = Naive_Forecast, color = \"Naive Forecast\"), size = 2, linetype = \"dotted\") +  # Dotted line for naive forecast\n",
    "  geom_line(aes(y = Predicted_Deposits, color = \"Predicted Deposits\"), size = 2, linetype = \"dashed\") +  # Dashed line for model predictions\n",
    "  labs(\n",
    "    title = \"Actual vs Naive vs Predicted Deposits (2020-2024)\",\n",
    "    x = \"Date\",\n",
    "    y = \"Deposits (in $)\",\n",
    "    color = \"Legend\"\n",
    "  ) +\n",
    "  theme_minimal() +\n",
    "  theme(\n",
    "    plot.title = element_text(hjust = 0.5, size = 14, face = \"bold\"),\n",
    "    axis.title = element_text(size = 12),\n",
    "    legend.title = element_text(size = 12, face = \"bold\"),\n",
    "    legend.text = element_text(size = 10)\n",
    "  )\n",
    "\n",
    "\n"
   ]
  }
 ],
 "metadata": {
  "kernelspec": {
   "display_name": "R",
   "language": "R",
   "name": "ir"
  },
  "language_info": {
   "codemirror_mode": "r",
   "file_extension": ".r",
   "mimetype": "text/x-r-source",
   "name": "R",
   "pygments_lexer": "r",
   "version": "3.6.3"
  }
 },
 "nbformat": 4,
 "nbformat_minor": 2
}
