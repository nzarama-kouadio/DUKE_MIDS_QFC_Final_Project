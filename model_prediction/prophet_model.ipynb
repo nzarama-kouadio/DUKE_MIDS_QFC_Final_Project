{
 "cells": [
  {
   "cell_type": "code",
   "execution_count": 19,
   "metadata": {
    "vscode": {
     "languageId": "r"
    }
   },
   "outputs": [],
   "source": [
    "# Load required libraries\n",
    "library(readxl)\n",
    "library(dplyr)\n",
    "\n",
    "# Extract deposit_levels to use it in this file\n",
    "deposit_levels <- readRDS(\"data_cleaning/deposit_levels.rds\")  # Load the data\n"
   ]
  },
  {
   "cell_type": "markdown",
   "metadata": {},
   "source": [
    "## Data Exploration for Prophet Assumption"
   ]
  },
  {
   "cell_type": "code",
   "execution_count": 20,
   "metadata": {
    "vscode": {
     "languageId": "r"
    }
   },
   "outputs": [
    {
     "name": "stdout",
     "output_type": "stream",
     "text": [
      "Rows: 162\n",
      "Columns: 4\n",
      "$ time     \u001b[3m\u001b[90m<chr>\u001b[39m\u001b[23m \"1984Q1\", \"1984Q2\", \"1984Q3\", \"1984Q4\", \"1985Q1\", \"1985Q2\", \"…\n",
      "$ year     \u001b[3m\u001b[90m<dbl>\u001b[39m\u001b[23m 1984, 1984, 1984, 1984, 1985, 1985, 1985, 1985, 1986, 1986, 1…\n",
      "$ quarter  \u001b[3m\u001b[90m<dbl>\u001b[39m\u001b[23m 1, 2, 3, 4, 1, 2, 3, 4, 1, 2, 3, 4, 1, 2, 3, 4, 1, 2, 3, 4, 1…\n",
      "$ deposits \u001b[3m\u001b[90m<chr>\u001b[39m\u001b[23m \"22917.257000000001\", \"23575.191999999999\", \"24308.965\", \"249…\n"
     ]
    }
   ],
   "source": [
    "glimpse(deposit_levels)"
   ]
  }
 ],
 "metadata": {
  "kernelspec": {
   "display_name": "R",
   "language": "R",
   "name": "ir"
  },
  "language_info": {
   "codemirror_mode": "r",
   "file_extension": ".r",
   "mimetype": "text/x-r-source",
   "name": "R",
   "pygments_lexer": "r",
   "version": "3.6.3"
  }
 },
 "nbformat": 4,
 "nbformat_minor": 2
}
