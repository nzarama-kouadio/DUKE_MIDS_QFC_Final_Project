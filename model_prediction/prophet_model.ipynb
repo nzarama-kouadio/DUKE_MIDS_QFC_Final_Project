{
 "cells": [
  {
   "cell_type": "markdown",
   "metadata": {},
   "source": [
    "## Part 1: Load Libaries and Import necessary dataset"
   ]
  },
  {
   "cell_type": "code",
   "execution_count": 81,
   "metadata": {
    "vscode": {
     "languageId": "r"
    }
   },
   "outputs": [],
   "source": [
    "# https://otexts.com/fpp3/prophet.html\n",
    "# Load required libraries. Make sure to install them too\n",
    "library(readxl)\n",
    "library(dplyr)\n",
    "library(Rcpp)\n",
    "library(ggplot2)\n",
    "library(lubridate)\n",
    "library(forecast)\n",
    "library(prophet)\n",
    "library(Metrics)\n",
    "library(zoo) # use for date formatting \n",
    "library(stats) # use for additive\n",
    "library(caret)\n",
    "library(glmnet)\n"
   ]
  },
  {
   "cell_type": "code",
   "execution_count": 82,
   "metadata": {
    "vscode": {
     "languageId": "r"
    }
   },
   "outputs": [],
   "source": [
    "# Extract deposit_levels to use it in this file\n",
    "deposit_levels <- readRDS(\"/workspaces/DUKE_MIDS_QFC_Final_Project/data_cleaning/deposit_levels.rds\") # Load the data\n"
   ]
  },
  {
   "cell_type": "code",
   "execution_count": 83,
   "metadata": {
    "vscode": {
     "languageId": "r"
    }
   },
   "outputs": [],
   "source": [
    "# Extract regressors_data to use it in this file\n",
    "regressors_data <- readRDS(\"/workspaces/DUKE_MIDS_QFC_Final_Project/data_cleaning/regressors_data.rds\")"
   ]
  },
  {
   "cell_type": "code",
   "execution_count": 84,
   "metadata": {
    "vscode": {
     "languageId": "r"
    }
   },
   "outputs": [
    {
     "name": "stdout",
     "output_type": "stream",
     "text": [
      "Rows: 162\n",
      "Columns: 2\n",
      "$ time     \u001b[3m\u001b[90m<chr>\u001b[39m\u001b[23m \"1984Q1\", \"1984Q2\", \"1984Q3\", \"1984Q4\", \"1985Q1\", \"1985Q2\", \"…\n",
      "$ deposits \u001b[3m\u001b[90m<dbl>\u001b[39m\u001b[23m 22917257000, 23575192000, 24308965000, 24967964000, 256737460…\n"
     ]
    }
   ],
   "source": [
    "glimpse(deposit_levels)"
   ]
  },
  {
   "cell_type": "markdown",
   "metadata": {},
   "source": [
    "## Part 2: Data Exploration for Prophet Assumption"
   ]
  },
  {
   "cell_type": "markdown",
   "metadata": {},
   "source": [
    "### Step 1: Data Regularity and Sufficient Historical Data Expectation"
   ]
  },
  {
   "cell_type": "markdown",
   "metadata": {},
   "source": [
    "- **Purpose**: Prophet requires data to be regular (no gaps in time periods) and free of missing values to build accurate forecasts."
   ]
  },
  {
   "cell_type": "code",
   "execution_count": 85,
   "metadata": {
    "vscode": {
     "languageId": "r"
    }
   },
   "outputs": [
    {
     "data": {
      "text/html": [
       "0"
      ],
      "text/latex": [
       "0"
      ],
      "text/markdown": [
       "0"
      ],
      "text/plain": [
       "[1] 0"
      ]
     },
     "metadata": {},
     "output_type": "display_data"
    }
   ],
   "source": [
    "sum(is.na(deposit_levels))  # no missing values"
   ]
  },
  {
   "cell_type": "markdown",
   "metadata": {},
   "source": [
    "- The time series has regular quaterly intervals and no missing values so the data regurlarity expectation is satified. \n",
    "\n",
    "- It also has decades worth of data so the \"sufficient historical data\" expectation is satisfied. "
   ]
  },
  {
   "cell_type": "markdown",
   "metadata": {},
   "source": [
    "### Step 2: Presence of Trend Expectation"
   ]
  },
  {
   "cell_type": "markdown",
   "metadata": {},
   "source": [
    "- **Purpose**: Prophet models require a clear understanding of the trend to accurately forecast future values. \n",
    "\n",
    "- **Next Steps**: Evaluate whether the data exhibits a linear or logistic trend.\n",
    "\n",
    "- **Question** Does the choice of a linear trend or logistic trend affect Prophet's predictions?\n",
    "\n",
    "- **Answer** : Yes, it absolutely affects the predictions. Here’s how:\n",
    "\n",
    "    - **Linear Trend**: Assumes that growth continues indefinitely at a constant rate.\n",
    "        - Future predictions will show a strong upward trend, even if the data is slowing down.\n",
    "        - Example: If you fit a linear trend to deposit levels, Prophet will extrapolate a steadily increasing deposit level far into the future.\n",
    "\n",
    "    - **Logistic Trend**: Assumes growth slows as it approaches a saturation point. \n",
    "        - Future predictions will show a more tamed upward trend, leveling off over time.\n",
    "        - Example: If deposits are approaching a plateau, a logistic trend will reflect that in future predictions, ensuring the model doesn't over-predict growth.\n",
    "\n",
    "- **Key Insight**:If you fit Prophet with the wrong trend type (e.g., linear when the data shows signs of saturation), your forecasts will misrepresent the future. Context is critical here: If you know from domain expertise or external analysis that growth will saturate, using a logistic trend will give more realistic predictions."
   ]
  },
  {
   "cell_type": "markdown",
   "metadata": {},
   "source": [
    "#### a. Formatting the time as a date instead of a character and also have anumeric format of the date"
   ]
  },
  {
   "cell_type": "code",
   "execution_count": 86,
   "metadata": {
    "vscode": {
     "languageId": "r"
    }
   },
   "outputs": [
    {
     "name": "stdout",
     "output_type": "stream",
     "text": [
      "Rows: 162\n",
      "Columns: 4\n",
      "$ time            \u001b[3m\u001b[90m<chr>\u001b[39m\u001b[23m \"1984Q1\", \"1984Q2\", \"1984Q3\", \"1984Q4\", \"1985Q1\", \"198…\n",
      "$ deposits        \u001b[3m\u001b[90m<dbl>\u001b[39m\u001b[23m 22917257000, 23575192000, 24308965000, 24967964000, 25…\n",
      "$ time_as_date    \u001b[3m\u001b[90m<date>\u001b[39m\u001b[23m 1984-01-01, 1984-04-01, 1984-07-01, 1984-10-01, 1985-…\n",
      "$ time_as_numeric \u001b[3m\u001b[90m<dbl>\u001b[39m\u001b[23m 5113, 5204, 5295, 5387, 5479, 5569, 5660, 5752, 5844, …\n"
     ]
    }
   ],
   "source": [
    "# Step 1: Format time as date \n",
    "# Format\n",
    "time <- as.Date(as.yearqtr(deposit_levels$time, format = \"%YQ%q\"))\n",
    "# Add the formatted date back into the dataset\n",
    "deposit_levels$time_as_date <- time\n",
    "\n",
    "# Step 2: Format time as numeric\n",
    "# Format\n",
    "time2 <- as.numeric(deposit_levels$time_as_date)\n",
    "#  Add the formatted date back into the dataset\n",
    "deposit_levels$time_as_numeric <- time2\n",
    "\n",
    "# Check\n",
    "glimpse(deposit_levels)"
   ]
  },
  {
   "cell_type": "markdown",
   "metadata": {},
   "source": [
    "#### b. Visualizing Linear Trend"
   ]
  },
  {
   "cell_type": "code",
   "execution_count": 87,
   "metadata": {
    "vscode": {
     "languageId": "r"
    }
   },
   "outputs": [
    {
     "name": "stderr",
     "output_type": "stream",
     "text": [
      "\u001b[1m\u001b[22m`geom_smooth()` using formula = 'y ~ x'\n"
     ]
    },
    {
     "data": {
      "image/png": "[encoded data removed]",
      "text/plain": [
       "plot without title"
      ]
     },
     "metadata": {
      "image/png": {
       "height": 420,
       "width": 420
      }
     },
     "output_type": "display_data"
    }
   ],
   "source": [
    "# Step 1: Time needs to be formatted as numeric for it to work ==> DONE above\n",
    "\n",
    "# Step 2: Fit the linear model\n",
    "linear_model <- lm(deposits ~ time_as_numeric ,data = deposit_levels) # Use time as numeric here\n",
    "\n",
    "# Step 3: Plot the linear model\n",
    "ggplot(deposit_levels, aes(x=time_as_date, y=deposits)) + # Use time as date here\n",
    "    geom_point() +\n",
    "    geom_smooth(method = lm, col = \"green\") + # Adds a linear trend\n",
    "    labs(title = \"Linear Fit of Deposit Levels (in $)\", x = \"Time\", y = \"Deposit Level\")"
   ]
  },
  {
   "cell_type": "markdown",
   "metadata": {},
   "source": [
    "#### c. Visualizing Logistic Growth Trend"
   ]
  },
  {
   "cell_type": "markdown",
   "metadata": {},
   "source": [
    "- Not the same as logistic resgression\n",
    "\n",
    "- A mathematical model used to describe non-linear growth that slows as it approaches a saturation point."
   ]
  },
  {
   "cell_type": "code",
   "execution_count": 88,
   "metadata": {
    "vscode": {
     "languageId": "r"
    }
   },
   "outputs": [
    {
     "data": {
      "image/png": "[encoded data removed]",
      "text/plain": [
       "plot without title"
      ]
     },
     "metadata": {
      "image/png": {
       "height": 420,
       "width": 420
      }
     },
     "output_type": "display_data"
    }
   ],
   "source": [
    "# Step 1: Define a logistic function\n",
    "logistic_function <- function(x, L, k, x0) {\n",
    "  L / (1 + exp(-k * (x - x0)))  # L = carrying capacity, k = growth rate, x0 = midpoint\n",
    "}\n",
    "\n",
    "# Step 2: Fit the logistic model\n",
    "logistic_model <- nls(deposits ~ logistic_function(time_as_numeric, L, k, x0),\n",
    "                      data = deposit_levels,\n",
    "                      start = list(L = max(deposit_levels$deposits), k = 0.01, x0 = median(deposit_levels$time_as_numeric)))\n",
    "\n",
    "\n",
    "# Step 3: Add logistic trend predictions to the dataset\n",
    "deposit_levels <- deposit_levels %>%\n",
    "  mutate(logistic_trend = predict(logistic_model))\n",
    "\n",
    "# Step 4: Plot the linear model\n",
    "ggplot(deposit_levels, aes(x = time_as_date, y = deposits)) +\n",
    "  geom_line(color = \"black\", linewidth = 1) +  # Actual data\n",
    "  geom_line(aes(y = logistic_trend), color = \"red\") +  # Logistic trend\n",
    "  labs(title = \"Logistic Trend Fit of Deposit Levels (in $)\", x = \"Date\", y = \"Deposits\") "
   ]
  },
  {
   "cell_type": "markdown",
   "metadata": {},
   "source": [
    "#### d. Conclusion for Trend"
   ]
  },
  {
   "cell_type": "markdown",
   "metadata": {},
   "source": [
    "**Why NOT logistic trend model?**\n",
    "\n",
    "- Even though, the logistic trend line seems to fit better past data, the logistic trend assumes market saturation and plateau. \n",
    "- But due to contextual information we have, we know that this is not a plateau but the slow growth was due to the 2008 crisis which is a one time event and not a recurring structural pattern.\n",
    "- If we pick logistic trend, it might lead to under-predictions if the future involves a period of growth.\n",
    "- This highlights the importance of blending data patterns with domain insights. A blind reliance on \"best fit\" could lead to a misinterpretation of the trends.\n",
    "\n",
    "**Why pick linear trend fit?**\n",
    "- Linear trends assume consistent growth over time, which aligns well with long-term economic expansion and deposit accumulation in a stable financial system\n",
    "- Plus, current high interest rate environment incentivizes deposits.\n",
    "- We see a continued economic recovery post 2008 crisis, suggesting deposits will grow, though slower than pre-crisis period.\n",
    "- Uncertainty about inflation and the economy may drive precautionary savings since we are also recovering from the covid 19 crisis.\n",
    "- Ultimately, choosing linear growth aligns with the economic rationale that deposits will likely grow as part of the recovery phase. \n",
    "\n",
    "**Additional Data Manipulation?**\n",
    "- Will we have to use log? Or will that change the linearity?\n",
    "- Applying a log transformation to your data can help make it fit better if your deposit levels grow exponentially rather than linearly. However, this doesn't change the fact that you're still modeling a linear trend—it just adjusts the scale to make it easier for Prophet to handle the data\n",
    "- If your data already behaves linearly, logging may unnecessarily distort it. ==> I think it's fine\n",
    "\n",
    "\n",
    " \n"
   ]
  },
  {
   "cell_type": "code",
   "execution_count": 89,
   "metadata": {
    "vscode": {
     "languageId": "r"
    }
   },
   "outputs": [],
   "source": [
    "# Code to check for linearit assumption\n",
    "linear_model1 <- lm(deposits ~ time_as_numeric, data = deposit_levels) # Linearity is struggling due to changepoints but I can add changepoints to prophet\n",
    "#plot(linear_model1)\n",
    "# Transform with log and see if it's better\n",
    "linear_model2 <- lm(log(deposits) ~ time_as_numeric, data = deposit_levels) # No it did not help improve\n",
    "#plot(linear_model2)\n"
   ]
  },
  {
   "cell_type": "markdown",
   "metadata": {},
   "source": [
    "### Step 3: Seasonality Expectation"
   ]
  },
  {
   "cell_type": "markdown",
   "metadata": {},
   "source": [
    "- Tools like Prophet and others can explicitly model seasonality if detected, which improves forecasting by capturing these periodic variations.\n",
    "\n",
    "- However it's important to manually double check and understand the context behind the model.\n",
    "\n",
    "- If seasonality exists but isn’t accounted for in the model, predictions may be inaccurate.\n",
    "\n",
    "- For instance, if deposits consistently increase in Q4 but your model doesn’t include seasonality, it will underestimate future deposits in that quarter."
   ]
  },
  {
   "cell_type": "markdown",
   "metadata": {},
   "source": [
    "#### a. Let's plot a detrended ACF to check for seasonality\n",
    "\n",
    "**How to read an ACF Plot**\n",
    "\n",
    "- We look at the peaks that go above the blue line. Check lags based on the frequency:\n",
    "   - Lag = 12 for monthly data (12 months in a year)\n",
    "   - Lag = 4 for quarterly data\n",
    "   - Lag = 52 for weekly data"
   ]
  },
  {
   "cell_type": "code",
   "execution_count": 90,
   "metadata": {
    "vscode": {
     "languageId": "r"
    }
   },
   "outputs": [
    {
     "data": {
      "image/png": "[encoded data removed]",
      "text/plain": [
       "Plot with title “Autocorrelation Plot of the Detrended of Deposits”"
      ]
     },
     "metadata": {
      "image/png": {
       "height": 420,
       "width": 420
      }
     },
     "output_type": "display_data"
    }
   ],
   "source": [
    "# Step 1: Convert deposits into a time series object. ACF only takes in time series data. \n",
    "deposit_time_series <- ts(deposit_levels$deposits, \n",
    "                        start = c(1984, 1), # we could have put deposit_levels$time_as_numeric but later on when plotting randomness the x axis won't show time properly so we just hardcode to tell where X axis will start and with frequency it knows how to link X and Y. \n",
    "                        frequency = 4) # Quarterly frequency \n",
    "\n",
    "# Step 2: Subtract the trend component, since the trend dominates, remove it to isolate the seasonality\n",
    "        # Decompose the trend: breaks down the trend\n",
    "deposit_decompose_trend <- decompose(deposit_time_series, type=\"additive\") # breaks down dataset into 4 categories: observed data, trend, seasonality and randomness plot(deposit_decompose_trend) to see all 4 \n",
    "        # Remove the trend from the time series data\n",
    "deposit_detrended <- deposit_time_series - deposit_decompose_trend$trend\n",
    "\n",
    "# Step 3: Plot ACF to check for seasonality\n",
    "acf(deposit_detrended, na.action = na.omit, main = \"Autocorrelation Plot of the Detrended of Deposits\") # NAs comes from decomposition algorithm uses a moving window to calculate the trend, and it cannot compute values for the edges of the series."
   ]
  },
  {
   "cell_type": "markdown",
   "metadata": {},
   "source": [
    "#### b. Conclusion for Seasonality\n",
    "\n",
    "- There are no peaks above the blue line at lag 4 (Quarterly Seasonality), the absence of such spikes suggests that quarterly seasonality is weak or not present in this case.\n",
    "\n",
    "- For now, we will let Prophet's built-in seasonal detection handle any weak seasonal patterns"
   ]
  },
  {
   "cell_type": "markdown",
   "metadata": {},
   "source": [
    "### Step 4: Outliers Expectation"
   ]
  },
  {
   "cell_type": "markdown",
   "metadata": {},
   "source": [
    "**Why check for outliers**:  \n",
    "\n",
    "- Prophet is designed to handle outliers and is fairly robust to their presence.\n",
    "\n",
    "- However, extreme anomalies (like sudden, sharp increases or drops) can still affect the trend and seasonal components, distorting predictions."
   ]
  },
  {
   "cell_type": "code",
   "execution_count": 91,
   "metadata": {
    "vscode": {
     "languageId": "r"
    }
   },
   "outputs": [
    {
     "data": {
      "text/html": [
       "<table class=\"dataframe\">\n",
       "<caption>A data.frame: 0 × 5</caption>\n",
       "<thead>\n",
       "\t<tr><th scope=col>time</th><th scope=col>deposits</th><th scope=col>time_as_date</th><th scope=col>time_as_numeric</th><th scope=col>logistic_trend</th></tr>\n",
       "\t<tr><th scope=col>&lt;chr&gt;</th><th scope=col>&lt;dbl&gt;</th><th scope=col>&lt;date&gt;</th><th scope=col>&lt;dbl&gt;</th><th scope=col>&lt;dbl&gt;</th></tr>\n",
       "</thead>\n",
       "<tbody>\n",
       "</tbody>\n",
       "</table>\n"
      ],
      "text/latex": [
       "A data.frame: 0 × 5\n",
       "\\begin{tabular}{lllll}\n",
       " time & deposits & time\\_as\\_date & time\\_as\\_numeric & logistic\\_trend\\\\\n",
       " <chr> & <dbl> & <date> & <dbl> & <dbl>\\\\\n",
       "\\hline\n",
       "\\end{tabular}\n"
      ],
      "text/markdown": [
       "\n",
       "A data.frame: 0 × 5\n",
       "\n",
       "| time &lt;chr&gt; | deposits &lt;dbl&gt; | time_as_date &lt;date&gt; | time_as_numeric &lt;dbl&gt; | logistic_trend &lt;dbl&gt; |\n",
       "|---|---|---|---|---|\n",
       "\n"
      ],
      "text/plain": [
       "     time deposits time_as_date time_as_numeric logistic_trend"
      ]
     },
     "metadata": {},
     "output_type": "display_data"
    }
   ],
   "source": [
    "# Check steps here: https://sqlpad.io/tutorial/interquartile-range/#:~:text=The%20standard%20method%20involves%20calculating,these%20bounds%20are%20potential%20outliers.\n",
    "\n",
    "# Step 1: Calculate the IQR\n",
    "IQR_value <- IQR(deposit_levels$deposits)\n",
    "\n",
    "# Step 2: Define Boundaries\n",
    "lower_bound <- quantile(deposit_levels$deposits, 0.25) - 1.5 * IQR_value\n",
    "upper_bound <- quantile(deposit_levels$deposits, 0.75) + 1.5 * IQR_value\n",
    "\n",
    "# Step 3: Flag Outliers\n",
    "outliers <- subset(deposit_levels, deposits < lower_bound | deposits > upper_bound)\n",
    "\n",
    "# step 4: Print Outliers\n",
    "outliers"
   ]
  },
  {
   "cell_type": "markdown",
   "metadata": {},
   "source": [
    "\n",
    "**Conclusion for Outliers:**\n",
    "\n",
    "- Based of the results, it looks like the IQR method did not flag any outliers in the data. The deposit levels in the dataset fall within the acceptable range defined by the IQR method. The deposit levels may be naturally smooth without extreme spikes or dips (maybe lol?)\n",
    "\n",
    "- Even without detected outliers, we should remain aware of contextual anomalies (e.g., the 2008 crisis) that could still affect model interpretation and trends."
   ]
  },
  {
   "cell_type": "markdown",
   "metadata": {},
   "source": [
    "### Step 5: Noise"
   ]
  },
  {
   "cell_type": "markdown",
   "metadata": {},
   "source": [
    "\n",
    "**Why check for noise?**\n",
    "\n",
    "- Noise refers to the unexplained or irrelevant variation in the data that cannot be attributed to meaningful patterns.\n",
    "- Prophet is robust to noise, but excessive noise may require preprocessing (e.g., smoothing).\n",
    "- A higher proportion (close to 1) indicates the data is dominated by noise.\n",
    "- A lower proportion (closer to 0) means the data has more structured patterns (e.g., trend, seasonality)."
   ]
  },
  {
   "cell_type": "code",
   "execution_count": 92,
   "metadata": {
    "vscode": {
     "languageId": "r"
    }
   },
   "outputs": [
    {
     "data": {
      "text/html": [
       "0.000667822546461893"
      ],
      "text/latex": [
       "0.000667822546461893"
      ],
      "text/markdown": [
       "0.000667822546461893"
      ],
      "text/plain": [
       "[1] 0.0006678225"
      ]
     },
     "metadata": {},
     "output_type": "display_data"
    }
   ],
   "source": [
    "# Calculate the variance of the residuals to quantify the noise and Compare this variance to the overall variance in the observed data.\n",
    "\n",
    "# Variance of residuals (randomness)\n",
    "residual_variance <- var(deposit_decompose_trend$random, na.rm = TRUE) # Use our decomposed dataset\n",
    "\n",
    "# Variance of the original data\n",
    "observed_variance <- var(deposit_time_series, na.rm = TRUE)  # Use our dataset that was transformed to time series, if we use deposit_levels directly it won't work\n",
    "\n",
    "# Proportion of variance due to noise\n",
    "global_noise_proportion <- residual_variance / observed_variance\n",
    "global_noise_proportion"
   ]
  },
  {
   "cell_type": "markdown",
   "metadata": {},
   "source": [
    "**Conclusion for Noise**\n",
    "\n",
    "- Our noise proportion of approximately 0.00067 (a very small number), which means: noise contributes very little to the overall variability in your data. \n",
    "- This is typical seen when our data has a strong long-term trend.\n",
    "- So there won't be any need for excessive smoothing or denoising steps. Prophet can effectively handle the low-level noise."
   ]
  },
  {
   "cell_type": "markdown",
   "metadata": {},
   "source": [
    "#### Step 6: Localised Randomness"
   ]
  },
  {
   "cell_type": "markdown",
   "metadata": {},
   "source": [
    "**Why check for randomness?**\n",
    "\n",
    "-  Randomness, as shown in decomposition, includes localized irregularities or residual variations that aren't explained by the trend or seasonality but may include event-driven or one-off effects (like the 2008 crisis). It’s more localized and descriptive of specific periods rather than a global property like noise.\n",
    "- While Prophet is robust to some noise, high randomness (localized irregularities) can make it harder to discern meaningful patterns."
   ]
  },
  {
   "cell_type": "code",
   "execution_count": 93,
   "metadata": {
    "vscode": {
     "languageId": "r"
    }
   },
   "outputs": [
    {
     "data": {
      "image/png": "[encoded data removed]",
      "text/plain": [
       "Plot with title “Random Component of Deposits over Time”"
      ]
     },
     "metadata": {
      "image/png": {
       "height": 420,
       "width": 420
      }
     },
     "output_type": "display_data"
    }
   ],
   "source": [
    "# plot(deposit_decompose_trend) ==> from the ACF code above in step 3.a\n",
    "\n",
    "plot(deposit_decompose_trend$random,\n",
    "    xlab = \"Time\",\n",
    "    ylab = \"Random Component\",\n",
    "    main = \"Random Component of Deposits over Time\")"
   ]
  },
  {
   "cell_type": "markdown",
   "metadata": {},
   "source": [
    "**Conclusion for Randomness**\n",
    "- There is significant randomness during the 2008 crisis period.\n",
    "- We can add on a changepoint to handle abrupt trend changes.\n",
    "- Prophet will automatically detects changepoints in the trend. However, you can manually specify changepoints (e.g., around 2008) where the data exhibits high variability.\n"
   ]
  },
  {
   "cell_type": "markdown",
   "metadata": {},
   "source": [
    "## Part 3: Forecasting with Prophet"
   ]
  },
  {
   "cell_type": "markdown",
   "metadata": {},
   "source": [
    "### Step 1: Split Data between training and test data"
   ]
  },
  {
   "cell_type": "code",
   "execution_count": 94,
   "metadata": {
    "vscode": {
     "languageId": "r"
    }
   },
   "outputs": [],
   "source": [
    "train_data <- deposit_levels[deposit_levels$time_as_date <= \"2020-12-31\", ]  # Training data: 1984 Q1 to 2020 Q4\n",
    "test_data <- deposit_levels[deposit_levels$time_as_date > \"2020-12-31\", ]  # Testing data: 2021 Q1 to 2024 Q2\n",
    "\n",
    "# Check\n",
    "#View(train_data)\n",
    "#View(test_data)\n"
   ]
  },
  {
   "cell_type": "markdown",
   "metadata": {},
   "source": [
    "### Step 2: Prepared the Data"
   ]
  },
  {
   "cell_type": "code",
   "execution_count": 95,
   "metadata": {
    "vscode": {
     "languageId": "r"
    }
   },
   "outputs": [],
   "source": [
    "# Step 1: Prepare data for prophet to work\n",
    "\n",
    "# you have to rename them as ds and y for prophet to work and it will automatically ignore all other columns ==> RULE\n",
    "train_data$ds <- as.Date(train_data$time_as_date)\n",
    "train_data$y <- train_data$deposits\n",
    "\n",
    "test_data$ds <- as.Date(test_data$time_as_date)\n",
    "test_data$y <- test_data$deposits"
   ]
  },
  {
   "cell_type": "markdown",
   "metadata": {},
   "source": [
    "### Step 3: Fit Prophet on training data"
   ]
  },
  {
   "cell_type": "code",
   "execution_count": 96,
   "metadata": {
    "vscode": {
     "languageId": "r"
    }
   },
   "outputs": [
    {
     "name": "stderr",
     "output_type": "stream",
     "text": [
      "Disabling weekly seasonality. Run prophet with weekly.seasonality=TRUE to override this.\n",
      "\n",
      "Disabling daily seasonality. Run prophet with daily.seasonality=TRUE to override this.\n",
      "\n",
      "Warning message in .local(object, ...):\n",
      "“non-zero return code in optimizing”\n",
      "Optimization terminated abnormally. Falling back to Newton optimizer.\n",
      "\n"
     ]
    }
   ],
   "source": [
    "# Step 1: Initialize the model\n",
    "prophet_model<- prophet(changepoints = c(\"2008-01-01\")) # Add Customizations based on assumptions made above https://stackoverflow.com/questions/64822488/how-to-use-prophets-make-future-dataframe-with-multiple-regressors\n",
    "# We can later add on additional regressor to the best model\n",
    "\n",
    "# Step 2: Fit the model: Training the model\n",
    "prophet_model <- fit.prophet(prophet_model, train_data) # syntax\n"
   ]
  },
  {
   "cell_type": "markdown",
   "metadata": {},
   "source": [
    "### Step 4: Create a Future Dataframe"
   ]
  },
  {
   "cell_type": "code",
   "execution_count": 97,
   "metadata": {
    "vscode": {
     "languageId": "r"
    }
   },
   "outputs": [],
   "source": [
    "future_train_data <- make_future_dataframe(prophet_model, periods = 33, freq = \"quarter\") # start counting from the end of the training data: 2020 Q4 to 2028 Q1\n",
    "#future_train_data # The output of make_future_dataframe() will include both the training data dates and the newly created future dates."
   ]
  },
  {
   "cell_type": "markdown",
   "metadata": {},
   "source": [
    "### Step 5: Predict Future Values"
   ]
  },
  {
   "cell_type": "code",
   "execution_count": 98,
   "metadata": {
    "vscode": {
     "languageId": "r"
    }
   },
   "outputs": [],
   "source": [
    "prediction_train_data <- predict(prophet_model, future_train_data)"
   ]
  },
  {
   "cell_type": "markdown",
   "metadata": {},
   "source": [
    "### Step 6: Visualize the Forecast"
   ]
  },
  {
   "cell_type": "code",
   "execution_count": 99,
   "metadata": {
    "vscode": {
     "languageId": "r"
    }
   },
   "outputs": [
    {
     "data": {
      "image/png": "[encoded data removed]",
      "text/plain": [
       "plot without title"
      ]
     },
     "metadata": {
      "image/png": {
       "height": 420,
       "width": 420
      }
     },
     "output_type": "display_data"
    }
   ],
   "source": [
    "# Ensure 'ds' is a Date object\n",
    "train_data$ds <- as.Date(train_data$ds)\n",
    "prediction_train_data$ds <- as.Date(prediction_train_data$ds)\n",
    "\n",
    "ggplot() +\n",
    "  # Add historical data points\n",
    "  geom_point(data = train_data, aes(x = ds, y = y, color = \"Historical Data\"), size = 1.5, alpha = 0.8) +\n",
    "  # Add the predicted trend line\n",
    "  geom_line(data = prediction_train_data, aes(x = ds, y = yhat, color = \"Predicted Trend\"), size = 2) +\n",
    "  # Add uncertainty intervals for predictions\n",
    "  geom_ribbon(\n",
    "    data = prediction_train_data,\n",
    "    aes(x = ds, ymin = yhat_lower, ymax = yhat_upper, fill = \"Uncertainty Interval\"),\n",
    "    alpha = 0.2\n",
    "  ) +\n",
    "  # Add labels and a title\n",
    "  labs(\n",
    "    title = \"Historical Data and Prediction with Prophet\",\n",
    "    x = \"Date\",\n",
    "    y = \"Deposits (in $)\",\n",
    "    color = \"Legend\",\n",
    "    fill = \"Legend\"\n",
    "  ) +\n",
    "  # Customize colors for the legend\n",
    "  scale_color_manual(\n",
    "    values = c(\"Historical Data\" = \"black\", \"Predicted Trend\" = \"red\")\n",
    "  ) +\n",
    "  scale_fill_manual(\n",
    "    values = c(\"Uncertainty Interval\" = \"blue\")\n",
    "  ) +\n",
    "  # Add a minimal theme\n",
    "  theme_minimal() +\n",
    "  theme(\n",
    "    plot.title = element_text(hjust = 0.5, size = 14, face = \"bold\"),\n",
    "    axis.title.x = element_text(size = 12),\n",
    "    axis.title.y = element_text(size = 12),\n",
    "    legend.title = element_text(size = 12, face = \"bold\"),\n",
    "    legend.text = element_text(size = 10)\n",
    "  )"
   ]
  },
  {
   "cell_type": "markdown",
   "metadata": {},
   "source": [
    "## Part 4: Evaluation of the Model Performance"
   ]
  },
  {
   "cell_type": "markdown",
   "metadata": {},
   "source": [
    "### Step 1: Compare predictions with test data \n",
    "\n",
    "- The test data is unseen data (not used in training) that allows you to assess how well your model generalizes to new data.\n",
    "- Comparing predictions to actual values in the test data helps identify whether the model overfits or underfits.\n",
    "- A good forecast should perform well not only on the training data but also on the test data. This is a crucial check before relying on the model for real-world forecasting."
   ]
  },
  {
   "cell_type": "code",
   "execution_count": 100,
   "metadata": {
    "vscode": {
     "languageId": "r"
    }
   },
   "outputs": [],
   "source": [
    "#glimpse(test_data)\n",
    "\n",
    "# Step 1: Create future dataframe for test data\n",
    "future_test_data <- make_future_dataframe(prophet_model, periods = nrow(test_data), freq = \"quarter\") # Testing data: 2021 Q1 to 2024 Q2\n",
    "#future_test_data\n",
    "\n",
    "# Step 2: Make predictions for the test data\n",
    "prediction_test_data <- predict(prophet_model, future_test_data) \n",
    "prediction_test_data$ds <- as.Date(prediction_test_data$ds) #make sure ds is in date format or else merge will fail"
   ]
  },
  {
   "cell_type": "code",
   "execution_count": 101,
   "metadata": {
    "vscode": {
     "languageId": "r"
    }
   },
   "outputs": [
    {
     "data": {
      "text/html": [
       "<table class=\"dataframe\">\n",
       "<caption>A data.frame: 14 × 8</caption>\n",
       "<thead>\n",
       "\t<tr><th scope=col>ds</th><th scope=col>time</th><th scope=col>deposits</th><th scope=col>time_as_date</th><th scope=col>time_as_numeric</th><th scope=col>logistic_trend</th><th scope=col>y</th><th scope=col>yhat</th></tr>\n",
       "\t<tr><th scope=col>&lt;date&gt;</th><th scope=col>&lt;chr&gt;</th><th scope=col>&lt;dbl&gt;</th><th scope=col>&lt;date&gt;</th><th scope=col>&lt;dbl&gt;</th><th scope=col>&lt;dbl&gt;</th><th scope=col>&lt;dbl&gt;</th><th scope=col>&lt;dbl&gt;</th></tr>\n",
       "</thead>\n",
       "<tbody>\n",
       "\t<tr><td>2021-01-01</td><td>2021Q1</td><td>339070926000</td><td>2021-01-01</td><td>18628</td><td>324359036936</td><td>339070926000</td><td>371764496914</td></tr>\n",
       "\t<tr><td>2021-04-01</td><td>2021Q2</td><td>340991443000</td><td>2021-04-01</td><td>18718</td><td>324365839949</td><td>340991443000</td><td>375253433193</td></tr>\n",
       "\t<tr><td>2021-07-01</td><td>2021Q3</td><td>342317919000</td><td>2021-07-01</td><td>18809</td><td>324371929301</td><td>342317919000</td><td>377808219919</td></tr>\n",
       "\t<tr><td>2021-10-01</td><td>2021Q4</td><td>348156945000</td><td>2021-10-01</td><td>18901</td><td>324377371839</td><td>348156945000</td><td>379223672859</td></tr>\n",
       "\t<tr><td>2022-01-01</td><td>2022Q1</td><td>351425943000</td><td>2022-01-01</td><td>18993</td><td>324382180069</td><td>351425943000</td><td>382796490012</td></tr>\n",
       "\t<tr><td>2022-04-01</td><td>2022Q2</td><td>354666330000</td><td>2022-04-01</td><td>19083</td><td>324386341043</td><td>354666330000</td><td>383982465743</td></tr>\n",
       "\t<tr><td>2022-07-01</td><td>2022Q3</td><td>355495449000</td><td>2022-07-01</td><td>19174</td><td>324390065459</td><td>355495449000</td><td>386106556777</td></tr>\n",
       "\t<tr><td>2022-10-01</td><td>2022Q4</td><td>357699656000</td><td>2022-10-01</td><td>19266</td><td>324393394219</td><td>357699656000</td><td>389264027320</td></tr>\n",
       "\t<tr><td>2023-01-01</td><td>2023Q1</td><td>361631019000</td><td>2023-01-01</td><td>19358</td><td>324396334988</td><td>361631019000</td><td>394422515288</td></tr>\n",
       "\t<tr><td>2023-04-01</td><td>2023Q2</td><td>361428409000</td><td>2023-04-01</td><td>19448</td><td>324398879861</td><td>361428409000</td><td>392681974737</td></tr>\n",
       "\t<tr><td>2023-07-01</td><td>2023Q3</td><td>361265548000</td><td>2023-07-01</td><td>19539</td><td>324401157711</td><td>361265548000</td><td>394962677622</td></tr>\n",
       "\t<tr><td>2023-10-01</td><td>2023Q4</td><td>352951195000</td><td>2023-10-01</td><td>19631</td><td>324403193561</td><td>352951195000</td><td>399175539099</td></tr>\n",
       "\t<tr><td>2024-01-01</td><td>2024Q1</td><td>353246439000</td><td>2024-01-01</td><td>19723</td><td>324404992104</td><td>353246439000</td><td>406642585188</td></tr>\n",
       "\t<tr><td>2024-04-01</td><td>2024Q2</td><td>349452050000</td><td>2024-04-01</td><td>19814</td><td>324406564767</td><td>349452050000</td><td>412275898297</td></tr>\n",
       "</tbody>\n",
       "</table>\n"
      ],
      "text/latex": [
       "A data.frame: 14 × 8\n",
       "\\begin{tabular}{llllllll}\n",
       " ds & time & deposits & time\\_as\\_date & time\\_as\\_numeric & logistic\\_trend & y & yhat\\\\\n",
       " <date> & <chr> & <dbl> & <date> & <dbl> & <dbl> & <dbl> & <dbl>\\\\\n",
       "\\hline\n",
       "\t 2021-01-01 & 2021Q1 & 339070926000 & 2021-01-01 & 18628 & 324359036936 & 339070926000 & 371764496914\\\\\n",
       "\t 2021-04-01 & 2021Q2 & 340991443000 & 2021-04-01 & 18718 & 324365839949 & 340991443000 & 375253433193\\\\\n",
       "\t 2021-07-01 & 2021Q3 & 342317919000 & 2021-07-01 & 18809 & 324371929301 & 342317919000 & 377808219919\\\\\n",
       "\t 2021-10-01 & 2021Q4 & 348156945000 & 2021-10-01 & 18901 & 324377371839 & 348156945000 & 379223672859\\\\\n",
       "\t 2022-01-01 & 2022Q1 & 351425943000 & 2022-01-01 & 18993 & 324382180069 & 351425943000 & 382796490012\\\\\n",
       "\t 2022-04-01 & 2022Q2 & 354666330000 & 2022-04-01 & 19083 & 324386341043 & 354666330000 & 383982465743\\\\\n",
       "\t 2022-07-01 & 2022Q3 & 355495449000 & 2022-07-01 & 19174 & 324390065459 & 355495449000 & 386106556777\\\\\n",
       "\t 2022-10-01 & 2022Q4 & 357699656000 & 2022-10-01 & 19266 & 324393394219 & 357699656000 & 389264027320\\\\\n",
       "\t 2023-01-01 & 2023Q1 & 361631019000 & 2023-01-01 & 19358 & 324396334988 & 361631019000 & 394422515288\\\\\n",
       "\t 2023-04-01 & 2023Q2 & 361428409000 & 2023-04-01 & 19448 & 324398879861 & 361428409000 & 392681974737\\\\\n",
       "\t 2023-07-01 & 2023Q3 & 361265548000 & 2023-07-01 & 19539 & 324401157711 & 361265548000 & 394962677622\\\\\n",
       "\t 2023-10-01 & 2023Q4 & 352951195000 & 2023-10-01 & 19631 & 324403193561 & 352951195000 & 399175539099\\\\\n",
       "\t 2024-01-01 & 2024Q1 & 353246439000 & 2024-01-01 & 19723 & 324404992104 & 353246439000 & 406642585188\\\\\n",
       "\t 2024-04-01 & 2024Q2 & 349452050000 & 2024-04-01 & 19814 & 324406564767 & 349452050000 & 412275898297\\\\\n",
       "\\end{tabular}\n"
      ],
      "text/markdown": [
       "\n",
       "A data.frame: 14 × 8\n",
       "\n",
       "| ds &lt;date&gt; | time &lt;chr&gt; | deposits &lt;dbl&gt; | time_as_date &lt;date&gt; | time_as_numeric &lt;dbl&gt; | logistic_trend &lt;dbl&gt; | y &lt;dbl&gt; | yhat &lt;dbl&gt; |\n",
       "|---|---|---|---|---|---|---|---|\n",
       "| 2021-01-01 | 2021Q1 | 339070926000 | 2021-01-01 | 18628 | 324359036936 | 339070926000 | 371764496914 |\n",
       "| 2021-04-01 | 2021Q2 | 340991443000 | 2021-04-01 | 18718 | 324365839949 | 340991443000 | 375253433193 |\n",
       "| 2021-07-01 | 2021Q3 | 342317919000 | 2021-07-01 | 18809 | 324371929301 | 342317919000 | 377808219919 |\n",
       "| 2021-10-01 | 2021Q4 | 348156945000 | 2021-10-01 | 18901 | 324377371839 | 348156945000 | 379223672859 |\n",
       "| 2022-01-01 | 2022Q1 | 351425943000 | 2022-01-01 | 18993 | 324382180069 | 351425943000 | 382796490012 |\n",
       "| 2022-04-01 | 2022Q2 | 354666330000 | 2022-04-01 | 19083 | 324386341043 | 354666330000 | 383982465743 |\n",
       "| 2022-07-01 | 2022Q3 | 355495449000 | 2022-07-01 | 19174 | 324390065459 | 355495449000 | 386106556777 |\n",
       "| 2022-10-01 | 2022Q4 | 357699656000 | 2022-10-01 | 19266 | 324393394219 | 357699656000 | 389264027320 |\n",
       "| 2023-01-01 | 2023Q1 | 361631019000 | 2023-01-01 | 19358 | 324396334988 | 361631019000 | 394422515288 |\n",
       "| 2023-04-01 | 2023Q2 | 361428409000 | 2023-04-01 | 19448 | 324398879861 | 361428409000 | 392681974737 |\n",
       "| 2023-07-01 | 2023Q3 | 361265548000 | 2023-07-01 | 19539 | 324401157711 | 361265548000 | 394962677622 |\n",
       "| 2023-10-01 | 2023Q4 | 352951195000 | 2023-10-01 | 19631 | 324403193561 | 352951195000 | 399175539099 |\n",
       "| 2024-01-01 | 2024Q1 | 353246439000 | 2024-01-01 | 19723 | 324404992104 | 353246439000 | 406642585188 |\n",
       "| 2024-04-01 | 2024Q2 | 349452050000 | 2024-04-01 | 19814 | 324406564767 | 349452050000 | 412275898297 |\n",
       "\n"
      ],
      "text/plain": [
       "   ds         time   deposits     time_as_date time_as_numeric logistic_trend\n",
       "1  2021-01-01 2021Q1 339070926000 2021-01-01   18628           324359036936  \n",
       "2  2021-04-01 2021Q2 340991443000 2021-04-01   18718           324365839949  \n",
       "3  2021-07-01 2021Q3 342317919000 2021-07-01   18809           324371929301  \n",
       "4  2021-10-01 2021Q4 348156945000 2021-10-01   18901           324377371839  \n",
       "5  2022-01-01 2022Q1 351425943000 2022-01-01   18993           324382180069  \n",
       "6  2022-04-01 2022Q2 354666330000 2022-04-01   19083           324386341043  \n",
       "7  2022-07-01 2022Q3 355495449000 2022-07-01   19174           324390065459  \n",
       "8  2022-10-01 2022Q4 357699656000 2022-10-01   19266           324393394219  \n",
       "9  2023-01-01 2023Q1 361631019000 2023-01-01   19358           324396334988  \n",
       "10 2023-04-01 2023Q2 361428409000 2023-04-01   19448           324398879861  \n",
       "11 2023-07-01 2023Q3 361265548000 2023-07-01   19539           324401157711  \n",
       "12 2023-10-01 2023Q4 352951195000 2023-10-01   19631           324403193561  \n",
       "13 2024-01-01 2024Q1 353246439000 2024-01-01   19723           324404992104  \n",
       "14 2024-04-01 2024Q2 349452050000 2024-04-01   19814           324406564767  \n",
       "   y            yhat        \n",
       "1  339070926000 371764496914\n",
       "2  340991443000 375253433193\n",
       "3  342317919000 377808219919\n",
       "4  348156945000 379223672859\n",
       "5  351425943000 382796490012\n",
       "6  354666330000 383982465743\n",
       "7  355495449000 386106556777\n",
       "8  357699656000 389264027320\n",
       "9  361631019000 394422515288\n",
       "10 361428409000 392681974737\n",
       "11 361265548000 394962677622\n",
       "12 352951195000 399175539099\n",
       "13 353246439000 406642585188\n",
       "14 349452050000 412275898297"
      ]
     },
     "metadata": {},
     "output_type": "display_data"
    }
   ],
   "source": [
    "# Step 3: Merge predictions with actual test data: \n",
    "# The merging step combines your actual test data with the predictions generated by Prophet. This creates a single dataframe where you can directly compare the actual (y) and predicted (yhat) values for each time point (ds)\n",
    "prediction_test_results <- merge(test_data, prediction_test_data[, c(\"ds\", \"yhat\")], by = \"ds\")\n",
    "prediction_test_results\n",
    "\n",
    "#test_data\n",
    "#prediction_test_data"
   ]
  },
  {
   "cell_type": "code",
   "execution_count": 102,
   "metadata": {
    "vscode": {
     "languageId": "r"
    }
   },
   "outputs": [
    {
     "data": {
      "image/png": "[encoded data removed]",
      "text/plain": [
       "plot without title"
      ]
     },
     "metadata": {
      "image/png": {
       "height": 420,
       "width": 420
      }
     },
     "output_type": "display_data"
    }
   ],
   "source": [
    "# Step 4: Plot the predictions vs actuals\n",
    "ggplot(prediction_test_results, aes(x = ds)) +\n",
    "  geom_line(aes(y = y, color = \"Actual\"), size = 1) + # Actual test data\n",
    "  geom_line(aes(y = yhat, color = \"Predicted\"), size = 1, linetype = \"dashed\") + # Predictions\n",
    "  labs(\n",
    "    title = \"Predictions vs Actuals on Test Data with Prophet Model\",\n",
    "    x = \"Time\",\n",
    "    y = \"Deposit Levels\",\n",
    "    color = \"Legend\"\n",
    "  ) +\n",
    "  theme_minimal()\n"
   ]
  },
  {
   "cell_type": "markdown",
   "metadata": {},
   "source": [
    "**Observations**\n",
    "- The predicted model (blue dashed line) done with Prophet does not closely align with the test (actual) data from 2021 to 2024. \n",
    "- There's a significant divergence between the actuals and predictions: the model overpredicts significantly in this range, showing an upward trend, whereas the actual values flatten or slightly decrease."
   ]
  },
  {
   "cell_type": "markdown",
   "metadata": {},
   "source": [
    "### Step 2. Compute Perfomance Metrics"
   ]
  },
  {
   "cell_type": "markdown",
   "metadata": {},
   "source": [
    "- Necessary to be able to quantify the discrepancy between the actual data (test data) and the predicted data"
   ]
  },
  {
   "cell_type": "code",
   "execution_count": 103,
   "metadata": {
    "vscode": {
     "languageId": "r"
    }
   },
   "outputs": [
    {
     "data": {
      "text/html": [
       "36897234426.2431"
      ],
      "text/latex": [
       "36897234426.2431"
      ],
      "text/markdown": [
       "36897234426.2431"
      ],
      "text/plain": [
       "[1] 36897234426"
      ]
     },
     "metadata": {},
     "output_type": "display_data"
    },
    {
     "data": {
      "text/html": [
       "38141270819.3228"
      ],
      "text/latex": [
       "38141270819.3228"
      ],
      "text/markdown": [
       "38141270819.3228"
      ],
      "text/plain": [
       "[1] 38141270819"
      ]
     },
     "metadata": {},
     "output_type": "display_data"
    },
    {
     "data": {
      "text/html": [
       "10.4886342786547"
      ],
      "text/latex": [
       "10.4886342786547"
      ],
      "text/markdown": [
       "10.4886342786547"
      ],
      "text/plain": [
       "[1] 10.48863"
      ]
     },
     "metadata": {},
     "output_type": "display_data"
    }
   ],
   "source": [
    "# Mean Absolute Error (MAE)\n",
    "\n",
    "actual <- prediction_test_results$y\n",
    "predicted <- prediction_test_results$yhat\n",
    "\n",
    "MAE_prophet <- mean(abs(actual - predicted))\n",
    "MAE_prophet\n",
    "\n",
    "# Root Mean Squared Error (RMSE)\n",
    "RMSE_prophet <- sqrt(mean((actual - predicted)^2))\n",
    "RMSE_prophet\n",
    "\n",
    "# Mean Absolute Percentage Error (MAPE)\n",
    "MAPE_prophet <- mean(abs(actual - predicted) / actual) * 100\n",
    "MAPE_prophet"
   ]
  },
  {
   "cell_type": "markdown",
   "metadata": {},
   "source": [
    "- MAE = 36897, on average, our model's predictions are off by $36897 (Million) from the actual values.\n",
    "- RMSE = 38141\n",
    "- MAPE = 10%, on average our prediction are off by 10%. "
   ]
  },
  {
   "cell_type": "markdown",
   "metadata": {},
   "source": [
    "# Part 5: Adding on External Regressors to the Model"
   ]
  },
  {
   "cell_type": "markdown",
   "metadata": {},
   "source": [
    "## Step 1: Select Relevant Features through domain knowledge\n",
    "\n",
    "- Our goal here is research features that are likely to affect deposit level\n",
    "- To narrow our options we will use a mix of domain knowledge and a LASSO regression to undertand the relationship between deposit and those potential regressors\n",
    "\n",
    "> Here is a list of features through reserach and domain knowledge that I believe most impact deposit levels:\n",
    "- GDP Growth Rate: Stronger economic growth can lead to higher income and savings\n",
    "- Unemployment Rate: Higher unemployment can reduce deposits due to lower income\n",
    "- Consumer Confidence Index: Reflects consumers' willingness to save vs. spend\n",
    "- Population Growth: Larger populations in a region can increase deposit levels over time\n",
    "- 10 Year Treasury Yield: Represent the interest rate environment, directly affecting deposit rates and competing as an alternative safe investment option.\n",
    "- Federal Funds Effective Rate: impacts savings account interest rate\n",
    "- Disposable Personal Income (percent change from year ago): ok\n",
    "- Consumer Price Index (units: growth rate previos period in decimal): measure of inflation rate. Higher inflation may reduce disposable income and savings levels\n",
    "- Average CD rates: (can't find)\n",
    "- S&P 500: Reflects market sentiment and wealth effects, influencing whether people move funds into or out of savings accounts based on economic optimism or risk-taking behavior (hard find)"
   ]
  },
  {
   "cell_type": "markdown",
   "metadata": {},
   "source": [
    "## Step 2: Narrow Down Features through LASSO Regression"
   ]
  },
  {
   "cell_type": "markdown",
   "metadata": {},
   "source": []
  },
  {
   "cell_type": "markdown",
   "metadata": {},
   "source": [
    "### A. Prepare the Data\n",
    "\n",
    "- Combine deposit level data and regressors data into one => deposit_regressor_data\n",
    "- Keeping the target variable (Deposit_Levels) untouched.\n",
    "- Ensuring non-regressor columns (e.g., time) are excluded from scaling. time: A timestamp or date column (used for splitting but not for scaling or modeling).\n",
    "- Scaling only the features (regressors). Other columns (GDP_Growth, Unemployment_Rate, Interest_Rate, SP500, etc.): Features to be scaled."
   ]
  },
  {
   "cell_type": "code",
   "execution_count": 104,
   "metadata": {
    "vscode": {
     "languageId": "r"
    }
   },
   "outputs": [
    {
     "data": {
      "text/html": [
       "<table class=\"dataframe\">\n",
       "<caption>A data.frame: 162 × 13</caption>\n",
       "<thead>\n",
       "\t<tr><th scope=col>time_as_date</th><th scope=col>time_as_numeric</th><th scope=col>time</th><th scope=col>deposits</th><th scope=col>logistic_trend</th><th scope=col>population</th><th scope=col>unemployment_rate</th><th scope=col>ConsumerPriceIndex</th><th scope=col>DisposablePersonalIncome</th><th scope=col>Yield</th><th scope=col>fed_rate</th><th scope=col>GDP</th><th scope=col>GDP_growth_rate</th></tr>\n",
       "\t<tr><th scope=col>&lt;date&gt;</th><th scope=col>&lt;dbl&gt;</th><th scope=col>&lt;chr&gt;</th><th scope=col>&lt;dbl&gt;</th><th scope=col>&lt;dbl&gt;</th><th scope=col>&lt;dbl&gt;</th><th scope=col>&lt;dbl&gt;</th><th scope=col>&lt;dbl&gt;</th><th scope=col>&lt;dbl&gt;</th><th scope=col>&lt;dbl&gt;</th><th scope=col>&lt;dbl&gt;</th><th scope=col>&lt;dbl&gt;</th><th scope=col>&lt;dbl&gt;</th></tr>\n",
       "</thead>\n",
       "<tbody>\n",
       "\t<tr><td>1984-01-01</td><td>5113</td><td>1984Q1</td><td>22917257000</td><td> 21838214</td><td>235604667</td><td>0.07866667</td><td> 1.1202636</td><td>10729270000</td><td>0.11943333</td><td>0.09686667</td><td>3.908054e+12</td><td>          NA</td></tr>\n",
       "\t<tr><td>1984-04-01</td><td>5204</td><td>1984Q2</td><td>23575192000</td><td> 24686425</td><td>236082333</td><td>0.07433333</td><td> 1.0752688</td><td>11779660000</td><td>0.13200000</td><td>0.10556667</td><td>4.009601e+12</td><td> 0.025984032</td></tr>\n",
       "\t<tr><td>1984-07-01</td><td>5295</td><td>1984Q3</td><td>24308965000</td><td> 27906077</td><td>236657333</td><td>0.07433333</td><td> 1.0960671</td><td>10982020000</td><td>0.12866667</td><td>0.11390000</td><td>4.084250e+12</td><td> 0.018617563</td></tr>\n",
       "\t<tr><td>1984-10-01</td><td>5387</td><td>1984Q4</td><td>24967964000</td><td> 31588126</td><td>237232667</td><td>0.07300000</td><td> 0.7334184</td><td> 9470080000</td><td>0.11743333</td><td>0.09266667</td><td>4.148551e+12</td><td> 0.015743649</td></tr>\n",
       "\t<tr><td>1985-01-01</td><td>5479</td><td>1985Q1</td><td>25673746000</td><td> 35755947</td><td>237672667</td><td>0.07233333</td><td> 0.6331117</td><td> 7253910000</td><td>0.11583333</td><td>0.08476667</td><td>4.230168e+12</td><td> 0.019673616</td></tr>\n",
       "\t<tr><td>1985-04-01</td><td>5569</td><td>1985Q2</td><td>26941332000</td><td> 40364715</td><td>238175667</td><td>0.07300000</td><td> 1.2268009</td><td> 7486790000</td><td>0.10813333</td><td>0.07923333</td><td>4.294887e+12</td><td> 0.015299392</td></tr>\n",
       "\t<tr><td>1985-07-01</td><td>5660</td><td>1985Q3</td><td>27141405000</td><td> 45628873</td><td>238789333</td><td>0.07200000</td><td> 0.7147296</td><td> 5819840000</td><td>0.10336667</td><td>0.07900000</td><td>4.386773e+12</td><td> 0.021394276</td></tr>\n",
       "\t<tr><td>1985-10-01</td><td>5752</td><td>1985Q4</td><td>27133355000</td><td> 51648972</td><td>239386667</td><td>0.07033333</td><td> 0.8947856</td><td> 6193650000</td><td>0.09760000</td><td>0.08103333</td><td>4.444094e+12</td><td> 0.013066781</td></tr>\n",
       "\t<tr><td>1986-01-01</td><td>5844</td><td>1986Q1</td><td>28651198000</td><td> 58463197</td><td>239860667</td><td>0.07033333</td><td> 0.2140673</td><td> 7391500000</td><td>0.08556667</td><td>0.07826667</td><td>4.507894e+12</td><td> 0.014356132</td></tr>\n",
       "\t<tr><td>1986-04-01</td><td>5934</td><td>1986Q2</td><td>29041646000</td><td> 65998225</td><td>240367667</td><td>0.07166667</td><td>-0.2136100</td><td> 5646760000</td><td>0.07603333</td><td>0.06920000</td><td>4.545340e+12</td><td> 0.008306761</td></tr>\n",
       "\t<tr><td>1986-07-01</td><td>6025</td><td>1986Q3</td><td>29089391000</td><td> 74604603</td><td>240961667</td><td>0.06966667</td><td> 0.7339450</td><td> 6259350000</td><td>0.07306667</td><td>0.06206667</td><td>4.607669e+12</td><td> 0.013712726</td></tr>\n",
       "\t<tr><td>1986-10-01</td><td>6117</td><td>1986Q4</td><td>28841488000</td><td> 84446655</td><td>241539000</td><td>0.06833333</td><td> 0.5464481</td><td> 5019150000</td><td>0.07263333</td><td>0.06266667</td><td>4.657627e+12</td><td> 0.010842359</td></tr>\n",
       "\t<tr><td>1987-01-01</td><td>6209</td><td>1987Q1</td><td>28715469000</td><td> 95586715</td><td>242009333</td><td>0.06600000</td><td> 1.1171498</td><td> 4623120000</td><td>0.07193333</td><td>0.06220000</td><td>4.722156e+12</td><td> 0.013854480</td></tr>\n",
       "\t<tr><td>1987-04-01</td><td>6299</td><td>1987Q2</td><td>30084121000</td><td>107904815</td><td>242520000</td><td>0.06266667</td><td> 1.3138250</td><td> 3350880000</td><td>0.08343333</td><td>0.06650000</td><td>4.806160e+12</td><td> 0.017789332</td></tr>\n",
       "\t<tr><td>1987-07-01</td><td>6390</td><td>1987Q3</td><td>30114432000</td><td>121973891</td><td>243120333</td><td>0.06000000</td><td> 1.1494253</td><td> 5058160000</td><td>0.08876667</td><td>0.06843333</td><td>4.884555e+12</td><td> 0.016311359</td></tr>\n",
       "\t<tr><td>1987-10-01</td><td>6482</td><td>1987Q4</td><td>30112629000</td><td>138062373</td><td>243720667</td><td>0.05833333</td><td> 0.8449883</td><td> 6832670000</td><td>0.09123333</td><td>0.06916667</td><td>5.007994e+12</td><td> 0.025271289</td></tr>\n",
       "\t<tr><td>1988-01-01</td><td>6574</td><td>1988Q1</td><td>29670701000</td><td>156271920</td><td>244207667</td><td>0.05700000</td><td> 0.6067611</td><td> 7629040000</td><td>0.08416667</td><td>0.06663333</td><td>5.073372e+12</td><td> 0.013054728</td></tr>\n",
       "\t<tr><td>1988-04-01</td><td>6665</td><td>1988Q2</td><td>30050617000</td><td>176643864</td><td>244716667</td><td>0.05466667</td><td> 1.2636416</td><td>10148590000</td><td>0.08910000</td><td>0.07156667</td><td>5.190036e+12</td><td> 0.022995357</td></tr>\n",
       "\t<tr><td>1988-07-01</td><td>6756</td><td>1988Q3</td><td>28929456000</td><td>199669903</td><td>245354000</td><td>0.05466667</td><td> 1.3329552</td><td> 9616820000</td><td>0.09100000</td><td>0.07983333</td><td>5.282835e+12</td><td> 0.017880223</td></tr>\n",
       "\t<tr><td>1988-10-01</td><td>6848</td><td>1988Q4</td><td>27407592000</td><td>225999427</td><td>245966333</td><td>0.05333333</td><td> 1.0355444</td><td> 9249320000</td><td>0.08956667</td><td>0.08470000</td><td>5.399509e+12</td><td> 0.022085490</td></tr>\n",
       "\t<tr><td>1989-01-01</td><td>6940</td><td>1989Q1</td><td>22463251000</td><td>255798162</td><td>246460333</td><td>0.05200000</td><td> 1.1080332</td><td> 9032890000</td><td>0.09206667</td><td>0.09443333</td><td>5.511253e+12</td><td> 0.020695215</td></tr>\n",
       "\t<tr><td>1989-04-01</td><td>7030</td><td>1989Q2</td><td>22035364000</td><td>288744063</td><td>247017333</td><td>0.05233333</td><td> 1.6438356</td><td> 7705630000</td><td>0.08773333</td><td>0.09726667</td><td>5.612463e+12</td><td> 0.018364245</td></tr>\n",
       "\t<tr><td>1989-07-01</td><td>7121</td><td>1989Q3</td><td>20782366000</td><td>326367979</td><td>247698333</td><td>0.05233333</td><td> 0.8086253</td><td> 6642920000</td><td>0.08106667</td><td>0.09083333</td><td>5.695365e+12</td><td> 0.014771055</td></tr>\n",
       "\t<tr><td>1989-10-01</td><td>7213</td><td>1989Q4</td><td>18774087000</td><td>369385545</td><td>248374333</td><td>0.05366667</td><td> 0.9625668</td><td> 6309660000</td><td>0.07906667</td><td>0.08613333</td><td>5.747237e+12</td><td> 0.009107757</td></tr>\n",
       "\t<tr><td>1990-01-01</td><td>7305</td><td>1990Q1</td><td>17379316000</td><td>418065810</td><td>248936333</td><td>0.05300000</td><td> 1.7213983</td><td> 6330230000</td><td>0.08423333</td><td>0.08250000</td><td>5.872701e+12</td><td> 0.021830316</td></tr>\n",
       "\t<tr><td>1990-04-01</td><td>7395</td><td>1990Q2</td><td>17271554000</td><td>471880788</td><td>249711000</td><td>0.05333333</td><td> 1.0153606</td><td> 7001820000</td><td>0.08676667</td><td>0.08243333</td><td>5.960028e+12</td><td> 0.014869989</td></tr>\n",
       "\t<tr><td>1990-07-01</td><td>7486</td><td>1990Q3</td><td>17116974000</td><td>533328513</td><td>250594667</td><td>0.05700000</td><td> 1.7268041</td><td> 7034680000</td><td>0.08703333</td><td>0.08160000</td><td>6.015116e+12</td><td> 0.009242910</td></tr>\n",
       "\t<tr><td>1990-10-01</td><td>7578</td><td>1990Q4</td><td>16174668000</td><td>603574110</td><td>251481667</td><td>0.06133333</td><td> 1.6214847</td><td> 5831290000</td><td>0.08396667</td><td>0.07743333</td><td>6.004733e+12</td><td>-0.001726151</td></tr>\n",
       "\t<tr><td>1991-01-01</td><td>7670</td><td>1991Q1</td><td>15608863000</td><td>683052362</td><td>252257333</td><td>0.06600000</td><td> 0.8227375</td><td> 4349260000</td><td>0.08016667</td><td>0.06426667</td><td>6.035178e+12</td><td> 0.005070167</td></tr>\n",
       "\t<tr><td>1991-04-01</td><td>7760</td><td>1991Q2</td><td>14608075000</td><td>770896232</td><td>253062667</td><td>0.06833333</td><td> 0.5934718</td><td> 3986460000</td><td>0.08130000</td><td>0.05863333</td><td>6.126862e+12</td><td> 0.015191598</td></tr>\n",
       "\t<tr><td>⋮</td><td>⋮</td><td>⋮</td><td>⋮</td><td>⋮</td><td>⋮</td><td>⋮</td><td>⋮</td><td>⋮</td><td>⋮</td><td>⋮</td><td>⋮</td><td>⋮</td></tr>\n",
       "\t<tr><td>2017-01-01</td><td>17167</td><td>2017Q1</td><td>308433213000</td><td>323992539783</td><td>326052667</td><td>0.04566667</td><td> 0.79073696</td><td> 4140810000</td><td>0.024433333</td><td>0.0070000000</td><td>1.928008e+13</td><td> 0.009990110</td></tr>\n",
       "\t<tr><td>2017-04-01</td><td>17257</td><td>2017Q2</td><td>315746028000</td><td>324041137871</td><td>326554000</td><td>0.04366667</td><td> 0.54351771</td><td> 5035230000</td><td>0.022633333</td><td>0.0095000000</td><td>1.943864e+13</td><td> 0.008223979</td></tr>\n",
       "\t<tr><td>2017-07-01</td><td>17348</td><td>2017Q3</td><td>317660727000</td><td>324084648477</td><td>327140333</td><td>0.04333333</td><td> 0.39661569</td><td> 5183240000</td><td>0.022433333</td><td>0.0115333333</td><td>1.969260e+13</td><td> 0.013064286</td></tr>\n",
       "\t<tr><td>2017-10-01</td><td>17440</td><td>2017Q4</td><td>322350768000</td><td>324123545875</td><td>327691667</td><td>0.04166667</td><td> 0.37062964</td><td> 5299520000</td><td>0.023700000</td><td>0.0120333333</td><td>2.003709e+13</td><td> 0.017493530</td></tr>\n",
       "\t<tr><td>2018-01-01</td><td>17532</td><td>2018Q1</td><td>325714789000</td><td>324157916602</td><td>328091000</td><td>0.04033333</td><td> 0.88611838</td><td> 5434620000</td><td>0.027600000</td><td>0.0144666667</td><td>2.032855e+13</td><td> 0.014546275</td></tr>\n",
       "\t<tr><td>2018-04-01</td><td>17622</td><td>2018Q2</td><td>327804206000</td><td>324187665609</td><td>328525667</td><td>0.03933333</td><td> 1.03307557</td><td> 5573150000</td><td>0.029200000</td><td>0.0173666667</td><td>2.058091e+13</td><td> 0.012414017</td></tr>\n",
       "\t<tr><td>2018-07-01</td><td>17713</td><td>2018Q3</td><td>331039546000</td><td>324214297406</td><td>329039667</td><td>0.03766667</td><td> 0.32726757</td><td> 5928130000</td><td>0.029266667</td><td>0.0192333333</td><td>2.079873e+13</td><td> 0.010583496</td></tr>\n",
       "\t<tr><td>2018-10-01</td><td>17805</td><td>2018Q4</td><td>334393555000</td><td>324238103221</td><td>329521667</td><td>0.03833333</td><td>-0.05749474</td><td> 6046360000</td><td>0.030333333</td><td>0.0222000000</td><td>2.091787e+13</td><td> 0.005728090</td></tr>\n",
       "\t<tr><td>2019-01-01</td><td>17897</td><td>2019Q1</td><td>337239215000</td><td>324259136796</td><td>329868333</td><td>0.03866667</td><td> 0.33511603</td><td> 5710890000</td><td>0.026533333</td><td>0.0240333333</td><td>2.111160e+13</td><td> 0.009261604</td></tr>\n",
       "\t<tr><td>2019-04-01</td><td>17987</td><td>2019Q2</td><td>338841270000</td><td>324277340656</td><td>330245333</td><td>0.03633333</td><td> 1.19851323</td><td> 4729290000</td><td>0.023333333</td><td>0.0239666667</td><td>2.139794e+13</td><td> 0.013563065</td></tr>\n",
       "\t<tr><td>2019-07-01</td><td>18078</td><td>2019Q3</td><td>338626199000</td><td>324293635949</td><td>330728667</td><td>0.03600000</td><td> 0.27416601</td><td> 4234170000</td><td>0.017966667</td><td>0.0219000000</td><td>2.171717e+13</td><td> 0.014918867</td></tr>\n",
       "\t<tr><td>2019-10-01</td><td>18170</td><td>2019Q4</td><td>349600055000</td><td>324308201218</td><td>331208000</td><td>0.03600000</td><td> 0.21301800</td><td> 3758380000</td><td>0.017933333</td><td>0.0164333333</td><td>2.193322e+13</td><td> 0.009948165</td></tr>\n",
       "\t<tr><td>2020-01-01</td><td>18262</td><td>2020Q1</td><td>341691380000</td><td>324321069638</td><td>331536667</td><td>0.03833333</td><td> 0.41942742</td><td> 3276590000</td><td>0.013766667</td><td>0.0126000000</td><td>2.172766e+13</td><td>-0.009372086</td></tr>\n",
       "\t<tr><td>2020-04-01</td><td>18353</td><td>2020Q2</td><td>339227043000</td><td>324332322621</td><td>331714667</td><td>0.13000000</td><td>-0.54003542</td><td>12515970000</td><td>0.006866667</td><td>0.0006000000</td><td>1.993544e+13</td><td>-0.082485332</td></tr>\n",
       "\t<tr><td>2020-07-01</td><td>18444</td><td>2020Q3</td><td>338020161000</td><td>324342277848</td><td>331887333</td><td>0.08800000</td><td> 1.13148537</td><td> 8408110000</td><td>0.006500000</td><td>0.0009333333</td><td>2.168455e+13</td><td> 0.087738552</td></tr>\n",
       "\t<tr><td>2020-10-01</td><td>18536</td><td>2020Q4</td><td>339166813000</td><td>324351175827</td><td>332060667</td><td>0.06733333</td><td> 0.22995025</td><td> 5751550000</td><td>0.008633333</td><td>0.0009000000</td><td>2.206877e+13</td><td> 0.017718421</td></tr>\n",
       "\t<tr><td>2021-01-01</td><td>18628</td><td>2021Q1</td><td>339070926000</td><td>324359036936</td><td>332004333</td><td>0.06233333</td><td> 1.07311440</td><td>18680340000</td><td>0.013166667</td><td>0.0008000000</td><td>2.265679e+13</td><td> 0.026645168</td></tr>\n",
       "\t<tr><td>2021-04-01</td><td>18718</td><td>2021Q2</td><td>340991443000</td><td>324365839949</td><td>332166333</td><td>0.05933333</td><td> 2.33978869</td><td> 1505510000</td><td>0.015933333</td><td>0.0007000000</td><td>2.336886e+13</td><td> 0.031428455</td></tr>\n",
       "\t<tr><td>2021-07-01</td><td>18809</td><td>2021Q3</td><td>342317919000</td><td>324371929301</td><td>332497000</td><td>0.05066667</td><td> 1.60097531</td><td> 4622050000</td><td>0.013233333</td><td>0.0009000000</td><td>2.392199e+13</td><td> 0.023669532</td></tr>\n",
       "\t<tr><td>2021-10-01</td><td>18901</td><td>2021Q4</td><td>348156945000</td><td>324377371839</td><td>332801667</td><td>0.04166667</td><td> 1.51776143</td><td> 6859340000</td><td>0.015366667</td><td>0.0008000000</td><td>2.477704e+13</td><td> 0.035743137</td></tr>\n",
       "\t<tr><td>2022-01-01</td><td>18993</td><td>2022Q1</td><td>351425943000</td><td>324382180069</td><td>332990667</td><td>0.03800000</td><td> 2.28346447</td><td>-6652650000</td><td>0.019400000</td><td>0.0012000000</td><td>2.521549e+13</td><td> 0.017695941</td></tr>\n",
       "\t<tr><td>2022-04-01</td><td>19083</td><td>2022Q2</td><td>354666330000</td><td>324386341043</td><td>333319667</td><td>0.03633333</td><td> 2.97383290</td><td> 1069950000</td><td>0.029300000</td><td>0.0077000000</td><td>2.580579e+13</td><td> 0.023410212</td></tr>\n",
       "\t<tr><td>2022-07-01</td><td>19174</td><td>2022Q3</td><td>355495449000</td><td>324390065459</td><td>333762000</td><td>0.03533333</td><td> 1.31466215</td><td> 3674510000</td><td>0.031066667</td><td>0.0219000000</td><td>2.627201e+13</td><td> 0.018066487</td></tr>\n",
       "\t<tr><td>2022-10-01</td><td>19266</td><td>2022Q4</td><td>357699656000</td><td>324393394219</td><td>334201000</td><td>0.03566667</td><td> 0.36716128</td><td> 5139560000</td><td>0.038300000</td><td>0.0365333333</td><td>2.673428e+13</td><td> 0.017595379</td></tr>\n",
       "\t<tr><td>2023-01-01</td><td>19358</td><td>2023Q1</td><td>361631019000</td><td>324396334988</td><td>334547000</td><td>0.03500000</td><td> 1.04490656</td><td>10073050000</td><td>0.036466667</td><td>0.0451666667</td><td>2.716436e+13</td><td> 0.016087287</td></tr>\n",
       "\t<tr><td>2023-04-01</td><td>19448</td><td>2023Q2</td><td>361428409000</td><td>324398879861</td><td>334933667</td><td>0.03566667</td><td> 1.19233217</td><td>10265010000</td><td>0.035933333</td><td>0.0499000000</td><td>2.745382e+13</td><td> 0.010655727</td></tr>\n",
       "\t<tr><td>2023-07-01</td><td>19539</td><td>2023Q3</td><td>361265548000</td><td>324401157711</td><td>335430333</td><td>0.03700000</td><td> 0.86642655</td><td> 8343430000</td><td>0.041500000</td><td>0.0526000000</td><td>2.796770e+13</td><td> 0.018718054</td></tr>\n",
       "\t<tr><td>2023-10-01</td><td>19631</td><td>2023Q4</td><td>352951195000</td><td>324403193561</td><td>335922667</td><td>0.03733333</td><td> 0.10450774</td><td> 7567190000</td><td>0.044400000</td><td>0.0533000000</td><td>2.829697e+13</td><td> 0.011773225</td></tr>\n",
       "\t<tr><td>2024-01-01</td><td>19723</td><td>2024Q1</td><td>353246439000</td><td>324404992104</td><td>336307667</td><td>0.03800000</td><td> 1.04257554</td><td> 6112900000</td><td>0.041600000</td><td>0.0533000000</td><td>2.862407e+13</td><td> 0.011559613</td></tr>\n",
       "\t<tr><td>2024-04-01</td><td>19814</td><td>2024Q2</td><td>349452050000</td><td>324406564767</td><td>336692000</td><td>0.04000000</td><td>         NA</td><td> 5416660000</td><td>0.044433333</td><td>0.0533000000</td><td>2.901671e+13</td><td> 0.013717302</td></tr>\n",
       "</tbody>\n",
       "</table>\n"
      ],
      "text/latex": [
       "A data.frame: 162 × 13\n",
       "\\begin{tabular}{lllllllllllll}\n",
       " time\\_as\\_date & time\\_as\\_numeric & time & deposits & logistic\\_trend & population & unemployment\\_rate & ConsumerPriceIndex & DisposablePersonalIncome & Yield & fed\\_rate & GDP & GDP\\_growth\\_rate\\\\\n",
       " <date> & <dbl> & <chr> & <dbl> & <dbl> & <dbl> & <dbl> & <dbl> & <dbl> & <dbl> & <dbl> & <dbl> & <dbl>\\\\\n",
       "\\hline\n",
       "\t 1984-01-01 & 5113 & 1984Q1 & 22917257000 &  21838214 & 235604667 & 0.07866667 &  1.1202636 & 10729270000 & 0.11943333 & 0.09686667 & 3.908054e+12 &           NA\\\\\n",
       "\t 1984-04-01 & 5204 & 1984Q2 & 23575192000 &  24686425 & 236082333 & 0.07433333 &  1.0752688 & 11779660000 & 0.13200000 & 0.10556667 & 4.009601e+12 &  0.025984032\\\\\n",
       "\t 1984-07-01 & 5295 & 1984Q3 & 24308965000 &  27906077 & 236657333 & 0.07433333 &  1.0960671 & 10982020000 & 0.12866667 & 0.11390000 & 4.084250e+12 &  0.018617563\\\\\n",
       "\t 1984-10-01 & 5387 & 1984Q4 & 24967964000 &  31588126 & 237232667 & 0.07300000 &  0.7334184 &  9470080000 & 0.11743333 & 0.09266667 & 4.148551e+12 &  0.015743649\\\\\n",
       "\t 1985-01-01 & 5479 & 1985Q1 & 25673746000 &  35755947 & 237672667 & 0.07233333 &  0.6331117 &  7253910000 & 0.11583333 & 0.08476667 & 4.230168e+12 &  0.019673616\\\\\n",
       "\t 1985-04-01 & 5569 & 1985Q2 & 26941332000 &  40364715 & 238175667 & 0.07300000 &  1.2268009 &  7486790000 & 0.10813333 & 0.07923333 & 4.294887e+12 &  0.015299392\\\\\n",
       "\t 1985-07-01 & 5660 & 1985Q3 & 27141405000 &  45628873 & 238789333 & 0.07200000 &  0.7147296 &  5819840000 & 0.10336667 & 0.07900000 & 4.386773e+12 &  0.021394276\\\\\n",
       "\t 1985-10-01 & 5752 & 1985Q4 & 27133355000 &  51648972 & 239386667 & 0.07033333 &  0.8947856 &  6193650000 & 0.09760000 & 0.08103333 & 4.444094e+12 &  0.013066781\\\\\n",
       "\t 1986-01-01 & 5844 & 1986Q1 & 28651198000 &  58463197 & 239860667 & 0.07033333 &  0.2140673 &  7391500000 & 0.08556667 & 0.07826667 & 4.507894e+12 &  0.014356132\\\\\n",
       "\t 1986-04-01 & 5934 & 1986Q2 & 29041646000 &  65998225 & 240367667 & 0.07166667 & -0.2136100 &  5646760000 & 0.07603333 & 0.06920000 & 4.545340e+12 &  0.008306761\\\\\n",
       "\t 1986-07-01 & 6025 & 1986Q3 & 29089391000 &  74604603 & 240961667 & 0.06966667 &  0.7339450 &  6259350000 & 0.07306667 & 0.06206667 & 4.607669e+12 &  0.013712726\\\\\n",
       "\t 1986-10-01 & 6117 & 1986Q4 & 28841488000 &  84446655 & 241539000 & 0.06833333 &  0.5464481 &  5019150000 & 0.07263333 & 0.06266667 & 4.657627e+12 &  0.010842359\\\\\n",
       "\t 1987-01-01 & 6209 & 1987Q1 & 28715469000 &  95586715 & 242009333 & 0.06600000 &  1.1171498 &  4623120000 & 0.07193333 & 0.06220000 & 4.722156e+12 &  0.013854480\\\\\n",
       "\t 1987-04-01 & 6299 & 1987Q2 & 30084121000 & 107904815 & 242520000 & 0.06266667 &  1.3138250 &  3350880000 & 0.08343333 & 0.06650000 & 4.806160e+12 &  0.017789332\\\\\n",
       "\t 1987-07-01 & 6390 & 1987Q3 & 30114432000 & 121973891 & 243120333 & 0.06000000 &  1.1494253 &  5058160000 & 0.08876667 & 0.06843333 & 4.884555e+12 &  0.016311359\\\\\n",
       "\t 1987-10-01 & 6482 & 1987Q4 & 30112629000 & 138062373 & 243720667 & 0.05833333 &  0.8449883 &  6832670000 & 0.09123333 & 0.06916667 & 5.007994e+12 &  0.025271289\\\\\n",
       "\t 1988-01-01 & 6574 & 1988Q1 & 29670701000 & 156271920 & 244207667 & 0.05700000 &  0.6067611 &  7629040000 & 0.08416667 & 0.06663333 & 5.073372e+12 &  0.013054728\\\\\n",
       "\t 1988-04-01 & 6665 & 1988Q2 & 30050617000 & 176643864 & 244716667 & 0.05466667 &  1.2636416 & 10148590000 & 0.08910000 & 0.07156667 & 5.190036e+12 &  0.022995357\\\\\n",
       "\t 1988-07-01 & 6756 & 1988Q3 & 28929456000 & 199669903 & 245354000 & 0.05466667 &  1.3329552 &  9616820000 & 0.09100000 & 0.07983333 & 5.282835e+12 &  0.017880223\\\\\n",
       "\t 1988-10-01 & 6848 & 1988Q4 & 27407592000 & 225999427 & 245966333 & 0.05333333 &  1.0355444 &  9249320000 & 0.08956667 & 0.08470000 & 5.399509e+12 &  0.022085490\\\\\n",
       "\t 1989-01-01 & 6940 & 1989Q1 & 22463251000 & 255798162 & 246460333 & 0.05200000 &  1.1080332 &  9032890000 & 0.09206667 & 0.09443333 & 5.511253e+12 &  0.020695215\\\\\n",
       "\t 1989-04-01 & 7030 & 1989Q2 & 22035364000 & 288744063 & 247017333 & 0.05233333 &  1.6438356 &  7705630000 & 0.08773333 & 0.09726667 & 5.612463e+12 &  0.018364245\\\\\n",
       "\t 1989-07-01 & 7121 & 1989Q3 & 20782366000 & 326367979 & 247698333 & 0.05233333 &  0.8086253 &  6642920000 & 0.08106667 & 0.09083333 & 5.695365e+12 &  0.014771055\\\\\n",
       "\t 1989-10-01 & 7213 & 1989Q4 & 18774087000 & 369385545 & 248374333 & 0.05366667 &  0.9625668 &  6309660000 & 0.07906667 & 0.08613333 & 5.747237e+12 &  0.009107757\\\\\n",
       "\t 1990-01-01 & 7305 & 1990Q1 & 17379316000 & 418065810 & 248936333 & 0.05300000 &  1.7213983 &  6330230000 & 0.08423333 & 0.08250000 & 5.872701e+12 &  0.021830316\\\\\n",
       "\t 1990-04-01 & 7395 & 1990Q2 & 17271554000 & 471880788 & 249711000 & 0.05333333 &  1.0153606 &  7001820000 & 0.08676667 & 0.08243333 & 5.960028e+12 &  0.014869989\\\\\n",
       "\t 1990-07-01 & 7486 & 1990Q3 & 17116974000 & 533328513 & 250594667 & 0.05700000 &  1.7268041 &  7034680000 & 0.08703333 & 0.08160000 & 6.015116e+12 &  0.009242910\\\\\n",
       "\t 1990-10-01 & 7578 & 1990Q4 & 16174668000 & 603574110 & 251481667 & 0.06133333 &  1.6214847 &  5831290000 & 0.08396667 & 0.07743333 & 6.004733e+12 & -0.001726151\\\\\n",
       "\t 1991-01-01 & 7670 & 1991Q1 & 15608863000 & 683052362 & 252257333 & 0.06600000 &  0.8227375 &  4349260000 & 0.08016667 & 0.06426667 & 6.035178e+12 &  0.005070167\\\\\n",
       "\t 1991-04-01 & 7760 & 1991Q2 & 14608075000 & 770896232 & 253062667 & 0.06833333 &  0.5934718 &  3986460000 & 0.08130000 & 0.05863333 & 6.126862e+12 &  0.015191598\\\\\n",
       "\t ⋮ & ⋮ & ⋮ & ⋮ & ⋮ & ⋮ & ⋮ & ⋮ & ⋮ & ⋮ & ⋮ & ⋮ & ⋮\\\\\n",
       "\t 2017-01-01 & 17167 & 2017Q1 & 308433213000 & 323992539783 & 326052667 & 0.04566667 &  0.79073696 &  4140810000 & 0.024433333 & 0.0070000000 & 1.928008e+13 &  0.009990110\\\\\n",
       "\t 2017-04-01 & 17257 & 2017Q2 & 315746028000 & 324041137871 & 326554000 & 0.04366667 &  0.54351771 &  5035230000 & 0.022633333 & 0.0095000000 & 1.943864e+13 &  0.008223979\\\\\n",
       "\t 2017-07-01 & 17348 & 2017Q3 & 317660727000 & 324084648477 & 327140333 & 0.04333333 &  0.39661569 &  5183240000 & 0.022433333 & 0.0115333333 & 1.969260e+13 &  0.013064286\\\\\n",
       "\t 2017-10-01 & 17440 & 2017Q4 & 322350768000 & 324123545875 & 327691667 & 0.04166667 &  0.37062964 &  5299520000 & 0.023700000 & 0.0120333333 & 2.003709e+13 &  0.017493530\\\\\n",
       "\t 2018-01-01 & 17532 & 2018Q1 & 325714789000 & 324157916602 & 328091000 & 0.04033333 &  0.88611838 &  5434620000 & 0.027600000 & 0.0144666667 & 2.032855e+13 &  0.014546275\\\\\n",
       "\t 2018-04-01 & 17622 & 2018Q2 & 327804206000 & 324187665609 & 328525667 & 0.03933333 &  1.03307557 &  5573150000 & 0.029200000 & 0.0173666667 & 2.058091e+13 &  0.012414017\\\\\n",
       "\t 2018-07-01 & 17713 & 2018Q3 & 331039546000 & 324214297406 & 329039667 & 0.03766667 &  0.32726757 &  5928130000 & 0.029266667 & 0.0192333333 & 2.079873e+13 &  0.010583496\\\\\n",
       "\t 2018-10-01 & 17805 & 2018Q4 & 334393555000 & 324238103221 & 329521667 & 0.03833333 & -0.05749474 &  6046360000 & 0.030333333 & 0.0222000000 & 2.091787e+13 &  0.005728090\\\\\n",
       "\t 2019-01-01 & 17897 & 2019Q1 & 337239215000 & 324259136796 & 329868333 & 0.03866667 &  0.33511603 &  5710890000 & 0.026533333 & 0.0240333333 & 2.111160e+13 &  0.009261604\\\\\n",
       "\t 2019-04-01 & 17987 & 2019Q2 & 338841270000 & 324277340656 & 330245333 & 0.03633333 &  1.19851323 &  4729290000 & 0.023333333 & 0.0239666667 & 2.139794e+13 &  0.013563065\\\\\n",
       "\t 2019-07-01 & 18078 & 2019Q3 & 338626199000 & 324293635949 & 330728667 & 0.03600000 &  0.27416601 &  4234170000 & 0.017966667 & 0.0219000000 & 2.171717e+13 &  0.014918867\\\\\n",
       "\t 2019-10-01 & 18170 & 2019Q4 & 349600055000 & 324308201218 & 331208000 & 0.03600000 &  0.21301800 &  3758380000 & 0.017933333 & 0.0164333333 & 2.193322e+13 &  0.009948165\\\\\n",
       "\t 2020-01-01 & 18262 & 2020Q1 & 341691380000 & 324321069638 & 331536667 & 0.03833333 &  0.41942742 &  3276590000 & 0.013766667 & 0.0126000000 & 2.172766e+13 & -0.009372086\\\\\n",
       "\t 2020-04-01 & 18353 & 2020Q2 & 339227043000 & 324332322621 & 331714667 & 0.13000000 & -0.54003542 & 12515970000 & 0.006866667 & 0.0006000000 & 1.993544e+13 & -0.082485332\\\\\n",
       "\t 2020-07-01 & 18444 & 2020Q3 & 338020161000 & 324342277848 & 331887333 & 0.08800000 &  1.13148537 &  8408110000 & 0.006500000 & 0.0009333333 & 2.168455e+13 &  0.087738552\\\\\n",
       "\t 2020-10-01 & 18536 & 2020Q4 & 339166813000 & 324351175827 & 332060667 & 0.06733333 &  0.22995025 &  5751550000 & 0.008633333 & 0.0009000000 & 2.206877e+13 &  0.017718421\\\\\n",
       "\t 2021-01-01 & 18628 & 2021Q1 & 339070926000 & 324359036936 & 332004333 & 0.06233333 &  1.07311440 & 18680340000 & 0.013166667 & 0.0008000000 & 2.265679e+13 &  0.026645168\\\\\n",
       "\t 2021-04-01 & 18718 & 2021Q2 & 340991443000 & 324365839949 & 332166333 & 0.05933333 &  2.33978869 &  1505510000 & 0.015933333 & 0.0007000000 & 2.336886e+13 &  0.031428455\\\\\n",
       "\t 2021-07-01 & 18809 & 2021Q3 & 342317919000 & 324371929301 & 332497000 & 0.05066667 &  1.60097531 &  4622050000 & 0.013233333 & 0.0009000000 & 2.392199e+13 &  0.023669532\\\\\n",
       "\t 2021-10-01 & 18901 & 2021Q4 & 348156945000 & 324377371839 & 332801667 & 0.04166667 &  1.51776143 &  6859340000 & 0.015366667 & 0.0008000000 & 2.477704e+13 &  0.035743137\\\\\n",
       "\t 2022-01-01 & 18993 & 2022Q1 & 351425943000 & 324382180069 & 332990667 & 0.03800000 &  2.28346447 & -6652650000 & 0.019400000 & 0.0012000000 & 2.521549e+13 &  0.017695941\\\\\n",
       "\t 2022-04-01 & 19083 & 2022Q2 & 354666330000 & 324386341043 & 333319667 & 0.03633333 &  2.97383290 &  1069950000 & 0.029300000 & 0.0077000000 & 2.580579e+13 &  0.023410212\\\\\n",
       "\t 2022-07-01 & 19174 & 2022Q3 & 355495449000 & 324390065459 & 333762000 & 0.03533333 &  1.31466215 &  3674510000 & 0.031066667 & 0.0219000000 & 2.627201e+13 &  0.018066487\\\\\n",
       "\t 2022-10-01 & 19266 & 2022Q4 & 357699656000 & 324393394219 & 334201000 & 0.03566667 &  0.36716128 &  5139560000 & 0.038300000 & 0.0365333333 & 2.673428e+13 &  0.017595379\\\\\n",
       "\t 2023-01-01 & 19358 & 2023Q1 & 361631019000 & 324396334988 & 334547000 & 0.03500000 &  1.04490656 & 10073050000 & 0.036466667 & 0.0451666667 & 2.716436e+13 &  0.016087287\\\\\n",
       "\t 2023-04-01 & 19448 & 2023Q2 & 361428409000 & 324398879861 & 334933667 & 0.03566667 &  1.19233217 & 10265010000 & 0.035933333 & 0.0499000000 & 2.745382e+13 &  0.010655727\\\\\n",
       "\t 2023-07-01 & 19539 & 2023Q3 & 361265548000 & 324401157711 & 335430333 & 0.03700000 &  0.86642655 &  8343430000 & 0.041500000 & 0.0526000000 & 2.796770e+13 &  0.018718054\\\\\n",
       "\t 2023-10-01 & 19631 & 2023Q4 & 352951195000 & 324403193561 & 335922667 & 0.03733333 &  0.10450774 &  7567190000 & 0.044400000 & 0.0533000000 & 2.829697e+13 &  0.011773225\\\\\n",
       "\t 2024-01-01 & 19723 & 2024Q1 & 353246439000 & 324404992104 & 336307667 & 0.03800000 &  1.04257554 &  6112900000 & 0.041600000 & 0.0533000000 & 2.862407e+13 &  0.011559613\\\\\n",
       "\t 2024-04-01 & 19814 & 2024Q2 & 349452050000 & 324406564767 & 336692000 & 0.04000000 &          NA &  5416660000 & 0.044433333 & 0.0533000000 & 2.901671e+13 &  0.013717302\\\\\n",
       "\\end{tabular}\n"
      ],
      "text/markdown": [
       "\n",
       "A data.frame: 162 × 13\n",
       "\n",
       "| time_as_date &lt;date&gt; | time_as_numeric &lt;dbl&gt; | time &lt;chr&gt; | deposits &lt;dbl&gt; | logistic_trend &lt;dbl&gt; | population &lt;dbl&gt; | unemployment_rate &lt;dbl&gt; | ConsumerPriceIndex &lt;dbl&gt; | DisposablePersonalIncome &lt;dbl&gt; | Yield &lt;dbl&gt; | fed_rate &lt;dbl&gt; | GDP &lt;dbl&gt; | GDP_growth_rate &lt;dbl&gt; |\n",
       "|---|---|---|---|---|---|---|---|---|---|---|---|---|\n",
       "| 1984-01-01 | 5113 | 1984Q1 | 22917257000 |  21838214 | 235604667 | 0.07866667 |  1.1202636 | 10729270000 | 0.11943333 | 0.09686667 | 3.908054e+12 |           NA |\n",
       "| 1984-04-01 | 5204 | 1984Q2 | 23575192000 |  24686425 | 236082333 | 0.07433333 |  1.0752688 | 11779660000 | 0.13200000 | 0.10556667 | 4.009601e+12 |  0.025984032 |\n",
       "| 1984-07-01 | 5295 | 1984Q3 | 24308965000 |  27906077 | 236657333 | 0.07433333 |  1.0960671 | 10982020000 | 0.12866667 | 0.11390000 | 4.084250e+12 |  0.018617563 |\n",
       "| 1984-10-01 | 5387 | 1984Q4 | 24967964000 |  31588126 | 237232667 | 0.07300000 |  0.7334184 |  9470080000 | 0.11743333 | 0.09266667 | 4.148551e+12 |  0.015743649 |\n",
       "| 1985-01-01 | 5479 | 1985Q1 | 25673746000 |  35755947 | 237672667 | 0.07233333 |  0.6331117 |  7253910000 | 0.11583333 | 0.08476667 | 4.230168e+12 |  0.019673616 |\n",
       "| 1985-04-01 | 5569 | 1985Q2 | 26941332000 |  40364715 | 238175667 | 0.07300000 |  1.2268009 |  7486790000 | 0.10813333 | 0.07923333 | 4.294887e+12 |  0.015299392 |\n",
       "| 1985-07-01 | 5660 | 1985Q3 | 27141405000 |  45628873 | 238789333 | 0.07200000 |  0.7147296 |  5819840000 | 0.10336667 | 0.07900000 | 4.386773e+12 |  0.021394276 |\n",
       "| 1985-10-01 | 5752 | 1985Q4 | 27133355000 |  51648972 | 239386667 | 0.07033333 |  0.8947856 |  6193650000 | 0.09760000 | 0.08103333 | 4.444094e+12 |  0.013066781 |\n",
       "| 1986-01-01 | 5844 | 1986Q1 | 28651198000 |  58463197 | 239860667 | 0.07033333 |  0.2140673 |  7391500000 | 0.08556667 | 0.07826667 | 4.507894e+12 |  0.014356132 |\n",
       "| 1986-04-01 | 5934 | 1986Q2 | 29041646000 |  65998225 | 240367667 | 0.07166667 | -0.2136100 |  5646760000 | 0.07603333 | 0.06920000 | 4.545340e+12 |  0.008306761 |\n",
       "| 1986-07-01 | 6025 | 1986Q3 | 29089391000 |  74604603 | 240961667 | 0.06966667 |  0.7339450 |  6259350000 | 0.07306667 | 0.06206667 | 4.607669e+12 |  0.013712726 |\n",
       "| 1986-10-01 | 6117 | 1986Q4 | 28841488000 |  84446655 | 241539000 | 0.06833333 |  0.5464481 |  5019150000 | 0.07263333 | 0.06266667 | 4.657627e+12 |  0.010842359 |\n",
       "| 1987-01-01 | 6209 | 1987Q1 | 28715469000 |  95586715 | 242009333 | 0.06600000 |  1.1171498 |  4623120000 | 0.07193333 | 0.06220000 | 4.722156e+12 |  0.013854480 |\n",
       "| 1987-04-01 | 6299 | 1987Q2 | 30084121000 | 107904815 | 242520000 | 0.06266667 |  1.3138250 |  3350880000 | 0.08343333 | 0.06650000 | 4.806160e+12 |  0.017789332 |\n",
       "| 1987-07-01 | 6390 | 1987Q3 | 30114432000 | 121973891 | 243120333 | 0.06000000 |  1.1494253 |  5058160000 | 0.08876667 | 0.06843333 | 4.884555e+12 |  0.016311359 |\n",
       "| 1987-10-01 | 6482 | 1987Q4 | 30112629000 | 138062373 | 243720667 | 0.05833333 |  0.8449883 |  6832670000 | 0.09123333 | 0.06916667 | 5.007994e+12 |  0.025271289 |\n",
       "| 1988-01-01 | 6574 | 1988Q1 | 29670701000 | 156271920 | 244207667 | 0.05700000 |  0.6067611 |  7629040000 | 0.08416667 | 0.06663333 | 5.073372e+12 |  0.013054728 |\n",
       "| 1988-04-01 | 6665 | 1988Q2 | 30050617000 | 176643864 | 244716667 | 0.05466667 |  1.2636416 | 10148590000 | 0.08910000 | 0.07156667 | 5.190036e+12 |  0.022995357 |\n",
       "| 1988-07-01 | 6756 | 1988Q3 | 28929456000 | 199669903 | 245354000 | 0.05466667 |  1.3329552 |  9616820000 | 0.09100000 | 0.07983333 | 5.282835e+12 |  0.017880223 |\n",
       "| 1988-10-01 | 6848 | 1988Q4 | 27407592000 | 225999427 | 245966333 | 0.05333333 |  1.0355444 |  9249320000 | 0.08956667 | 0.08470000 | 5.399509e+12 |  0.022085490 |\n",
       "| 1989-01-01 | 6940 | 1989Q1 | 22463251000 | 255798162 | 246460333 | 0.05200000 |  1.1080332 |  9032890000 | 0.09206667 | 0.09443333 | 5.511253e+12 |  0.020695215 |\n",
       "| 1989-04-01 | 7030 | 1989Q2 | 22035364000 | 288744063 | 247017333 | 0.05233333 |  1.6438356 |  7705630000 | 0.08773333 | 0.09726667 | 5.612463e+12 |  0.018364245 |\n",
       "| 1989-07-01 | 7121 | 1989Q3 | 20782366000 | 326367979 | 247698333 | 0.05233333 |  0.8086253 |  6642920000 | 0.08106667 | 0.09083333 | 5.695365e+12 |  0.014771055 |\n",
       "| 1989-10-01 | 7213 | 1989Q4 | 18774087000 | 369385545 | 248374333 | 0.05366667 |  0.9625668 |  6309660000 | 0.07906667 | 0.08613333 | 5.747237e+12 |  0.009107757 |\n",
       "| 1990-01-01 | 7305 | 1990Q1 | 17379316000 | 418065810 | 248936333 | 0.05300000 |  1.7213983 |  6330230000 | 0.08423333 | 0.08250000 | 5.872701e+12 |  0.021830316 |\n",
       "| 1990-04-01 | 7395 | 1990Q2 | 17271554000 | 471880788 | 249711000 | 0.05333333 |  1.0153606 |  7001820000 | 0.08676667 | 0.08243333 | 5.960028e+12 |  0.014869989 |\n",
       "| 1990-07-01 | 7486 | 1990Q3 | 17116974000 | 533328513 | 250594667 | 0.05700000 |  1.7268041 |  7034680000 | 0.08703333 | 0.08160000 | 6.015116e+12 |  0.009242910 |\n",
       "| 1990-10-01 | 7578 | 1990Q4 | 16174668000 | 603574110 | 251481667 | 0.06133333 |  1.6214847 |  5831290000 | 0.08396667 | 0.07743333 | 6.004733e+12 | -0.001726151 |\n",
       "| 1991-01-01 | 7670 | 1991Q1 | 15608863000 | 683052362 | 252257333 | 0.06600000 |  0.8227375 |  4349260000 | 0.08016667 | 0.06426667 | 6.035178e+12 |  0.005070167 |\n",
       "| 1991-04-01 | 7760 | 1991Q2 | 14608075000 | 770896232 | 253062667 | 0.06833333 |  0.5934718 |  3986460000 | 0.08130000 | 0.05863333 | 6.126862e+12 |  0.015191598 |\n",
       "| ⋮ | ⋮ | ⋮ | ⋮ | ⋮ | ⋮ | ⋮ | ⋮ | ⋮ | ⋮ | ⋮ | ⋮ | ⋮ |\n",
       "| 2017-01-01 | 17167 | 2017Q1 | 308433213000 | 323992539783 | 326052667 | 0.04566667 |  0.79073696 |  4140810000 | 0.024433333 | 0.0070000000 | 1.928008e+13 |  0.009990110 |\n",
       "| 2017-04-01 | 17257 | 2017Q2 | 315746028000 | 324041137871 | 326554000 | 0.04366667 |  0.54351771 |  5035230000 | 0.022633333 | 0.0095000000 | 1.943864e+13 |  0.008223979 |\n",
       "| 2017-07-01 | 17348 | 2017Q3 | 317660727000 | 324084648477 | 327140333 | 0.04333333 |  0.39661569 |  5183240000 | 0.022433333 | 0.0115333333 | 1.969260e+13 |  0.013064286 |\n",
       "| 2017-10-01 | 17440 | 2017Q4 | 322350768000 | 324123545875 | 327691667 | 0.04166667 |  0.37062964 |  5299520000 | 0.023700000 | 0.0120333333 | 2.003709e+13 |  0.017493530 |\n",
       "| 2018-01-01 | 17532 | 2018Q1 | 325714789000 | 324157916602 | 328091000 | 0.04033333 |  0.88611838 |  5434620000 | 0.027600000 | 0.0144666667 | 2.032855e+13 |  0.014546275 |\n",
       "| 2018-04-01 | 17622 | 2018Q2 | 327804206000 | 324187665609 | 328525667 | 0.03933333 |  1.03307557 |  5573150000 | 0.029200000 | 0.0173666667 | 2.058091e+13 |  0.012414017 |\n",
       "| 2018-07-01 | 17713 | 2018Q3 | 331039546000 | 324214297406 | 329039667 | 0.03766667 |  0.32726757 |  5928130000 | 0.029266667 | 0.0192333333 | 2.079873e+13 |  0.010583496 |\n",
       "| 2018-10-01 | 17805 | 2018Q4 | 334393555000 | 324238103221 | 329521667 | 0.03833333 | -0.05749474 |  6046360000 | 0.030333333 | 0.0222000000 | 2.091787e+13 |  0.005728090 |\n",
       "| 2019-01-01 | 17897 | 2019Q1 | 337239215000 | 324259136796 | 329868333 | 0.03866667 |  0.33511603 |  5710890000 | 0.026533333 | 0.0240333333 | 2.111160e+13 |  0.009261604 |\n",
       "| 2019-04-01 | 17987 | 2019Q2 | 338841270000 | 324277340656 | 330245333 | 0.03633333 |  1.19851323 |  4729290000 | 0.023333333 | 0.0239666667 | 2.139794e+13 |  0.013563065 |\n",
       "| 2019-07-01 | 18078 | 2019Q3 | 338626199000 | 324293635949 | 330728667 | 0.03600000 |  0.27416601 |  4234170000 | 0.017966667 | 0.0219000000 | 2.171717e+13 |  0.014918867 |\n",
       "| 2019-10-01 | 18170 | 2019Q4 | 349600055000 | 324308201218 | 331208000 | 0.03600000 |  0.21301800 |  3758380000 | 0.017933333 | 0.0164333333 | 2.193322e+13 |  0.009948165 |\n",
       "| 2020-01-01 | 18262 | 2020Q1 | 341691380000 | 324321069638 | 331536667 | 0.03833333 |  0.41942742 |  3276590000 | 0.013766667 | 0.0126000000 | 2.172766e+13 | -0.009372086 |\n",
       "| 2020-04-01 | 18353 | 2020Q2 | 339227043000 | 324332322621 | 331714667 | 0.13000000 | -0.54003542 | 12515970000 | 0.006866667 | 0.0006000000 | 1.993544e+13 | -0.082485332 |\n",
       "| 2020-07-01 | 18444 | 2020Q3 | 338020161000 | 324342277848 | 331887333 | 0.08800000 |  1.13148537 |  8408110000 | 0.006500000 | 0.0009333333 | 2.168455e+13 |  0.087738552 |\n",
       "| 2020-10-01 | 18536 | 2020Q4 | 339166813000 | 324351175827 | 332060667 | 0.06733333 |  0.22995025 |  5751550000 | 0.008633333 | 0.0009000000 | 2.206877e+13 |  0.017718421 |\n",
       "| 2021-01-01 | 18628 | 2021Q1 | 339070926000 | 324359036936 | 332004333 | 0.06233333 |  1.07311440 | 18680340000 | 0.013166667 | 0.0008000000 | 2.265679e+13 |  0.026645168 |\n",
       "| 2021-04-01 | 18718 | 2021Q2 | 340991443000 | 324365839949 | 332166333 | 0.05933333 |  2.33978869 |  1505510000 | 0.015933333 | 0.0007000000 | 2.336886e+13 |  0.031428455 |\n",
       "| 2021-07-01 | 18809 | 2021Q3 | 342317919000 | 324371929301 | 332497000 | 0.05066667 |  1.60097531 |  4622050000 | 0.013233333 | 0.0009000000 | 2.392199e+13 |  0.023669532 |\n",
       "| 2021-10-01 | 18901 | 2021Q4 | 348156945000 | 324377371839 | 332801667 | 0.04166667 |  1.51776143 |  6859340000 | 0.015366667 | 0.0008000000 | 2.477704e+13 |  0.035743137 |\n",
       "| 2022-01-01 | 18993 | 2022Q1 | 351425943000 | 324382180069 | 332990667 | 0.03800000 |  2.28346447 | -6652650000 | 0.019400000 | 0.0012000000 | 2.521549e+13 |  0.017695941 |\n",
       "| 2022-04-01 | 19083 | 2022Q2 | 354666330000 | 324386341043 | 333319667 | 0.03633333 |  2.97383290 |  1069950000 | 0.029300000 | 0.0077000000 | 2.580579e+13 |  0.023410212 |\n",
       "| 2022-07-01 | 19174 | 2022Q3 | 355495449000 | 324390065459 | 333762000 | 0.03533333 |  1.31466215 |  3674510000 | 0.031066667 | 0.0219000000 | 2.627201e+13 |  0.018066487 |\n",
       "| 2022-10-01 | 19266 | 2022Q4 | 357699656000 | 324393394219 | 334201000 | 0.03566667 |  0.36716128 |  5139560000 | 0.038300000 | 0.0365333333 | 2.673428e+13 |  0.017595379 |\n",
       "| 2023-01-01 | 19358 | 2023Q1 | 361631019000 | 324396334988 | 334547000 | 0.03500000 |  1.04490656 | 10073050000 | 0.036466667 | 0.0451666667 | 2.716436e+13 |  0.016087287 |\n",
       "| 2023-04-01 | 19448 | 2023Q2 | 361428409000 | 324398879861 | 334933667 | 0.03566667 |  1.19233217 | 10265010000 | 0.035933333 | 0.0499000000 | 2.745382e+13 |  0.010655727 |\n",
       "| 2023-07-01 | 19539 | 2023Q3 | 361265548000 | 324401157711 | 335430333 | 0.03700000 |  0.86642655 |  8343430000 | 0.041500000 | 0.0526000000 | 2.796770e+13 |  0.018718054 |\n",
       "| 2023-10-01 | 19631 | 2023Q4 | 352951195000 | 324403193561 | 335922667 | 0.03733333 |  0.10450774 |  7567190000 | 0.044400000 | 0.0533000000 | 2.829697e+13 |  0.011773225 |\n",
       "| 2024-01-01 | 19723 | 2024Q1 | 353246439000 | 324404992104 | 336307667 | 0.03800000 |  1.04257554 |  6112900000 | 0.041600000 | 0.0533000000 | 2.862407e+13 |  0.011559613 |\n",
       "| 2024-04-01 | 19814 | 2024Q2 | 349452050000 | 324406564767 | 336692000 | 0.04000000 |          NA |  5416660000 | 0.044433333 | 0.0533000000 | 2.901671e+13 |  0.013717302 |\n",
       "\n"
      ],
      "text/plain": [
       "    time_as_date time_as_numeric time   deposits     logistic_trend population\n",
       "1   1984-01-01   5113            1984Q1 22917257000   21838214      235604667 \n",
       "2   1984-04-01   5204            1984Q2 23575192000   24686425      236082333 \n",
       "3   1984-07-01   5295            1984Q3 24308965000   27906077      236657333 \n",
       "4   1984-10-01   5387            1984Q4 24967964000   31588126      237232667 \n",
       "5   1985-01-01   5479            1985Q1 25673746000   35755947      237672667 \n",
       "6   1985-04-01   5569            1985Q2 26941332000   40364715      238175667 \n",
       "7   1985-07-01   5660            1985Q3 27141405000   45628873      238789333 \n",
       "8   1985-10-01   5752            1985Q4 27133355000   51648972      239386667 \n",
       "9   1986-01-01   5844            1986Q1 28651198000   58463197      239860667 \n",
       "10  1986-04-01   5934            1986Q2 29041646000   65998225      240367667 \n",
       "11  1986-07-01   6025            1986Q3 29089391000   74604603      240961667 \n",
       "12  1986-10-01   6117            1986Q4 28841488000   84446655      241539000 \n",
       "13  1987-01-01   6209            1987Q1 28715469000   95586715      242009333 \n",
       "14  1987-04-01   6299            1987Q2 30084121000  107904815      242520000 \n",
       "15  1987-07-01   6390            1987Q3 30114432000  121973891      243120333 \n",
       "16  1987-10-01   6482            1987Q4 30112629000  138062373      243720667 \n",
       "17  1988-01-01   6574            1988Q1 29670701000  156271920      244207667 \n",
       "18  1988-04-01   6665            1988Q2 30050617000  176643864      244716667 \n",
       "19  1988-07-01   6756            1988Q3 28929456000  199669903      245354000 \n",
       "20  1988-10-01   6848            1988Q4 27407592000  225999427      245966333 \n",
       "21  1989-01-01   6940            1989Q1 22463251000  255798162      246460333 \n",
       "22  1989-04-01   7030            1989Q2 22035364000  288744063      247017333 \n",
       "23  1989-07-01   7121            1989Q3 20782366000  326367979      247698333 \n",
       "24  1989-10-01   7213            1989Q4 18774087000  369385545      248374333 \n",
       "25  1990-01-01   7305            1990Q1 17379316000  418065810      248936333 \n",
       "26  1990-04-01   7395            1990Q2 17271554000  471880788      249711000 \n",
       "27  1990-07-01   7486            1990Q3 17116974000  533328513      250594667 \n",
       "28  1990-10-01   7578            1990Q4 16174668000  603574110      251481667 \n",
       "29  1991-01-01   7670            1991Q1 15608863000  683052362      252257333 \n",
       "30  1991-04-01   7760            1991Q2 14608075000  770896232      253062667 \n",
       "⋮   ⋮            ⋮               ⋮      ⋮            ⋮              ⋮         \n",
       "133 2017-01-01   17167           2017Q1 308433213000 323992539783   326052667 \n",
       "134 2017-04-01   17257           2017Q2 315746028000 324041137871   326554000 \n",
       "135 2017-07-01   17348           2017Q3 317660727000 324084648477   327140333 \n",
       "136 2017-10-01   17440           2017Q4 322350768000 324123545875   327691667 \n",
       "137 2018-01-01   17532           2018Q1 325714789000 324157916602   328091000 \n",
       "138 2018-04-01   17622           2018Q2 327804206000 324187665609   328525667 \n",
       "139 2018-07-01   17713           2018Q3 331039546000 324214297406   329039667 \n",
       "140 2018-10-01   17805           2018Q4 334393555000 324238103221   329521667 \n",
       "141 2019-01-01   17897           2019Q1 337239215000 324259136796   329868333 \n",
       "142 2019-04-01   17987           2019Q2 338841270000 324277340656   330245333 \n",
       "143 2019-07-01   18078           2019Q3 338626199000 324293635949   330728667 \n",
       "144 2019-10-01   18170           2019Q4 349600055000 324308201218   331208000 \n",
       "145 2020-01-01   18262           2020Q1 341691380000 324321069638   331536667 \n",
       "146 2020-04-01   18353           2020Q2 339227043000 324332322621   331714667 \n",
       "147 2020-07-01   18444           2020Q3 338020161000 324342277848   331887333 \n",
       "148 2020-10-01   18536           2020Q4 339166813000 324351175827   332060667 \n",
       "149 2021-01-01   18628           2021Q1 339070926000 324359036936   332004333 \n",
       "150 2021-04-01   18718           2021Q2 340991443000 324365839949   332166333 \n",
       "151 2021-07-01   18809           2021Q3 342317919000 324371929301   332497000 \n",
       "152 2021-10-01   18901           2021Q4 348156945000 324377371839   332801667 \n",
       "153 2022-01-01   18993           2022Q1 351425943000 324382180069   332990667 \n",
       "154 2022-04-01   19083           2022Q2 354666330000 324386341043   333319667 \n",
       "155 2022-07-01   19174           2022Q3 355495449000 324390065459   333762000 \n",
       "156 2022-10-01   19266           2022Q4 357699656000 324393394219   334201000 \n",
       "157 2023-01-01   19358           2023Q1 361631019000 324396334988   334547000 \n",
       "158 2023-04-01   19448           2023Q2 361428409000 324398879861   334933667 \n",
       "159 2023-07-01   19539           2023Q3 361265548000 324401157711   335430333 \n",
       "160 2023-10-01   19631           2023Q4 352951195000 324403193561   335922667 \n",
       "161 2024-01-01   19723           2024Q1 353246439000 324404992104   336307667 \n",
       "162 2024-04-01   19814           2024Q2 349452050000 324406564767   336692000 \n",
       "    unemployment_rate ConsumerPriceIndex DisposablePersonalIncome Yield      \n",
       "1   0.07866667         1.1202636         10729270000              0.11943333 \n",
       "2   0.07433333         1.0752688         11779660000              0.13200000 \n",
       "3   0.07433333         1.0960671         10982020000              0.12866667 \n",
       "4   0.07300000         0.7334184          9470080000              0.11743333 \n",
       "5   0.07233333         0.6331117          7253910000              0.11583333 \n",
       "6   0.07300000         1.2268009          7486790000              0.10813333 \n",
       "7   0.07200000         0.7147296          5819840000              0.10336667 \n",
       "8   0.07033333         0.8947856          6193650000              0.09760000 \n",
       "9   0.07033333         0.2140673          7391500000              0.08556667 \n",
       "10  0.07166667        -0.2136100          5646760000              0.07603333 \n",
       "11  0.06966667         0.7339450          6259350000              0.07306667 \n",
       "12  0.06833333         0.5464481          5019150000              0.07263333 \n",
       "13  0.06600000         1.1171498          4623120000              0.07193333 \n",
       "14  0.06266667         1.3138250          3350880000              0.08343333 \n",
       "15  0.06000000         1.1494253          5058160000              0.08876667 \n",
       "16  0.05833333         0.8449883          6832670000              0.09123333 \n",
       "17  0.05700000         0.6067611          7629040000              0.08416667 \n",
       "18  0.05466667         1.2636416         10148590000              0.08910000 \n",
       "19  0.05466667         1.3329552          9616820000              0.09100000 \n",
       "20  0.05333333         1.0355444          9249320000              0.08956667 \n",
       "21  0.05200000         1.1080332          9032890000              0.09206667 \n",
       "22  0.05233333         1.6438356          7705630000              0.08773333 \n",
       "23  0.05233333         0.8086253          6642920000              0.08106667 \n",
       "24  0.05366667         0.9625668          6309660000              0.07906667 \n",
       "25  0.05300000         1.7213983          6330230000              0.08423333 \n",
       "26  0.05333333         1.0153606          7001820000              0.08676667 \n",
       "27  0.05700000         1.7268041          7034680000              0.08703333 \n",
       "28  0.06133333         1.6214847          5831290000              0.08396667 \n",
       "29  0.06600000         0.8227375          4349260000              0.08016667 \n",
       "30  0.06833333         0.5934718          3986460000              0.08130000 \n",
       "⋮   ⋮                 ⋮                  ⋮                        ⋮          \n",
       "133 0.04566667         0.79073696         4140810000              0.024433333\n",
       "134 0.04366667         0.54351771         5035230000              0.022633333\n",
       "135 0.04333333         0.39661569         5183240000              0.022433333\n",
       "136 0.04166667         0.37062964         5299520000              0.023700000\n",
       "137 0.04033333         0.88611838         5434620000              0.027600000\n",
       "138 0.03933333         1.03307557         5573150000              0.029200000\n",
       "139 0.03766667         0.32726757         5928130000              0.029266667\n",
       "140 0.03833333        -0.05749474         6046360000              0.030333333\n",
       "141 0.03866667         0.33511603         5710890000              0.026533333\n",
       "142 0.03633333         1.19851323         4729290000              0.023333333\n",
       "143 0.03600000         0.27416601         4234170000              0.017966667\n",
       "144 0.03600000         0.21301800         3758380000              0.017933333\n",
       "145 0.03833333         0.41942742         3276590000              0.013766667\n",
       "146 0.13000000        -0.54003542        12515970000              0.006866667\n",
       "147 0.08800000         1.13148537         8408110000              0.006500000\n",
       "148 0.06733333         0.22995025         5751550000              0.008633333\n",
       "149 0.06233333         1.07311440        18680340000              0.013166667\n",
       "150 0.05933333         2.33978869         1505510000              0.015933333\n",
       "151 0.05066667         1.60097531         4622050000              0.013233333\n",
       "152 0.04166667         1.51776143         6859340000              0.015366667\n",
       "153 0.03800000         2.28346447        -6652650000              0.019400000\n",
       "154 0.03633333         2.97383290         1069950000              0.029300000\n",
       "155 0.03533333         1.31466215         3674510000              0.031066667\n",
       "156 0.03566667         0.36716128         5139560000              0.038300000\n",
       "157 0.03500000         1.04490656        10073050000              0.036466667\n",
       "158 0.03566667         1.19233217        10265010000              0.035933333\n",
       "159 0.03700000         0.86642655         8343430000              0.041500000\n",
       "160 0.03733333         0.10450774         7567190000              0.044400000\n",
       "161 0.03800000         1.04257554         6112900000              0.041600000\n",
       "162 0.04000000                 NA         5416660000              0.044433333\n",
       "    fed_rate     GDP          GDP_growth_rate\n",
       "1   0.09686667   3.908054e+12           NA   \n",
       "2   0.10556667   4.009601e+12  0.025984032   \n",
       "3   0.11390000   4.084250e+12  0.018617563   \n",
       "4   0.09266667   4.148551e+12  0.015743649   \n",
       "5   0.08476667   4.230168e+12  0.019673616   \n",
       "6   0.07923333   4.294887e+12  0.015299392   \n",
       "7   0.07900000   4.386773e+12  0.021394276   \n",
       "8   0.08103333   4.444094e+12  0.013066781   \n",
       "9   0.07826667   4.507894e+12  0.014356132   \n",
       "10  0.06920000   4.545340e+12  0.008306761   \n",
       "11  0.06206667   4.607669e+12  0.013712726   \n",
       "12  0.06266667   4.657627e+12  0.010842359   \n",
       "13  0.06220000   4.722156e+12  0.013854480   \n",
       "14  0.06650000   4.806160e+12  0.017789332   \n",
       "15  0.06843333   4.884555e+12  0.016311359   \n",
       "16  0.06916667   5.007994e+12  0.025271289   \n",
       "17  0.06663333   5.073372e+12  0.013054728   \n",
       "18  0.07156667   5.190036e+12  0.022995357   \n",
       "19  0.07983333   5.282835e+12  0.017880223   \n",
       "20  0.08470000   5.399509e+12  0.022085490   \n",
       "21  0.09443333   5.511253e+12  0.020695215   \n",
       "22  0.09726667   5.612463e+12  0.018364245   \n",
       "23  0.09083333   5.695365e+12  0.014771055   \n",
       "24  0.08613333   5.747237e+12  0.009107757   \n",
       "25  0.08250000   5.872701e+12  0.021830316   \n",
       "26  0.08243333   5.960028e+12  0.014869989   \n",
       "27  0.08160000   6.015116e+12  0.009242910   \n",
       "28  0.07743333   6.004733e+12 -0.001726151   \n",
       "29  0.06426667   6.035178e+12  0.005070167   \n",
       "30  0.05863333   6.126862e+12  0.015191598   \n",
       "⋮   ⋮            ⋮            ⋮              \n",
       "133 0.0070000000 1.928008e+13  0.009990110   \n",
       "134 0.0095000000 1.943864e+13  0.008223979   \n",
       "135 0.0115333333 1.969260e+13  0.013064286   \n",
       "136 0.0120333333 2.003709e+13  0.017493530   \n",
       "137 0.0144666667 2.032855e+13  0.014546275   \n",
       "138 0.0173666667 2.058091e+13  0.012414017   \n",
       "139 0.0192333333 2.079873e+13  0.010583496   \n",
       "140 0.0222000000 2.091787e+13  0.005728090   \n",
       "141 0.0240333333 2.111160e+13  0.009261604   \n",
       "142 0.0239666667 2.139794e+13  0.013563065   \n",
       "143 0.0219000000 2.171717e+13  0.014918867   \n",
       "144 0.0164333333 2.193322e+13  0.009948165   \n",
       "145 0.0126000000 2.172766e+13 -0.009372086   \n",
       "146 0.0006000000 1.993544e+13 -0.082485332   \n",
       "147 0.0009333333 2.168455e+13  0.087738552   \n",
       "148 0.0009000000 2.206877e+13  0.017718421   \n",
       "149 0.0008000000 2.265679e+13  0.026645168   \n",
       "150 0.0007000000 2.336886e+13  0.031428455   \n",
       "151 0.0009000000 2.392199e+13  0.023669532   \n",
       "152 0.0008000000 2.477704e+13  0.035743137   \n",
       "153 0.0012000000 2.521549e+13  0.017695941   \n",
       "154 0.0077000000 2.580579e+13  0.023410212   \n",
       "155 0.0219000000 2.627201e+13  0.018066487   \n",
       "156 0.0365333333 2.673428e+13  0.017595379   \n",
       "157 0.0451666667 2.716436e+13  0.016087287   \n",
       "158 0.0499000000 2.745382e+13  0.010655727   \n",
       "159 0.0526000000 2.796770e+13  0.018718054   \n",
       "160 0.0533000000 2.829697e+13  0.011773225   \n",
       "161 0.0533000000 2.862407e+13  0.011559613   \n",
       "162 0.0533000000 2.901671e+13  0.013717302   "
      ]
     },
     "metadata": {},
     "output_type": "display_data"
    }
   ],
   "source": [
    "# Combine deposit level data and regressors data into one => deposit_regressor_data\n",
    "deposit_regressor_data <- merge(deposit_levels, regressors_data, by = c(\"time_as_date\", \"time_as_numeric\"))\n",
    "deposit_regressor_data"
   ]
  },
  {
   "cell_type": "code",
   "execution_count": 105,
   "metadata": {
    "vscode": {
     "languageId": "r"
    }
   },
   "outputs": [],
   "source": [
    "# Pre process only the regressors inside your data\n",
    "\n",
    "# Exclude all that's not a regressor like the target varaiable (deposit) and time variables\n",
    "regressors_col <- setdiff(names(deposit_regressor_data), c(\"logistic_trend\", \"time\", \"deposits\", \"time_as_date\", \"time_as_numeric\"))\n",
    "\n",
    "# The preProcess function centers (mean = 0) and scales (std = 1) your predictors => Apply scaling to the feature columns\n",
    "pre_process_data <- preProcess(deposit_regressor_data[, regressors_col], method=c(\"center\", \"scale\"))\n"
   ]
  },
  {
   "cell_type": "markdown",
   "metadata": {},
   "source": [
    "## B. Split dataset into Training dataset and Test dataset"
   ]
  },
  {
   "cell_type": "code",
   "execution_count": 106,
   "metadata": {
    "vscode": {
     "languageId": "r"
    }
   },
   "outputs": [],
   "source": [
    "# Split data into training and testing based on time\n",
    "train_data_regressor <- subset(deposit_regressor_data, time_as_date <= \"2020-12-31\") # Training data: 1984 Q1 to 2020 Q4\n",
    "test_data_regressor <- subset(deposit_regressor_data, time_as_date > \"2020-12-31\")  # Testing data: 2021 Q1 to 2024 Q2\n"
   ]
  },
  {
   "cell_type": "code",
   "execution_count": 107,
   "metadata": {
    "vscode": {
     "languageId": "r"
    }
   },
   "outputs": [],
   "source": [
    "# Apply the pre-processing to our training and testing dataset\n",
    "\n",
    "# Scale training data (apply preprocessing to the regressor columns only)\n",
    "train_data_scaled <- train_data_regressor\n",
    "train_data_scaled[, regressors_col] <- predict(pre_process_data, train_data_regressor[, regressors_col])\n",
    "\n",
    "# Scale testing data using the same preprocessing parameters\n",
    "test_data_scaled <- test_data_regressor\n",
    "test_data_scaled[, regressors_col] <- predict(pre_process_data, test_data_regressor[, regressors_col])"
   ]
  },
  {
   "cell_type": "markdown",
   "metadata": {},
   "source": [
    "### C. Fit the LASSO Model"
   ]
  },
  {
   "cell_type": "code",
   "execution_count": 108,
   "metadata": {
    "vscode": {
     "languageId": "r"
    }
   },
   "outputs": [],
   "source": [
    "# Create matrices for modeling for training data\n",
    "\n",
    "X_train_lasso <- as.matrix(train_data_scaled[, regressors_col])\n",
    "X_train_lasso[is.na(X_train_lasso)] <- 0 # fill the mssing value with 0\n",
    "y_train_lasso <- train_data_scaled$deposits\n",
    "\n",
    "# Create matrices for modeling for testing data\n",
    "X_test_lasso <- as.matrix(test_data_scaled[, regressors_col])\n",
    "y_test_lasso <- test_data_scaled$deposits\n"
   ]
  },
  {
   "cell_type": "code",
   "execution_count": 109,
   "metadata": {
    "vscode": {
     "languageId": "r"
    }
   },
   "outputs": [
    {
     "data": {
      "text/plain": [
       "           Length Class  Mode     \n",
       "lambda     78     -none- numeric  \n",
       "cvm        78     -none- numeric  \n",
       "cvsd       78     -none- numeric  \n",
       "cvup       78     -none- numeric  \n",
       "cvlo       78     -none- numeric  \n",
       "nzero      78     -none- numeric  \n",
       "call        4     -none- call     \n",
       "name        1     -none- character\n",
       "glmnet.fit 12     elnet  list     \n",
       "lambda.min  1     -none- numeric  \n",
       "lambda.1se  1     -none- numeric  \n",
       "index       2     -none- numeric  "
      ]
     },
     "metadata": {},
     "output_type": "display_data"
    }
   ],
   "source": [
    "# Fit the lasso_model\n",
    "lasso_model <- cv.glmnet(X_train_lasso, y_train_lasso, alpha = 1)\n",
    "summary(lasso_model)"
   ]
  },
  {
   "cell_type": "code",
   "execution_count": 110,
   "metadata": {
    "vscode": {
     "languageId": "r"
    }
   },
   "outputs": [
    {
     "data": {
      "text/plain": [
       "9 x 1 sparse Matrix of class \"dgCMatrix\"\n",
       "                                   s1\n",
       "(Intercept)              185043041408\n",
       "population                          .\n",
       "unemployment_rate          9505320016\n",
       "ConsumerPriceIndex                  .\n",
       "DisposablePersonalIncome            .\n",
       "Yield                               .\n",
       "fed_rate                            .\n",
       "GDP                      147264640516\n",
       "GDP_growth_rate                     ."
      ]
     },
     "metadata": {},
     "output_type": "display_data"
    },
    {
     "data": {
      "text/plain": [
       "9 x 1 sparse Matrix of class \"dgCMatrix\"\n",
       "                                   s1\n",
       "(Intercept)              183680569982\n",
       "population                          .\n",
       "unemployment_rate                   .\n",
       "ConsumerPriceIndex                  .\n",
       "DisposablePersonalIncome            .\n",
       "Yield                               .\n",
       "fed_rate                            .\n",
       "GDP                      135406574336\n",
       "GDP_growth_rate                     ."
      ]
     },
     "metadata": {},
     "output_type": "display_data"
    }
   ],
   "source": [
    "coef(lasso_model, s = \"lambda.min\") # For lambda.min\n",
    "coef(lasso_model, s = \"lambda.1se\") # For lambda.1se\n"
   ]
  },
  {
   "cell_type": "code",
   "execution_count": 111,
   "metadata": {
    "vscode": {
     "languageId": "r"
    }
   },
   "outputs": [
    {
     "name": "stdout",
     "output_type": "stream",
     "text": [
      "9 x 1 sparse Matrix of class \"dgCMatrix\"\n",
      "                                   s1\n",
      "(Intercept)              185043041408\n",
      "population                          .\n",
      "unemployment_rate          9505320016\n",
      "ConsumerPriceIndex                  .\n",
      "DisposablePersonalIncome            .\n",
      "Yield                               .\n",
      "fed_rate                            .\n",
      "GDP                      147264640516\n",
      "GDP_growth_rate                     .\n"
     ]
    }
   ],
   "source": [
    "# Extract selected features at lambda.min\n",
    "selected_features <- coef(lasso_model, s = \"lambda.min\")\n",
    "print(selected_features)\n",
    "\n"
   ]
  },
  {
   "cell_type": "markdown",
   "metadata": {},
   "source": [
    "- Lasso revealed that only unemployment rate and GDP are useful here."
   ]
  },
  {
   "cell_type": "markdown",
   "metadata": {},
   "source": [
    "### D. LINE Assaumptions"
   ]
  },
  {
   "cell_type": "code",
   "execution_count": 112,
   "metadata": {
    "vscode": {
     "languageId": "r"
    }
   },
   "outputs": [
    {
     "data": {
      "image/png": "[encoded data removed]",
      "text/plain": [
       "plot without title"
      ]
     },
     "metadata": {
      "image/png": {
       "height": 420,
       "width": 420
      }
     },
     "output_type": "display_data"
    }
   ],
   "source": [
    "par(mfrow = c(2,2))\n",
    "plot(lasso_model)"
   ]
  },
  {
   "cell_type": "markdown",
   "metadata": {},
   "source": [
    "- I guess this is the only plot so we don't check for LINE aasumptins casuse Prophet is a semi-parametric model"
   ]
  },
  {
   "cell_type": "markdown",
   "metadata": {},
   "source": [
    "### E. Performance Metrics"
   ]
  },
  {
   "cell_type": "code",
   "execution_count": 113,
   "metadata": {
    "vscode": {
     "languageId": "r"
    }
   },
   "outputs": [
    {
     "data": {
      "text/html": [
       "5765672049.46477"
      ],
      "text/latex": [
       "5765672049.46477"
      ],
      "text/markdown": [
       "5765672049.46477"
      ],
      "text/plain": [
       "[1] 5765672049"
      ]
     },
     "metadata": {},
     "output_type": "display_data"
    }
   ],
   "source": [
    "# Extract best lambda values\n",
    "best_lambda <- lasso_model$lambda.min  # Lambda that gives minimum cross-validation error\n",
    "best_lambda"
   ]
  },
  {
   "cell_type": "code",
   "execution_count": 114,
   "metadata": {
    "vscode": {
     "languageId": "r"
    }
   },
   "outputs": [
    {
     "name": "stdout",
     "output_type": "stream",
     "text": [
      "[1] 1.5997e+22\n"
     ]
    }
   ],
   "source": [
    "# Predict on testing data\n",
    "lasso_predictions <- predict(lasso_model, s = best_lambda, newx = X_test_lasso)\n",
    "\n",
    "# Evaluate performance (e.g., Mean Squared Error)\n",
    "MSE <- mean((y_test_lasso - lasso_predictions)^2)\n",
    "print(MSE)"
   ]
  },
  {
   "cell_type": "code",
   "execution_count": 115,
   "metadata": {
    "vscode": {
     "languageId": "r"
    }
   },
   "outputs": [
    {
     "name": "stdout",
     "output_type": "stream",
     "text": [
      "[1] 34.38607\n"
     ]
    }
   ],
   "source": [
    "\n",
    "# Evaluate performance MAPE\n",
    "MAPE <- mean(abs(y_test_lasso - lasso_predictions)/y_test_lasso)*100\n",
    "print(MAPE)\n"
   ]
  },
  {
   "cell_type": "markdown",
   "metadata": {},
   "source": [
    "- On average, the model's predictions are off by about 34% of the actual values. "
   ]
  },
  {
   "cell_type": "markdown",
   "metadata": {},
   "source": [
    "# Part 6: Add the regression into our model"
   ]
  },
  {
   "cell_type": "markdown",
   "metadata": {},
   "source": [
    "## Step 1: Plugging Regressors into Prophet\n",
    "\n",
    "- With a MAPE of 34%, it’s not ideal, but it’s not a dealbreaker\n",
    "- Even if the Lasso model's MAPE is high, the regressors may still contain useful signals that Prophet can leverage.\n",
    "- Prophet doesn't rely solely on the regressors—it also models time-based trends and seasonality, which can compensate for some of the inaccuracy in the regressors."
   ]
  },
  {
   "cell_type": "code",
   "execution_count": null,
   "metadata": {
    "vscode": {
     "languageId": "r"
    }
   },
   "outputs": [
    {
     "data": {
      "text/html": [
       "<table class=\"dataframe\">\n",
       "<caption>A data.frame: 14 × 13</caption>\n",
       "<thead>\n",
       "\t<tr><th></th><th scope=col>time_as_date</th><th scope=col>time_as_numeric</th><th scope=col>time</th><th scope=col>deposits</th><th scope=col>logistic_trend</th><th scope=col>population</th><th scope=col>unemployment_rate</th><th scope=col>ConsumerPriceIndex</th><th scope=col>DisposablePersonalIncome</th><th scope=col>Yield</th><th scope=col>fed_rate</th><th scope=col>GDP</th><th scope=col>GDP_growth_rate</th></tr>\n",
       "\t<tr><th></th><th scope=col>&lt;date&gt;</th><th scope=col>&lt;dbl&gt;</th><th scope=col>&lt;chr&gt;</th><th scope=col>&lt;dbl&gt;</th><th scope=col>&lt;dbl&gt;</th><th scope=col>&lt;dbl&gt;</th><th scope=col>&lt;dbl&gt;</th><th scope=col>&lt;dbl&gt;</th><th scope=col>&lt;dbl&gt;</th><th scope=col>&lt;dbl&gt;</th><th scope=col>&lt;dbl&gt;</th><th scope=col>&lt;dbl&gt;</th><th scope=col>&lt;dbl&gt;</th></tr>\n",
       "</thead>\n",
       "<tbody>\n",
       "\t<tr><th scope=row>149</th><td>2021-01-01</td><td>18628</td><td>2021Q1</td><td>339070926000</td><td>324359036936</td><td>332004333</td><td>0.06233333</td><td>1.0731144</td><td>18680340000</td><td>0.01316667</td><td>0.00080000</td><td>2.265679e+13</td><td>0.02664517</td></tr>\n",
       "\t<tr><th scope=row>150</th><td>2021-04-01</td><td>18718</td><td>2021Q2</td><td>340991443000</td><td>324365839949</td><td>332166333</td><td>0.05933333</td><td>2.3397887</td><td> 1505510000</td><td>0.01593333</td><td>0.00070000</td><td>2.336886e+13</td><td>0.03142846</td></tr>\n",
       "\t<tr><th scope=row>151</th><td>2021-07-01</td><td>18809</td><td>2021Q3</td><td>342317919000</td><td>324371929301</td><td>332497000</td><td>0.05066667</td><td>1.6009753</td><td> 4622050000</td><td>0.01323333</td><td>0.00090000</td><td>2.392199e+13</td><td>0.02366953</td></tr>\n",
       "\t<tr><th scope=row>152</th><td>2021-10-01</td><td>18901</td><td>2021Q4</td><td>348156945000</td><td>324377371839</td><td>332801667</td><td>0.04166667</td><td>1.5177614</td><td> 6859340000</td><td>0.01536667</td><td>0.00080000</td><td>2.477704e+13</td><td>0.03574314</td></tr>\n",
       "\t<tr><th scope=row>153</th><td>2022-01-01</td><td>18993</td><td>2022Q1</td><td>351425943000</td><td>324382180069</td><td>332990667</td><td>0.03800000</td><td>2.2834645</td><td>-6652650000</td><td>0.01940000</td><td>0.00120000</td><td>2.521549e+13</td><td>0.01769594</td></tr>\n",
       "\t<tr><th scope=row>154</th><td>2022-04-01</td><td>19083</td><td>2022Q2</td><td>354666330000</td><td>324386341043</td><td>333319667</td><td>0.03633333</td><td>2.9738329</td><td> 1069950000</td><td>0.02930000</td><td>0.00770000</td><td>2.580579e+13</td><td>0.02341021</td></tr>\n",
       "\t<tr><th scope=row>155</th><td>2022-07-01</td><td>19174</td><td>2022Q3</td><td>355495449000</td><td>324390065459</td><td>333762000</td><td>0.03533333</td><td>1.3146621</td><td> 3674510000</td><td>0.03106667</td><td>0.02190000</td><td>2.627201e+13</td><td>0.01806649</td></tr>\n",
       "\t<tr><th scope=row>156</th><td>2022-10-01</td><td>19266</td><td>2022Q4</td><td>357699656000</td><td>324393394219</td><td>334201000</td><td>0.03566667</td><td>0.3671613</td><td> 5139560000</td><td>0.03830000</td><td>0.03653333</td><td>2.673428e+13</td><td>0.01759538</td></tr>\n",
       "\t<tr><th scope=row>157</th><td>2023-01-01</td><td>19358</td><td>2023Q1</td><td>361631019000</td><td>324396334988</td><td>334547000</td><td>0.03500000</td><td>1.0449066</td><td>10073050000</td><td>0.03646667</td><td>0.04516667</td><td>2.716436e+13</td><td>0.01608729</td></tr>\n",
       "\t<tr><th scope=row>158</th><td>2023-04-01</td><td>19448</td><td>2023Q2</td><td>361428409000</td><td>324398879861</td><td>334933667</td><td>0.03566667</td><td>1.1923322</td><td>10265010000</td><td>0.03593333</td><td>0.04990000</td><td>2.745382e+13</td><td>0.01065573</td></tr>\n",
       "\t<tr><th scope=row>159</th><td>2023-07-01</td><td>19539</td><td>2023Q3</td><td>361265548000</td><td>324401157711</td><td>335430333</td><td>0.03700000</td><td>0.8664265</td><td> 8343430000</td><td>0.04150000</td><td>0.05260000</td><td>2.796770e+13</td><td>0.01871805</td></tr>\n",
       "\t<tr><th scope=row>160</th><td>2023-10-01</td><td>19631</td><td>2023Q4</td><td>352951195000</td><td>324403193561</td><td>335922667</td><td>0.03733333</td><td>0.1045077</td><td> 7567190000</td><td>0.04440000</td><td>0.05330000</td><td>2.829697e+13</td><td>0.01177323</td></tr>\n",
       "\t<tr><th scope=row>161</th><td>2024-01-01</td><td>19723</td><td>2024Q1</td><td>353246439000</td><td>324404992104</td><td>336307667</td><td>0.03800000</td><td>1.0425755</td><td> 6112900000</td><td>0.04160000</td><td>0.05330000</td><td>2.862407e+13</td><td>0.01155961</td></tr>\n",
       "\t<tr><th scope=row>162</th><td>2024-04-01</td><td>19814</td><td>2024Q2</td><td>349452050000</td><td>324406564767</td><td>336692000</td><td>0.04000000</td><td>       NA</td><td> 5416660000</td><td>0.04443333</td><td>0.05330000</td><td>2.901671e+13</td><td>0.01371730</td></tr>\n",
       "</tbody>\n",
       "</table>\n"
      ],
      "text/latex": [
       "A data.frame: 14 × 13\n",
       "\\begin{tabular}{r|lllllllllllll}\n",
       "  & time\\_as\\_date & time\\_as\\_numeric & time & deposits & logistic\\_trend & population & unemployment\\_rate & ConsumerPriceIndex & DisposablePersonalIncome & Yield & fed\\_rate & GDP & GDP\\_growth\\_rate\\\\\n",
       "  & <date> & <dbl> & <chr> & <dbl> & <dbl> & <dbl> & <dbl> & <dbl> & <dbl> & <dbl> & <dbl> & <dbl> & <dbl>\\\\\n",
       "\\hline\n",
       "\t149 & 2021-01-01 & 18628 & 2021Q1 & 339070926000 & 324359036936 & 332004333 & 0.06233333 & 1.0731144 & 18680340000 & 0.01316667 & 0.00080000 & 2.265679e+13 & 0.02664517\\\\\n",
       "\t150 & 2021-04-01 & 18718 & 2021Q2 & 340991443000 & 324365839949 & 332166333 & 0.05933333 & 2.3397887 &  1505510000 & 0.01593333 & 0.00070000 & 2.336886e+13 & 0.03142846\\\\\n",
       "\t151 & 2021-07-01 & 18809 & 2021Q3 & 342317919000 & 324371929301 & 332497000 & 0.05066667 & 1.6009753 &  4622050000 & 0.01323333 & 0.00090000 & 2.392199e+13 & 0.02366953\\\\\n",
       "\t152 & 2021-10-01 & 18901 & 2021Q4 & 348156945000 & 324377371839 & 332801667 & 0.04166667 & 1.5177614 &  6859340000 & 0.01536667 & 0.00080000 & 2.477704e+13 & 0.03574314\\\\\n",
       "\t153 & 2022-01-01 & 18993 & 2022Q1 & 351425943000 & 324382180069 & 332990667 & 0.03800000 & 2.2834645 & -6652650000 & 0.01940000 & 0.00120000 & 2.521549e+13 & 0.01769594\\\\\n",
       "\t154 & 2022-04-01 & 19083 & 2022Q2 & 354666330000 & 324386341043 & 333319667 & 0.03633333 & 2.9738329 &  1069950000 & 0.02930000 & 0.00770000 & 2.580579e+13 & 0.02341021\\\\\n",
       "\t155 & 2022-07-01 & 19174 & 2022Q3 & 355495449000 & 324390065459 & 333762000 & 0.03533333 & 1.3146621 &  3674510000 & 0.03106667 & 0.02190000 & 2.627201e+13 & 0.01806649\\\\\n",
       "\t156 & 2022-10-01 & 19266 & 2022Q4 & 357699656000 & 324393394219 & 334201000 & 0.03566667 & 0.3671613 &  5139560000 & 0.03830000 & 0.03653333 & 2.673428e+13 & 0.01759538\\\\\n",
       "\t157 & 2023-01-01 & 19358 & 2023Q1 & 361631019000 & 324396334988 & 334547000 & 0.03500000 & 1.0449066 & 10073050000 & 0.03646667 & 0.04516667 & 2.716436e+13 & 0.01608729\\\\\n",
       "\t158 & 2023-04-01 & 19448 & 2023Q2 & 361428409000 & 324398879861 & 334933667 & 0.03566667 & 1.1923322 & 10265010000 & 0.03593333 & 0.04990000 & 2.745382e+13 & 0.01065573\\\\\n",
       "\t159 & 2023-07-01 & 19539 & 2023Q3 & 361265548000 & 324401157711 & 335430333 & 0.03700000 & 0.8664265 &  8343430000 & 0.04150000 & 0.05260000 & 2.796770e+13 & 0.01871805\\\\\n",
       "\t160 & 2023-10-01 & 19631 & 2023Q4 & 352951195000 & 324403193561 & 335922667 & 0.03733333 & 0.1045077 &  7567190000 & 0.04440000 & 0.05330000 & 2.829697e+13 & 0.01177323\\\\\n",
       "\t161 & 2024-01-01 & 19723 & 2024Q1 & 353246439000 & 324404992104 & 336307667 & 0.03800000 & 1.0425755 &  6112900000 & 0.04160000 & 0.05330000 & 2.862407e+13 & 0.01155961\\\\\n",
       "\t162 & 2024-04-01 & 19814 & 2024Q2 & 349452050000 & 324406564767 & 336692000 & 0.04000000 &        NA &  5416660000 & 0.04443333 & 0.05330000 & 2.901671e+13 & 0.01371730\\\\\n",
       "\\end{tabular}\n"
      ],
      "text/markdown": [
       "\n",
       "A data.frame: 14 × 13\n",
       "\n",
       "| <!--/--> | time_as_date &lt;date&gt; | time_as_numeric &lt;dbl&gt; | time &lt;chr&gt; | deposits &lt;dbl&gt; | logistic_trend &lt;dbl&gt; | population &lt;dbl&gt; | unemployment_rate &lt;dbl&gt; | ConsumerPriceIndex &lt;dbl&gt; | DisposablePersonalIncome &lt;dbl&gt; | Yield &lt;dbl&gt; | fed_rate &lt;dbl&gt; | GDP &lt;dbl&gt; | GDP_growth_rate &lt;dbl&gt; |\n",
       "|---|---|---|---|---|---|---|---|---|---|---|---|---|---|\n",
       "| 149 | 2021-01-01 | 18628 | 2021Q1 | 339070926000 | 324359036936 | 332004333 | 0.06233333 | 1.0731144 | 18680340000 | 0.01316667 | 0.00080000 | 2.265679e+13 | 0.02664517 |\n",
       "| 150 | 2021-04-01 | 18718 | 2021Q2 | 340991443000 | 324365839949 | 332166333 | 0.05933333 | 2.3397887 |  1505510000 | 0.01593333 | 0.00070000 | 2.336886e+13 | 0.03142846 |\n",
       "| 151 | 2021-07-01 | 18809 | 2021Q3 | 342317919000 | 324371929301 | 332497000 | 0.05066667 | 1.6009753 |  4622050000 | 0.01323333 | 0.00090000 | 2.392199e+13 | 0.02366953 |\n",
       "| 152 | 2021-10-01 | 18901 | 2021Q4 | 348156945000 | 324377371839 | 332801667 | 0.04166667 | 1.5177614 |  6859340000 | 0.01536667 | 0.00080000 | 2.477704e+13 | 0.03574314 |\n",
       "| 153 | 2022-01-01 | 18993 | 2022Q1 | 351425943000 | 324382180069 | 332990667 | 0.03800000 | 2.2834645 | -6652650000 | 0.01940000 | 0.00120000 | 2.521549e+13 | 0.01769594 |\n",
       "| 154 | 2022-04-01 | 19083 | 2022Q2 | 354666330000 | 324386341043 | 333319667 | 0.03633333 | 2.9738329 |  1069950000 | 0.02930000 | 0.00770000 | 2.580579e+13 | 0.02341021 |\n",
       "| 155 | 2022-07-01 | 19174 | 2022Q3 | 355495449000 | 324390065459 | 333762000 | 0.03533333 | 1.3146621 |  3674510000 | 0.03106667 | 0.02190000 | 2.627201e+13 | 0.01806649 |\n",
       "| 156 | 2022-10-01 | 19266 | 2022Q4 | 357699656000 | 324393394219 | 334201000 | 0.03566667 | 0.3671613 |  5139560000 | 0.03830000 | 0.03653333 | 2.673428e+13 | 0.01759538 |\n",
       "| 157 | 2023-01-01 | 19358 | 2023Q1 | 361631019000 | 324396334988 | 334547000 | 0.03500000 | 1.0449066 | 10073050000 | 0.03646667 | 0.04516667 | 2.716436e+13 | 0.01608729 |\n",
       "| 158 | 2023-04-01 | 19448 | 2023Q2 | 361428409000 | 324398879861 | 334933667 | 0.03566667 | 1.1923322 | 10265010000 | 0.03593333 | 0.04990000 | 2.745382e+13 | 0.01065573 |\n",
       "| 159 | 2023-07-01 | 19539 | 2023Q3 | 361265548000 | 324401157711 | 335430333 | 0.03700000 | 0.8664265 |  8343430000 | 0.04150000 | 0.05260000 | 2.796770e+13 | 0.01871805 |\n",
       "| 160 | 2023-10-01 | 19631 | 2023Q4 | 352951195000 | 324403193561 | 335922667 | 0.03733333 | 0.1045077 |  7567190000 | 0.04440000 | 0.05330000 | 2.829697e+13 | 0.01177323 |\n",
       "| 161 | 2024-01-01 | 19723 | 2024Q1 | 353246439000 | 324404992104 | 336307667 | 0.03800000 | 1.0425755 |  6112900000 | 0.04160000 | 0.05330000 | 2.862407e+13 | 0.01155961 |\n",
       "| 162 | 2024-04-01 | 19814 | 2024Q2 | 349452050000 | 324406564767 | 336692000 | 0.04000000 |        NA |  5416660000 | 0.04443333 | 0.05330000 | 2.901671e+13 | 0.01371730 |\n",
       "\n"
      ],
      "text/plain": [
       "    time_as_date time_as_numeric time   deposits     logistic_trend population\n",
       "149 2021-01-01   18628           2021Q1 339070926000 324359036936   332004333 \n",
       "150 2021-04-01   18718           2021Q2 340991443000 324365839949   332166333 \n",
       "151 2021-07-01   18809           2021Q3 342317919000 324371929301   332497000 \n",
       "152 2021-10-01   18901           2021Q4 348156945000 324377371839   332801667 \n",
       "153 2022-01-01   18993           2022Q1 351425943000 324382180069   332990667 \n",
       "154 2022-04-01   19083           2022Q2 354666330000 324386341043   333319667 \n",
       "155 2022-07-01   19174           2022Q3 355495449000 324390065459   333762000 \n",
       "156 2022-10-01   19266           2022Q4 357699656000 324393394219   334201000 \n",
       "157 2023-01-01   19358           2023Q1 361631019000 324396334988   334547000 \n",
       "158 2023-04-01   19448           2023Q2 361428409000 324398879861   334933667 \n",
       "159 2023-07-01   19539           2023Q3 361265548000 324401157711   335430333 \n",
       "160 2023-10-01   19631           2023Q4 352951195000 324403193561   335922667 \n",
       "161 2024-01-01   19723           2024Q1 353246439000 324404992104   336307667 \n",
       "162 2024-04-01   19814           2024Q2 349452050000 324406564767   336692000 \n",
       "    unemployment_rate ConsumerPriceIndex DisposablePersonalIncome Yield     \n",
       "149 0.06233333        1.0731144          18680340000              0.01316667\n",
       "150 0.05933333        2.3397887           1505510000              0.01593333\n",
       "151 0.05066667        1.6009753           4622050000              0.01323333\n",
       "152 0.04166667        1.5177614           6859340000              0.01536667\n",
       "153 0.03800000        2.2834645          -6652650000              0.01940000\n",
       "154 0.03633333        2.9738329           1069950000              0.02930000\n",
       "155 0.03533333        1.3146621           3674510000              0.03106667\n",
       "156 0.03566667        0.3671613           5139560000              0.03830000\n",
       "157 0.03500000        1.0449066          10073050000              0.03646667\n",
       "158 0.03566667        1.1923322          10265010000              0.03593333\n",
       "159 0.03700000        0.8664265           8343430000              0.04150000\n",
       "160 0.03733333        0.1045077           7567190000              0.04440000\n",
       "161 0.03800000        1.0425755           6112900000              0.04160000\n",
       "162 0.04000000               NA           5416660000              0.04443333\n",
       "    fed_rate   GDP          GDP_growth_rate\n",
       "149 0.00080000 2.265679e+13 0.02664517     \n",
       "150 0.00070000 2.336886e+13 0.03142846     \n",
       "151 0.00090000 2.392199e+13 0.02366953     \n",
       "152 0.00080000 2.477704e+13 0.03574314     \n",
       "153 0.00120000 2.521549e+13 0.01769594     \n",
       "154 0.00770000 2.580579e+13 0.02341021     \n",
       "155 0.02190000 2.627201e+13 0.01806649     \n",
       "156 0.03653333 2.673428e+13 0.01759538     \n",
       "157 0.04516667 2.716436e+13 0.01608729     \n",
       "158 0.04990000 2.745382e+13 0.01065573     \n",
       "159 0.05260000 2.796770e+13 0.01871805     \n",
       "160 0.05330000 2.829697e+13 0.01177323     \n",
       "161 0.05330000 2.862407e+13 0.01155961     \n",
       "162 0.05330000 2.901671e+13 0.01371730     "
      ]
     },
     "metadata": {},
     "output_type": "display_data"
    }
   ],
   "source": [
    "# Step 1: Split Data between training and test data\n",
    "train_data_2 <- deposit_regr\n",
    "\n",
    "\n",
    "\n",
    "\n",
    "time_as_date <= \"2020-12-31\", ]  # Training data: 1984 Q1 to 2020 Q4\n",
    "test_data_2 <- deposit_regressor_data[deposit_regressor_data$time_as_date > \"2020-12-31\", ]  # Testing data: 2021 Q1 to 2024 Q2\n",
    "\n",
    "# Check\n",
    "#View(train_data_2)\n",
    "View(test_data_2)"
   ]
  },
  {
   "cell_type": "code",
   "execution_count": 117,
   "metadata": {
    "vscode": {
     "languageId": "r"
    }
   },
   "outputs": [],
   "source": [
    "# Step 2: Prepare data for prophet to work\n",
    "\n",
    "# you have to rename them as ds and y for prophet to work and it will automatically ignore all other columns ==> RULE\n",
    "train_data_2$ds <- as.Date(train_data_2$time_as_date)\n",
    "train_data_2$y <- train_data_2$deposits\n",
    "\n",
    "test_data_2$ds <- as.Date(test_data$time_as_date)\n",
    "test_data_2$y <- test_data_2$deposits"
   ]
  },
  {
   "cell_type": "code",
   "execution_count": 118,
   "metadata": {
    "vscode": {
     "languageId": "r"
    }
   },
   "outputs": [
    {
     "name": "stderr",
     "output_type": "stream",
     "text": [
      "Disabling weekly seasonality. Run prophet with weekly.seasonality=TRUE to override this.\n",
      "\n",
      "Disabling daily seasonality. Run prophet with daily.seasonality=TRUE to override this.\n",
      "\n"
     ]
    }
   ],
   "source": [
    "# Step 3: Initialize the model by adding on regressors and Fit Prophet\n",
    "\n",
    "# Initialize the model\n",
    "\n",
    "prophet_model_2 <- prophet(changepoints = c(\"2008-01-01\")) %>%\n",
    "  add_regressor('GDP') %>%\n",
    "  add_regressor('unemployment_rate')\n",
    "\n",
    "# Step 2: Fit the model: Training the model\n",
    "prophet_model_2 <- fit.prophet(prophet_model_2, train_data_2) # syntax"
   ]
  },
  {
   "cell_type": "code",
   "execution_count": null,
   "metadata": {
    "vscode": {
     "languageId": "r"
    }
   },
   "outputs": [],
   "source": [
    "# Step 4: Create a future dataframe\n",
    "future_train_data_2 <- make_future_dataframe(prophet_model_2, periods = 33, freq = \"quarter\") # start counting from the end of the training data: 2020 Q4 to 2028 Q1\n",
    "#future_train_data # The output of make_future_dataframe() will include both the training data dates and the newly created future dates.future_train_data_2"
   ]
  },
  {
   "cell_type": "code",
   "execution_count": 120,
   "metadata": {
    "vscode": {
     "languageId": "r"
    }
   },
   "outputs": [
    {
     "ename": "ERROR",
     "evalue": "Error in setup_dataframe(object, df): Regressor \"GDP\" missing from dataframe\n",
     "output_type": "error",
     "traceback": [
      "Error in setup_dataframe(object, df): Regressor \"GDP\" missing from dataframe\nTraceback:\n",
      "1. predict.prophet(prophet_model_2, future_train_data_2)",
      "2. setup_dataframe(object, df)",
      "3. stop(\"Regressor \\\"\", name, \"\\\" missing from dataframe\")",
      "4. .handleSimpleError(function (cnd) \n . {\n .     watcher$capture_plot_and_output()\n .     cnd <- sanitize_call(cnd)\n .     watcher$push(cnd)\n .     switch(on_error, continue = invokeRestart(\"eval_continue\"), \n .         stop = invokeRestart(\"eval_stop\"), error = invokeRestart(\"eval_error\", \n .             cnd))\n . }, \"Regressor \\\"GDP\\\" missing from dataframe\", base::quote(setup_dataframe(object, \n .     df)))"
     ]
    }
   ],
   "source": [
    "# Step 5: Predict Future Values\n",
    "prediction_train_data_2 <- predict(prophet_model_2, future_train_data_2)"
   ]
  },
  {
   "cell_type": "code",
   "execution_count": null,
   "metadata": {
    "vscode": {
     "languageId": "r"
    }
   },
   "outputs": [],
   "source": [
    "# Load required library\n",
    "library(prophet)\n",
    "\n",
    "# Step 1: Prepare your data (include `ds`, `y`, and regressors)\n",
    "prophet_data <- data.frame(\n",
    "  ds = your_data$time,               # Date column\n",
    "  y = your_data$deposits,            # Target variable (deposit levels)\n",
    "  GDP = your_data$GDP,               # GDP regressor\n",
    "  unemployment_rate = your_data$unemployment_rate  # Unemployment rate regressor\n",
    ")\n",
    "\n",
    "# Step 2: Initialize the Prophet model and add regressors\n",
    "prophet_model <- prophet() %>%\n",
    "  add_regressor('GDP') %>%\n",
    "  add_regressor('unemployment_rate')\n",
    "\n",
    "# Step 3: Fit the model\n",
    "prophet_model <- fit.prophet(prophet_model, prophet_data)\n",
    "\n",
    "# Step 4: Prepare future dataframe with regressors for prediction\n",
    "future <- make_future_dataframe(prophet_model, periods = 12, freq = 'quarter')\n",
    "\n",
    "# Add future values of regressors (ensure these match the timeline)\n",
    "future$GDP <- future_gdp_values           # Add your predicted/known GDP values\n",
    "future$unemployment_rate <- future_unemployment_values  # Add unemployment rate values\n",
    "\n",
    "# Step 5: Predict using the model\n",
    "forecast <- predict(prophet_model, future)\n",
    "\n",
    "# View the forecast\n",
    "print(forecast)\n",
    "\n",
    "# Step 6: Visualize the forecast\n",
    "plot(prophet_model, forecast) +\n",
    "  add_changepoints_to_plot(prophet_model)\n"
   ]
  }
 ],
 "metadata": {
  "kernelspec": {
   "display_name": "R",
   "language": "R",
   "name": "ir"
  },
  "language_info": {
   "codemirror_mode": "r",
   "file_extension": ".r",
   "mimetype": "text/x-r-source",
   "name": "R",
   "pygments_lexer": "r",
   "version": "3.6.3"
  }
 },
 "nbformat": 4,
 "nbformat_minor": 2
}
