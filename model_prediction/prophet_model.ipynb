{
 "cells": [
  {
   "cell_type": "markdown",
   "metadata": {},
   "source": [
    "## Load Libaries and Import necessary dataset"
   ]
  },
  {
   "cell_type": "code",
   "execution_count": 2,
   "metadata": {
    "vscode": {
     "languageId": "r"
    }
   },
   "outputs": [],
   "source": [
    "# install.packages(c(\"Rcpp\", \"rstan\"))\n",
    "# install.packages(\"prophet\")"
   ]
  },
  {
   "cell_type": "code",
   "execution_count": null,
   "metadata": {
    "vscode": {
     "languageId": "r"
    }
   },
   "outputs": [
    {
     "name": "stderr",
     "output_type": "stream",
     "text": [
      "Installing package into ‘/home/codespace/R/x86_64-pc-linux-gnu-library/3.6’\n",
      "(as ‘lib’ is unspecified)\n",
      "\n"
     ]
    },
    {
     "name": "stderr",
     "output_type": "stream",
     "text": [
      "Installing package into ‘/home/codespace/R/x86_64-pc-linux-gnu-library/3.6’\n",
      "(as ‘lib’ is unspecified)\n",
      "\n",
      "Warning message:\n",
      "“dependency ‘gtable’ is not available”\n",
      "Warning message in install.packages(\"ggplot2\"):\n",
      "“installation of package ‘ggplot2’ had non-zero exit status”\n"
     ]
    },
    {
     "ename": "ERROR",
     "evalue": "Error in library(ggplot2): there is no package called ‘ggplot2’\n",
     "output_type": "error",
     "traceback": [
      "Error in library(ggplot2): there is no package called ‘ggplot2’\nTraceback:\n",
      "1. stop(packageNotFoundError(package, lib.loc, sys.call()))"
     ]
    }
   ],
   "source": [
    "# Load required libraries\n",
    "library(readxl)\n",
    "library(dplyr)\n",
    "library(Rcpp)\n",
    "# library(rstan)\n",
    "# library(prophet)\n",
    "install.packages(\"gt\")\n",
    "library(\"gt\")\n",
    "install.packages(\"ggplot2\")\n",
    "library(ggplot2)\n"
   ]
  },
  {
   "cell_type": "code",
   "execution_count": null,
   "metadata": {
    "vscode": {
     "languageId": "r"
    }
   },
   "outputs": [],
   "source": [
    "\n",
    "# Extract deposit_levels to use it in this file\n",
    "deposit_levels <- readRDS(\"/workspaces/DUKE_MIDS_QFC_Final_Project/data_cleaning/deposit_levels.rds\") # Load the data\n"
   ]
  },
  {
   "cell_type": "markdown",
   "metadata": {},
   "source": [
    "## Data Exploration for Prophet Assumption"
   ]
  },
  {
   "cell_type": "code",
   "execution_count": null,
   "metadata": {
    "vscode": {
     "languageId": "r"
    }
   },
   "outputs": [
    {
     "name": "stdout",
     "output_type": "stream",
     "text": [
      "Rows: 162\n",
      "Columns: 4\n",
      "$ time     \u001b[3m\u001b[90m<chr>\u001b[39m\u001b[23m \"1984Q1\", \"1984Q2\", \"1984Q3\", \"1984Q4\", \"1985Q1\", \"1985Q2\", \"…\n",
      "$ year     \u001b[3m\u001b[90m<dbl>\u001b[39m\u001b[23m 1984, 1984, 1984, 1984, 1985, 1985, 1985, 1985, 1986, 1986, 1…\n",
      "$ quarter  \u001b[3m\u001b[90m<dbl>\u001b[39m\u001b[23m 1, 2, 3, 4, 1, 2, 3, 4, 1, 2, 3, 4, 1, 2, 3, 4, 1, 2, 3, 4, 1…\n",
      "$ deposits \u001b[3m\u001b[90m<chr>\u001b[39m\u001b[23m \"22917.257000000001\", \"23575.191999999999\", \"24308.965\", \"249…\n"
     ]
    }
   ],
   "source": [
    "glimpse(deposit_levels)"
   ]
  },
  {
   "cell_type": "markdown",
   "metadata": {},
   "source": [
    "### Data Regularity and Sufficient Historical Data Expectation"
   ]
  },
  {
   "cell_type": "code",
   "execution_count": null,
   "metadata": {
    "vscode": {
     "languageId": "r"
    }
   },
   "outputs": [
    {
     "data": {
      "text/html": [
       "FALSE"
      ],
      "text/latex": [
       "FALSE"
      ],
      "text/markdown": [
       "FALSE"
      ],
      "text/plain": [
       "[1] FALSE"
      ]
     },
     "metadata": {},
     "output_type": "display_data"
    }
   ],
   "source": [
    "any(is.na(deposit_levels)) # no missing values"
   ]
  },
  {
   "cell_type": "markdown",
   "metadata": {},
   "source": [
    "> The time series has regular quaterly intervals and no missing values so the data regurlarity expectation is satified. \n",
    "\n",
    "> It also has decades worth of data so the \"sufficient historical data\" expectation is satisfied. "
   ]
  },
  {
   "cell_type": "markdown",
   "metadata": {},
   "source": [
    "### Presence of Trend Expectation"
   ]
  },
  {
   "cell_type": "code",
   "execution_count": null,
   "metadata": {
    "vscode": {
     "languageId": "r"
    }
   },
   "outputs": [
    {
     "ename": "ERROR",
     "evalue": "Error in library(ggplot2): there is no package called ‘ggplot2’\n",
     "output_type": "error",
     "traceback": [
      "Error in library(ggplot2): there is no package called ‘ggplot2’\nTraceback:\n",
      "1. stop(packageNotFoundError(package, lib.loc, sys.call()))"
     ]
    }
   ],
   "source": [
    "library(ggplot2)\n",
    "\n",
    "ggplot(deposit_levels, aes(x = as.Date(paste0(year, \"-Q\", quarter, \"-01\"), format = \"%Y-Q%q-%d\"), y = as.numeric(deposits))) +\n",
    "  geom_line(color = \"blue\") +\n",
    "  labs(title = \"Quarterly Deposit Levels\", x = \"Date\", y = \"Deposits\") +\n",
    "  theme_minimal()\n"
   ]
  },
  {
   "cell_type": "markdown",
   "metadata": {},
   "source": [
    "### Outliers"
   ]
  },
  {
   "cell_type": "markdown",
   "metadata": {},
   "source": [
    "### Seasonality"
   ]
  },
  {
   "cell_type": "markdown",
   "metadata": {},
   "source": [
    "## Model Fit"
   ]
  },
  {
   "cell_type": "code",
   "execution_count": null,
   "metadata": {
    "vscode": {
     "languageId": "r"
    }
   },
   "outputs": [
    {
     "name": "stderr",
     "output_type": "stream",
     "text": [
      "\n",
      "Attaching package: ‘dplyr’\n",
      "\n",
      "\n",
      "The following objects are masked from ‘package:stats’:\n",
      "\n",
      "    filter, lag\n",
      "\n",
      "\n",
      "The following objects are masked from ‘package:base’:\n",
      "\n",
      "    intersect, setdiff, setequal, union\n",
      "\n",
      "\n"
     ]
    },
    {
     "ename": "ERROR",
     "evalue": "Error in mutate(., ds = as.Date(paste0(year, \"-Q\", quarter, \"-01\"), format = \"%Y-Q%q-%d\"), : object 'deposit_levels' not found\n",
     "output_type": "error",
     "traceback": [
      "Error in mutate(., ds = as.Date(paste0(year, \"-Q\", quarter, \"-01\"), format = \"%Y-Q%q-%d\"), : object 'deposit_levels' not found\nTraceback:\n",
      "1. select(., ds, y)",
      "2. mutate(., ds = as.Date(paste0(year, \"-Q\", quarter, \"-01\"), format = \"%Y-Q%q-%d\"), \n .     y = as.numeric(deposits))",
      "3. .handleSimpleError(function (cnd) \n . {\n .     watcher$capture_plot_and_output()\n .     cnd <- sanitize_call(cnd)\n .     watcher$push(cnd)\n .     switch(on_error, continue = invokeRestart(\"eval_continue\"), \n .         stop = invokeRestart(\"eval_stop\"), error = invokeRestart(\"eval_error\", \n .             cnd))\n . }, \"object 'deposit_levels' not found\", base::quote(mutate(., \n .     ds = as.Date(paste0(year, \"-Q\", quarter, \"-01\"), format = \"%Y-Q%q-%d\"), \n .     y = as.numeric(deposits))))"
     ]
    }
   ],
   "source": [
    "library(dplyr)\n",
    "\n",
    "# Convert the data into Prophet's format\n",
    "deposit_levels <- deposit_levels %>%\n",
    "  mutate(\n",
    "    ds = as.Date(paste0(year, \"-Q\", quarter, \"-01\"), format = \"%Y-Q%q-%d\"), # Convert year/quarter to date\n",
    "    y = as.numeric(deposits) # Ensure deposits are numeric\n",
    "  ) %>%\n",
    "  select(ds, y)\n",
    "glimpse(deposit_levels)"
   ]
  }
 ],
 "metadata": {
  "kernelspec": {
   "display_name": "R",
   "language": "R",
   "name": "ir"
  },
  "language_info": {
   "codemirror_mode": "r",
   "file_extension": ".r",
   "mimetype": "text/x-r-source",
   "name": "R",
   "pygments_lexer": "r",
   "version": "3.6.3"
  }
 },
 "nbformat": 4,
 "nbformat_minor": 2
}
