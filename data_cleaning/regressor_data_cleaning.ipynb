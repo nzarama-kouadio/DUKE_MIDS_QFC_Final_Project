{
 "cells": [
  {
   "cell_type": "markdown",
   "metadata": {},
   "source": [
    "# Load Libraries"
   ]
  },
  {
   "cell_type": "code",
   "execution_count": 146,
   "metadata": {
    "vscode": {
     "languageId": "r"
    }
   },
   "outputs": [],
   "source": [
    "# Load libraries\n",
    "library(readxl)\n",
    "library(dplyr)\n",
    "library(readr)"
   ]
  },
  {
   "cell_type": "markdown",
   "metadata": {},
   "source": [
    "# Part 1: Clean Population Data"
   ]
  },
  {
   "cell_type": "code",
   "execution_count": 147,
   "metadata": {
    "vscode": {
     "languageId": "r"
    }
   },
   "outputs": [
    {
     "name": "stdout",
     "output_type": "stream",
     "text": [
      "Rows: 264\n",
      "Columns: 2\n",
      "$ DATE   \u001b[3m\u001b[90m<fct>\u001b[39m\u001b[23m 1959-01-01, 1959-04-01, 1959-07-01, 1959-10-01, 1960-01-01, 196…\n",
      "$ POPTHM \u001b[3m\u001b[90m<fct>\u001b[39m\u001b[23m 176045.333333333333, 176726.666666666667, 177480.666666666667, …\n"
     ]
    }
   ],
   "source": [
    "pop_raw <- read.csv(\"/workspaces/DUKE_MIDS_QFC_Final_Project/dataset/population.csv\")\n",
    "glimpse(pop_raw)"
   ]
  },
  {
   "cell_type": "code",
   "execution_count": 148,
   "metadata": {
    "vscode": {
     "languageId": "r"
    }
   },
   "outputs": [
    {
     "data": {
      "text/html": [
       "0"
      ],
      "text/latex": [
       "0"
      ],
      "text/markdown": [
       "0"
      ],
      "text/plain": [
       "[1] 0"
      ]
     },
     "metadata": {},
     "output_type": "display_data"
    }
   ],
   "source": [
    "sum(is.na(pop_raw$POPTHM))"
   ]
  },
  {
   "cell_type": "code",
   "execution_count": 149,
   "metadata": {
    "vscode": {
     "languageId": "r"
    }
   },
   "outputs": [
    {
     "name": "stderr",
     "output_type": "stream",
     "text": [
      "Warning message:\n",
      "“NAs introduced by coercion”\n"
     ]
    }
   ],
   "source": [
    "# Creating new column population\n",
    "pop_raw$population <- pop_raw$POPTHM\n",
    "\n",
    "# Making column pop into a numeric\n",
    "pop_raw$population <- as.numeric(as.character(pop_raw$POPTHM))\n",
    "\n",
    "# Converting pop into the right unit by multiplything by 1000\n",
    "pop_raw$population <- pop_raw$population * 1000"
   ]
  },
  {
   "cell_type": "code",
   "execution_count": 150,
   "metadata": {
    "vscode": {
     "languageId": "r"
    }
   },
   "outputs": [],
   "source": [
    "# Time as a date\n",
    "pop_raw$DATE <- as.character(pop_raw$DATE)\n",
    "pop_raw$time_as_date <- as.Date(pop_raw$DATE, format = \"%Y-%m-%d\")\n",
    "\n",
    "# Time as numeric (used in certain regression models or methods)\n",
    "pop_raw$time_as_numeric <- as.numeric(pop_raw$time_as_date)"
   ]
  },
  {
   "cell_type": "code",
   "execution_count": 151,
   "metadata": {
    "vscode": {
     "languageId": "r"
    }
   },
   "outputs": [
    {
     "name": "stdout",
     "output_type": "stream",
     "text": [
      "Rows: 162\n",
      "Columns: 3\n",
      "$ time_as_date    \u001b[3m\u001b[90m<date>\u001b[39m\u001b[23m 1984-01-01, 1984-04-01, 1984-07-01, 1984-10-01, 1985-…\n",
      "$ time_as_numeric \u001b[3m\u001b[90m<dbl>\u001b[39m\u001b[23m 5113, 5204, 5295, 5387, 5479, 5569, 5660, 5752, 5844, …\n",
      "$ population      \u001b[3m\u001b[90m<dbl>\u001b[39m\u001b[23m 235604667, 236082333, 236657333, 237232667, 237672667,…\n"
     ]
    },
    {
     "data": {
      "text/html": [
       "0"
      ],
      "text/latex": [
       "0"
      ],
      "text/markdown": [
       "0"
      ],
      "text/plain": [
       "[1] 0"
      ]
     },
     "metadata": {},
     "output_type": "display_data"
    }
   ],
   "source": [
    "# Filter data between 1984-01-01 and 2024-04-01\n",
    "pop_raw <- pop_raw[pop_raw$time_as_date >= as.Date(\"1984-01-01\") & pop_raw$time_as_date <= as.Date(\"2024-04-01\"), ]\n",
    "\n",
    "# Keep only the relevant columns\n",
    "columns_to_keep <- c(\"time_as_date\", \"time_as_numeric\", \"population\")\n",
    "pop_filtered <- pop_raw[, columns_to_keep]\n",
    "\n",
    "# Check\n",
    "glimpse(pop_filtered)\n",
    "sum(is.na(pop_filtered))"
   ]
  },
  {
   "cell_type": "markdown",
   "metadata": {},
   "source": [
    "# Part 2: Clean Unemployment Rate"
   ]
  },
  {
   "cell_type": "code",
   "execution_count": 152,
   "metadata": {
    "vscode": {
     "languageId": "r"
    }
   },
   "outputs": [
    {
     "name": "stdout",
     "output_type": "stream",
     "text": [
      "Rows: 308\n",
      "Columns: 2\n",
      "$ DATE   \u001b[3m\u001b[90m<fct>\u001b[39m\u001b[23m 1948-01-01, 1948-04-01, 1948-07-01, 1948-10-01, 1949-01-01, 194…\n",
      "$ UNRATE \u001b[3m\u001b[90m<fct>\u001b[39m\u001b[23m 3.7333333333333333, 3.6666666666666667, 3.7666666666666667, 3.8…\n"
     ]
    }
   ],
   "source": [
    "unemployment_rate_raw <- read.csv(\"/workspaces/DUKE_MIDS_QFC_Final_Project/dataset/unemployement_rate.csv\")\n",
    "glimpse(unemployment_rate_raw)"
   ]
  },
  {
   "cell_type": "code",
   "execution_count": 153,
   "metadata": {
    "vscode": {
     "languageId": "r"
    }
   },
   "outputs": [
    {
     "name": "stderr",
     "output_type": "stream",
     "text": [
      "Warning message:\n",
      "“NAs introduced by coercion”\n"
     ]
    },
    {
     "name": "stdout",
     "output_type": "stream",
     "text": [
      "Rows: 162\n",
      "Columns: 3\n",
      "$ time_as_date    \u001b[3m\u001b[90m<date>\u001b[39m\u001b[23m 1984-01-01, 1984-04-01, 1984-07-01, 1984-10-01, 1985-…\n",
      "$ time_as_numeric \u001b[3m\u001b[90m<dbl>\u001b[39m\u001b[23m 5113, 5204, 5295, 5387, 5479, 5569, 5660, 5752, 5844, …\n",
      "$ rate            \u001b[3m\u001b[90m<dbl>\u001b[39m\u001b[23m 0.07866667, 0.07433333, 0.07433333, 0.07300000, 0.0723…\n"
     ]
    },
    {
     "data": {
      "text/html": [
       "0"
      ],
      "text/latex": [
       "0"
      ],
      "text/markdown": [
       "0"
      ],
      "text/plain": [
       "[1] 0"
      ]
     },
     "metadata": {},
     "output_type": "display_data"
    }
   ],
   "source": [
    "# Creating new column for rate\n",
    "unemployment_rate_raw$rate <- unemployment_rate_raw$UNRATE\n",
    "\n",
    "# Making column pop into a numeric\n",
    "unemployment_rate_raw$rate <- as.numeric(as.character(unemployment_rate_raw$UNRATE))\n",
    "\n",
    "# Converting pop into a decima since it's in percentage \n",
    "unemployment_rate_raw$rate <- unemployment_rate_raw$rate / 100\n",
    "\n",
    "# Time as a date\n",
    "unemployment_rate_raw$DATE <- as.character(unemployment_rate_raw$DATE)\n",
    "unemployment_rate_raw$time_as_date <- as.Date(unemployment_rate_raw$DATE, format = \"%Y-%m-%d\")\n",
    "\n",
    "# Time as numeric (used in certain regression models or methods)\n",
    "unemployment_rate_raw$time_as_numeric <- as.numeric(unemployment_rate_raw$time_as_date)\n",
    "\n",
    "# Filter data between 1984-01-01 and 2024-04-01\n",
    "unemployment_rate_raw <- unemployment_rate_raw[unemployment_rate_raw$time_as_date >= as.Date(\"1984-01-01\") & unemployment_rate_raw$time_as_date <= as.Date(\"2024-04-01\"), ]\n",
    "\n",
    "# Keep only the relevant columns\n",
    "columns_to_keep <- c(\"time_as_date\", \"time_as_numeric\", \"rate\")\n",
    "unemployment_rate_filtered <- unemployment_rate_raw[, columns_to_keep]\n",
    "\n",
    "# Check\n",
    "glimpse(unemployment_rate_filtered)\n",
    "sum(is.na(unemployment_rate_filtered))"
   ]
  },
  {
   "cell_type": "markdown",
   "metadata": {},
   "source": [
    "# Part 3: Clean Consumer Price Index"
   ]
  },
  {
   "cell_type": "code",
   "execution_count": 154,
   "metadata": {
    "vscode": {
     "languageId": "r"
    }
   },
   "outputs": [
    {
     "name": "stdout",
     "output_type": "stream",
     "text": [
      "Rows: 276\n",
      "Columns: 2\n",
      "$ DATE            \u001b[3m\u001b[90m<fct>\u001b[39m\u001b[23m 1955-04-01, 1955-07-01, 1955-10-01, 1956-01-01, 1956-0…\n",
      "$ CPALTT01USQ657N \u001b[3m\u001b[90m<dbl>\u001b[39m\u001b[23m 0.0000000, 0.4993758, 0.1242236, -0.2481390, 0.8706468…\n"
     ]
    }
   ],
   "source": [
    "CPI_raw <- read.csv(\"/workspaces/DUKE_MIDS_QFC_Final_Project/dataset/consumer_price_index.csv\")\n",
    "glimpse(CPI_raw)"
   ]
  },
  {
   "cell_type": "code",
   "execution_count": 155,
   "metadata": {
    "vscode": {
     "languageId": "r"
    }
   },
   "outputs": [
    {
     "name": "stdout",
     "output_type": "stream",
     "text": [
      "Rows: 162\n",
      "Columns: 3\n",
      "$ time_as_date       \u001b[3m\u001b[90m<date>\u001b[39m\u001b[23m 1984-01-01, 1984-04-01, 1984-07-01, 1984-10-01, 19…\n",
      "$ time_as_numeric    \u001b[3m\u001b[90m<dbl>\u001b[39m\u001b[23m 5113, 5204, 5295, 5387, 5479, 5569, 5660, 5752, 584…\n",
      "$ ConsumerPriceIndex \u001b[3m\u001b[90m<dbl>\u001b[39m\u001b[23m 1.1202636, 1.0752688, 1.0960671, 0.7334184, 0.63311…\n"
     ]
    },
    {
     "data": {
      "text/html": [
       "0"
      ],
      "text/latex": [
       "0"
      ],
      "text/markdown": [
       "0"
      ],
      "text/plain": [
       "[1] 0"
      ]
     },
     "metadata": {},
     "output_type": "display_data"
    }
   ],
   "source": [
    "# Convert ConsumerPriceIndex into a numeric column\n",
    "CPI_raw$ConsumerPriceIndex <- as.numeric(as.character(CPI_raw$CPALTT01USQ657N))\n",
    "\n",
    "# Convert DATE column to a Date format\n",
    "CPI_raw$DATE <- as.character(CPI_raw$DATE)\n",
    "CPI_raw$time_as_date <- as.Date(CPI_raw$DATE, format = \"%Y-%m-%d\")\n",
    "\n",
    "# Convert time_as_date to numeric for modeling purposes\n",
    "CPI_raw$time_as_numeric <- as.numeric(CPI_raw$time_as_date)\n",
    "\n",
    "# Filter data to include only rows between 1984-01-01 and 2024-04-01\n",
    "CPI_raw <- CPI_raw[CPI_raw$time_as_date >= as.Date(\"1984-01-01\") & \n",
    "                     CPI_raw$time_as_date <= as.Date(\"2024-04-01\"), ]\n",
    "\n",
    "# Keep only the relevant columns\n",
    "columns_to_keep <- c(\"time_as_date\", \"time_as_numeric\", \"ConsumerPriceIndex\")\n",
    "CPI_filtered <- CPI_raw[, columns_to_keep]\n",
    "\n",
    "# Handle the missing ConsumerPriceIndex for 2024-04-01 ==> will just put the last value as that one\n",
    "# Get the last available ConsumerPriceIndex value\n",
    "last_value <- tail(CPI_filtered$ConsumerPriceIndex, 1)\n",
    "\n",
    "# Create a new row for 2024-04-01 using the last available value\n",
    "new_row <- data.frame(\n",
    "  time_as_date = as.Date(\"2024-04-01\"),\n",
    "  time_as_numeric = max(CPI_filtered$time_as_numeric, na.rm = TRUE) + 1, # Next numeric value\n",
    "  ConsumerPriceIndex = last_value\n",
    ")\n",
    "\n",
    "# Append the new row to the filtered dataset\n",
    "CPI_filtered <- rbind(CPI_filtered, new_row)\n",
    "\n",
    "# Check the updated dataset\n",
    "glimpse(CPI_filtered)\n",
    "sum(is.na(CPI_filtered))\n"
   ]
  },
  {
   "cell_type": "markdown",
   "metadata": {},
   "source": [
    "# Part 4: Disposable Personal Income"
   ]
  },
  {
   "cell_type": "code",
   "execution_count": 156,
   "metadata": {
    "vscode": {
     "languageId": "r"
    }
   },
   "outputs": [
    {
     "name": "stdout",
     "output_type": "stream",
     "text": [
      "Rows: 260\n",
      "Columns: 2\n",
      "$ DATE     \u001b[3m\u001b[90m<fct>\u001b[39m\u001b[23m 1960-01-01, 1960-04-01, 1960-07-01, 1960-10-01, 1961-01-01, 1…\n",
      "$ DSPI_PC1 \u001b[3m\u001b[90m<fct>\u001b[39m\u001b[23m 5.13401, 4.26418, 4.34502, 3.47304, 3.31239, 3.64620, 4.81694…\n"
     ]
    }
   ],
   "source": [
    "disposable_income_raw <- read.csv(\"/workspaces/DUKE_MIDS_QFC_Final_Project/dataset/disposable_personal_income.csv\")\n",
    "glimpse(disposable_income_raw)\n",
    "# https://fred.stlouisfed.org/series/DSPI"
   ]
  },
  {
   "cell_type": "code",
   "execution_count": 157,
   "metadata": {
    "vscode": {
     "languageId": "r"
    }
   },
   "outputs": [
    {
     "name": "stderr",
     "output_type": "stream",
     "text": [
      "Warning message:\n",
      "“NAs introduced by coercion”\n"
     ]
    },
    {
     "name": "stdout",
     "output_type": "stream",
     "text": [
      "Rows: 162\n",
      "Columns: 3\n",
      "$ time_as_date             \u001b[3m\u001b[90m<date>\u001b[39m\u001b[23m 1984-01-01, 1984-04-01, 1984-07-01, 1984-10-…\n",
      "$ time_as_numeric          \u001b[3m\u001b[90m<dbl>\u001b[39m\u001b[23m 5113, 5204, 5295, 5387, 5479, 5569, 5660, 575…\n",
      "$ DisposablePersonalIncome \u001b[3m\u001b[90m<dbl>\u001b[39m\u001b[23m 10729270000, 11779660000, 10982020000, 947008…\n"
     ]
    },
    {
     "data": {
      "text/html": [
       "0"
      ],
      "text/latex": [
       "0"
      ],
      "text/markdown": [
       "0"
      ],
      "text/plain": [
       "[1] 0"
      ]
     },
     "metadata": {},
     "output_type": "display_data"
    }
   ],
   "source": [
    "# Creating new column for disposable personal income\n",
    "disposable_income_raw$DisposablePersonalIncome <- disposable_income_raw$DSPI_PC1\n",
    "\n",
    "# Making column disposable personal income numeric\n",
    "disposable_income_raw$DisposablePersonalIncome <- as.numeric(as.character(disposable_income_raw$DSPI_PC1))\n",
    "\n",
    "# Converting dis income into true unites it is in trillions so multiply by billions\n",
    "disposable_income_raw$DisposablePersonalIncome <- disposable_income_raw$DisposablePersonalIncome * 1000000000\n",
    "\n",
    "# Time as a date\n",
    "disposable_income_raw$DATE <- as.character(disposable_income_raw$DATE)\n",
    "disposable_income_raw$time_as_date <- as.Date(disposable_income_raw$DATE, format = \"%Y-%m-%d\")\n",
    "\n",
    "# Time as numeric (used in certain regression models or methods)\n",
    "disposable_income_raw$time_as_numeric <- as.numeric(disposable_income_raw$time_as_date)\n",
    "\n",
    "# Filter data between 1984-01-01 and 2024-04-01\n",
    "disposable_income_raw <- disposable_income_raw[disposable_income_raw$time_as_date >= as.Date(\"1984-01-01\") & disposable_income_raw$time_as_date <= as.Date(\"2024-04-01\"), ]\n",
    "\n",
    "# Keep only the relevant columns\n",
    "columns_to_keep <- c(\"time_as_date\", \"time_as_numeric\", \"DisposablePersonalIncome\")\n",
    "disposable_income_filtered <- disposable_income_raw[, columns_to_keep]\n",
    "\n",
    "# Check\n",
    "glimpse(disposable_income_filtered)\n",
    "sum(is.na(disposable_income_filtered))"
   ]
  },
  {
   "cell_type": "markdown",
   "metadata": {},
   "source": [
    "# Part 5: Cleaing 10 Year Treasury Yield"
   ]
  },
  {
   "cell_type": "code",
   "execution_count": 158,
   "metadata": {
    "vscode": {
     "languageId": "r"
    }
   },
   "outputs": [
    {
     "name": "stdout",
     "output_type": "stream",
     "text": [
      "Rows: 286\n",
      "Columns: 2\n",
      "$ DATE            \u001b[3m\u001b[90m<fct>\u001b[39m\u001b[23m 1953-04-01, 1953-07-01, 1953-10-01, 1954-01-01, 1954-0…\n",
      "$ IRLTLT01USQ156N \u001b[3m\u001b[90m<dbl>\u001b[39m\u001b[23m 2.996667, 2.916667, 2.643333, 2.440000, 2.346667, 2.34…\n"
     ]
    }
   ],
   "source": [
    "treasury_yield_raw <- read.csv(\"/workspaces/DUKE_MIDS_QFC_Final_Project/dataset/10_year_treasury_yield.csv\")\n",
    "glimpse(treasury_yield_raw)"
   ]
  },
  {
   "cell_type": "code",
   "execution_count": 159,
   "metadata": {
    "vscode": {
     "languageId": "r"
    }
   },
   "outputs": [
    {
     "name": "stdout",
     "output_type": "stream",
     "text": [
      "Rows: 162\n",
      "Columns: 3\n",
      "$ time_as_date    \u001b[3m\u001b[90m<date>\u001b[39m\u001b[23m 1984-01-01, 1984-04-01, 1984-07-01, 1984-10-01, 1985-…\n",
      "$ time_as_numeric \u001b[3m\u001b[90m<dbl>\u001b[39m\u001b[23m 5113, 5204, 5295, 5387, 5479, 5569, 5660, 5752, 5844, …\n",
      "$ Yield           \u001b[3m\u001b[90m<dbl>\u001b[39m\u001b[23m 0.11943333, 0.13200000, 0.12866667, 0.11743333, 0.1158…\n"
     ]
    },
    {
     "data": {
      "text/html": [
       "0"
      ],
      "text/latex": [
       "0"
      ],
      "text/markdown": [
       "0"
      ],
      "text/plain": [
       "[1] 0"
      ]
     },
     "metadata": {},
     "output_type": "display_data"
    }
   ],
   "source": [
    "# Creating new column for yield\n",
    "treasury_yield_raw$Yield <- treasury_yield_raw$IRLTLT01USQ156N\n",
    "\n",
    "# Making column yield numeric\n",
    "treasury_yield_raw$Yield <- as.numeric(as.character(treasury_yield_raw$IRLTLT01USQ156N))\n",
    "\n",
    "# Converting dis income into true unites by making it a decimal\n",
    "treasury_yield_raw$Yield <- treasury_yield_raw$Yield / 100\n",
    "\n",
    "# Time as a date\n",
    "treasury_yield_raw$DATE <- as.character(treasury_yield_raw$DATE)\n",
    "treasury_yield_raw$time_as_date <- as.Date(treasury_yield_raw$DATE, format = \"%Y-%m-%d\")\n",
    "\n",
    "# Time as numeric (used in certain regression models or methods)\n",
    "treasury_yield_raw$time_as_numeric <- as.numeric(treasury_yield_raw$time_as_date)\n",
    "\n",
    "# Filter data between 1984-01-01 and 2024-04-01\n",
    "treasury_yield_raw <- treasury_yield_raw[treasury_yield_raw$time_as_date >= as.Date(\"1984-01-01\") & treasury_yield_raw$time_as_date <= as.Date(\"2024-04-01\"), ]\n",
    "\n",
    "# Keep only the relevant columns\n",
    "columns_to_keep <- c(\"time_as_date\", \"time_as_numeric\", \"Yield\")\n",
    "treasury_yield_filtered <- treasury_yield_raw[, columns_to_keep]\n",
    "\n",
    "# Check\n",
    "glimpse(treasury_yield_filtered)\n",
    "sum(is.na(treasury_yield_filtered))"
   ]
  },
  {
   "cell_type": "markdown",
   "metadata": {},
   "source": [
    "# Part 6: Clean Fed Funds Rate Data"
   ]
  },
  {
   "cell_type": "code",
   "execution_count": 160,
   "metadata": {
    "vscode": {
     "languageId": "r"
    }
   },
   "outputs": [
    {
     "name": "stdout",
     "output_type": "stream",
     "text": [
      "Rows: 282\n",
      "Columns: 2\n",
      "$ DATE     \u001b[3m\u001b[90m<fct>\u001b[39m\u001b[23m 1954-07-01, 1954-10-01, 1955-01-01, 1955-04-01, 1955-07-01, 1…\n",
      "$ FEDFUNDS \u001b[3m\u001b[90m<fct>\u001b[39m\u001b[23m 1.03000000000000000000, 0.98666666666666666667, 1.34333333333…\n"
     ]
    }
   ],
   "source": [
    "fed_rate_raw <- read.csv(\"/workspaces/DUKE_MIDS_QFC_Final_Project/dataset/fed_funds_rate.csv\")\n",
    "glimpse(fed_rate_raw)\n",
    "# https://fred.stlouisfed.org/series/FEDFUNDS"
   ]
  },
  {
   "cell_type": "code",
   "execution_count": 161,
   "metadata": {
    "vscode": {
     "languageId": "r"
    }
   },
   "outputs": [
    {
     "name": "stderr",
     "output_type": "stream",
     "text": [
      "Warning message:\n",
      "“NAs introduced by coercion”\n"
     ]
    },
    {
     "name": "stdout",
     "output_type": "stream",
     "text": [
      "Rows: 162\n",
      "Columns: 3\n",
      "$ time_as_date    \u001b[3m\u001b[90m<date>\u001b[39m\u001b[23m 1984-01-01, 1984-04-01, 1984-07-01, 1984-10-01, 1985-…\n",
      "$ time_as_numeric \u001b[3m\u001b[90m<dbl>\u001b[39m\u001b[23m 5113, 5204, 5295, 5387, 5479, 5569, 5660, 5752, 5844, …\n",
      "$ Rate            \u001b[3m\u001b[90m<dbl>\u001b[39m\u001b[23m 0.09686667, 0.10556667, 0.11390000, 0.09266667, 0.0847…\n"
     ]
    },
    {
     "data": {
      "text/html": [
       "0"
      ],
      "text/latex": [
       "0"
      ],
      "text/markdown": [
       "0"
      ],
      "text/plain": [
       "[1] 0"
      ]
     },
     "metadata": {},
     "output_type": "display_data"
    }
   ],
   "source": [
    "# Creating new column for yield\n",
    "fed_rate_raw$Rate <- fed_rate_raw$FEDFUNDS\n",
    "\n",
    "# Making column yield numeric\n",
    "fed_rate_raw$Rate <- as.numeric(as.character(fed_rate_raw$FEDFUNDS))\n",
    "\n",
    "# Converting rate into true unites by making it a decimal\n",
    "fed_rate_raw$Rate <- fed_rate_raw$Rate / 100\n",
    "\n",
    "# Time as a date\n",
    "fed_rate_raw$DATE <- as.character(fed_rate_raw$DATE)\n",
    "fed_rate_raw$time_as_date <- as.Date(fed_rate_raw$DATE, format = \"%Y-%m-%d\")\n",
    "\n",
    "# Time as numeric (used in certain regression models or methods)\n",
    "fed_rate_raw$time_as_numeric <- as.numeric(fed_rate_raw$time_as_date)\n",
    "\n",
    "# Filter data between 1984-01-01 and 2024-04-01\n",
    "fed_rate_raw <- fed_rate_raw[fed_rate_raw$time_as_date >= as.Date(\"1984-01-01\") & fed_rate_raw$time_as_date <= as.Date(\"2024-04-01\"), ]\n",
    "\n",
    "# Keep only the relevant columns\n",
    "columns_to_keep <- c(\"time_as_date\", \"time_as_numeric\", \"Rate\")\n",
    "fed_rate_filtered <- fed_rate_raw[, columns_to_keep]\n",
    "\n",
    "# Check\n",
    "glimpse(fed_rate_filtered)\n",
    "sum(is.na(fed_rate_filtered))"
   ]
  },
  {
   "cell_type": "markdown",
   "metadata": {},
   "source": [
    "# Part 7: Clean GDP Data"
   ]
  },
  {
   "cell_type": "code",
   "execution_count": 162,
   "metadata": {
    "vscode": {
     "languageId": "r"
    }
   },
   "outputs": [
    {
     "name": "stdout",
     "output_type": "stream",
     "text": [
      "Rows: 311\n",
      "Columns: 2\n",
      "$ DATE \u001b[3m\u001b[90m<fct>\u001b[39m\u001b[23m 1947-01-01, 1947-04-01, 1947-07-01, 1947-10-01, 1948-01-01, 1948-…\n",
      "$ GDP  \u001b[3m\u001b[90m<dbl>\u001b[39m\u001b[23m 243.164, 245.968, 249.585, 259.745, 265.742, 272.567, 279.196, 28…\n"
     ]
    }
   ],
   "source": [
    "# https://fred.stlouisfed.org/series/GDP\n",
    "GDP_raw <- read.csv(\"/workspaces/DUKE_MIDS_QFC_Final_Project/dataset/GDP.csv\")\n",
    "glimpse(GDP_raw)\n"
   ]
  },
  {
   "cell_type": "code",
   "execution_count": 163,
   "metadata": {
    "vscode": {
     "languageId": "r"
    }
   },
   "outputs": [
    {
     "name": "stdout",
     "output_type": "stream",
     "text": [
      "Rows: 162\n",
      "Columns: 3\n",
      "$ time_as_date    \u001b[3m\u001b[90m<date>\u001b[39m\u001b[23m 1984-01-01, 1984-04-01, 1984-07-01, 1984-10-01, 1985-…\n",
      "$ time_as_numeric \u001b[3m\u001b[90m<dbl>\u001b[39m\u001b[23m 5113, 5204, 5295, 5387, 5479, 5569, 5660, 5752, 5844, …\n",
      "$ GDP             \u001b[3m\u001b[90m<dbl>\u001b[39m\u001b[23m 3.908054e+12, 4.009601e+12, 4.084250e+12, 4.148551e+12…\n"
     ]
    },
    {
     "data": {
      "text/html": [
       "0"
      ],
      "text/latex": [
       "0"
      ],
      "text/markdown": [
       "0"
      ],
      "text/plain": [
       "[1] 0"
      ]
     },
     "metadata": {},
     "output_type": "display_data"
    }
   ],
   "source": [
    "\n",
    "# Making column GDP numeric\n",
    "GDP_raw$GDP <- as.numeric(as.character(GDP_raw$GDP))\n",
    "\n",
    "# Converting dis income into true unites by making it a decimal\n",
    "GDP_raw$GDP <- GDP_raw$GDP * 1000000000\n",
    "\n",
    "# Time as a date\n",
    "GDP_raw$DATE <- as.character(GDP_raw$DATE)\n",
    "GDP_raw$time_as_date <- as.Date(GDP_raw$DATE, format = \"%Y-%m-%d\")\n",
    "\n",
    "# Time as numeric (used in certain regression models or methods)\n",
    "GDP_raw$time_as_numeric <- as.numeric(GDP_raw$time_as_date)\n",
    "\n",
    "# Filter data between 1984-01-01 and 2024-04-01\n",
    "GDP_raw <- GDP_raw[GDP_raw$time_as_date >= as.Date(\"1984-01-01\") & GDP_raw$time_as_date <= as.Date(\"2024-04-01\"), ]\n",
    "\n",
    "# Keep only the relevant columns\n",
    "columns_to_keep <- c(\"time_as_date\", \"time_as_numeric\", \"GDP\")\n",
    "GDP_filtered <- GDP_raw[, columns_to_keep]\n",
    "\n",
    "# Check\n",
    "glimpse(GDP_filtered)\n",
    "sum(is.na(GDP_filtered))"
   ]
  },
  {
   "cell_type": "markdown",
   "metadata": {},
   "source": [
    "# Part 8: Group all data into one dataframe"
   ]
  },
  {
   "cell_type": "code",
   "execution_count": 164,
   "metadata": {
    "vscode": {
     "languageId": "r"
    }
   },
   "outputs": [
    {
     "name": "stdout",
     "output_type": "stream",
     "text": [
      "Rows: 161\n",
      "Columns: 9\n",
      "$ time_as_date             \u001b[3m\u001b[90m<date>\u001b[39m\u001b[23m 1984-01-01, 1984-04-01, 1984-07-01, 1984-10-…\n",
      "$ time_as_numeric          \u001b[3m\u001b[90m<dbl>\u001b[39m\u001b[23m 5113, 5204, 5295, 5387, 5479, 5569, 5660, 575…\n",
      "$ population               \u001b[3m\u001b[90m<dbl>\u001b[39m\u001b[23m 235604667, 236082333, 236657333, 237232667, 2…\n",
      "$ rate                     \u001b[3m\u001b[90m<dbl>\u001b[39m\u001b[23m 0.07866667, 0.07433333, 0.07433333, 0.0730000…\n",
      "$ ConsumerPriceIndex       \u001b[3m\u001b[90m<dbl>\u001b[39m\u001b[23m 1.1202636, 1.0752688, 1.0960671, 0.7334184, 0…\n",
      "$ DisposablePersonalIncome \u001b[3m\u001b[90m<dbl>\u001b[39m\u001b[23m 10729270000, 11779660000, 10982020000, 947008…\n",
      "$ Yield                    \u001b[3m\u001b[90m<dbl>\u001b[39m\u001b[23m 0.11943333, 0.13200000, 0.12866667, 0.1174333…\n",
      "$ Rate                     \u001b[3m\u001b[90m<dbl>\u001b[39m\u001b[23m 0.09686667, 0.10556667, 0.11390000, 0.0926666…\n",
      "$ GDP                      \u001b[3m\u001b[90m<dbl>\u001b[39m\u001b[23m 3.908054e+12, 4.009601e+12, 4.084250e+12, 4.1…\n"
     ]
    }
   ],
   "source": [
    "# Merge two datasets by the 'Date' column\n",
    "datasets_to_merge <- list(pop_filtered, unemployment_rate_filtered, CPI_filtered, disposable_income_filtered, treasury_yield_filtered, fed_rate_filtered, GDP_filtered)\n",
    "\n",
    "regressors_data <- Reduce(function(x, y) merge(x, y, by = c(\"time_as_date\", \"time_as_numeric\")), datasets_to_merge)\n",
    "\n",
    "glimpse(regressors_data)\n"
   ]
  }
 ],
 "metadata": {
  "kernelspec": {
   "display_name": "R",
   "language": "R",
   "name": "ir"
  },
  "language_info": {
   "codemirror_mode": "r",
   "file_extension": ".r",
   "mimetype": "text/x-r-source",
   "name": "R",
   "pygments_lexer": "r",
   "version": "3.6.3"
  }
 },
 "nbformat": 4,
 "nbformat_minor": 2
}
