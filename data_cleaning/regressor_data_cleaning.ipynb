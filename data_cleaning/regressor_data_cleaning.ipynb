{
 "cells": [
  {
   "cell_type": "markdown",
   "metadata": {},
   "source": [
    "# Load Libraries"
   ]
  },
  {
   "cell_type": "code",
   "execution_count": 1,
   "metadata": {
    "vscode": {
     "languageId": "r"
    }
   },
   "outputs": [
    {
     "name": "stderr",
     "output_type": "stream",
     "text": [
      "\n",
      "Attaching package: ‘dplyr’\n",
      "\n",
      "\n",
      "The following objects are masked from ‘package:stats’:\n",
      "\n",
      "    filter, lag\n",
      "\n",
      "\n",
      "The following objects are masked from ‘package:base’:\n",
      "\n",
      "    intersect, setdiff, setequal, union\n",
      "\n",
      "\n"
     ]
    }
   ],
   "source": [
    "# Load libraries\n",
    "library(readxl)\n",
    "library(dplyr)\n",
    "library(readr)\n",
    "# Inflation rate: https://fred.stlouisfed.org/series/FPCPITOTLZGUSA"
   ]
  },
  {
   "cell_type": "markdown",
   "metadata": {},
   "source": [
    "# Part 1: Clean Population Data"
   ]
  },
  {
   "cell_type": "code",
   "execution_count": 2,
   "metadata": {
    "vscode": {
     "languageId": "r"
    }
   },
   "outputs": [
    {
     "name": "stdout",
     "output_type": "stream",
     "text": [
      "Rows: 264\n",
      "Columns: 2\n",
      "$ DATE   \u001b[3m\u001b[90m<fct>\u001b[39m\u001b[23m 1959-01-01, 1959-04-01, 1959-07-01, 1959-10-01, 1960-01-01, 196…\n",
      "$ POPTHM \u001b[3m\u001b[90m<fct>\u001b[39m\u001b[23m 176045.333333333333, 176726.666666666667, 177480.666666666667, …\n"
     ]
    }
   ],
   "source": [
    "pop_raw <- read.csv(\"/workspaces/DUKE_MIDS_QFC_Final_Project/dataset/population.csv\")\n",
    "glimpse(pop_raw)"
   ]
  },
  {
   "cell_type": "code",
   "execution_count": 3,
   "metadata": {
    "vscode": {
     "languageId": "r"
    }
   },
   "outputs": [
    {
     "data": {
      "text/html": [
       "0"
      ],
      "text/latex": [
       "0"
      ],
      "text/markdown": [
       "0"
      ],
      "text/plain": [
       "[1] 0"
      ]
     },
     "metadata": {},
     "output_type": "display_data"
    }
   ],
   "source": [
    "sum(is.na(pop_raw$POPTHM))"
   ]
  },
  {
   "cell_type": "code",
   "execution_count": 4,
   "metadata": {
    "vscode": {
     "languageId": "r"
    }
   },
   "outputs": [
    {
     "name": "stderr",
     "output_type": "stream",
     "text": [
      "Warning message:\n",
      "“NAs introduced by coercion”\n"
     ]
    }
   ],
   "source": [
    "# Creating new column population\n",
    "pop_raw$population <- pop_raw$POPTHM\n",
    "\n",
    "# Making column pop into a numeric\n",
    "pop_raw$population <- as.numeric(as.character(pop_raw$POPTHM))\n",
    "\n",
    "# Converting pop into the right unit by multiplything by 1000\n",
    "pop_raw$population <- pop_raw$population * 1000"
   ]
  },
  {
   "cell_type": "code",
   "execution_count": 5,
   "metadata": {
    "vscode": {
     "languageId": "r"
    }
   },
   "outputs": [],
   "source": [
    "# Time as a date\n",
    "pop_raw$DATE <- as.character(pop_raw$DATE)\n",
    "pop_raw$time_as_date <- as.Date(pop_raw$DATE, format = \"%Y-%m-%d\")\n",
    "\n",
    "# Time as numeric (used in certain regression models or methods)\n",
    "pop_raw$time_as_numeric <- as.numeric(pop_raw$time_as_date)"
   ]
  },
  {
   "cell_type": "code",
   "execution_count": 6,
   "metadata": {
    "vscode": {
     "languageId": "r"
    }
   },
   "outputs": [
    {
     "name": "stdout",
     "output_type": "stream",
     "text": [
      "Rows: 162\n",
      "Columns: 3\n",
      "$ time_as_date    \u001b[3m\u001b[90m<date>\u001b[39m\u001b[23m 1984-01-01, 1984-04-01, 1984-07-01, 1984-10-01, 1985-…\n",
      "$ time_as_numeric \u001b[3m\u001b[90m<dbl>\u001b[39m\u001b[23m 5113, 5204, 5295, 5387, 5479, 5569, 5660, 5752, 5844, …\n",
      "$ population      \u001b[3m\u001b[90m<dbl>\u001b[39m\u001b[23m 235604667, 236082333, 236657333, 237232667, 237672667,…\n"
     ]
    },
    {
     "data": {
      "text/html": [
       "0"
      ],
      "text/latex": [
       "0"
      ],
      "text/markdown": [
       "0"
      ],
      "text/plain": [
       "[1] 0"
      ]
     },
     "metadata": {},
     "output_type": "display_data"
    }
   ],
   "source": [
    "# Filter data between 1984-01-01 and 2024-04-01\n",
    "pop_raw <- pop_raw[pop_raw$time_as_date >= as.Date(\"1984-01-01\") & pop_raw$time_as_date <= as.Date(\"2024-04-01\"), ]\n",
    "\n",
    "# Keep only the relevant columns\n",
    "columns_to_keep <- c(\"time_as_date\", \"time_as_numeric\", \"population\")\n",
    "pop_filtered <- pop_raw[, columns_to_keep]\n",
    "\n",
    "# Check\n",
    "glimpse(pop_filtered)\n",
    "sum(is.na(pop_filtered))"
   ]
  },
  {
   "cell_type": "markdown",
   "metadata": {},
   "source": [
    "# Part 2: Clean Unemployment Rate"
   ]
  },
  {
   "cell_type": "code",
   "execution_count": 7,
   "metadata": {
    "vscode": {
     "languageId": "r"
    }
   },
   "outputs": [
    {
     "name": "stdout",
     "output_type": "stream",
     "text": [
      "Rows: 308\n",
      "Columns: 2\n",
      "$ DATE   \u001b[3m\u001b[90m<fct>\u001b[39m\u001b[23m 1948-01-01, 1948-04-01, 1948-07-01, 1948-10-01, 1949-01-01, 194…\n",
      "$ UNRATE \u001b[3m\u001b[90m<fct>\u001b[39m\u001b[23m 3.7333333333333333, 3.6666666666666667, 3.7666666666666667, 3.8…\n"
     ]
    }
   ],
   "source": [
    "unemployment_rate_raw <- read.csv(\"/workspaces/DUKE_MIDS_QFC_Final_Project/dataset/unemployement_rate.csv\")\n",
    "glimpse(unemployment_rate_raw)"
   ]
  },
  {
   "cell_type": "code",
   "execution_count": 8,
   "metadata": {
    "vscode": {
     "languageId": "r"
    }
   },
   "outputs": [
    {
     "name": "stderr",
     "output_type": "stream",
     "text": [
      "Warning message:\n",
      "“NAs introduced by coercion”\n"
     ]
    },
    {
     "name": "stdout",
     "output_type": "stream",
     "text": [
      "Rows: 162\n",
      "Columns: 3\n",
      "$ time_as_date      \u001b[3m\u001b[90m<date>\u001b[39m\u001b[23m 1984-01-01, 1984-04-01, 1984-07-01, 1984-10-01, 198…\n",
      "$ time_as_numeric   \u001b[3m\u001b[90m<dbl>\u001b[39m\u001b[23m 5113, 5204, 5295, 5387, 5479, 5569, 5660, 5752, 5844…\n",
      "$ unemployment_rate \u001b[3m\u001b[90m<dbl>\u001b[39m\u001b[23m 0.07866667, 0.07433333, 0.07433333, 0.07300000, 0.07…\n"
     ]
    },
    {
     "data": {
      "text/html": [
       "0"
      ],
      "text/latex": [
       "0"
      ],
      "text/markdown": [
       "0"
      ],
      "text/plain": [
       "[1] 0"
      ]
     },
     "metadata": {},
     "output_type": "display_data"
    }
   ],
   "source": [
    "# Creating new column for rate\n",
    "unemployment_rate_raw$unemployment_rate <- unemployment_rate_raw$UNRATE\n",
    "\n",
    "# Making column pop into a numeric\n",
    "unemployment_rate_raw$unemployment_rate <- as.numeric(as.character(unemployment_rate_raw$UNRATE))\n",
    "\n",
    "# Converting pop into a decima since it's in percentage \n",
    "unemployment_rate_raw$unemployment_rate <- unemployment_rate_raw$unemployment_rate / 100\n",
    "\n",
    "# Time as a date\n",
    "unemployment_rate_raw$DATE <- as.character(unemployment_rate_raw$DATE)\n",
    "unemployment_rate_raw$time_as_date <- as.Date(unemployment_rate_raw$DATE, format = \"%Y-%m-%d\")\n",
    "\n",
    "# Time as numeric (used in certain regression models or methods)\n",
    "unemployment_rate_raw$time_as_numeric <- as.numeric(unemployment_rate_raw$time_as_date)\n",
    "\n",
    "# Filter data between 1984-01-01 and 2024-04-01\n",
    "unemployment_rate_raw <- unemployment_rate_raw[unemployment_rate_raw$time_as_date >= as.Date(\"1984-01-01\") & unemployment_rate_raw$time_as_date <= as.Date(\"2024-04-01\"), ]\n",
    "\n",
    "# Keep only the relevant columns\n",
    "columns_to_keep <- c(\"time_as_date\", \"time_as_numeric\", \"unemployment_rate\")\n",
    "unemployment_rate_filtered <- unemployment_rate_raw[, columns_to_keep]\n",
    "\n",
    "# Check\n",
    "glimpse(unemployment_rate_filtered)\n",
    "sum(is.na(unemployment_rate_filtered))\n"
   ]
  },
  {
   "cell_type": "markdown",
   "metadata": {},
   "source": [
    "# Part 3: Clean Consumer Price Index"
   ]
  },
  {
   "cell_type": "code",
   "execution_count": 9,
   "metadata": {
    "vscode": {
     "languageId": "r"
    }
   },
   "outputs": [
    {
     "name": "stdout",
     "output_type": "stream",
     "text": [
      "Rows: 276\n",
      "Columns: 2\n",
      "$ DATE            \u001b[3m\u001b[90m<fct>\u001b[39m\u001b[23m 1955-04-01, 1955-07-01, 1955-10-01, 1956-01-01, 1956-0…\n",
      "$ CPALTT01USQ657N \u001b[3m\u001b[90m<dbl>\u001b[39m\u001b[23m 0.0000000, 0.4993758, 0.1242236, -0.2481390, 0.8706468…\n"
     ]
    }
   ],
   "source": [
    "# Source: https://fred.stlouisfed.org/series/CPALTT01USM657N#0\n",
    "CPI_raw <- read.csv(\"/workspaces/DUKE_MIDS_QFC_Final_Project/dataset/consumer_price_index.csv\")\n",
    "glimpse(CPI_raw)"
   ]
  },
  {
   "cell_type": "code",
   "execution_count": 10,
   "metadata": {
    "vscode": {
     "languageId": "r"
    }
   },
   "outputs": [
    {
     "name": "stdout",
     "output_type": "stream",
     "text": [
      "Rows: 161\n",
      "Columns: 3\n",
      "$ time_as_date       \u001b[3m\u001b[90m<date>\u001b[39m\u001b[23m 1984-01-01, 1984-04-01, 1984-07-01, 1984-10-01, 19…\n",
      "$ time_as_numeric    \u001b[3m\u001b[90m<dbl>\u001b[39m\u001b[23m 5113, 5204, 5295, 5387, 5479, 5569, 5660, 5752, 584…\n",
      "$ ConsumerPriceIndex \u001b[3m\u001b[90m<dbl>\u001b[39m\u001b[23m 1.1202636, 1.0752688, 1.0960671, 0.7334184, 0.63311…\n"
     ]
    },
    {
     "data": {
      "text/html": [
       "0"
      ],
      "text/latex": [
       "0"
      ],
      "text/markdown": [
       "0"
      ],
      "text/plain": [
       "[1] 0"
      ]
     },
     "metadata": {},
     "output_type": "display_data"
    }
   ],
   "source": [
    "# Convert ConsumerPriceIndex into a numeric column\n",
    "CPI_raw$ConsumerPriceIndex <- as.numeric(as.character(CPI_raw$CPALTT01USQ657N))\n",
    "\n",
    "# Convert DATE column to a Date format\n",
    "CPI_raw$DATE <- as.character(CPI_raw$DATE)\n",
    "CPI_raw$time_as_date <- as.Date(CPI_raw$DATE, format = \"%Y-%m-%d\")\n",
    "\n",
    "# Convert time_as_date to numeric for modeling purposes\n",
    "CPI_raw$time_as_numeric <- as.numeric(CPI_raw$time_as_date)\n",
    "\n",
    "# Filter data to include only rows between 1984-01-01 and 2024-04-01\n",
    "CPI_raw <- CPI_raw[CPI_raw$time_as_date >= as.Date(\"1984-01-01\") & \n",
    "                     CPI_raw$time_as_date <= as.Date(\"2024-04-01\"), ]\n",
    "\n",
    "# Keep only the relevant columns\n",
    "columns_to_keep <- c(\"time_as_date\", \"time_as_numeric\", \"ConsumerPriceIndex\")\n",
    "CPI_filtered <- CPI_raw[, columns_to_keep]\n",
    "\n",
    "\n",
    "# Check the updated dataset\n",
    "glimpse(CPI_filtered)\n",
    "sum(is.na(CPI_filtered))"
   ]
  },
  {
   "cell_type": "code",
   "execution_count": 11,
   "metadata": {
    "vscode": {
     "languageId": "r"
    }
   },
   "outputs": [
    {
     "name": "stdout",
     "output_type": "stream",
     "text": [
      "'data.frame':\t161 obs. of  3 variables:\n",
      " $ time_as_date      : Date, format: \"1984-01-01\" \"1984-04-01\" ...\n",
      " $ time_as_numeric   : num  5113 5204 5295 5387 5479 ...\n",
      " $ ConsumerPriceIndex: num  1.12 1.075 1.096 0.733 0.633 ...\n"
     ]
    },
    {
     "data": {
      "text/html": [
       "<table class=\"dataframe\">\n",
       "<caption>A data.frame: 6 × 3</caption>\n",
       "<thead>\n",
       "\t<tr><th></th><th scope=col>time_as_date</th><th scope=col>time_as_numeric</th><th scope=col>ConsumerPriceIndex</th></tr>\n",
       "\t<tr><th></th><th scope=col>&lt;date&gt;</th><th scope=col>&lt;dbl&gt;</th><th scope=col>&lt;dbl&gt;</th></tr>\n",
       "</thead>\n",
       "<tbody>\n",
       "\t<tr><th scope=row>271</th><td>2022-10-01</td><td>19266</td><td>0.3671613</td></tr>\n",
       "\t<tr><th scope=row>272</th><td>2023-01-01</td><td>19358</td><td>1.0449066</td></tr>\n",
       "\t<tr><th scope=row>273</th><td>2023-04-01</td><td>19448</td><td>1.1923322</td></tr>\n",
       "\t<tr><th scope=row>274</th><td>2023-07-01</td><td>19539</td><td>0.8664265</td></tr>\n",
       "\t<tr><th scope=row>275</th><td>2023-10-01</td><td>19631</td><td>0.1045077</td></tr>\n",
       "\t<tr><th scope=row>276</th><td>2024-01-01</td><td>19723</td><td>1.0425755</td></tr>\n",
       "</tbody>\n",
       "</table>\n"
      ],
      "text/latex": [
       "A data.frame: 6 × 3\n",
       "\\begin{tabular}{r|lll}\n",
       "  & time\\_as\\_date & time\\_as\\_numeric & ConsumerPriceIndex\\\\\n",
       "  & <date> & <dbl> & <dbl>\\\\\n",
       "\\hline\n",
       "\t271 & 2022-10-01 & 19266 & 0.3671613\\\\\n",
       "\t272 & 2023-01-01 & 19358 & 1.0449066\\\\\n",
       "\t273 & 2023-04-01 & 19448 & 1.1923322\\\\\n",
       "\t274 & 2023-07-01 & 19539 & 0.8664265\\\\\n",
       "\t275 & 2023-10-01 & 19631 & 0.1045077\\\\\n",
       "\t276 & 2024-01-01 & 19723 & 1.0425755\\\\\n",
       "\\end{tabular}\n"
      ],
      "text/markdown": [
       "\n",
       "A data.frame: 6 × 3\n",
       "\n",
       "| <!--/--> | time_as_date &lt;date&gt; | time_as_numeric &lt;dbl&gt; | ConsumerPriceIndex &lt;dbl&gt; |\n",
       "|---|---|---|---|\n",
       "| 271 | 2022-10-01 | 19266 | 0.3671613 |\n",
       "| 272 | 2023-01-01 | 19358 | 1.0449066 |\n",
       "| 273 | 2023-04-01 | 19448 | 1.1923322 |\n",
       "| 274 | 2023-07-01 | 19539 | 0.8664265 |\n",
       "| 275 | 2023-10-01 | 19631 | 0.1045077 |\n",
       "| 276 | 2024-01-01 | 19723 | 1.0425755 |\n",
       "\n"
      ],
      "text/plain": [
       "    time_as_date time_as_numeric ConsumerPriceIndex\n",
       "271 2022-10-01   19266           0.3671613         \n",
       "272 2023-01-01   19358           1.0449066         \n",
       "273 2023-04-01   19448           1.1923322         \n",
       "274 2023-07-01   19539           0.8664265         \n",
       "275 2023-10-01   19631           0.1045077         \n",
       "276 2024-01-01   19723           1.0425755         "
      ]
     },
     "metadata": {},
     "output_type": "display_data"
    }
   ],
   "source": [
    "str(CPI_filtered)\n",
    "tail(CPI_filtered)"
   ]
  },
  {
   "cell_type": "markdown",
   "metadata": {},
   "source": [
    "# Part 4: Disposable Personal Income"
   ]
  },
  {
   "cell_type": "code",
   "execution_count": 12,
   "metadata": {
    "vscode": {
     "languageId": "r"
    }
   },
   "outputs": [
    {
     "name": "stdout",
     "output_type": "stream",
     "text": [
      "Rows: 260\n",
      "Columns: 2\n",
      "$ DATE     \u001b[3m\u001b[90m<fct>\u001b[39m\u001b[23m 1960-01-01, 1960-04-01, 1960-07-01, 1960-10-01, 1961-01-01, 1…\n",
      "$ DSPI_PC1 \u001b[3m\u001b[90m<fct>\u001b[39m\u001b[23m 5.13401, 4.26418, 4.34502, 3.47304, 3.31239, 3.64620, 4.81694…\n"
     ]
    }
   ],
   "source": [
    "disposable_income_raw <- read.csv(\"/workspaces/DUKE_MIDS_QFC_Final_Project/dataset/disposable_personal_income.csv\")\n",
    "glimpse(disposable_income_raw)\n",
    "# https://fred.stlouisfed.org/series/DSPI"
   ]
  },
  {
   "cell_type": "code",
   "execution_count": 13,
   "metadata": {
    "vscode": {
     "languageId": "r"
    }
   },
   "outputs": [
    {
     "name": "stderr",
     "output_type": "stream",
     "text": [
      "Warning message:\n",
      "“NAs introduced by coercion”\n"
     ]
    },
    {
     "name": "stdout",
     "output_type": "stream",
     "text": [
      "Rows: 162\n",
      "Columns: 3\n",
      "$ time_as_date             \u001b[3m\u001b[90m<date>\u001b[39m\u001b[23m 1984-01-01, 1984-04-01, 1984-07-01, 1984-10-…\n",
      "$ time_as_numeric          \u001b[3m\u001b[90m<dbl>\u001b[39m\u001b[23m 5113, 5204, 5295, 5387, 5479, 5569, 5660, 575…\n",
      "$ DisposablePersonalIncome \u001b[3m\u001b[90m<dbl>\u001b[39m\u001b[23m 10729270000, 11779660000, 10982020000, 947008…\n"
     ]
    },
    {
     "data": {
      "text/html": [
       "0"
      ],
      "text/latex": [
       "0"
      ],
      "text/markdown": [
       "0"
      ],
      "text/plain": [
       "[1] 0"
      ]
     },
     "metadata": {},
     "output_type": "display_data"
    }
   ],
   "source": [
    "# Creating new column for disposable personal income\n",
    "disposable_income_raw$DisposablePersonalIncome <- disposable_income_raw$DSPI_PC1\n",
    "\n",
    "# Making column disposable personal income numeric\n",
    "disposable_income_raw$DisposablePersonalIncome <- as.numeric(as.character(disposable_income_raw$DSPI_PC1))\n",
    "\n",
    "# Converting dis income into true unites it is in trillions so multiply by billions\n",
    "disposable_income_raw$DisposablePersonalIncome <- disposable_income_raw$DisposablePersonalIncome * 1000000000\n",
    "\n",
    "# Time as a date\n",
    "disposable_income_raw$DATE <- as.character(disposable_income_raw$DATE)\n",
    "disposable_income_raw$time_as_date <- as.Date(disposable_income_raw$DATE, format = \"%Y-%m-%d\")\n",
    "\n",
    "# Time as numeric (used in certain regression models or methods)\n",
    "disposable_income_raw$time_as_numeric <- as.numeric(disposable_income_raw$time_as_date)\n",
    "\n",
    "# Filter data between 1984-01-01 and 2024-04-01\n",
    "disposable_income_raw <- disposable_income_raw[disposable_income_raw$time_as_date >= as.Date(\"1984-01-01\") & disposable_income_raw$time_as_date <= as.Date(\"2024-04-01\"), ]\n",
    "\n",
    "# Keep only the relevant columns\n",
    "columns_to_keep <- c(\"time_as_date\", \"time_as_numeric\", \"DisposablePersonalIncome\")\n",
    "disposable_income_filtered <- disposable_income_raw[, columns_to_keep]\n",
    "\n",
    "# Check\n",
    "glimpse(disposable_income_filtered)\n",
    "sum(is.na(disposable_income_filtered))\n"
   ]
  },
  {
   "cell_type": "markdown",
   "metadata": {},
   "source": [
    "# Part 5: Cleaing 10 Year Treasury Yield"
   ]
  },
  {
   "cell_type": "code",
   "execution_count": 14,
   "metadata": {
    "vscode": {
     "languageId": "r"
    }
   },
   "outputs": [
    {
     "name": "stdout",
     "output_type": "stream",
     "text": [
      "Rows: 286\n",
      "Columns: 2\n",
      "$ DATE            \u001b[3m\u001b[90m<fct>\u001b[39m\u001b[23m 1953-04-01, 1953-07-01, 1953-10-01, 1954-01-01, 1954-0…\n",
      "$ IRLTLT01USQ156N \u001b[3m\u001b[90m<dbl>\u001b[39m\u001b[23m 2.996667, 2.916667, 2.643333, 2.440000, 2.346667, 2.34…\n"
     ]
    }
   ],
   "source": [
    "treasury_yield_raw <- read.csv(\"/workspaces/DUKE_MIDS_QFC_Final_Project/dataset/10_year_treasury_yield.csv\")\n",
    "glimpse(treasury_yield_raw)"
   ]
  },
  {
   "cell_type": "code",
   "execution_count": 15,
   "metadata": {
    "vscode": {
     "languageId": "r"
    }
   },
   "outputs": [
    {
     "name": "stdout",
     "output_type": "stream",
     "text": [
      "Rows: 162\n",
      "Columns: 3\n",
      "$ time_as_date    \u001b[3m\u001b[90m<date>\u001b[39m\u001b[23m 1984-01-01, 1984-04-01, 1984-07-01, 1984-10-01, 1985-…\n",
      "$ time_as_numeric \u001b[3m\u001b[90m<dbl>\u001b[39m\u001b[23m 5113, 5204, 5295, 5387, 5479, 5569, 5660, 5752, 5844, …\n",
      "$ Yield           \u001b[3m\u001b[90m<dbl>\u001b[39m\u001b[23m 0.11943333, 0.13200000, 0.12866667, 0.11743333, 0.1158…\n"
     ]
    },
    {
     "data": {
      "text/html": [
       "0"
      ],
      "text/latex": [
       "0"
      ],
      "text/markdown": [
       "0"
      ],
      "text/plain": [
       "[1] 0"
      ]
     },
     "metadata": {},
     "output_type": "display_data"
    }
   ],
   "source": [
    "# Creating new column for yield\n",
    "treasury_yield_raw$Yield <- treasury_yield_raw$IRLTLT01USQ156N\n",
    "\n",
    "# Making column yield numeric\n",
    "treasury_yield_raw$Yield <- as.numeric(as.character(treasury_yield_raw$IRLTLT01USQ156N))\n",
    "\n",
    "# Converting dis income into true unites by making it a decimal\n",
    "treasury_yield_raw$Yield <- treasury_yield_raw$Yield / 100\n",
    "\n",
    "# Time as a date\n",
    "treasury_yield_raw$DATE <- as.character(treasury_yield_raw$DATE)\n",
    "treasury_yield_raw$time_as_date <- as.Date(treasury_yield_raw$DATE, format = \"%Y-%m-%d\")\n",
    "\n",
    "# Time as numeric (used in certain regression models or methods)\n",
    "treasury_yield_raw$time_as_numeric <- as.numeric(treasury_yield_raw$time_as_date)\n",
    "\n",
    "# Filter data between 1984-01-01 and 2024-04-01\n",
    "treasury_yield_raw <- treasury_yield_raw[treasury_yield_raw$time_as_date >= as.Date(\"1984-01-01\") & treasury_yield_raw$time_as_date <= as.Date(\"2024-04-01\"), ]\n",
    "\n",
    "# Keep only the relevant columns\n",
    "columns_to_keep <- c(\"time_as_date\", \"time_as_numeric\", \"Yield\")\n",
    "treasury_yield_filtered <- treasury_yield_raw[, columns_to_keep]\n",
    "\n",
    "# Check\n",
    "glimpse(treasury_yield_filtered)\n",
    "sum(is.na(treasury_yield_filtered))\n"
   ]
  },
  {
   "cell_type": "markdown",
   "metadata": {},
   "source": [
    "# Part 6: Clean Fed Funds Rate Data"
   ]
  },
  {
   "cell_type": "code",
   "execution_count": 16,
   "metadata": {
    "vscode": {
     "languageId": "r"
    }
   },
   "outputs": [
    {
     "name": "stdout",
     "output_type": "stream",
     "text": [
      "Rows: 282\n",
      "Columns: 2\n",
      "$ DATE     \u001b[3m\u001b[90m<fct>\u001b[39m\u001b[23m 1954-07-01, 1954-10-01, 1955-01-01, 1955-04-01, 1955-07-01, 1…\n",
      "$ FEDFUNDS \u001b[3m\u001b[90m<fct>\u001b[39m\u001b[23m 1.03000000000000000000, 0.98666666666666666667, 1.34333333333…\n"
     ]
    }
   ],
   "source": [
    "fed_rate_raw <- read.csv(\"/workspaces/DUKE_MIDS_QFC_Final_Project/dataset/fed_funds_rate.csv\")\n",
    "glimpse(fed_rate_raw)\n",
    "# https://fred.stlouisfed.org/series/FEDFUNDS"
   ]
  },
  {
   "cell_type": "code",
   "execution_count": 17,
   "metadata": {
    "vscode": {
     "languageId": "r"
    }
   },
   "outputs": [
    {
     "name": "stderr",
     "output_type": "stream",
     "text": [
      "Warning message:\n",
      "“NAs introduced by coercion”\n"
     ]
    },
    {
     "name": "stdout",
     "output_type": "stream",
     "text": [
      "Rows: 162\n",
      "Columns: 3\n",
      "$ time_as_date    \u001b[3m\u001b[90m<date>\u001b[39m\u001b[23m 1984-01-01, 1984-04-01, 1984-07-01, 1984-10-01, 1985-…\n",
      "$ time_as_numeric \u001b[3m\u001b[90m<dbl>\u001b[39m\u001b[23m 5113, 5204, 5295, 5387, 5479, 5569, 5660, 5752, 5844, …\n",
      "$ fed_rate        \u001b[3m\u001b[90m<dbl>\u001b[39m\u001b[23m 0.09686667, 0.10556667, 0.11390000, 0.09266667, 0.0847…\n"
     ]
    },
    {
     "data": {
      "text/html": [
       "0"
      ],
      "text/latex": [
       "0"
      ],
      "text/markdown": [
       "0"
      ],
      "text/plain": [
       "[1] 0"
      ]
     },
     "metadata": {},
     "output_type": "display_data"
    }
   ],
   "source": [
    "# Creating new column for yield\n",
    "fed_rate_raw$fed_rate <- fed_rate_raw$FEDFUNDS\n",
    "\n",
    "# Making column yield numeric\n",
    "fed_rate_raw$fed_rate <- as.numeric(as.character(fed_rate_raw$FEDFUNDS))\n",
    "\n",
    "# Converting rate into true unites by making it a decimal\n",
    "fed_rate_raw$fed_rate <- fed_rate_raw$fed_rate / 100\n",
    "\n",
    "# Time as a date\n",
    "fed_rate_raw$DATE <- as.character(fed_rate_raw$DATE)\n",
    "fed_rate_raw$time_as_date <- as.Date(fed_rate_raw$DATE, format = \"%Y-%m-%d\")\n",
    "\n",
    "# Time as numeric (used in certain regression models or methods)\n",
    "fed_rate_raw$time_as_numeric <- as.numeric(fed_rate_raw$time_as_date)\n",
    "\n",
    "# Filter data between 1984-01-01 and 2024-04-01\n",
    "fed_rate_raw <- fed_rate_raw[fed_rate_raw$time_as_date >= as.Date(\"1984-01-01\") & fed_rate_raw$time_as_date <= as.Date(\"2024-04-01\"), ]\n",
    "\n",
    "# Keep only the relevant columns\n",
    "columns_to_keep <- c(\"time_as_date\", \"time_as_numeric\", \"fed_rate\")\n",
    "fed_rate_filtered <- fed_rate_raw[, columns_to_keep]\n",
    "\n",
    "# Check\n",
    "glimpse(fed_rate_filtered)\n",
    "sum(is.na(fed_rate_filtered))\n"
   ]
  },
  {
   "cell_type": "markdown",
   "metadata": {},
   "source": [
    "# Part 7: Clean GDP Data"
   ]
  },
  {
   "cell_type": "code",
   "execution_count": 18,
   "metadata": {
    "vscode": {
     "languageId": "r"
    }
   },
   "outputs": [
    {
     "name": "stdout",
     "output_type": "stream",
     "text": [
      "Rows: 311\n",
      "Columns: 2\n",
      "$ DATE \u001b[3m\u001b[90m<fct>\u001b[39m\u001b[23m 1947-01-01, 1947-04-01, 1947-07-01, 1947-10-01, 1948-01-01, 1948-…\n",
      "$ GDP  \u001b[3m\u001b[90m<dbl>\u001b[39m\u001b[23m 243.164, 245.968, 249.585, 259.745, 265.742, 272.567, 279.196, 28…\n"
     ]
    }
   ],
   "source": [
    "# https://fred.stlouisfed.org/series/GDP\n",
    "GDP_raw <- read.csv(\"/workspaces/DUKE_MIDS_QFC_Final_Project/dataset/GDP.csv\")\n",
    "glimpse(GDP_raw)\n"
   ]
  },
  {
   "cell_type": "code",
   "execution_count": 19,
   "metadata": {
    "vscode": {
     "languageId": "r"
    }
   },
   "outputs": [
    {
     "name": "stdout",
     "output_type": "stream",
     "text": [
      "Rows: 162\n",
      "Columns: 3\n",
      "$ time_as_date    \u001b[3m\u001b[90m<date>\u001b[39m\u001b[23m 1984-01-01, 1984-04-01, 1984-07-01, 1984-10-01, 1985-…\n",
      "$ time_as_numeric \u001b[3m\u001b[90m<dbl>\u001b[39m\u001b[23m 5113, 5204, 5295, 5387, 5479, 5569, 5660, 5752, 5844, …\n",
      "$ GDP             \u001b[3m\u001b[90m<dbl>\u001b[39m\u001b[23m 3.908054e+12, 4.009601e+12, 4.084250e+12, 4.148551e+12…\n"
     ]
    },
    {
     "data": {
      "text/html": [
       "0"
      ],
      "text/latex": [
       "0"
      ],
      "text/markdown": [
       "0"
      ],
      "text/plain": [
       "[1] 0"
      ]
     },
     "metadata": {},
     "output_type": "display_data"
    }
   ],
   "source": [
    "\n",
    "# Making column GDP numeric\n",
    "GDP_raw$GDP <- as.numeric(as.character(GDP_raw$GDP))\n",
    "\n",
    "# Converting dis income into true unites by making it a decimal\n",
    "GDP_raw$GDP <- GDP_raw$GDP * 1000000000\n",
    "\n",
    "# Time as a date\n",
    "GDP_raw$DATE <- as.character(GDP_raw$DATE)\n",
    "GDP_raw$time_as_date <- as.Date(GDP_raw$DATE, format = \"%Y-%m-%d\")\n",
    "\n",
    "# Time as numeric (used in certain regression models or methods)\n",
    "GDP_raw$time_as_numeric <- as.numeric(GDP_raw$time_as_date)\n",
    "\n",
    "# Filter data between 1984-01-01 and 2024-04-01\n",
    "GDP_raw <- GDP_raw[GDP_raw$time_as_date >= as.Date(\"1984-01-01\") & GDP_raw$time_as_date <= as.Date(\"2024-04-01\"), ]\n",
    "\n",
    "# Keep only the relevant columns\n",
    "columns_to_keep <- c(\"time_as_date\", \"time_as_numeric\", \"GDP\")\n",
    "GDP_filtered <- GDP_raw[, columns_to_keep]\n",
    "\n",
    "# Check\n",
    "glimpse(GDP_filtered)\n",
    "sum(is.na(GDP_filtered))\n"
   ]
  },
  {
   "cell_type": "code",
   "execution_count": 20,
   "metadata": {
    "vscode": {
     "languageId": "r"
    }
   },
   "outputs": [
    {
     "name": "stdout",
     "output_type": "stream",
     "text": [
      "Rows: 162\n",
      "Columns: 4\n",
      "$ time_as_date    \u001b[3m\u001b[90m<date>\u001b[39m\u001b[23m 1984-01-01, 1984-04-01, 1984-07-01, 1984-10-01, 1985-…\n",
      "$ time_as_numeric \u001b[3m\u001b[90m<dbl>\u001b[39m\u001b[23m 5113, 5204, 5295, 5387, 5479, 5569, 5660, 5752, 5844, …\n",
      "$ GDP             \u001b[3m\u001b[90m<dbl>\u001b[39m\u001b[23m 3.908054e+12, 4.009601e+12, 4.084250e+12, 4.148551e+12…\n",
      "$ GDP_growth_rate \u001b[3m\u001b[90m<dbl>\u001b[39m\u001b[23m NA, 0.025984032, 0.018617563, 0.015743649, 0.019673616…\n"
     ]
    },
    {
     "data": {
      "text/html": [
       "1"
      ],
      "text/latex": [
       "1"
      ],
      "text/markdown": [
       "1"
      ],
      "text/plain": [
       "[1] 1"
      ]
     },
     "metadata": {},
     "output_type": "display_data"
    }
   ],
   "source": [
    "# Add GDP growth rate column\n",
    "GDP_filtered <- GDP_filtered %>%\n",
    "  mutate(\n",
    "    GDP_growth_rate = (GDP - lag(GDP)) / lag(GDP)\n",
    "  )\n",
    "\n",
    "# View the result\n",
    "glimpse(GDP_filtered)\n",
    "sum(is.na(GDP_filtered))\n",
    "\n"
   ]
  },
  {
   "cell_type": "markdown",
   "metadata": {},
   "source": [
    "# Part 8: Clean Loan Data"
   ]
  },
  {
   "cell_type": "code",
   "execution_count": 21,
   "metadata": {
    "vscode": {
     "languageId": "r"
    }
   },
   "outputs": [
    {
     "name": "stdout",
     "output_type": "stream",
     "text": [
      "Rows: 208\n",
      "Columns: 2\n",
      "$ DATE  \u001b[3m\u001b[90m<fct>\u001b[39m\u001b[23m 1973-01-01, 1973-04-01, 1973-07-01, 1973-10-01, 1974-01-01, 1974…\n",
      "$ TOTCI \u001b[3m\u001b[90m<fct>\u001b[39m\u001b[23m 139.9047000000000000, 149.8688000000000000, 157.0841538461538462…\n"
     ]
    }
   ],
   "source": [
    "# https://fred.stlouisfed.org/series/TOTCI\n",
    "loan_raw <- read.csv(\"/workspaces/DUKE_MIDS_QFC_Final_Project/dataset/Loans.csv\")\n",
    "glimpse(loan_raw)\n"
   ]
  },
  {
   "cell_type": "code",
   "execution_count": 22,
   "metadata": {
    "vscode": {
     "languageId": "r"
    }
   },
   "outputs": [
    {
     "name": "stderr",
     "output_type": "stream",
     "text": [
      "Warning message:\n",
      "“NAs introduced by coercion”\n"
     ]
    },
    {
     "name": "stdout",
     "output_type": "stream",
     "text": [
      "Rows: 162\n",
      "Columns: 3\n",
      "$ time_as_date    \u001b[3m\u001b[90m<date>\u001b[39m\u001b[23m 1984-01-01, 1984-04-01, 1984-07-01, 1984-10-01, 1985-…\n",
      "$ time_as_numeric \u001b[3m\u001b[90m<dbl>\u001b[39m\u001b[23m 5113, 5204, 5295, 5387, 5479, 5569, 5660, 5752, 5844, …\n",
      "$ loan            \u001b[3m\u001b[90m<dbl>\u001b[39m\u001b[23m 422715769231, 444453800000, 458430284615, 469857400000…\n"
     ]
    },
    {
     "data": {
      "text/html": [
       "0"
      ],
      "text/latex": [
       "0"
      ],
      "text/markdown": [
       "0"
      ],
      "text/plain": [
       "[1] 0"
      ]
     },
     "metadata": {},
     "output_type": "display_data"
    }
   ],
   "source": [
    "\n",
    "# Making column loan numeric\n",
    "loan_raw$loan <- as.numeric(as.character(loan_raw$TOTCI))\n",
    "\n",
    "# Converting this loan into billions \n",
    "loan_raw$loan <- loan_raw$loan * 1000000000\n",
    "\n",
    "# Time as a date\n",
    "loan_raw$DATE <- as.character(loan_raw$DATE)\n",
    "loan_raw$time_as_date <- as.Date(loan_raw$DATE, format = \"%Y-%m-%d\")\n",
    "\n",
    "# Time as numeric (used in certain regression models or methods)\n",
    "loan_raw$time_as_numeric <- as.numeric(loan_raw$time_as_date)\n",
    "\n",
    "# Filter data between 1984-01-01 and 2024-04-01\n",
    "loan_raw <- loan_raw[loan_raw$time_as_date >= as.Date(\"1984-01-01\") & loan_raw$time_as_date <= as.Date(\"2024-04-01\"), ]\n",
    "\n",
    "# Keep only the relevant columns\n",
    "columns_to_keep <- c(\"time_as_date\", \"time_as_numeric\", \"loan\")\n",
    "loan_filtered <- loan_raw[, columns_to_keep]\n",
    "\n",
    "# Check\n",
    "glimpse(loan_filtered)\n",
    "sum(is.na(loan_filtered))\n"
   ]
  },
  {
   "cell_type": "markdown",
   "metadata": {},
   "source": [
    "# Part 9: Clean Money Supply Data"
   ]
  },
  {
   "cell_type": "code",
   "execution_count": 23,
   "metadata": {
    "vscode": {
     "languageId": "r"
    }
   },
   "outputs": [
    {
     "name": "stdout",
     "output_type": "stream",
     "text": [
      "Rows: 256\n",
      "Columns: 2\n",
      "$ DATE            \u001b[3m\u001b[90m<fct>\u001b[39m\u001b[23m 1960-01-01, 1960-04-01, 1960-07-01, 1960-10-01, 1961-0…\n",
      "$ MABMM301USM189S \u001b[3m\u001b[90m<fct>\u001b[39m\u001b[23m 298633333333.33333333, 301100000000.00000000, 30646666…\n"
     ]
    }
   ],
   "source": [
    "# Source: https://fred.stlouisfed.org/series/MABMM301USM189S#0\n",
    "money_supply_raw <- read.csv(\"/workspaces/DUKE_MIDS_QFC_Final_Project/dataset/money_supply.csv\")\n",
    "glimpse(money_supply_raw)"
   ]
  },
  {
   "cell_type": "code",
   "execution_count": 24,
   "metadata": {
    "vscode": {
     "languageId": "r"
    }
   },
   "outputs": [
    {
     "name": "stderr",
     "output_type": "stream",
     "text": [
      "Warning message:\n",
      "“NAs introduced by coercion”\n"
     ]
    },
    {
     "name": "stdout",
     "output_type": "stream",
     "text": [
      "Rows: 160\n",
      "Columns: 3\n",
      "$ time_as_date    \u001b[3m\u001b[90m<date>\u001b[39m\u001b[23m 1984-01-01, 1984-04-01, 1984-07-01, 1984-10-01, 1985-…\n",
      "$ time_as_numeric \u001b[3m\u001b[90m<dbl>\u001b[39m\u001b[23m 5113, 5204, 5295, 5387, 5479, 5569, 5660, 5752, 5844, …\n",
      "$ money_supply    \u001b[3m\u001b[90m<dbl>\u001b[39m\u001b[23m 2.157200e+12, 2.203633e+12, 2.232767e+12, 2.282233e+12…\n"
     ]
    },
    {
     "data": {
      "text/html": [
       "1"
      ],
      "text/latex": [
       "1"
      ],
      "text/markdown": [
       "1"
      ],
      "text/plain": [
       "[1] 1"
      ]
     },
     "metadata": {},
     "output_type": "display_data"
    },
    {
     "data": {
      "text/html": [
       "<table class=\"dataframe\">\n",
       "<caption>A data.frame: 160 × 3</caption>\n",
       "<thead>\n",
       "\t<tr><th></th><th scope=col>time_as_date</th><th scope=col>time_as_numeric</th><th scope=col>money_supply</th></tr>\n",
       "\t<tr><th></th><th scope=col>&lt;date&gt;</th><th scope=col>&lt;dbl&gt;</th><th scope=col>&lt;dbl&gt;</th></tr>\n",
       "</thead>\n",
       "<tbody>\n",
       "\t<tr><th scope=row>97</th><td>1984-01-01</td><td>5113</td><td>2.157200e+12</td></tr>\n",
       "\t<tr><th scope=row>98</th><td>1984-04-01</td><td>5204</td><td>2.203633e+12</td></tr>\n",
       "\t<tr><th scope=row>99</th><td>1984-07-01</td><td>5295</td><td>2.232767e+12</td></tr>\n",
       "\t<tr><th scope=row>100</th><td>1984-10-01</td><td>5387</td><td>2.282233e+12</td></tr>\n",
       "\t<tr><th scope=row>101</th><td>1985-01-01</td><td>5479</td><td>2.350900e+12</td></tr>\n",
       "\t<tr><th scope=row>102</th><td>1985-04-01</td><td>5569</td><td>2.392500e+12</td></tr>\n",
       "\t<tr><th scope=row>103</th><td>1985-07-01</td><td>5660</td><td>2.443300e+12</td></tr>\n",
       "\t<tr><th scope=row>104</th><td>1985-10-01</td><td>5752</td><td>2.479300e+12</td></tr>\n",
       "\t<tr><th scope=row>105</th><td>1986-01-01</td><td>5844</td><td>2.516033e+12</td></tr>\n",
       "\t<tr><th scope=row>106</th><td>1986-04-01</td><td>5934</td><td>2.582533e+12</td></tr>\n",
       "\t<tr><th scope=row>107</th><td>1986-07-01</td><td>6025</td><td>2.646967e+12</td></tr>\n",
       "\t<tr><th scope=row>108</th><td>1986-10-01</td><td>6117</td><td>2.705567e+12</td></tr>\n",
       "\t<tr><th scope=row>109</th><td>1987-01-01</td><td>6209</td><td>2.748367e+12</td></tr>\n",
       "\t<tr><th scope=row>110</th><td>1987-04-01</td><td>6299</td><td>2.771733e+12</td></tr>\n",
       "\t<tr><th scope=row>111</th><td>1987-07-01</td><td>6390</td><td>2.788900e+12</td></tr>\n",
       "\t<tr><th scope=row>112</th><td>1987-10-01</td><td>6482</td><td>2.820033e+12</td></tr>\n",
       "\t<tr><th scope=row>113</th><td>1988-01-01</td><td>6574</td><td>2.869500e+12</td></tr>\n",
       "\t<tr><th scope=row>114</th><td>1988-04-01</td><td>6665</td><td>2.925033e+12</td></tr>\n",
       "\t<tr><th scope=row>115</th><td>1988-07-01</td><td>6756</td><td>2.952033e+12</td></tr>\n",
       "\t<tr><th scope=row>116</th><td>1988-10-01</td><td>6848</td><td>2.977900e+12</td></tr>\n",
       "\t<tr><th scope=row>117</th><td>1989-01-01</td><td>6940</td><td>2.994533e+12</td></tr>\n",
       "\t<tr><th scope=row>118</th><td>1989-04-01</td><td>7030</td><td>3.015167e+12</td></tr>\n",
       "\t<tr><th scope=row>119</th><td>1989-07-01</td><td>7121</td><td>3.073100e+12</td></tr>\n",
       "\t<tr><th scope=row>120</th><td>1989-10-01</td><td>7213</td><td>3.133300e+12</td></tr>\n",
       "\t<tr><th scope=row>121</th><td>1990-01-01</td><td>7305</td><td>3.178700e+12</td></tr>\n",
       "\t<tr><th scope=row>122</th><td>1990-04-01</td><td>7395</td><td>3.205300e+12</td></tr>\n",
       "\t<tr><th scope=row>123</th><td>1990-07-01</td><td>7486</td><td>3.240367e+12</td></tr>\n",
       "\t<tr><th scope=row>124</th><td>1990-10-01</td><td>7578</td><td>3.264567e+12</td></tr>\n",
       "\t<tr><th scope=row>125</th><td>1991-01-01</td><td>7670</td><td>3.304700e+12</td></tr>\n",
       "\t<tr><th scope=row>126</th><td>1991-04-01</td><td>7760</td><td>3.342433e+12</td></tr>\n",
       "\t<tr><th scope=row>⋮</th><td>⋮</td><td>⋮</td><td>⋮</td></tr>\n",
       "\t<tr><th scope=row>227</th><td>2016-07-01</td><td>16983</td><td>1.296470e+13</td></tr>\n",
       "\t<tr><th scope=row>228</th><td>2016-10-01</td><td>17075</td><td>1.316243e+13</td></tr>\n",
       "\t<tr><th scope=row>229</th><td>2017-01-01</td><td>17167</td><td>1.335637e+13</td></tr>\n",
       "\t<tr><th scope=row>230</th><td>2017-04-01</td><td>17257</td><td>1.352740e+13</td></tr>\n",
       "\t<tr><th scope=row>231</th><td>2017-07-01</td><td>17348</td><td>1.367010e+13</td></tr>\n",
       "\t<tr><th scope=row>232</th><td>2017-10-01</td><td>17440</td><td>1.380930e+13</td></tr>\n",
       "\t<tr><th scope=row>233</th><td>2018-01-01</td><td>17532</td><td>1.391740e+13</td></tr>\n",
       "\t<tr><th scope=row>234</th><td>2018-04-01</td><td>17622</td><td>1.404653e+13</td></tr>\n",
       "\t<tr><th scope=row>235</th><td>2018-07-01</td><td>17713</td><td>1.417780e+13</td></tr>\n",
       "\t<tr><th scope=row>236</th><td>2018-10-01</td><td>17805</td><td>1.427400e+13</td></tr>\n",
       "\t<tr><th scope=row>237</th><td>2019-01-01</td><td>17897</td><td>1.446993e+13</td></tr>\n",
       "\t<tr><th scope=row>238</th><td>2019-04-01</td><td>17987</td><td>1.464730e+13</td></tr>\n",
       "\t<tr><th scope=row>239</th><td>2019-07-01</td><td>18078</td><td>1.492110e+13</td></tr>\n",
       "\t<tr><th scope=row>240</th><td>2019-10-01</td><td>18170</td><td>1.523457e+13</td></tr>\n",
       "\t<tr><th scope=row>241</th><td>2020-01-01</td><td>18262</td><td>1.560833e+13</td></tr>\n",
       "\t<tr><th scope=row>242</th><td>2020-04-01</td><td>18353</td><td>1.766013e+13</td></tr>\n",
       "\t<tr><th scope=row>243</th><td>2020-07-01</td><td>18444</td><td>1.840320e+13</td></tr>\n",
       "\t<tr><th scope=row>244</th><td>2020-10-01</td><td>18536</td><td>1.893093e+13</td></tr>\n",
       "\t<tr><th scope=row>245</th><td>2021-01-01</td><td>18628</td><td>1.959917e+13</td></tr>\n",
       "\t<tr><th scope=row>246</th><td>2021-04-01</td><td>18718</td><td>2.035143e+13</td></tr>\n",
       "\t<tr><th scope=row>247</th><td>2021-07-01</td><td>18809</td><td>2.082503e+13</td></tr>\n",
       "\t<tr><th scope=row>248</th><td>2021-10-01</td><td>18901</td><td>2.132690e+13</td></tr>\n",
       "\t<tr><th scope=row>249</th><td>2022-01-01</td><td>18993</td><td>2.161030e+13</td></tr>\n",
       "\t<tr><th scope=row>250</th><td>2022-04-01</td><td>19083</td><td>2.166957e+13</td></tr>\n",
       "\t<tr><th scope=row>251</th><td>2022-07-01</td><td>19174</td><td>2.162947e+13</td></tr>\n",
       "\t<tr><th scope=row>252</th><td>2022-10-01</td><td>19266</td><td>2.139693e+13</td></tr>\n",
       "\t<tr><th scope=row>253</th><td>2023-01-01</td><td>19358</td><td>2.106583e+13</td></tr>\n",
       "\t<tr><th scope=row>254</th><td>2023-04-01</td><td>19448</td><td>2.079353e+13</td></tr>\n",
       "\t<tr><th scope=row>255</th><td>2023-07-01</td><td>19539</td><td>2.081483e+13</td></tr>\n",
       "\t<tr><th scope=row>256</th><td>2023-10-01</td><td>19631</td><td>          NA</td></tr>\n",
       "</tbody>\n",
       "</table>\n"
      ],
      "text/latex": [
       "A data.frame: 160 × 3\n",
       "\\begin{tabular}{r|lll}\n",
       "  & time\\_as\\_date & time\\_as\\_numeric & money\\_supply\\\\\n",
       "  & <date> & <dbl> & <dbl>\\\\\n",
       "\\hline\n",
       "\t97 & 1984-01-01 & 5113 & 2.157200e+12\\\\\n",
       "\t98 & 1984-04-01 & 5204 & 2.203633e+12\\\\\n",
       "\t99 & 1984-07-01 & 5295 & 2.232767e+12\\\\\n",
       "\t100 & 1984-10-01 & 5387 & 2.282233e+12\\\\\n",
       "\t101 & 1985-01-01 & 5479 & 2.350900e+12\\\\\n",
       "\t102 & 1985-04-01 & 5569 & 2.392500e+12\\\\\n",
       "\t103 & 1985-07-01 & 5660 & 2.443300e+12\\\\\n",
       "\t104 & 1985-10-01 & 5752 & 2.479300e+12\\\\\n",
       "\t105 & 1986-01-01 & 5844 & 2.516033e+12\\\\\n",
       "\t106 & 1986-04-01 & 5934 & 2.582533e+12\\\\\n",
       "\t107 & 1986-07-01 & 6025 & 2.646967e+12\\\\\n",
       "\t108 & 1986-10-01 & 6117 & 2.705567e+12\\\\\n",
       "\t109 & 1987-01-01 & 6209 & 2.748367e+12\\\\\n",
       "\t110 & 1987-04-01 & 6299 & 2.771733e+12\\\\\n",
       "\t111 & 1987-07-01 & 6390 & 2.788900e+12\\\\\n",
       "\t112 & 1987-10-01 & 6482 & 2.820033e+12\\\\\n",
       "\t113 & 1988-01-01 & 6574 & 2.869500e+12\\\\\n",
       "\t114 & 1988-04-01 & 6665 & 2.925033e+12\\\\\n",
       "\t115 & 1988-07-01 & 6756 & 2.952033e+12\\\\\n",
       "\t116 & 1988-10-01 & 6848 & 2.977900e+12\\\\\n",
       "\t117 & 1989-01-01 & 6940 & 2.994533e+12\\\\\n",
       "\t118 & 1989-04-01 & 7030 & 3.015167e+12\\\\\n",
       "\t119 & 1989-07-01 & 7121 & 3.073100e+12\\\\\n",
       "\t120 & 1989-10-01 & 7213 & 3.133300e+12\\\\\n",
       "\t121 & 1990-01-01 & 7305 & 3.178700e+12\\\\\n",
       "\t122 & 1990-04-01 & 7395 & 3.205300e+12\\\\\n",
       "\t123 & 1990-07-01 & 7486 & 3.240367e+12\\\\\n",
       "\t124 & 1990-10-01 & 7578 & 3.264567e+12\\\\\n",
       "\t125 & 1991-01-01 & 7670 & 3.304700e+12\\\\\n",
       "\t126 & 1991-04-01 & 7760 & 3.342433e+12\\\\\n",
       "\t⋮ & ⋮ & ⋮ & ⋮\\\\\n",
       "\t227 & 2016-07-01 & 16983 & 1.296470e+13\\\\\n",
       "\t228 & 2016-10-01 & 17075 & 1.316243e+13\\\\\n",
       "\t229 & 2017-01-01 & 17167 & 1.335637e+13\\\\\n",
       "\t230 & 2017-04-01 & 17257 & 1.352740e+13\\\\\n",
       "\t231 & 2017-07-01 & 17348 & 1.367010e+13\\\\\n",
       "\t232 & 2017-10-01 & 17440 & 1.380930e+13\\\\\n",
       "\t233 & 2018-01-01 & 17532 & 1.391740e+13\\\\\n",
       "\t234 & 2018-04-01 & 17622 & 1.404653e+13\\\\\n",
       "\t235 & 2018-07-01 & 17713 & 1.417780e+13\\\\\n",
       "\t236 & 2018-10-01 & 17805 & 1.427400e+13\\\\\n",
       "\t237 & 2019-01-01 & 17897 & 1.446993e+13\\\\\n",
       "\t238 & 2019-04-01 & 17987 & 1.464730e+13\\\\\n",
       "\t239 & 2019-07-01 & 18078 & 1.492110e+13\\\\\n",
       "\t240 & 2019-10-01 & 18170 & 1.523457e+13\\\\\n",
       "\t241 & 2020-01-01 & 18262 & 1.560833e+13\\\\\n",
       "\t242 & 2020-04-01 & 18353 & 1.766013e+13\\\\\n",
       "\t243 & 2020-07-01 & 18444 & 1.840320e+13\\\\\n",
       "\t244 & 2020-10-01 & 18536 & 1.893093e+13\\\\\n",
       "\t245 & 2021-01-01 & 18628 & 1.959917e+13\\\\\n",
       "\t246 & 2021-04-01 & 18718 & 2.035143e+13\\\\\n",
       "\t247 & 2021-07-01 & 18809 & 2.082503e+13\\\\\n",
       "\t248 & 2021-10-01 & 18901 & 2.132690e+13\\\\\n",
       "\t249 & 2022-01-01 & 18993 & 2.161030e+13\\\\\n",
       "\t250 & 2022-04-01 & 19083 & 2.166957e+13\\\\\n",
       "\t251 & 2022-07-01 & 19174 & 2.162947e+13\\\\\n",
       "\t252 & 2022-10-01 & 19266 & 2.139693e+13\\\\\n",
       "\t253 & 2023-01-01 & 19358 & 2.106583e+13\\\\\n",
       "\t254 & 2023-04-01 & 19448 & 2.079353e+13\\\\\n",
       "\t255 & 2023-07-01 & 19539 & 2.081483e+13\\\\\n",
       "\t256 & 2023-10-01 & 19631 &           NA\\\\\n",
       "\\end{tabular}\n"
      ],
      "text/markdown": [
       "\n",
       "A data.frame: 160 × 3\n",
       "\n",
       "| <!--/--> | time_as_date &lt;date&gt; | time_as_numeric &lt;dbl&gt; | money_supply &lt;dbl&gt; |\n",
       "|---|---|---|---|\n",
       "| 97 | 1984-01-01 | 5113 | 2.157200e+12 |\n",
       "| 98 | 1984-04-01 | 5204 | 2.203633e+12 |\n",
       "| 99 | 1984-07-01 | 5295 | 2.232767e+12 |\n",
       "| 100 | 1984-10-01 | 5387 | 2.282233e+12 |\n",
       "| 101 | 1985-01-01 | 5479 | 2.350900e+12 |\n",
       "| 102 | 1985-04-01 | 5569 | 2.392500e+12 |\n",
       "| 103 | 1985-07-01 | 5660 | 2.443300e+12 |\n",
       "| 104 | 1985-10-01 | 5752 | 2.479300e+12 |\n",
       "| 105 | 1986-01-01 | 5844 | 2.516033e+12 |\n",
       "| 106 | 1986-04-01 | 5934 | 2.582533e+12 |\n",
       "| 107 | 1986-07-01 | 6025 | 2.646967e+12 |\n",
       "| 108 | 1986-10-01 | 6117 | 2.705567e+12 |\n",
       "| 109 | 1987-01-01 | 6209 | 2.748367e+12 |\n",
       "| 110 | 1987-04-01 | 6299 | 2.771733e+12 |\n",
       "| 111 | 1987-07-01 | 6390 | 2.788900e+12 |\n",
       "| 112 | 1987-10-01 | 6482 | 2.820033e+12 |\n",
       "| 113 | 1988-01-01 | 6574 | 2.869500e+12 |\n",
       "| 114 | 1988-04-01 | 6665 | 2.925033e+12 |\n",
       "| 115 | 1988-07-01 | 6756 | 2.952033e+12 |\n",
       "| 116 | 1988-10-01 | 6848 | 2.977900e+12 |\n",
       "| 117 | 1989-01-01 | 6940 | 2.994533e+12 |\n",
       "| 118 | 1989-04-01 | 7030 | 3.015167e+12 |\n",
       "| 119 | 1989-07-01 | 7121 | 3.073100e+12 |\n",
       "| 120 | 1989-10-01 | 7213 | 3.133300e+12 |\n",
       "| 121 | 1990-01-01 | 7305 | 3.178700e+12 |\n",
       "| 122 | 1990-04-01 | 7395 | 3.205300e+12 |\n",
       "| 123 | 1990-07-01 | 7486 | 3.240367e+12 |\n",
       "| 124 | 1990-10-01 | 7578 | 3.264567e+12 |\n",
       "| 125 | 1991-01-01 | 7670 | 3.304700e+12 |\n",
       "| 126 | 1991-04-01 | 7760 | 3.342433e+12 |\n",
       "| ⋮ | ⋮ | ⋮ | ⋮ |\n",
       "| 227 | 2016-07-01 | 16983 | 1.296470e+13 |\n",
       "| 228 | 2016-10-01 | 17075 | 1.316243e+13 |\n",
       "| 229 | 2017-01-01 | 17167 | 1.335637e+13 |\n",
       "| 230 | 2017-04-01 | 17257 | 1.352740e+13 |\n",
       "| 231 | 2017-07-01 | 17348 | 1.367010e+13 |\n",
       "| 232 | 2017-10-01 | 17440 | 1.380930e+13 |\n",
       "| 233 | 2018-01-01 | 17532 | 1.391740e+13 |\n",
       "| 234 | 2018-04-01 | 17622 | 1.404653e+13 |\n",
       "| 235 | 2018-07-01 | 17713 | 1.417780e+13 |\n",
       "| 236 | 2018-10-01 | 17805 | 1.427400e+13 |\n",
       "| 237 | 2019-01-01 | 17897 | 1.446993e+13 |\n",
       "| 238 | 2019-04-01 | 17987 | 1.464730e+13 |\n",
       "| 239 | 2019-07-01 | 18078 | 1.492110e+13 |\n",
       "| 240 | 2019-10-01 | 18170 | 1.523457e+13 |\n",
       "| 241 | 2020-01-01 | 18262 | 1.560833e+13 |\n",
       "| 242 | 2020-04-01 | 18353 | 1.766013e+13 |\n",
       "| 243 | 2020-07-01 | 18444 | 1.840320e+13 |\n",
       "| 244 | 2020-10-01 | 18536 | 1.893093e+13 |\n",
       "| 245 | 2021-01-01 | 18628 | 1.959917e+13 |\n",
       "| 246 | 2021-04-01 | 18718 | 2.035143e+13 |\n",
       "| 247 | 2021-07-01 | 18809 | 2.082503e+13 |\n",
       "| 248 | 2021-10-01 | 18901 | 2.132690e+13 |\n",
       "| 249 | 2022-01-01 | 18993 | 2.161030e+13 |\n",
       "| 250 | 2022-04-01 | 19083 | 2.166957e+13 |\n",
       "| 251 | 2022-07-01 | 19174 | 2.162947e+13 |\n",
       "| 252 | 2022-10-01 | 19266 | 2.139693e+13 |\n",
       "| 253 | 2023-01-01 | 19358 | 2.106583e+13 |\n",
       "| 254 | 2023-04-01 | 19448 | 2.079353e+13 |\n",
       "| 255 | 2023-07-01 | 19539 | 2.081483e+13 |\n",
       "| 256 | 2023-10-01 | 19631 |           NA |\n",
       "\n"
      ],
      "text/plain": [
       "    time_as_date time_as_numeric money_supply\n",
       "97  1984-01-01   5113            2.157200e+12\n",
       "98  1984-04-01   5204            2.203633e+12\n",
       "99  1984-07-01   5295            2.232767e+12\n",
       "100 1984-10-01   5387            2.282233e+12\n",
       "101 1985-01-01   5479            2.350900e+12\n",
       "102 1985-04-01   5569            2.392500e+12\n",
       "103 1985-07-01   5660            2.443300e+12\n",
       "104 1985-10-01   5752            2.479300e+12\n",
       "105 1986-01-01   5844            2.516033e+12\n",
       "106 1986-04-01   5934            2.582533e+12\n",
       "107 1986-07-01   6025            2.646967e+12\n",
       "108 1986-10-01   6117            2.705567e+12\n",
       "109 1987-01-01   6209            2.748367e+12\n",
       "110 1987-04-01   6299            2.771733e+12\n",
       "111 1987-07-01   6390            2.788900e+12\n",
       "112 1987-10-01   6482            2.820033e+12\n",
       "113 1988-01-01   6574            2.869500e+12\n",
       "114 1988-04-01   6665            2.925033e+12\n",
       "115 1988-07-01   6756            2.952033e+12\n",
       "116 1988-10-01   6848            2.977900e+12\n",
       "117 1989-01-01   6940            2.994533e+12\n",
       "118 1989-04-01   7030            3.015167e+12\n",
       "119 1989-07-01   7121            3.073100e+12\n",
       "120 1989-10-01   7213            3.133300e+12\n",
       "121 1990-01-01   7305            3.178700e+12\n",
       "122 1990-04-01   7395            3.205300e+12\n",
       "123 1990-07-01   7486            3.240367e+12\n",
       "124 1990-10-01   7578            3.264567e+12\n",
       "125 1991-01-01   7670            3.304700e+12\n",
       "126 1991-04-01   7760            3.342433e+12\n",
       "⋮   ⋮            ⋮               ⋮           \n",
       "227 2016-07-01   16983           1.296470e+13\n",
       "228 2016-10-01   17075           1.316243e+13\n",
       "229 2017-01-01   17167           1.335637e+13\n",
       "230 2017-04-01   17257           1.352740e+13\n",
       "231 2017-07-01   17348           1.367010e+13\n",
       "232 2017-10-01   17440           1.380930e+13\n",
       "233 2018-01-01   17532           1.391740e+13\n",
       "234 2018-04-01   17622           1.404653e+13\n",
       "235 2018-07-01   17713           1.417780e+13\n",
       "236 2018-10-01   17805           1.427400e+13\n",
       "237 2019-01-01   17897           1.446993e+13\n",
       "238 2019-04-01   17987           1.464730e+13\n",
       "239 2019-07-01   18078           1.492110e+13\n",
       "240 2019-10-01   18170           1.523457e+13\n",
       "241 2020-01-01   18262           1.560833e+13\n",
       "242 2020-04-01   18353           1.766013e+13\n",
       "243 2020-07-01   18444           1.840320e+13\n",
       "244 2020-10-01   18536           1.893093e+13\n",
       "245 2021-01-01   18628           1.959917e+13\n",
       "246 2021-04-01   18718           2.035143e+13\n",
       "247 2021-07-01   18809           2.082503e+13\n",
       "248 2021-10-01   18901           2.132690e+13\n",
       "249 2022-01-01   18993           2.161030e+13\n",
       "250 2022-04-01   19083           2.166957e+13\n",
       "251 2022-07-01   19174           2.162947e+13\n",
       "252 2022-10-01   19266           2.139693e+13\n",
       "253 2023-01-01   19358           2.106583e+13\n",
       "254 2023-04-01   19448           2.079353e+13\n",
       "255 2023-07-01   19539           2.081483e+13\n",
       "256 2023-10-01   19631                     NA"
      ]
     },
     "metadata": {},
     "output_type": "display_data"
    }
   ],
   "source": [
    "# Making column money supply numeric\n",
    "money_supply_raw$money_supply <- as.numeric(as.character(money_supply_raw$MABMM301USM189S))\n",
    "\n",
    "# Time as a date\n",
    "money_supply_raw$DATE <- as.character(money_supply_raw$DATE)\n",
    "money_supply_raw$time_as_date <- as.Date(money_supply_raw$DATE, format = \"%Y-%m-%d\")\n",
    "\n",
    "# Time as numeric (used in certain regression models or methods)\n",
    "money_supply_raw$time_as_numeric <- as.numeric(money_supply_raw$time_as_date)\n",
    "\n",
    "# Filter data between 1984-01-01 and 2024-04-01\n",
    "money_supply_raw <- money_supply_raw[money_supply_raw$time_as_date >= as.Date(\"1984-01-01\") & money_supply_raw$time_as_date <= as.Date(\"2024-04-01\"), ]\n",
    "\n",
    "# Keep only the relevant columns\n",
    "columns_to_keep <- c(\"time_as_date\", \"time_as_numeric\", \"money_supply\")\n",
    "money_supply_filtered <- money_supply_raw[, columns_to_keep]\n",
    "\n",
    "# Check\n",
    "glimpse(money_supply_filtered)\n",
    "sum(is.na(money_supply_filtered))\n",
    "money_supply_filtered"
   ]
  },
  {
   "cell_type": "markdown",
   "metadata": {},
   "source": [
    "# Part 10: Clean Reserves of Depository"
   ]
  },
  {
   "cell_type": "code",
   "execution_count": 25,
   "metadata": {
    "vscode": {
     "languageId": "r"
    }
   },
   "outputs": [
    {
     "name": "stdout",
     "output_type": "stream",
     "text": [
      "Rows: 264\n",
      "Columns: 2\n",
      "$ DATE     \u001b[3m\u001b[90m<fct>\u001b[39m\u001b[23m 1959-01-01, 1959-04-01, 1959-07-01, 1959-10-01, 1960-01-01, 1…\n",
      "$ TOTRESNS \u001b[3m\u001b[90m<fct>\u001b[39m\u001b[23m 18.6333333333333333, 18.6000000000000000, 18.6333333333333333…\n"
     ]
    }
   ],
   "source": [
    "# Source: https://fred.stlouisfed.org/series/TOTRESNS#0\n",
    "depository_reserve_raw <- read.csv(\"/workspaces/DUKE_MIDS_QFC_Final_Project/dataset/reserves_deposit.csv\")\n",
    "glimpse(depository_reserve_raw)"
   ]
  },
  {
   "cell_type": "code",
   "execution_count": 26,
   "metadata": {
    "vscode": {
     "languageId": "r"
    }
   },
   "outputs": [
    {
     "name": "stderr",
     "output_type": "stream",
     "text": [
      "Warning message:\n",
      "“NAs introduced by coercion”\n"
     ]
    },
    {
     "name": "stdout",
     "output_type": "stream",
     "text": [
      "Rows: 162\n",
      "Columns: 3\n",
      "$ time_as_date    \u001b[3m\u001b[90m<date>\u001b[39m\u001b[23m 1984-01-01, 1984-04-01, 1984-07-01, 1984-10-01, 1985-…\n",
      "$ time_as_numeric \u001b[3m\u001b[90m<dbl>\u001b[39m\u001b[23m 5113, 5204, 5295, 5387, 5479, 5569, 5660, 5752, 5844, …\n",
      "$ deposit_reserve \u001b[3m\u001b[90m<dbl>\u001b[39m\u001b[23m 37533333333, 37033333333, 37600000000, 39466666667, 40…\n"
     ]
    },
    {
     "data": {
      "text/html": [
       "0"
      ],
      "text/latex": [
       "0"
      ],
      "text/markdown": [
       "0"
      ],
      "text/plain": [
       "[1] 0"
      ]
     },
     "metadata": {},
     "output_type": "display_data"
    }
   ],
   "source": [
    "# Making column loan numeric\n",
    "depository_reserve_raw$deposit_reserve<- as.numeric(as.character(depository_reserve_raw$TOTRESNS))\n",
    "\n",
    "# Converting this loan into billions \n",
    "depository_reserve_raw$deposit_reserve <- depository_reserve_raw$deposit_reserve * 1000000000\n",
    "\n",
    "# Time as a date\n",
    "depository_reserve_raw$DATE <- as.character(depository_reserve_raw$DATE)\n",
    "depository_reserve_raw$time_as_date <- as.Date(depository_reserve_raw$DATE, format = \"%Y-%m-%d\")\n",
    "\n",
    "# Time as numeric (used in certain regression models or methods)\n",
    "depository_reserve_raw$time_as_numeric <- as.numeric(depository_reserve_raw$time_as_date)\n",
    "\n",
    "# Filter data between 1984-01-01 and 2024-04-01\n",
    "depository_reserve_raw <- depository_reserve_raw[depository_reserve_raw$time_as_date >= as.Date(\"1984-01-01\") & depository_reserve_raw$time_as_date <= as.Date(\"2024-04-01\"), ]\n",
    "\n",
    "# Keep only the relevant columns\n",
    "columns_to_keep <- c(\"time_as_date\", \"time_as_numeric\", \"deposit_reserve\")\n",
    "depository_reserve_filtered <- depository_reserve_raw[, columns_to_keep]\n",
    "\n",
    "# Check\n",
    "glimpse(depository_reserve_filtered)\n",
    "sum(is.na(depository_reserve_filtered))"
   ]
  },
  {
   "cell_type": "markdown",
   "metadata": {},
   "source": [
    "# Part 11: Consumer Sentimnent Index"
   ]
  },
  {
   "cell_type": "code",
   "execution_count": 27,
   "metadata": {
    "vscode": {
     "languageId": "r"
    }
   },
   "outputs": [
    {
     "name": "stdout",
     "output_type": "stream",
     "text": [
      "Rows: 288\n",
      "Columns: 2\n",
      "$ DATE    \u001b[3m\u001b[90m<fct>\u001b[39m\u001b[23m 1953-01-01, 1953-04-01, 1953-07-01, 1953-10-01, 1954-01-01, 19…\n",
      "$ UMCSENT \u001b[3m\u001b[90m<fct>\u001b[39m\u001b[23m 90.7000000000000000, ., 80.8000000000000000, 80.70000000000000…\n"
     ]
    }
   ],
   "source": [
    "# Source: https://fred.stlouisfed.org/series/UMCSENT#0\n",
    "consumer_sentiment_raw <- read.csv(\"/workspaces/DUKE_MIDS_QFC_Final_Project/dataset/consumer_sentiment_index.csv\")\n",
    "glimpse(consumer_sentiment_raw)"
   ]
  },
  {
   "cell_type": "code",
   "execution_count": 28,
   "metadata": {
    "vscode": {
     "languageId": "r"
    }
   },
   "outputs": [
    {
     "name": "stderr",
     "output_type": "stream",
     "text": [
      "Warning message:\n",
      "“NAs introduced by coercion”\n"
     ]
    },
    {
     "name": "stdout",
     "output_type": "stream",
     "text": [
      "Rows: 162\n",
      "Columns: 3\n",
      "$ time_as_date       \u001b[3m\u001b[90m<date>\u001b[39m\u001b[23m 1984-01-01, 1984-04-01, 1984-07-01, 1984-10-01, 19…\n",
      "$ time_as_numeric    \u001b[3m\u001b[90m<dbl>\u001b[39m\u001b[23m 5113, 5204, 5295, 5387, 5479, 5569, 5660, 5752, 584…\n",
      "$ consumer_sentiment \u001b[3m\u001b[90m<dbl>\u001b[39m\u001b[23m 99.50000, 96.56667, 98.86667, 94.96667, 94.46667, 9…\n"
     ]
    },
    {
     "data": {
      "text/html": [
       "0"
      ],
      "text/latex": [
       "0"
      ],
      "text/markdown": [
       "0"
      ],
      "text/plain": [
       "[1] 0"
      ]
     },
     "metadata": {},
     "output_type": "display_data"
    }
   ],
   "source": [
    "# Making column loan numeric\n",
    "consumer_sentiment_raw$consumer_sentiment<- as.numeric(as.character(consumer_sentiment_raw$UMCSENT))\n",
    "\n",
    "# Time as a date\n",
    "consumer_sentiment_raw$DATE <- as.character(consumer_sentiment_raw$DATE)\n",
    "consumer_sentiment_raw$time_as_date <- as.Date(consumer_sentiment_raw$DATE, format = \"%Y-%m-%d\")\n",
    "\n",
    "# Time as numeric (used in certain regression models or methods)\n",
    "consumer_sentiment_raw$time_as_numeric <- as.numeric(consumer_sentiment_raw$time_as_date)\n",
    "\n",
    "# Filter data between 1984-01-01 and 2024-04-01\n",
    "consumer_sentiment_raw <- consumer_sentiment_raw[consumer_sentiment_raw$time_as_date >= as.Date(\"1984-01-01\") & consumer_sentiment_raw$time_as_date <= as.Date(\"2024-04-01\"), ]\n",
    "\n",
    "# Keep only the relevant columns\n",
    "columns_to_keep <- c(\"time_as_date\", \"time_as_numeric\", \"consumer_sentiment\")\n",
    "consumer_sentiment_filtered <- consumer_sentiment_raw[, columns_to_keep]\n",
    "\n",
    "# Check\n",
    "glimpse(consumer_sentiment_filtered)\n",
    "sum(is.na(consumer_sentiment_filtered))"
   ]
  },
  {
   "cell_type": "markdown",
   "metadata": {},
   "source": [
    "# Part 12: Clean Homeownership Rate"
   ]
  },
  {
   "cell_type": "code",
   "execution_count": 29,
   "metadata": {
    "vscode": {
     "languageId": "r"
    }
   },
   "outputs": [
    {
     "name": "stdout",
     "output_type": "stream",
     "text": [
      "Rows: 239\n",
      "Columns: 2\n",
      "$ DATE        \u001b[3m\u001b[90m<fct>\u001b[39m\u001b[23m 1965-01-01, 1965-04-01, 1965-07-01, 1965-10-01, 1966-01-01…\n",
      "$ RHORUSQ156N \u001b[3m\u001b[90m<dbl>\u001b[39m\u001b[23m 62.9, 62.9, 62.9, 63.4, 63.5, 63.2, 63.3, 63.8, 63.3, 63.9…\n"
     ]
    }
   ],
   "source": [
    "# Source: https://fred.stlouisfed.org/series/RHORUSQ156N#0\n",
    "homeownership_raw <- read.csv(\"/workspaces/DUKE_MIDS_QFC_Final_Project/dataset/homeownership_rate.csv\")\n",
    "glimpse(homeownership_raw)"
   ]
  },
  {
   "cell_type": "code",
   "execution_count": 30,
   "metadata": {
    "vscode": {
     "languageId": "r"
    }
   },
   "outputs": [
    {
     "name": "stdout",
     "output_type": "stream",
     "text": [
      "Rows: 162\n",
      "Columns: 3\n",
      "$ time_as_date       \u001b[3m\u001b[90m<date>\u001b[39m\u001b[23m 1984-01-01, 1984-04-01, 1984-07-01, 1984-10-01, 19…\n",
      "$ time_as_numeric    \u001b[3m\u001b[90m<dbl>\u001b[39m\u001b[23m 5113, 5204, 5295, 5387, 5479, 5569, 5660, 5752, 584…\n",
      "$ homeownership_rate \u001b[3m\u001b[90m<dbl>\u001b[39m\u001b[23m 0.646, 0.646, 0.646, 0.641, 0.641, 0.641, 0.639, 0.…\n"
     ]
    },
    {
     "data": {
      "text/html": [
       "0"
      ],
      "text/latex": [
       "0"
      ],
      "text/markdown": [
       "0"
      ],
      "text/plain": [
       "[1] 0"
      ]
     },
     "metadata": {},
     "output_type": "display_data"
    }
   ],
   "source": [
    "# Making column loan numeric\n",
    "homeownership_raw$homeownership_rate<- as.numeric(as.character(homeownership_raw$RHORUSQ156N))\n",
    "\n",
    "# Converting rate into true unites by making it a decimal\n",
    "homeownership_raw$homeownership_rate <- homeownership_raw$homeownership_rate / 100\n",
    "\n",
    "# Time as a date\n",
    "homeownership_raw$DATE <- as.character(homeownership_raw$DATE)\n",
    "homeownership_raw$time_as_date <- as.Date(homeownership_raw$DATE, format = \"%Y-%m-%d\")\n",
    "\n",
    "# Time as numeric (used in certain regression models or methods)\n",
    "homeownership_raw$time_as_numeric <- as.numeric(homeownership_raw$time_as_date)\n",
    "\n",
    "# Filter data between 1984-01-01 and 2024-04-01\n",
    "homeownership_raw <- homeownership_raw[homeownership_raw$time_as_date >= as.Date(\"1984-01-01\") & homeownership_raw$time_as_date <= as.Date(\"2024-04-01\"), ]\n",
    "\n",
    "# Keep only the relevant columns\n",
    "columns_to_keep <- c(\"time_as_date\", \"time_as_numeric\", \"homeownership_rate\")\n",
    "homeownership_filtered <- homeownership_raw[, columns_to_keep]\n",
    "\n",
    "# Check\n",
    "glimpse(homeownership_filtered)\n",
    "sum(is.na(homeownership_filtered))"
   ]
  },
  {
   "cell_type": "markdown",
   "metadata": {},
   "source": [
    "# Part 13: Clean CBOE Volatility Index VIX"
   ]
  },
  {
   "cell_type": "code",
   "execution_count": 31,
   "metadata": {
    "vscode": {
     "languageId": "r"
    }
   },
   "outputs": [
    {
     "name": "stdout",
     "output_type": "stream",
     "text": [
      "Rows: 140\n",
      "Columns: 2\n",
      "$ DATE   \u001b[3m\u001b[90m<fct>\u001b[39m\u001b[23m 1990-01-01, 1990-04-01, 1990-07-01, 1990-10-01, 1991-01-01, 199…\n",
      "$ VIXCLS \u001b[3m\u001b[90m<fct>\u001b[39m\u001b[23m 22.1746031746031746, 18.7220634920634921, 25.1955555555555556, …\n"
     ]
    }
   ],
   "source": [
    "vix_raw <- read.csv(\"/workspaces/DUKE_MIDS_QFC_Final_Project/dataset/VIX.csv\")\n",
    "glimpse(vix_raw)"
   ]
  },
  {
   "cell_type": "code",
   "execution_count": 32,
   "metadata": {
    "vscode": {
     "languageId": "r"
    }
   },
   "outputs": [
    {
     "name": "stderr",
     "output_type": "stream",
     "text": [
      "Warning message:\n",
      "“NAs introduced by coercion”\n"
     ]
    },
    {
     "name": "stdout",
     "output_type": "stream",
     "text": [
      "Rows: 138\n",
      "Columns: 3\n",
      "$ time_as_date    \u001b[3m\u001b[90m<date>\u001b[39m\u001b[23m 1990-01-01, 1990-04-01, 1990-07-01, 1990-10-01, 1991-…\n",
      "$ time_as_numeric \u001b[3m\u001b[90m<dbl>\u001b[39m\u001b[23m 7305, 7395, 7486, 7578, 7670, 7760, 7851, 7943, 8035, …\n",
      "$ vix_index       \u001b[3m\u001b[90m<dbl>\u001b[39m\u001b[23m 22.17460, 18.72206, 25.19556, 26.11328, 22.51583, 17.1…\n"
     ]
    },
    {
     "data": {
      "text/html": [
       "0"
      ],
      "text/latex": [
       "0"
      ],
      "text/markdown": [
       "0"
      ],
      "text/plain": [
       "[1] 0"
      ]
     },
     "metadata": {},
     "output_type": "display_data"
    }
   ],
   "source": [
    "# Making column loan numeric\n",
    "vix_raw$vix_index<- as.numeric(as.character(vix_raw$VIXCLS))\n",
    "\n",
    "# Time as a date\n",
    "vix_raw$DATE <- as.character(vix_raw$DATE)\n",
    "vix_raw$time_as_date <- as.Date(vix_raw$DATE, format = \"%Y-%m-%d\")\n",
    "\n",
    "# Time as numeric (used in certain regression models or methods)\n",
    "vix_raw$time_as_numeric <- as.numeric(vix_raw$time_as_date)\n",
    "\n",
    "# Filter data between 1984-01-01 and 2024-04-01\n",
    "vix_raw <- vix_raw[vix_raw$time_as_date >= as.Date(\"1984-01-01\") & vix_raw$time_as_date <= as.Date(\"2024-04-01\"), ]\n",
    "\n",
    "# Keep only the relevant columns\n",
    "columns_to_keep <- c(\"time_as_date\", \"time_as_numeric\", \"vix_index\")\n",
    "vix_filtered <- vix_raw[, columns_to_keep]\n",
    "\n",
    "# Check\n",
    "glimpse(vix_filtered)\n",
    "sum(is.na(vix_filtered))"
   ]
  },
  {
   "cell_type": "markdown",
   "metadata": {},
   "source": [
    "# Part 14: NASDAQ Composite Index"
   ]
  },
  {
   "cell_type": "code",
   "execution_count": 33,
   "metadata": {
    "vscode": {
     "languageId": "r"
    }
   },
   "outputs": [
    {
     "name": "stdout",
     "output_type": "stream",
     "text": [
      "Rows: 215\n",
      "Columns: 2\n",
      "$ DATE      \u001b[3m\u001b[90m<fct>\u001b[39m\u001b[23m 1971-04-01, 1971-07-01, 1971-10-01, 1972-01-01, 1972-04-01, …\n",
      "$ NASDAQCOM \u001b[3m\u001b[90m<fct>\u001b[39m\u001b[23m 109.2152380952380952, 108.4165625000000000, 107.307500000000…\n"
     ]
    }
   ],
   "source": [
    "# Source: https://fred.stlouisfed.org/series/NASDAQCOM#0\n",
    "NASDAQ_raw <- read.csv(\"/workspaces/DUKE_MIDS_QFC_Final_Project/dataset/NASDAQ.csv\")\n",
    "glimpse(NASDAQ_raw)"
   ]
  },
  {
   "cell_type": "code",
   "execution_count": 34,
   "metadata": {
    "vscode": {
     "languageId": "r"
    }
   },
   "outputs": [
    {
     "name": "stderr",
     "output_type": "stream",
     "text": [
      "Warning message:\n",
      "“NAs introduced by coercion”\n"
     ]
    },
    {
     "name": "stdout",
     "output_type": "stream",
     "text": [
      "Rows: 162\n",
      "Columns: 3\n",
      "$ time_as_date    \u001b[3m\u001b[90m<date>\u001b[39m\u001b[23m 1984-01-01, 1984-04-01, 1984-07-01, 1984-10-01, 1985-…\n",
      "$ time_as_numeric \u001b[3m\u001b[90m<dbl>\u001b[39m\u001b[23m 5113, 5204, 5295, 5387, 5479, 5569, 5660, 5752, 5844, …\n",
      "$ NASDAQ_index    \u001b[3m\u001b[90m<dbl>\u001b[39m\u001b[23m 262.4971, 242.9894, 244.8656, 245.2678, 275.1484, 286.…\n"
     ]
    },
    {
     "data": {
      "text/html": [
       "0"
      ],
      "text/latex": [
       "0"
      ],
      "text/markdown": [
       "0"
      ],
      "text/plain": [
       "[1] 0"
      ]
     },
     "metadata": {},
     "output_type": "display_data"
    }
   ],
   "source": [
    "# Making column index numeric\n",
    "NASDAQ_raw$NASDAQ_index<- as.numeric(as.character(NASDAQ_raw$NASDAQCOM))\n",
    "\n",
    "# Time as a date\n",
    "NASDAQ_raw$DATE <- as.character(NASDAQ_raw$DATE)\n",
    "NASDAQ_raw$time_as_date <- as.Date(NASDAQ_raw$DATE, format = \"%Y-%m-%d\")\n",
    "\n",
    "# Time as numeric (used in certain regression models or methods)\n",
    "NASDAQ_raw$time_as_numeric <- as.numeric(NASDAQ_raw$time_as_date)\n",
    "\n",
    "# Filter data between 1984-01-01 and 2024-04-01\n",
    "NASDAQ_raw <- NASDAQ_raw[NASDAQ_raw$time_as_date >= as.Date(\"1984-01-01\") & NASDAQ_raw$time_as_date <= as.Date(\"2024-04-01\"), ]\n",
    "\n",
    "# Keep only the relevant columns\n",
    "columns_to_keep <- c(\"time_as_date\", \"time_as_numeric\", \"NASDAQ_index\")\n",
    "NASDAQ_filtered <- NASDAQ_raw[, columns_to_keep]\n",
    "\n",
    "# Check\n",
    "glimpse(NASDAQ_filtered)\n",
    "sum(is.na(NASDAQ_filtered))"
   ]
  },
  {
   "cell_type": "markdown",
   "metadata": {},
   "source": [
    "# Part 15: Group all data into one dataframe"
   ]
  },
  {
   "cell_type": "code",
   "execution_count": 35,
   "metadata": {
    "vscode": {
     "languageId": "r"
    }
   },
   "outputs": [
    {
     "name": "stdout",
     "output_type": "stream",
     "text": [
      "Rows: 162\n",
      "Columns: 10\n",
      "$ time_as_date             \u001b[3m\u001b[90m<date>\u001b[39m\u001b[23m 1984-01-01, 1984-04-01, 1984-07-01, 1984-10-…\n",
      "$ time_as_numeric          \u001b[3m\u001b[90m<dbl>\u001b[39m\u001b[23m 5113, 5204, 5295, 5387, 5479, 5569, 5660, 575…\n",
      "$ population               \u001b[3m\u001b[90m<dbl>\u001b[39m\u001b[23m 235604667, 236082333, 236657333, 237232667, 2…\n",
      "$ unemployment_rate        \u001b[3m\u001b[90m<dbl>\u001b[39m\u001b[23m 0.07866667, 0.07433333, 0.07433333, 0.0730000…\n",
      "$ ConsumerPriceIndex       \u001b[3m\u001b[90m<dbl>\u001b[39m\u001b[23m 1.1202636, 1.0752688, 1.0960671, 0.7334184, 0…\n",
      "$ DisposablePersonalIncome \u001b[3m\u001b[90m<dbl>\u001b[39m\u001b[23m 10729270000, 11779660000, 10982020000, 947008…\n",
      "$ Yield                    \u001b[3m\u001b[90m<dbl>\u001b[39m\u001b[23m 0.11943333, 0.13200000, 0.12866667, 0.1174333…\n",
      "$ fed_rate                 \u001b[3m\u001b[90m<dbl>\u001b[39m\u001b[23m 0.09686667, 0.10556667, 0.11390000, 0.0926666…\n",
      "$ GDP                      \u001b[3m\u001b[90m<dbl>\u001b[39m\u001b[23m 3.908054e+12, 4.009601e+12, 4.084250e+12, 4.1…\n",
      "$ GDP_growth_rate          \u001b[3m\u001b[90m<dbl>\u001b[39m\u001b[23m NA, 0.025984032, 0.018617563, 0.015743649, 0.…\n"
     ]
    },
    {
     "data": {
      "text/html": [
       "<table class=\"dataframe\">\n",
       "<caption>A data.frame: 162 × 10</caption>\n",
       "<thead>\n",
       "\t<tr><th scope=col>time_as_date</th><th scope=col>time_as_numeric</th><th scope=col>population</th><th scope=col>unemployment_rate</th><th scope=col>ConsumerPriceIndex</th><th scope=col>DisposablePersonalIncome</th><th scope=col>Yield</th><th scope=col>fed_rate</th><th scope=col>GDP</th><th scope=col>GDP_growth_rate</th></tr>\n",
       "\t<tr><th scope=col>&lt;date&gt;</th><th scope=col>&lt;dbl&gt;</th><th scope=col>&lt;dbl&gt;</th><th scope=col>&lt;dbl&gt;</th><th scope=col>&lt;dbl&gt;</th><th scope=col>&lt;dbl&gt;</th><th scope=col>&lt;dbl&gt;</th><th scope=col>&lt;dbl&gt;</th><th scope=col>&lt;dbl&gt;</th><th scope=col>&lt;dbl&gt;</th></tr>\n",
       "</thead>\n",
       "<tbody>\n",
       "\t<tr><td>1984-01-01</td><td>5113</td><td>235604667</td><td>0.07866667</td><td> 1.1202636</td><td>10729270000</td><td>0.11943333</td><td>0.09686667</td><td>3.908054e+12</td><td>          NA</td></tr>\n",
       "\t<tr><td>1984-04-01</td><td>5204</td><td>236082333</td><td>0.07433333</td><td> 1.0752688</td><td>11779660000</td><td>0.13200000</td><td>0.10556667</td><td>4.009601e+12</td><td> 0.025984032</td></tr>\n",
       "\t<tr><td>1984-07-01</td><td>5295</td><td>236657333</td><td>0.07433333</td><td> 1.0960671</td><td>10982020000</td><td>0.12866667</td><td>0.11390000</td><td>4.084250e+12</td><td> 0.018617563</td></tr>\n",
       "\t<tr><td>1984-10-01</td><td>5387</td><td>237232667</td><td>0.07300000</td><td> 0.7334184</td><td> 9470080000</td><td>0.11743333</td><td>0.09266667</td><td>4.148551e+12</td><td> 0.015743649</td></tr>\n",
       "\t<tr><td>1985-01-01</td><td>5479</td><td>237672667</td><td>0.07233333</td><td> 0.6331117</td><td> 7253910000</td><td>0.11583333</td><td>0.08476667</td><td>4.230168e+12</td><td> 0.019673616</td></tr>\n",
       "\t<tr><td>1985-04-01</td><td>5569</td><td>238175667</td><td>0.07300000</td><td> 1.2268009</td><td> 7486790000</td><td>0.10813333</td><td>0.07923333</td><td>4.294887e+12</td><td> 0.015299392</td></tr>\n",
       "\t<tr><td>1985-07-01</td><td>5660</td><td>238789333</td><td>0.07200000</td><td> 0.7147296</td><td> 5819840000</td><td>0.10336667</td><td>0.07900000</td><td>4.386773e+12</td><td> 0.021394276</td></tr>\n",
       "\t<tr><td>1985-10-01</td><td>5752</td><td>239386667</td><td>0.07033333</td><td> 0.8947856</td><td> 6193650000</td><td>0.09760000</td><td>0.08103333</td><td>4.444094e+12</td><td> 0.013066781</td></tr>\n",
       "\t<tr><td>1986-01-01</td><td>5844</td><td>239860667</td><td>0.07033333</td><td> 0.2140673</td><td> 7391500000</td><td>0.08556667</td><td>0.07826667</td><td>4.507894e+12</td><td> 0.014356132</td></tr>\n",
       "\t<tr><td>1986-04-01</td><td>5934</td><td>240367667</td><td>0.07166667</td><td>-0.2136100</td><td> 5646760000</td><td>0.07603333</td><td>0.06920000</td><td>4.545340e+12</td><td> 0.008306761</td></tr>\n",
       "\t<tr><td>1986-07-01</td><td>6025</td><td>240961667</td><td>0.06966667</td><td> 0.7339450</td><td> 6259350000</td><td>0.07306667</td><td>0.06206667</td><td>4.607669e+12</td><td> 0.013712726</td></tr>\n",
       "\t<tr><td>1986-10-01</td><td>6117</td><td>241539000</td><td>0.06833333</td><td> 0.5464481</td><td> 5019150000</td><td>0.07263333</td><td>0.06266667</td><td>4.657627e+12</td><td> 0.010842359</td></tr>\n",
       "\t<tr><td>1987-01-01</td><td>6209</td><td>242009333</td><td>0.06600000</td><td> 1.1171498</td><td> 4623120000</td><td>0.07193333</td><td>0.06220000</td><td>4.722156e+12</td><td> 0.013854480</td></tr>\n",
       "\t<tr><td>1987-04-01</td><td>6299</td><td>242520000</td><td>0.06266667</td><td> 1.3138250</td><td> 3350880000</td><td>0.08343333</td><td>0.06650000</td><td>4.806160e+12</td><td> 0.017789332</td></tr>\n",
       "\t<tr><td>1987-07-01</td><td>6390</td><td>243120333</td><td>0.06000000</td><td> 1.1494253</td><td> 5058160000</td><td>0.08876667</td><td>0.06843333</td><td>4.884555e+12</td><td> 0.016311359</td></tr>\n",
       "\t<tr><td>1987-10-01</td><td>6482</td><td>243720667</td><td>0.05833333</td><td> 0.8449883</td><td> 6832670000</td><td>0.09123333</td><td>0.06916667</td><td>5.007994e+12</td><td> 0.025271289</td></tr>\n",
       "\t<tr><td>1988-01-01</td><td>6574</td><td>244207667</td><td>0.05700000</td><td> 0.6067611</td><td> 7629040000</td><td>0.08416667</td><td>0.06663333</td><td>5.073372e+12</td><td> 0.013054728</td></tr>\n",
       "\t<tr><td>1988-04-01</td><td>6665</td><td>244716667</td><td>0.05466667</td><td> 1.2636416</td><td>10148590000</td><td>0.08910000</td><td>0.07156667</td><td>5.190036e+12</td><td> 0.022995357</td></tr>\n",
       "\t<tr><td>1988-07-01</td><td>6756</td><td>245354000</td><td>0.05466667</td><td> 1.3329552</td><td> 9616820000</td><td>0.09100000</td><td>0.07983333</td><td>5.282835e+12</td><td> 0.017880223</td></tr>\n",
       "\t<tr><td>1988-10-01</td><td>6848</td><td>245966333</td><td>0.05333333</td><td> 1.0355444</td><td> 9249320000</td><td>0.08956667</td><td>0.08470000</td><td>5.399509e+12</td><td> 0.022085490</td></tr>\n",
       "\t<tr><td>1989-01-01</td><td>6940</td><td>246460333</td><td>0.05200000</td><td> 1.1080332</td><td> 9032890000</td><td>0.09206667</td><td>0.09443333</td><td>5.511253e+12</td><td> 0.020695215</td></tr>\n",
       "\t<tr><td>1989-04-01</td><td>7030</td><td>247017333</td><td>0.05233333</td><td> 1.6438356</td><td> 7705630000</td><td>0.08773333</td><td>0.09726667</td><td>5.612463e+12</td><td> 0.018364245</td></tr>\n",
       "\t<tr><td>1989-07-01</td><td>7121</td><td>247698333</td><td>0.05233333</td><td> 0.8086253</td><td> 6642920000</td><td>0.08106667</td><td>0.09083333</td><td>5.695365e+12</td><td> 0.014771055</td></tr>\n",
       "\t<tr><td>1989-10-01</td><td>7213</td><td>248374333</td><td>0.05366667</td><td> 0.9625668</td><td> 6309660000</td><td>0.07906667</td><td>0.08613333</td><td>5.747237e+12</td><td> 0.009107757</td></tr>\n",
       "\t<tr><td>1990-01-01</td><td>7305</td><td>248936333</td><td>0.05300000</td><td> 1.7213983</td><td> 6330230000</td><td>0.08423333</td><td>0.08250000</td><td>5.872701e+12</td><td> 0.021830316</td></tr>\n",
       "\t<tr><td>1990-04-01</td><td>7395</td><td>249711000</td><td>0.05333333</td><td> 1.0153606</td><td> 7001820000</td><td>0.08676667</td><td>0.08243333</td><td>5.960028e+12</td><td> 0.014869989</td></tr>\n",
       "\t<tr><td>1990-07-01</td><td>7486</td><td>250594667</td><td>0.05700000</td><td> 1.7268041</td><td> 7034680000</td><td>0.08703333</td><td>0.08160000</td><td>6.015116e+12</td><td> 0.009242910</td></tr>\n",
       "\t<tr><td>1990-10-01</td><td>7578</td><td>251481667</td><td>0.06133333</td><td> 1.6214847</td><td> 5831290000</td><td>0.08396667</td><td>0.07743333</td><td>6.004733e+12</td><td>-0.001726151</td></tr>\n",
       "\t<tr><td>1991-01-01</td><td>7670</td><td>252257333</td><td>0.06600000</td><td> 0.8227375</td><td> 4349260000</td><td>0.08016667</td><td>0.06426667</td><td>6.035178e+12</td><td> 0.005070167</td></tr>\n",
       "\t<tr><td>1991-04-01</td><td>7760</td><td>253062667</td><td>0.06833333</td><td> 0.5934718</td><td> 3986460000</td><td>0.08130000</td><td>0.05863333</td><td>6.126862e+12</td><td> 0.015191598</td></tr>\n",
       "\t<tr><td>⋮</td><td>⋮</td><td>⋮</td><td>⋮</td><td>⋮</td><td>⋮</td><td>⋮</td><td>⋮</td><td>⋮</td><td>⋮</td></tr>\n",
       "\t<tr><td>2017-01-01</td><td>17167</td><td>326052667</td><td>0.04566667</td><td> 0.79073696</td><td> 4140810000</td><td>0.024433333</td><td>0.0070000000</td><td>1.928008e+13</td><td> 0.009990110</td></tr>\n",
       "\t<tr><td>2017-04-01</td><td>17257</td><td>326554000</td><td>0.04366667</td><td> 0.54351771</td><td> 5035230000</td><td>0.022633333</td><td>0.0095000000</td><td>1.943864e+13</td><td> 0.008223979</td></tr>\n",
       "\t<tr><td>2017-07-01</td><td>17348</td><td>327140333</td><td>0.04333333</td><td> 0.39661569</td><td> 5183240000</td><td>0.022433333</td><td>0.0115333333</td><td>1.969260e+13</td><td> 0.013064286</td></tr>\n",
       "\t<tr><td>2017-10-01</td><td>17440</td><td>327691667</td><td>0.04166667</td><td> 0.37062964</td><td> 5299520000</td><td>0.023700000</td><td>0.0120333333</td><td>2.003709e+13</td><td> 0.017493530</td></tr>\n",
       "\t<tr><td>2018-01-01</td><td>17532</td><td>328091000</td><td>0.04033333</td><td> 0.88611838</td><td> 5434620000</td><td>0.027600000</td><td>0.0144666667</td><td>2.032855e+13</td><td> 0.014546275</td></tr>\n",
       "\t<tr><td>2018-04-01</td><td>17622</td><td>328525667</td><td>0.03933333</td><td> 1.03307557</td><td> 5573150000</td><td>0.029200000</td><td>0.0173666667</td><td>2.058091e+13</td><td> 0.012414017</td></tr>\n",
       "\t<tr><td>2018-07-01</td><td>17713</td><td>329039667</td><td>0.03766667</td><td> 0.32726757</td><td> 5928130000</td><td>0.029266667</td><td>0.0192333333</td><td>2.079873e+13</td><td> 0.010583496</td></tr>\n",
       "\t<tr><td>2018-10-01</td><td>17805</td><td>329521667</td><td>0.03833333</td><td>-0.05749474</td><td> 6046360000</td><td>0.030333333</td><td>0.0222000000</td><td>2.091787e+13</td><td> 0.005728090</td></tr>\n",
       "\t<tr><td>2019-01-01</td><td>17897</td><td>329868333</td><td>0.03866667</td><td> 0.33511603</td><td> 5710890000</td><td>0.026533333</td><td>0.0240333333</td><td>2.111160e+13</td><td> 0.009261604</td></tr>\n",
       "\t<tr><td>2019-04-01</td><td>17987</td><td>330245333</td><td>0.03633333</td><td> 1.19851323</td><td> 4729290000</td><td>0.023333333</td><td>0.0239666667</td><td>2.139794e+13</td><td> 0.013563065</td></tr>\n",
       "\t<tr><td>2019-07-01</td><td>18078</td><td>330728667</td><td>0.03600000</td><td> 0.27416601</td><td> 4234170000</td><td>0.017966667</td><td>0.0219000000</td><td>2.171717e+13</td><td> 0.014918867</td></tr>\n",
       "\t<tr><td>2019-10-01</td><td>18170</td><td>331208000</td><td>0.03600000</td><td> 0.21301800</td><td> 3758380000</td><td>0.017933333</td><td>0.0164333333</td><td>2.193322e+13</td><td> 0.009948165</td></tr>\n",
       "\t<tr><td>2020-01-01</td><td>18262</td><td>331536667</td><td>0.03833333</td><td> 0.41942742</td><td> 3276590000</td><td>0.013766667</td><td>0.0126000000</td><td>2.172766e+13</td><td>-0.009372086</td></tr>\n",
       "\t<tr><td>2020-04-01</td><td>18353</td><td>331714667</td><td>0.13000000</td><td>-0.54003542</td><td>12515970000</td><td>0.006866667</td><td>0.0006000000</td><td>1.993544e+13</td><td>-0.082485332</td></tr>\n",
       "\t<tr><td>2020-07-01</td><td>18444</td><td>331887333</td><td>0.08800000</td><td> 1.13148537</td><td> 8408110000</td><td>0.006500000</td><td>0.0009333333</td><td>2.168455e+13</td><td> 0.087738552</td></tr>\n",
       "\t<tr><td>2020-10-01</td><td>18536</td><td>332060667</td><td>0.06733333</td><td> 0.22995025</td><td> 5751550000</td><td>0.008633333</td><td>0.0009000000</td><td>2.206877e+13</td><td> 0.017718421</td></tr>\n",
       "\t<tr><td>2021-01-01</td><td>18628</td><td>332004333</td><td>0.06233333</td><td> 1.07311440</td><td>18680340000</td><td>0.013166667</td><td>0.0008000000</td><td>2.265679e+13</td><td> 0.026645168</td></tr>\n",
       "\t<tr><td>2021-04-01</td><td>18718</td><td>332166333</td><td>0.05933333</td><td> 2.33978869</td><td> 1505510000</td><td>0.015933333</td><td>0.0007000000</td><td>2.336886e+13</td><td> 0.031428455</td></tr>\n",
       "\t<tr><td>2021-07-01</td><td>18809</td><td>332497000</td><td>0.05066667</td><td> 1.60097531</td><td> 4622050000</td><td>0.013233333</td><td>0.0009000000</td><td>2.392199e+13</td><td> 0.023669532</td></tr>\n",
       "\t<tr><td>2021-10-01</td><td>18901</td><td>332801667</td><td>0.04166667</td><td> 1.51776143</td><td> 6859340000</td><td>0.015366667</td><td>0.0008000000</td><td>2.477704e+13</td><td> 0.035743137</td></tr>\n",
       "\t<tr><td>2022-01-01</td><td>18993</td><td>332990667</td><td>0.03800000</td><td> 2.28346447</td><td>-6652650000</td><td>0.019400000</td><td>0.0012000000</td><td>2.521549e+13</td><td> 0.017695941</td></tr>\n",
       "\t<tr><td>2022-04-01</td><td>19083</td><td>333319667</td><td>0.03633333</td><td> 2.97383290</td><td> 1069950000</td><td>0.029300000</td><td>0.0077000000</td><td>2.580579e+13</td><td> 0.023410212</td></tr>\n",
       "\t<tr><td>2022-07-01</td><td>19174</td><td>333762000</td><td>0.03533333</td><td> 1.31466215</td><td> 3674510000</td><td>0.031066667</td><td>0.0219000000</td><td>2.627201e+13</td><td> 0.018066487</td></tr>\n",
       "\t<tr><td>2022-10-01</td><td>19266</td><td>334201000</td><td>0.03566667</td><td> 0.36716128</td><td> 5139560000</td><td>0.038300000</td><td>0.0365333333</td><td>2.673428e+13</td><td> 0.017595379</td></tr>\n",
       "\t<tr><td>2023-01-01</td><td>19358</td><td>334547000</td><td>0.03500000</td><td> 1.04490656</td><td>10073050000</td><td>0.036466667</td><td>0.0451666667</td><td>2.716436e+13</td><td> 0.016087287</td></tr>\n",
       "\t<tr><td>2023-04-01</td><td>19448</td><td>334933667</td><td>0.03566667</td><td> 1.19233217</td><td>10265010000</td><td>0.035933333</td><td>0.0499000000</td><td>2.745382e+13</td><td> 0.010655727</td></tr>\n",
       "\t<tr><td>2023-07-01</td><td>19539</td><td>335430333</td><td>0.03700000</td><td> 0.86642655</td><td> 8343430000</td><td>0.041500000</td><td>0.0526000000</td><td>2.796770e+13</td><td> 0.018718054</td></tr>\n",
       "\t<tr><td>2023-10-01</td><td>19631</td><td>335922667</td><td>0.03733333</td><td> 0.10450774</td><td> 7567190000</td><td>0.044400000</td><td>0.0533000000</td><td>2.829697e+13</td><td> 0.011773225</td></tr>\n",
       "\t<tr><td>2024-01-01</td><td>19723</td><td>336307667</td><td>0.03800000</td><td> 1.04257554</td><td> 6112900000</td><td>0.041600000</td><td>0.0533000000</td><td>2.862407e+13</td><td> 0.011559613</td></tr>\n",
       "\t<tr><td>2024-04-01</td><td>19814</td><td>336692000</td><td>0.04000000</td><td>         NA</td><td> 5416660000</td><td>0.044433333</td><td>0.0533000000</td><td>2.901671e+13</td><td> 0.013717302</td></tr>\n",
       "</tbody>\n",
       "</table>\n"
      ],
      "text/latex": [
       "A data.frame: 162 × 10\n",
       "\\begin{tabular}{llllllllll}\n",
       " time\\_as\\_date & time\\_as\\_numeric & population & unemployment\\_rate & ConsumerPriceIndex & DisposablePersonalIncome & Yield & fed\\_rate & GDP & GDP\\_growth\\_rate\\\\\n",
       " <date> & <dbl> & <dbl> & <dbl> & <dbl> & <dbl> & <dbl> & <dbl> & <dbl> & <dbl>\\\\\n",
       "\\hline\n",
       "\t 1984-01-01 & 5113 & 235604667 & 0.07866667 &  1.1202636 & 10729270000 & 0.11943333 & 0.09686667 & 3.908054e+12 &           NA\\\\\n",
       "\t 1984-04-01 & 5204 & 236082333 & 0.07433333 &  1.0752688 & 11779660000 & 0.13200000 & 0.10556667 & 4.009601e+12 &  0.025984032\\\\\n",
       "\t 1984-07-01 & 5295 & 236657333 & 0.07433333 &  1.0960671 & 10982020000 & 0.12866667 & 0.11390000 & 4.084250e+12 &  0.018617563\\\\\n",
       "\t 1984-10-01 & 5387 & 237232667 & 0.07300000 &  0.7334184 &  9470080000 & 0.11743333 & 0.09266667 & 4.148551e+12 &  0.015743649\\\\\n",
       "\t 1985-01-01 & 5479 & 237672667 & 0.07233333 &  0.6331117 &  7253910000 & 0.11583333 & 0.08476667 & 4.230168e+12 &  0.019673616\\\\\n",
       "\t 1985-04-01 & 5569 & 238175667 & 0.07300000 &  1.2268009 &  7486790000 & 0.10813333 & 0.07923333 & 4.294887e+12 &  0.015299392\\\\\n",
       "\t 1985-07-01 & 5660 & 238789333 & 0.07200000 &  0.7147296 &  5819840000 & 0.10336667 & 0.07900000 & 4.386773e+12 &  0.021394276\\\\\n",
       "\t 1985-10-01 & 5752 & 239386667 & 0.07033333 &  0.8947856 &  6193650000 & 0.09760000 & 0.08103333 & 4.444094e+12 &  0.013066781\\\\\n",
       "\t 1986-01-01 & 5844 & 239860667 & 0.07033333 &  0.2140673 &  7391500000 & 0.08556667 & 0.07826667 & 4.507894e+12 &  0.014356132\\\\\n",
       "\t 1986-04-01 & 5934 & 240367667 & 0.07166667 & -0.2136100 &  5646760000 & 0.07603333 & 0.06920000 & 4.545340e+12 &  0.008306761\\\\\n",
       "\t 1986-07-01 & 6025 & 240961667 & 0.06966667 &  0.7339450 &  6259350000 & 0.07306667 & 0.06206667 & 4.607669e+12 &  0.013712726\\\\\n",
       "\t 1986-10-01 & 6117 & 241539000 & 0.06833333 &  0.5464481 &  5019150000 & 0.07263333 & 0.06266667 & 4.657627e+12 &  0.010842359\\\\\n",
       "\t 1987-01-01 & 6209 & 242009333 & 0.06600000 &  1.1171498 &  4623120000 & 0.07193333 & 0.06220000 & 4.722156e+12 &  0.013854480\\\\\n",
       "\t 1987-04-01 & 6299 & 242520000 & 0.06266667 &  1.3138250 &  3350880000 & 0.08343333 & 0.06650000 & 4.806160e+12 &  0.017789332\\\\\n",
       "\t 1987-07-01 & 6390 & 243120333 & 0.06000000 &  1.1494253 &  5058160000 & 0.08876667 & 0.06843333 & 4.884555e+12 &  0.016311359\\\\\n",
       "\t 1987-10-01 & 6482 & 243720667 & 0.05833333 &  0.8449883 &  6832670000 & 0.09123333 & 0.06916667 & 5.007994e+12 &  0.025271289\\\\\n",
       "\t 1988-01-01 & 6574 & 244207667 & 0.05700000 &  0.6067611 &  7629040000 & 0.08416667 & 0.06663333 & 5.073372e+12 &  0.013054728\\\\\n",
       "\t 1988-04-01 & 6665 & 244716667 & 0.05466667 &  1.2636416 & 10148590000 & 0.08910000 & 0.07156667 & 5.190036e+12 &  0.022995357\\\\\n",
       "\t 1988-07-01 & 6756 & 245354000 & 0.05466667 &  1.3329552 &  9616820000 & 0.09100000 & 0.07983333 & 5.282835e+12 &  0.017880223\\\\\n",
       "\t 1988-10-01 & 6848 & 245966333 & 0.05333333 &  1.0355444 &  9249320000 & 0.08956667 & 0.08470000 & 5.399509e+12 &  0.022085490\\\\\n",
       "\t 1989-01-01 & 6940 & 246460333 & 0.05200000 &  1.1080332 &  9032890000 & 0.09206667 & 0.09443333 & 5.511253e+12 &  0.020695215\\\\\n",
       "\t 1989-04-01 & 7030 & 247017333 & 0.05233333 &  1.6438356 &  7705630000 & 0.08773333 & 0.09726667 & 5.612463e+12 &  0.018364245\\\\\n",
       "\t 1989-07-01 & 7121 & 247698333 & 0.05233333 &  0.8086253 &  6642920000 & 0.08106667 & 0.09083333 & 5.695365e+12 &  0.014771055\\\\\n",
       "\t 1989-10-01 & 7213 & 248374333 & 0.05366667 &  0.9625668 &  6309660000 & 0.07906667 & 0.08613333 & 5.747237e+12 &  0.009107757\\\\\n",
       "\t 1990-01-01 & 7305 & 248936333 & 0.05300000 &  1.7213983 &  6330230000 & 0.08423333 & 0.08250000 & 5.872701e+12 &  0.021830316\\\\\n",
       "\t 1990-04-01 & 7395 & 249711000 & 0.05333333 &  1.0153606 &  7001820000 & 0.08676667 & 0.08243333 & 5.960028e+12 &  0.014869989\\\\\n",
       "\t 1990-07-01 & 7486 & 250594667 & 0.05700000 &  1.7268041 &  7034680000 & 0.08703333 & 0.08160000 & 6.015116e+12 &  0.009242910\\\\\n",
       "\t 1990-10-01 & 7578 & 251481667 & 0.06133333 &  1.6214847 &  5831290000 & 0.08396667 & 0.07743333 & 6.004733e+12 & -0.001726151\\\\\n",
       "\t 1991-01-01 & 7670 & 252257333 & 0.06600000 &  0.8227375 &  4349260000 & 0.08016667 & 0.06426667 & 6.035178e+12 &  0.005070167\\\\\n",
       "\t 1991-04-01 & 7760 & 253062667 & 0.06833333 &  0.5934718 &  3986460000 & 0.08130000 & 0.05863333 & 6.126862e+12 &  0.015191598\\\\\n",
       "\t ⋮ & ⋮ & ⋮ & ⋮ & ⋮ & ⋮ & ⋮ & ⋮ & ⋮ & ⋮\\\\\n",
       "\t 2017-01-01 & 17167 & 326052667 & 0.04566667 &  0.79073696 &  4140810000 & 0.024433333 & 0.0070000000 & 1.928008e+13 &  0.009990110\\\\\n",
       "\t 2017-04-01 & 17257 & 326554000 & 0.04366667 &  0.54351771 &  5035230000 & 0.022633333 & 0.0095000000 & 1.943864e+13 &  0.008223979\\\\\n",
       "\t 2017-07-01 & 17348 & 327140333 & 0.04333333 &  0.39661569 &  5183240000 & 0.022433333 & 0.0115333333 & 1.969260e+13 &  0.013064286\\\\\n",
       "\t 2017-10-01 & 17440 & 327691667 & 0.04166667 &  0.37062964 &  5299520000 & 0.023700000 & 0.0120333333 & 2.003709e+13 &  0.017493530\\\\\n",
       "\t 2018-01-01 & 17532 & 328091000 & 0.04033333 &  0.88611838 &  5434620000 & 0.027600000 & 0.0144666667 & 2.032855e+13 &  0.014546275\\\\\n",
       "\t 2018-04-01 & 17622 & 328525667 & 0.03933333 &  1.03307557 &  5573150000 & 0.029200000 & 0.0173666667 & 2.058091e+13 &  0.012414017\\\\\n",
       "\t 2018-07-01 & 17713 & 329039667 & 0.03766667 &  0.32726757 &  5928130000 & 0.029266667 & 0.0192333333 & 2.079873e+13 &  0.010583496\\\\\n",
       "\t 2018-10-01 & 17805 & 329521667 & 0.03833333 & -0.05749474 &  6046360000 & 0.030333333 & 0.0222000000 & 2.091787e+13 &  0.005728090\\\\\n",
       "\t 2019-01-01 & 17897 & 329868333 & 0.03866667 &  0.33511603 &  5710890000 & 0.026533333 & 0.0240333333 & 2.111160e+13 &  0.009261604\\\\\n",
       "\t 2019-04-01 & 17987 & 330245333 & 0.03633333 &  1.19851323 &  4729290000 & 0.023333333 & 0.0239666667 & 2.139794e+13 &  0.013563065\\\\\n",
       "\t 2019-07-01 & 18078 & 330728667 & 0.03600000 &  0.27416601 &  4234170000 & 0.017966667 & 0.0219000000 & 2.171717e+13 &  0.014918867\\\\\n",
       "\t 2019-10-01 & 18170 & 331208000 & 0.03600000 &  0.21301800 &  3758380000 & 0.017933333 & 0.0164333333 & 2.193322e+13 &  0.009948165\\\\\n",
       "\t 2020-01-01 & 18262 & 331536667 & 0.03833333 &  0.41942742 &  3276590000 & 0.013766667 & 0.0126000000 & 2.172766e+13 & -0.009372086\\\\\n",
       "\t 2020-04-01 & 18353 & 331714667 & 0.13000000 & -0.54003542 & 12515970000 & 0.006866667 & 0.0006000000 & 1.993544e+13 & -0.082485332\\\\\n",
       "\t 2020-07-01 & 18444 & 331887333 & 0.08800000 &  1.13148537 &  8408110000 & 0.006500000 & 0.0009333333 & 2.168455e+13 &  0.087738552\\\\\n",
       "\t 2020-10-01 & 18536 & 332060667 & 0.06733333 &  0.22995025 &  5751550000 & 0.008633333 & 0.0009000000 & 2.206877e+13 &  0.017718421\\\\\n",
       "\t 2021-01-01 & 18628 & 332004333 & 0.06233333 &  1.07311440 & 18680340000 & 0.013166667 & 0.0008000000 & 2.265679e+13 &  0.026645168\\\\\n",
       "\t 2021-04-01 & 18718 & 332166333 & 0.05933333 &  2.33978869 &  1505510000 & 0.015933333 & 0.0007000000 & 2.336886e+13 &  0.031428455\\\\\n",
       "\t 2021-07-01 & 18809 & 332497000 & 0.05066667 &  1.60097531 &  4622050000 & 0.013233333 & 0.0009000000 & 2.392199e+13 &  0.023669532\\\\\n",
       "\t 2021-10-01 & 18901 & 332801667 & 0.04166667 &  1.51776143 &  6859340000 & 0.015366667 & 0.0008000000 & 2.477704e+13 &  0.035743137\\\\\n",
       "\t 2022-01-01 & 18993 & 332990667 & 0.03800000 &  2.28346447 & -6652650000 & 0.019400000 & 0.0012000000 & 2.521549e+13 &  0.017695941\\\\\n",
       "\t 2022-04-01 & 19083 & 333319667 & 0.03633333 &  2.97383290 &  1069950000 & 0.029300000 & 0.0077000000 & 2.580579e+13 &  0.023410212\\\\\n",
       "\t 2022-07-01 & 19174 & 333762000 & 0.03533333 &  1.31466215 &  3674510000 & 0.031066667 & 0.0219000000 & 2.627201e+13 &  0.018066487\\\\\n",
       "\t 2022-10-01 & 19266 & 334201000 & 0.03566667 &  0.36716128 &  5139560000 & 0.038300000 & 0.0365333333 & 2.673428e+13 &  0.017595379\\\\\n",
       "\t 2023-01-01 & 19358 & 334547000 & 0.03500000 &  1.04490656 & 10073050000 & 0.036466667 & 0.0451666667 & 2.716436e+13 &  0.016087287\\\\\n",
       "\t 2023-04-01 & 19448 & 334933667 & 0.03566667 &  1.19233217 & 10265010000 & 0.035933333 & 0.0499000000 & 2.745382e+13 &  0.010655727\\\\\n",
       "\t 2023-07-01 & 19539 & 335430333 & 0.03700000 &  0.86642655 &  8343430000 & 0.041500000 & 0.0526000000 & 2.796770e+13 &  0.018718054\\\\\n",
       "\t 2023-10-01 & 19631 & 335922667 & 0.03733333 &  0.10450774 &  7567190000 & 0.044400000 & 0.0533000000 & 2.829697e+13 &  0.011773225\\\\\n",
       "\t 2024-01-01 & 19723 & 336307667 & 0.03800000 &  1.04257554 &  6112900000 & 0.041600000 & 0.0533000000 & 2.862407e+13 &  0.011559613\\\\\n",
       "\t 2024-04-01 & 19814 & 336692000 & 0.04000000 &          NA &  5416660000 & 0.044433333 & 0.0533000000 & 2.901671e+13 &  0.013717302\\\\\n",
       "\\end{tabular}\n"
      ],
      "text/markdown": [
       "\n",
       "A data.frame: 162 × 10\n",
       "\n",
       "| time_as_date &lt;date&gt; | time_as_numeric &lt;dbl&gt; | population &lt;dbl&gt; | unemployment_rate &lt;dbl&gt; | ConsumerPriceIndex &lt;dbl&gt; | DisposablePersonalIncome &lt;dbl&gt; | Yield &lt;dbl&gt; | fed_rate &lt;dbl&gt; | GDP &lt;dbl&gt; | GDP_growth_rate &lt;dbl&gt; |\n",
       "|---|---|---|---|---|---|---|---|---|---|\n",
       "| 1984-01-01 | 5113 | 235604667 | 0.07866667 |  1.1202636 | 10729270000 | 0.11943333 | 0.09686667 | 3.908054e+12 |           NA |\n",
       "| 1984-04-01 | 5204 | 236082333 | 0.07433333 |  1.0752688 | 11779660000 | 0.13200000 | 0.10556667 | 4.009601e+12 |  0.025984032 |\n",
       "| 1984-07-01 | 5295 | 236657333 | 0.07433333 |  1.0960671 | 10982020000 | 0.12866667 | 0.11390000 | 4.084250e+12 |  0.018617563 |\n",
       "| 1984-10-01 | 5387 | 237232667 | 0.07300000 |  0.7334184 |  9470080000 | 0.11743333 | 0.09266667 | 4.148551e+12 |  0.015743649 |\n",
       "| 1985-01-01 | 5479 | 237672667 | 0.07233333 |  0.6331117 |  7253910000 | 0.11583333 | 0.08476667 | 4.230168e+12 |  0.019673616 |\n",
       "| 1985-04-01 | 5569 | 238175667 | 0.07300000 |  1.2268009 |  7486790000 | 0.10813333 | 0.07923333 | 4.294887e+12 |  0.015299392 |\n",
       "| 1985-07-01 | 5660 | 238789333 | 0.07200000 |  0.7147296 |  5819840000 | 0.10336667 | 0.07900000 | 4.386773e+12 |  0.021394276 |\n",
       "| 1985-10-01 | 5752 | 239386667 | 0.07033333 |  0.8947856 |  6193650000 | 0.09760000 | 0.08103333 | 4.444094e+12 |  0.013066781 |\n",
       "| 1986-01-01 | 5844 | 239860667 | 0.07033333 |  0.2140673 |  7391500000 | 0.08556667 | 0.07826667 | 4.507894e+12 |  0.014356132 |\n",
       "| 1986-04-01 | 5934 | 240367667 | 0.07166667 | -0.2136100 |  5646760000 | 0.07603333 | 0.06920000 | 4.545340e+12 |  0.008306761 |\n",
       "| 1986-07-01 | 6025 | 240961667 | 0.06966667 |  0.7339450 |  6259350000 | 0.07306667 | 0.06206667 | 4.607669e+12 |  0.013712726 |\n",
       "| 1986-10-01 | 6117 | 241539000 | 0.06833333 |  0.5464481 |  5019150000 | 0.07263333 | 0.06266667 | 4.657627e+12 |  0.010842359 |\n",
       "| 1987-01-01 | 6209 | 242009333 | 0.06600000 |  1.1171498 |  4623120000 | 0.07193333 | 0.06220000 | 4.722156e+12 |  0.013854480 |\n",
       "| 1987-04-01 | 6299 | 242520000 | 0.06266667 |  1.3138250 |  3350880000 | 0.08343333 | 0.06650000 | 4.806160e+12 |  0.017789332 |\n",
       "| 1987-07-01 | 6390 | 243120333 | 0.06000000 |  1.1494253 |  5058160000 | 0.08876667 | 0.06843333 | 4.884555e+12 |  0.016311359 |\n",
       "| 1987-10-01 | 6482 | 243720667 | 0.05833333 |  0.8449883 |  6832670000 | 0.09123333 | 0.06916667 | 5.007994e+12 |  0.025271289 |\n",
       "| 1988-01-01 | 6574 | 244207667 | 0.05700000 |  0.6067611 |  7629040000 | 0.08416667 | 0.06663333 | 5.073372e+12 |  0.013054728 |\n",
       "| 1988-04-01 | 6665 | 244716667 | 0.05466667 |  1.2636416 | 10148590000 | 0.08910000 | 0.07156667 | 5.190036e+12 |  0.022995357 |\n",
       "| 1988-07-01 | 6756 | 245354000 | 0.05466667 |  1.3329552 |  9616820000 | 0.09100000 | 0.07983333 | 5.282835e+12 |  0.017880223 |\n",
       "| 1988-10-01 | 6848 | 245966333 | 0.05333333 |  1.0355444 |  9249320000 | 0.08956667 | 0.08470000 | 5.399509e+12 |  0.022085490 |\n",
       "| 1989-01-01 | 6940 | 246460333 | 0.05200000 |  1.1080332 |  9032890000 | 0.09206667 | 0.09443333 | 5.511253e+12 |  0.020695215 |\n",
       "| 1989-04-01 | 7030 | 247017333 | 0.05233333 |  1.6438356 |  7705630000 | 0.08773333 | 0.09726667 | 5.612463e+12 |  0.018364245 |\n",
       "| 1989-07-01 | 7121 | 247698333 | 0.05233333 |  0.8086253 |  6642920000 | 0.08106667 | 0.09083333 | 5.695365e+12 |  0.014771055 |\n",
       "| 1989-10-01 | 7213 | 248374333 | 0.05366667 |  0.9625668 |  6309660000 | 0.07906667 | 0.08613333 | 5.747237e+12 |  0.009107757 |\n",
       "| 1990-01-01 | 7305 | 248936333 | 0.05300000 |  1.7213983 |  6330230000 | 0.08423333 | 0.08250000 | 5.872701e+12 |  0.021830316 |\n",
       "| 1990-04-01 | 7395 | 249711000 | 0.05333333 |  1.0153606 |  7001820000 | 0.08676667 | 0.08243333 | 5.960028e+12 |  0.014869989 |\n",
       "| 1990-07-01 | 7486 | 250594667 | 0.05700000 |  1.7268041 |  7034680000 | 0.08703333 | 0.08160000 | 6.015116e+12 |  0.009242910 |\n",
       "| 1990-10-01 | 7578 | 251481667 | 0.06133333 |  1.6214847 |  5831290000 | 0.08396667 | 0.07743333 | 6.004733e+12 | -0.001726151 |\n",
       "| 1991-01-01 | 7670 | 252257333 | 0.06600000 |  0.8227375 |  4349260000 | 0.08016667 | 0.06426667 | 6.035178e+12 |  0.005070167 |\n",
       "| 1991-04-01 | 7760 | 253062667 | 0.06833333 |  0.5934718 |  3986460000 | 0.08130000 | 0.05863333 | 6.126862e+12 |  0.015191598 |\n",
       "| ⋮ | ⋮ | ⋮ | ⋮ | ⋮ | ⋮ | ⋮ | ⋮ | ⋮ | ⋮ |\n",
       "| 2017-01-01 | 17167 | 326052667 | 0.04566667 |  0.79073696 |  4140810000 | 0.024433333 | 0.0070000000 | 1.928008e+13 |  0.009990110 |\n",
       "| 2017-04-01 | 17257 | 326554000 | 0.04366667 |  0.54351771 |  5035230000 | 0.022633333 | 0.0095000000 | 1.943864e+13 |  0.008223979 |\n",
       "| 2017-07-01 | 17348 | 327140333 | 0.04333333 |  0.39661569 |  5183240000 | 0.022433333 | 0.0115333333 | 1.969260e+13 |  0.013064286 |\n",
       "| 2017-10-01 | 17440 | 327691667 | 0.04166667 |  0.37062964 |  5299520000 | 0.023700000 | 0.0120333333 | 2.003709e+13 |  0.017493530 |\n",
       "| 2018-01-01 | 17532 | 328091000 | 0.04033333 |  0.88611838 |  5434620000 | 0.027600000 | 0.0144666667 | 2.032855e+13 |  0.014546275 |\n",
       "| 2018-04-01 | 17622 | 328525667 | 0.03933333 |  1.03307557 |  5573150000 | 0.029200000 | 0.0173666667 | 2.058091e+13 |  0.012414017 |\n",
       "| 2018-07-01 | 17713 | 329039667 | 0.03766667 |  0.32726757 |  5928130000 | 0.029266667 | 0.0192333333 | 2.079873e+13 |  0.010583496 |\n",
       "| 2018-10-01 | 17805 | 329521667 | 0.03833333 | -0.05749474 |  6046360000 | 0.030333333 | 0.0222000000 | 2.091787e+13 |  0.005728090 |\n",
       "| 2019-01-01 | 17897 | 329868333 | 0.03866667 |  0.33511603 |  5710890000 | 0.026533333 | 0.0240333333 | 2.111160e+13 |  0.009261604 |\n",
       "| 2019-04-01 | 17987 | 330245333 | 0.03633333 |  1.19851323 |  4729290000 | 0.023333333 | 0.0239666667 | 2.139794e+13 |  0.013563065 |\n",
       "| 2019-07-01 | 18078 | 330728667 | 0.03600000 |  0.27416601 |  4234170000 | 0.017966667 | 0.0219000000 | 2.171717e+13 |  0.014918867 |\n",
       "| 2019-10-01 | 18170 | 331208000 | 0.03600000 |  0.21301800 |  3758380000 | 0.017933333 | 0.0164333333 | 2.193322e+13 |  0.009948165 |\n",
       "| 2020-01-01 | 18262 | 331536667 | 0.03833333 |  0.41942742 |  3276590000 | 0.013766667 | 0.0126000000 | 2.172766e+13 | -0.009372086 |\n",
       "| 2020-04-01 | 18353 | 331714667 | 0.13000000 | -0.54003542 | 12515970000 | 0.006866667 | 0.0006000000 | 1.993544e+13 | -0.082485332 |\n",
       "| 2020-07-01 | 18444 | 331887333 | 0.08800000 |  1.13148537 |  8408110000 | 0.006500000 | 0.0009333333 | 2.168455e+13 |  0.087738552 |\n",
       "| 2020-10-01 | 18536 | 332060667 | 0.06733333 |  0.22995025 |  5751550000 | 0.008633333 | 0.0009000000 | 2.206877e+13 |  0.017718421 |\n",
       "| 2021-01-01 | 18628 | 332004333 | 0.06233333 |  1.07311440 | 18680340000 | 0.013166667 | 0.0008000000 | 2.265679e+13 |  0.026645168 |\n",
       "| 2021-04-01 | 18718 | 332166333 | 0.05933333 |  2.33978869 |  1505510000 | 0.015933333 | 0.0007000000 | 2.336886e+13 |  0.031428455 |\n",
       "| 2021-07-01 | 18809 | 332497000 | 0.05066667 |  1.60097531 |  4622050000 | 0.013233333 | 0.0009000000 | 2.392199e+13 |  0.023669532 |\n",
       "| 2021-10-01 | 18901 | 332801667 | 0.04166667 |  1.51776143 |  6859340000 | 0.015366667 | 0.0008000000 | 2.477704e+13 |  0.035743137 |\n",
       "| 2022-01-01 | 18993 | 332990667 | 0.03800000 |  2.28346447 | -6652650000 | 0.019400000 | 0.0012000000 | 2.521549e+13 |  0.017695941 |\n",
       "| 2022-04-01 | 19083 | 333319667 | 0.03633333 |  2.97383290 |  1069950000 | 0.029300000 | 0.0077000000 | 2.580579e+13 |  0.023410212 |\n",
       "| 2022-07-01 | 19174 | 333762000 | 0.03533333 |  1.31466215 |  3674510000 | 0.031066667 | 0.0219000000 | 2.627201e+13 |  0.018066487 |\n",
       "| 2022-10-01 | 19266 | 334201000 | 0.03566667 |  0.36716128 |  5139560000 | 0.038300000 | 0.0365333333 | 2.673428e+13 |  0.017595379 |\n",
       "| 2023-01-01 | 19358 | 334547000 | 0.03500000 |  1.04490656 | 10073050000 | 0.036466667 | 0.0451666667 | 2.716436e+13 |  0.016087287 |\n",
       "| 2023-04-01 | 19448 | 334933667 | 0.03566667 |  1.19233217 | 10265010000 | 0.035933333 | 0.0499000000 | 2.745382e+13 |  0.010655727 |\n",
       "| 2023-07-01 | 19539 | 335430333 | 0.03700000 |  0.86642655 |  8343430000 | 0.041500000 | 0.0526000000 | 2.796770e+13 |  0.018718054 |\n",
       "| 2023-10-01 | 19631 | 335922667 | 0.03733333 |  0.10450774 |  7567190000 | 0.044400000 | 0.0533000000 | 2.829697e+13 |  0.011773225 |\n",
       "| 2024-01-01 | 19723 | 336307667 | 0.03800000 |  1.04257554 |  6112900000 | 0.041600000 | 0.0533000000 | 2.862407e+13 |  0.011559613 |\n",
       "| 2024-04-01 | 19814 | 336692000 | 0.04000000 |          NA |  5416660000 | 0.044433333 | 0.0533000000 | 2.901671e+13 |  0.013717302 |\n",
       "\n"
      ],
      "text/plain": [
       "    time_as_date time_as_numeric population unemployment_rate\n",
       "1   1984-01-01   5113            235604667  0.07866667       \n",
       "2   1984-04-01   5204            236082333  0.07433333       \n",
       "3   1984-07-01   5295            236657333  0.07433333       \n",
       "4   1984-10-01   5387            237232667  0.07300000       \n",
       "5   1985-01-01   5479            237672667  0.07233333       \n",
       "6   1985-04-01   5569            238175667  0.07300000       \n",
       "7   1985-07-01   5660            238789333  0.07200000       \n",
       "8   1985-10-01   5752            239386667  0.07033333       \n",
       "9   1986-01-01   5844            239860667  0.07033333       \n",
       "10  1986-04-01   5934            240367667  0.07166667       \n",
       "11  1986-07-01   6025            240961667  0.06966667       \n",
       "12  1986-10-01   6117            241539000  0.06833333       \n",
       "13  1987-01-01   6209            242009333  0.06600000       \n",
       "14  1987-04-01   6299            242520000  0.06266667       \n",
       "15  1987-07-01   6390            243120333  0.06000000       \n",
       "16  1987-10-01   6482            243720667  0.05833333       \n",
       "17  1988-01-01   6574            244207667  0.05700000       \n",
       "18  1988-04-01   6665            244716667  0.05466667       \n",
       "19  1988-07-01   6756            245354000  0.05466667       \n",
       "20  1988-10-01   6848            245966333  0.05333333       \n",
       "21  1989-01-01   6940            246460333  0.05200000       \n",
       "22  1989-04-01   7030            247017333  0.05233333       \n",
       "23  1989-07-01   7121            247698333  0.05233333       \n",
       "24  1989-10-01   7213            248374333  0.05366667       \n",
       "25  1990-01-01   7305            248936333  0.05300000       \n",
       "26  1990-04-01   7395            249711000  0.05333333       \n",
       "27  1990-07-01   7486            250594667  0.05700000       \n",
       "28  1990-10-01   7578            251481667  0.06133333       \n",
       "29  1991-01-01   7670            252257333  0.06600000       \n",
       "30  1991-04-01   7760            253062667  0.06833333       \n",
       "⋮   ⋮            ⋮               ⋮          ⋮                \n",
       "133 2017-01-01   17167           326052667  0.04566667       \n",
       "134 2017-04-01   17257           326554000  0.04366667       \n",
       "135 2017-07-01   17348           327140333  0.04333333       \n",
       "136 2017-10-01   17440           327691667  0.04166667       \n",
       "137 2018-01-01   17532           328091000  0.04033333       \n",
       "138 2018-04-01   17622           328525667  0.03933333       \n",
       "139 2018-07-01   17713           329039667  0.03766667       \n",
       "140 2018-10-01   17805           329521667  0.03833333       \n",
       "141 2019-01-01   17897           329868333  0.03866667       \n",
       "142 2019-04-01   17987           330245333  0.03633333       \n",
       "143 2019-07-01   18078           330728667  0.03600000       \n",
       "144 2019-10-01   18170           331208000  0.03600000       \n",
       "145 2020-01-01   18262           331536667  0.03833333       \n",
       "146 2020-04-01   18353           331714667  0.13000000       \n",
       "147 2020-07-01   18444           331887333  0.08800000       \n",
       "148 2020-10-01   18536           332060667  0.06733333       \n",
       "149 2021-01-01   18628           332004333  0.06233333       \n",
       "150 2021-04-01   18718           332166333  0.05933333       \n",
       "151 2021-07-01   18809           332497000  0.05066667       \n",
       "152 2021-10-01   18901           332801667  0.04166667       \n",
       "153 2022-01-01   18993           332990667  0.03800000       \n",
       "154 2022-04-01   19083           333319667  0.03633333       \n",
       "155 2022-07-01   19174           333762000  0.03533333       \n",
       "156 2022-10-01   19266           334201000  0.03566667       \n",
       "157 2023-01-01   19358           334547000  0.03500000       \n",
       "158 2023-04-01   19448           334933667  0.03566667       \n",
       "159 2023-07-01   19539           335430333  0.03700000       \n",
       "160 2023-10-01   19631           335922667  0.03733333       \n",
       "161 2024-01-01   19723           336307667  0.03800000       \n",
       "162 2024-04-01   19814           336692000  0.04000000       \n",
       "    ConsumerPriceIndex DisposablePersonalIncome Yield       fed_rate    \n",
       "1    1.1202636         10729270000              0.11943333  0.09686667  \n",
       "2    1.0752688         11779660000              0.13200000  0.10556667  \n",
       "3    1.0960671         10982020000              0.12866667  0.11390000  \n",
       "4    0.7334184          9470080000              0.11743333  0.09266667  \n",
       "5    0.6331117          7253910000              0.11583333  0.08476667  \n",
       "6    1.2268009          7486790000              0.10813333  0.07923333  \n",
       "7    0.7147296          5819840000              0.10336667  0.07900000  \n",
       "8    0.8947856          6193650000              0.09760000  0.08103333  \n",
       "9    0.2140673          7391500000              0.08556667  0.07826667  \n",
       "10  -0.2136100          5646760000              0.07603333  0.06920000  \n",
       "11   0.7339450          6259350000              0.07306667  0.06206667  \n",
       "12   0.5464481          5019150000              0.07263333  0.06266667  \n",
       "13   1.1171498          4623120000              0.07193333  0.06220000  \n",
       "14   1.3138250          3350880000              0.08343333  0.06650000  \n",
       "15   1.1494253          5058160000              0.08876667  0.06843333  \n",
       "16   0.8449883          6832670000              0.09123333  0.06916667  \n",
       "17   0.6067611          7629040000              0.08416667  0.06663333  \n",
       "18   1.2636416         10148590000              0.08910000  0.07156667  \n",
       "19   1.3329552          9616820000              0.09100000  0.07983333  \n",
       "20   1.0355444          9249320000              0.08956667  0.08470000  \n",
       "21   1.1080332          9032890000              0.09206667  0.09443333  \n",
       "22   1.6438356          7705630000              0.08773333  0.09726667  \n",
       "23   0.8086253          6642920000              0.08106667  0.09083333  \n",
       "24   0.9625668          6309660000              0.07906667  0.08613333  \n",
       "25   1.7213983          6330230000              0.08423333  0.08250000  \n",
       "26   1.0153606          7001820000              0.08676667  0.08243333  \n",
       "27   1.7268041          7034680000              0.08703333  0.08160000  \n",
       "28   1.6214847          5831290000              0.08396667  0.07743333  \n",
       "29   0.8227375          4349260000              0.08016667  0.06426667  \n",
       "30   0.5934718          3986460000              0.08130000  0.05863333  \n",
       "⋮   ⋮                  ⋮                        ⋮           ⋮           \n",
       "133  0.79073696         4140810000              0.024433333 0.0070000000\n",
       "134  0.54351771         5035230000              0.022633333 0.0095000000\n",
       "135  0.39661569         5183240000              0.022433333 0.0115333333\n",
       "136  0.37062964         5299520000              0.023700000 0.0120333333\n",
       "137  0.88611838         5434620000              0.027600000 0.0144666667\n",
       "138  1.03307557         5573150000              0.029200000 0.0173666667\n",
       "139  0.32726757         5928130000              0.029266667 0.0192333333\n",
       "140 -0.05749474         6046360000              0.030333333 0.0222000000\n",
       "141  0.33511603         5710890000              0.026533333 0.0240333333\n",
       "142  1.19851323         4729290000              0.023333333 0.0239666667\n",
       "143  0.27416601         4234170000              0.017966667 0.0219000000\n",
       "144  0.21301800         3758380000              0.017933333 0.0164333333\n",
       "145  0.41942742         3276590000              0.013766667 0.0126000000\n",
       "146 -0.54003542        12515970000              0.006866667 0.0006000000\n",
       "147  1.13148537         8408110000              0.006500000 0.0009333333\n",
       "148  0.22995025         5751550000              0.008633333 0.0009000000\n",
       "149  1.07311440        18680340000              0.013166667 0.0008000000\n",
       "150  2.33978869         1505510000              0.015933333 0.0007000000\n",
       "151  1.60097531         4622050000              0.013233333 0.0009000000\n",
       "152  1.51776143         6859340000              0.015366667 0.0008000000\n",
       "153  2.28346447        -6652650000              0.019400000 0.0012000000\n",
       "154  2.97383290         1069950000              0.029300000 0.0077000000\n",
       "155  1.31466215         3674510000              0.031066667 0.0219000000\n",
       "156  0.36716128         5139560000              0.038300000 0.0365333333\n",
       "157  1.04490656        10073050000              0.036466667 0.0451666667\n",
       "158  1.19233217        10265010000              0.035933333 0.0499000000\n",
       "159  0.86642655         8343430000              0.041500000 0.0526000000\n",
       "160  0.10450774         7567190000              0.044400000 0.0533000000\n",
       "161  1.04257554         6112900000              0.041600000 0.0533000000\n",
       "162          NA         5416660000              0.044433333 0.0533000000\n",
       "    GDP          GDP_growth_rate\n",
       "1   3.908054e+12           NA   \n",
       "2   4.009601e+12  0.025984032   \n",
       "3   4.084250e+12  0.018617563   \n",
       "4   4.148551e+12  0.015743649   \n",
       "5   4.230168e+12  0.019673616   \n",
       "6   4.294887e+12  0.015299392   \n",
       "7   4.386773e+12  0.021394276   \n",
       "8   4.444094e+12  0.013066781   \n",
       "9   4.507894e+12  0.014356132   \n",
       "10  4.545340e+12  0.008306761   \n",
       "11  4.607669e+12  0.013712726   \n",
       "12  4.657627e+12  0.010842359   \n",
       "13  4.722156e+12  0.013854480   \n",
       "14  4.806160e+12  0.017789332   \n",
       "15  4.884555e+12  0.016311359   \n",
       "16  5.007994e+12  0.025271289   \n",
       "17  5.073372e+12  0.013054728   \n",
       "18  5.190036e+12  0.022995357   \n",
       "19  5.282835e+12  0.017880223   \n",
       "20  5.399509e+12  0.022085490   \n",
       "21  5.511253e+12  0.020695215   \n",
       "22  5.612463e+12  0.018364245   \n",
       "23  5.695365e+12  0.014771055   \n",
       "24  5.747237e+12  0.009107757   \n",
       "25  5.872701e+12  0.021830316   \n",
       "26  5.960028e+12  0.014869989   \n",
       "27  6.015116e+12  0.009242910   \n",
       "28  6.004733e+12 -0.001726151   \n",
       "29  6.035178e+12  0.005070167   \n",
       "30  6.126862e+12  0.015191598   \n",
       "⋮   ⋮            ⋮              \n",
       "133 1.928008e+13  0.009990110   \n",
       "134 1.943864e+13  0.008223979   \n",
       "135 1.969260e+13  0.013064286   \n",
       "136 2.003709e+13  0.017493530   \n",
       "137 2.032855e+13  0.014546275   \n",
       "138 2.058091e+13  0.012414017   \n",
       "139 2.079873e+13  0.010583496   \n",
       "140 2.091787e+13  0.005728090   \n",
       "141 2.111160e+13  0.009261604   \n",
       "142 2.139794e+13  0.013563065   \n",
       "143 2.171717e+13  0.014918867   \n",
       "144 2.193322e+13  0.009948165   \n",
       "145 2.172766e+13 -0.009372086   \n",
       "146 1.993544e+13 -0.082485332   \n",
       "147 2.168455e+13  0.087738552   \n",
       "148 2.206877e+13  0.017718421   \n",
       "149 2.265679e+13  0.026645168   \n",
       "150 2.336886e+13  0.031428455   \n",
       "151 2.392199e+13  0.023669532   \n",
       "152 2.477704e+13  0.035743137   \n",
       "153 2.521549e+13  0.017695941   \n",
       "154 2.580579e+13  0.023410212   \n",
       "155 2.627201e+13  0.018066487   \n",
       "156 2.673428e+13  0.017595379   \n",
       "157 2.716436e+13  0.016087287   \n",
       "158 2.745382e+13  0.010655727   \n",
       "159 2.796770e+13  0.018718054   \n",
       "160 2.829697e+13  0.011773225   \n",
       "161 2.862407e+13  0.011559613   \n",
       "162 2.901671e+13  0.013717302   "
      ]
     },
     "metadata": {},
     "output_type": "display_data"
    }
   ],
   "source": [
    "# Merge two datasets by the 'Date' column\n",
    "datasets_to_merge <- list(pop_filtered, unemployment_rate_filtered, CPI_filtered, disposable_income_filtered, treasury_yield_filtered, fed_rate_filtered, GDP_filtered)\n",
    "\n",
    "# Re-run the merge\n",
    "regressors_data <- Reduce(function(x, y) {\n",
    "  merge(x, y, by = c(\"time_as_date\", \"time_as_numeric\"), all = TRUE)\n",
    "}, datasets_to_merge)\n",
    "\n",
    "glimpse(regressors_data)\n",
    "regressors_data\n",
    "\n"
   ]
  },
  {
   "cell_type": "code",
   "execution_count": 36,
   "metadata": {
    "vscode": {
     "languageId": "r"
    }
   },
   "outputs": [],
   "source": [
    "saveRDS(regressors_data, \"regressors_data.rds\")  # Save the data to call it in other notebooks"
   ]
  }
 ],
 "metadata": {
  "kernelspec": {
   "display_name": "R",
   "language": "R",
   "name": "ir"
  },
  "language_info": {
   "codemirror_mode": "r",
   "file_extension": ".r",
   "mimetype": "text/x-r-source",
   "name": "R",
   "pygments_lexer": "r",
   "version": "3.6.3"
  }
 },
 "nbformat": 4,
 "nbformat_minor": 2
}
