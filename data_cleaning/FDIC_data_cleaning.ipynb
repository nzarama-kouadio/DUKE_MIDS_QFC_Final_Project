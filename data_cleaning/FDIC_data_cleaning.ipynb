{
 "cells": [
  {
   "cell_type": "code",
   "execution_count": 1,
   "metadata": {
    "vscode": {
     "languageId": "r"
    }
   },
   "outputs": [
    {
     "name": "stderr",
     "output_type": "stream",
     "text": [
      "\n",
      "Attaching package: ‘dplyr’\n",
      "\n",
      "\n",
      "The following objects are masked from ‘package:stats’:\n",
      "\n",
      "    filter, lag\n",
      "\n",
      "\n",
      "The following objects are masked from ‘package:base’:\n",
      "\n",
      "    intersect, setdiff, setequal, union\n",
      "\n",
      "\n"
     ]
    }
   ],
   "source": [
    "# Load required libraries\n",
    "library(readxl)\n",
    "library(dplyr)"
   ]
  },
  {
   "cell_type": "markdown",
   "metadata": {},
   "source": [
    "## FDIC Quaterly Banking Profile"
   ]
  },
  {
   "cell_type": "markdown",
   "metadata": {},
   "source": [
    "### Loading and Cleaning"
   ]
  },
  {
   "cell_type": "code",
   "execution_count": 2,
   "metadata": {
    "vscode": {
     "languageId": "r"
    }
   },
   "outputs": [
    {
     "name": "stderr",
     "output_type": "stream",
     "text": [
      "\u001b[1m\u001b[22mNew names:\n",
      "\u001b[36m•\u001b[39m `` -> `...2`\n",
      "\u001b[36m•\u001b[39m `` -> `...3`\n",
      "\u001b[36m•\u001b[39m `` -> `...4`\n",
      "\u001b[36m•\u001b[39m `` -> `...5`\n",
      "\u001b[36m•\u001b[39m `` -> `...6`\n",
      "\u001b[36m•\u001b[39m `` -> `...7`\n",
      "\u001b[36m•\u001b[39m `` -> `...8`\n",
      "\u001b[36m•\u001b[39m `` -> `...9`\n",
      "\u001b[36m•\u001b[39m `` -> `...10`\n",
      "\u001b[36m•\u001b[39m `` -> `...11`\n",
      "\u001b[36m•\u001b[39m `` -> `...12`\n",
      "\u001b[36m•\u001b[39m `` -> `...13`\n",
      "\u001b[36m•\u001b[39m `` -> `...14`\n",
      "\u001b[36m•\u001b[39m `` -> `...15`\n",
      "\u001b[36m•\u001b[39m `` -> `...16`\n",
      "\u001b[36m•\u001b[39m `` -> `...17`\n",
      "\u001b[36m•\u001b[39m `` -> `...18`\n",
      "\u001b[36m•\u001b[39m `` -> `...19`\n",
      "\u001b[36m•\u001b[39m `` -> `...20`\n",
      "\u001b[36m•\u001b[39m `` -> `...21`\n",
      "\u001b[36m•\u001b[39m `` -> `...22`\n",
      "\u001b[36m•\u001b[39m `` -> `...23`\n",
      "\u001b[36m•\u001b[39m `` -> `...24`\n",
      "\u001b[36m•\u001b[39m `` -> `...25`\n",
      "\u001b[36m•\u001b[39m `` -> `...26`\n",
      "\u001b[36m•\u001b[39m `` -> `...27`\n",
      "\u001b[36m•\u001b[39m `` -> `...28`\n",
      "\u001b[36m•\u001b[39m `` -> `...29`\n",
      "\u001b[36m•\u001b[39m `` -> `...30`\n",
      "\u001b[36m•\u001b[39m `` -> `...31`\n",
      "\u001b[36m•\u001b[39m `` -> `...32`\n",
      "\u001b[36m•\u001b[39m `` -> `...33`\n",
      "\u001b[36m•\u001b[39m `` -> `...34`\n",
      "\u001b[36m•\u001b[39m `` -> `...35`\n",
      "\u001b[36m•\u001b[39m `` -> `...36`\n",
      "\u001b[36m•\u001b[39m `` -> `...37`\n",
      "\u001b[36m•\u001b[39m `` -> `...38`\n",
      "\u001b[36m•\u001b[39m `` -> `...39`\n",
      "\u001b[36m•\u001b[39m `` -> `...40`\n",
      "\u001b[36m•\u001b[39m `` -> `...41`\n",
      "\u001b[36m•\u001b[39m `` -> `...42`\n",
      "\u001b[36m•\u001b[39m `` -> `...43`\n",
      "\u001b[36m•\u001b[39m `` -> `...44`\n",
      "\u001b[36m•\u001b[39m `` -> `...45`\n",
      "\u001b[36m•\u001b[39m `` -> `...46`\n",
      "\u001b[36m•\u001b[39m `` -> `...47`\n",
      "\u001b[36m•\u001b[39m `` -> `...48`\n",
      "\u001b[36m•\u001b[39m `` -> `...49`\n",
      "\u001b[36m•\u001b[39m `` -> `...50`\n",
      "\u001b[36m•\u001b[39m `` -> `...51`\n",
      "\u001b[36m•\u001b[39m `` -> `...52`\n",
      "\u001b[36m•\u001b[39m `` -> `...53`\n",
      "\u001b[36m•\u001b[39m `` -> `...54`\n",
      "\u001b[36m•\u001b[39m `` -> `...55`\n",
      "\u001b[36m•\u001b[39m `` -> `...56`\n",
      "\u001b[36m•\u001b[39m `` -> `...57`\n",
      "\u001b[36m•\u001b[39m `` -> `...58`\n",
      "\u001b[36m•\u001b[39m `` -> `...59`\n",
      "\u001b[36m•\u001b[39m `` -> `...60`\n",
      "\u001b[36m•\u001b[39m `` -> `...61`\n",
      "\u001b[36m•\u001b[39m `` -> `...62`\n",
      "\u001b[36m•\u001b[39m `` -> `...63`\n",
      "\u001b[36m•\u001b[39m `` -> `...64`\n",
      "\u001b[36m•\u001b[39m `` -> `...65`\n",
      "\u001b[36m•\u001b[39m `` -> `...66`\n",
      "\u001b[36m•\u001b[39m `` -> `...67`\n",
      "\u001b[36m•\u001b[39m `` -> `...68`\n",
      "\u001b[36m•\u001b[39m `` -> `...69`\n",
      "\u001b[36m•\u001b[39m `` -> `...70`\n",
      "\u001b[36m•\u001b[39m `` -> `...71`\n",
      "\u001b[36m•\u001b[39m `` -> `...72`\n",
      "\u001b[36m•\u001b[39m `` -> `...73`\n",
      "\u001b[36m•\u001b[39m `` -> `...74`\n",
      "\u001b[36m•\u001b[39m `` -> `...75`\n",
      "\u001b[36m•\u001b[39m `` -> `...76`\n",
      "\u001b[36m•\u001b[39m `` -> `...77`\n",
      "\u001b[36m•\u001b[39m `` -> `...78`\n",
      "\u001b[36m•\u001b[39m `` -> `...79`\n",
      "\u001b[36m•\u001b[39m `` -> `...80`\n",
      "\u001b[36m•\u001b[39m `` -> `...81`\n",
      "\u001b[36m•\u001b[39m `` -> `...82`\n",
      "\u001b[36m•\u001b[39m `` -> `...83`\n",
      "\u001b[36m•\u001b[39m `` -> `...84`\n",
      "\u001b[36m•\u001b[39m `` -> `...85`\n",
      "\u001b[36m•\u001b[39m `` -> `...86`\n",
      "\u001b[36m•\u001b[39m `` -> `...87`\n",
      "\u001b[36m•\u001b[39m `` -> `...88`\n",
      "\u001b[36m•\u001b[39m `` -> `...89`\n",
      "\u001b[36m•\u001b[39m `` -> `...90`\n",
      "\u001b[36m•\u001b[39m `` -> `...91`\n",
      "\u001b[36m•\u001b[39m `` -> `...92`\n",
      "\u001b[36m•\u001b[39m `` -> `...93`\n",
      "\u001b[36m•\u001b[39m `` -> `...94`\n",
      "\u001b[36m•\u001b[39m `` -> `...95`\n",
      "\u001b[36m•\u001b[39m `` -> `...96`\n",
      "\u001b[36m•\u001b[39m `` -> `...97`\n",
      "\u001b[36m•\u001b[39m `` -> `...98`\n",
      "\u001b[36m•\u001b[39m `` -> `...99`\n",
      "\u001b[36m•\u001b[39m `` -> `...100`\n",
      "\u001b[36m•\u001b[39m `` -> `...101`\n",
      "\u001b[36m•\u001b[39m `` -> `...102`\n",
      "\u001b[36m•\u001b[39m `` -> `...103`\n",
      "\u001b[36m•\u001b[39m `` -> `...104`\n",
      "\u001b[36m•\u001b[39m `` -> `...105`\n",
      "\u001b[36m•\u001b[39m `` -> `...106`\n",
      "\u001b[36m•\u001b[39m `` -> `...107`\n",
      "\u001b[36m•\u001b[39m `` -> `...108`\n",
      "\u001b[36m•\u001b[39m `` -> `...109`\n",
      "\u001b[36m•\u001b[39m `` -> `...110`\n",
      "\u001b[36m•\u001b[39m `` -> `...111`\n",
      "\u001b[36m•\u001b[39m `` -> `...112`\n",
      "\u001b[36m•\u001b[39m `` -> `...113`\n",
      "\u001b[36m•\u001b[39m `` -> `...114`\n",
      "\u001b[36m•\u001b[39m `` -> `...115`\n",
      "\u001b[36m•\u001b[39m `` -> `...116`\n",
      "\u001b[36m•\u001b[39m `` -> `...117`\n",
      "\u001b[36m•\u001b[39m `` -> `...118`\n",
      "\u001b[36m•\u001b[39m `` -> `...119`\n",
      "\u001b[36m•\u001b[39m `` -> `...120`\n",
      "\u001b[36m•\u001b[39m `` -> `...121`\n",
      "\u001b[36m•\u001b[39m `` -> `...122`\n",
      "\u001b[36m•\u001b[39m `` -> `...123`\n",
      "\u001b[36m•\u001b[39m `` -> `...124`\n",
      "\u001b[36m•\u001b[39m `` -> `...125`\n",
      "\u001b[36m•\u001b[39m `` -> `...126`\n",
      "\u001b[36m•\u001b[39m `` -> `...127`\n",
      "\u001b[36m•\u001b[39m `` -> `...128`\n",
      "\u001b[36m•\u001b[39m `` -> `...129`\n",
      "\u001b[36m•\u001b[39m `` -> `...130`\n",
      "\u001b[36m•\u001b[39m `` -> `...131`\n",
      "\u001b[36m•\u001b[39m `` -> `...132`\n",
      "\u001b[36m•\u001b[39m `` -> `...133`\n",
      "\u001b[36m•\u001b[39m `` -> `...134`\n",
      "\u001b[36m•\u001b[39m `` -> `...135`\n",
      "\u001b[36m•\u001b[39m `` -> `...136`\n",
      "\u001b[36m•\u001b[39m `` -> `...137`\n",
      "\u001b[36m•\u001b[39m `` -> `...138`\n",
      "\u001b[36m•\u001b[39m `` -> `...139`\n",
      "\u001b[36m•\u001b[39m `` -> `...140`\n",
      "\u001b[36m•\u001b[39m `` -> `...141`\n",
      "\u001b[36m•\u001b[39m `` -> `...142`\n",
      "\u001b[36m•\u001b[39m `` -> `...143`\n",
      "\u001b[36m•\u001b[39m `` -> `...144`\n",
      "\u001b[36m•\u001b[39m `` -> `...145`\n",
      "\u001b[36m•\u001b[39m `` -> `...146`\n",
      "\u001b[36m•\u001b[39m `` -> `...147`\n",
      "\u001b[36m•\u001b[39m `` -> `...148`\n",
      "\u001b[36m•\u001b[39m `` -> `...149`\n",
      "\u001b[36m•\u001b[39m `` -> `...150`\n",
      "\u001b[36m•\u001b[39m `` -> `...151`\n",
      "\u001b[36m•\u001b[39m `` -> `...152`\n",
      "\u001b[36m•\u001b[39m `` -> `...153`\n",
      "\u001b[36m•\u001b[39m `` -> `...154`\n",
      "\u001b[36m•\u001b[39m `` -> `...155`\n",
      "\u001b[36m•\u001b[39m `` -> `...156`\n",
      "\u001b[36m•\u001b[39m `` -> `...157`\n",
      "\u001b[36m•\u001b[39m `` -> `...158`\n",
      "\u001b[36m•\u001b[39m `` -> `...159`\n",
      "\u001b[36m•\u001b[39m `` -> `...160`\n",
      "\u001b[36m•\u001b[39m `` -> `...161`\n",
      "\u001b[36m•\u001b[39m `` -> `...162`\n",
      "\u001b[36m•\u001b[39m `` -> `...163`\n"
     ]
    }
   ],
   "source": [
    "FDIC_raw <- read_excel(\"/workspaces/DUKE_MIDS_QFC_Final_Project/dataset/Deposit_FDIC.xlsx\")\n",
    "\n",
    "# Remove the first 3 rows\n",
    "FDIC_raw <- FDIC_raw[-c(1:3), ]\n",
    "\n",
    "# Remove rows that are completely blank\n",
    "FDIC_raw <- FDIC_raw[rowSums(is.na(FDIC_raw) | FDIC_raw == \"\") < ncol(FDIC_raw), ]"
   ]
  },
  {
   "cell_type": "code",
   "execution_count": 3,
   "metadata": {
    "vscode": {
     "languageId": "r"
    }
   },
   "outputs": [],
   "source": [
    "library(dplyr)\n",
    "\n",
    "# Extract the current variable names (first row) as a new column\n",
    "time <- as.character(FDIC_raw[1, ])\n",
    "time <- time[-1]\n",
    "\n",
    "# Set the entries in the first column as the new variable names\n",
    "row_names <- FDIC_raw[[1]]\n",
    "row_names <- row_names[-c(1, length(row_names))]\n",
    "\n",
    "# Remove the first row and the first column\n",
    "FDIC_data <- FDIC_raw[-1, -1]\n",
    "\n",
    "# Transpose the FDIC_raw\n",
    "FDIC_data <- t(FDIC_data)  # Corrected to transpose the reduced FDIC_raw frame, FDIC_data\n",
    "FDIC_data <- FDIC_data[, -91]\n",
    "FDIC_data <- as.data.frame(FDIC_data, stringsAsFactors = FALSE)\n",
    "\n",
    "# Define variable names\n",
    "colnames(FDIC_data) <- row_names\n",
    "\n",
    "# Add a columns showing period of time\n",
    "FDIC_data <- FDIC_data %>%\n",
    "  mutate(\n",
    "    time = time,\n",
    "    year = as.numeric(substr(time, 1, 4)),\n",
    "    quarter = as.numeric(substr(time, 6, 6))) %>%\n",
    "  select(time, year, quarter, everything())\n",
    "\n",
    "# Change variable names"
   ]
  },
  {
   "cell_type": "code",
   "execution_count": 4,
   "metadata": {
    "vscode": {
     "languageId": "r"
    }
   },
   "outputs": [
    {
     "name": "stderr",
     "output_type": "stream",
     "text": [
      "Warning message in colnames(FDIC_data)[4:ncol(FDIC_data)] <- c(\"loans_re\", \"loans_res_mort\", :\n",
      "“number of items to replace is not a multiple of replacement length”\n"
     ]
    }
   ],
   "source": [
    "# Assuming the first three columns are already named correctly\n",
    "# Assign new variable names starting from the fourth column\n",
    "colnames(FDIC_data)[4:ncol(FDIC_data)] <- c(\"loans_re\", \"loans_res_mort\", \"loans_nonres\", \n",
    "                                    \"loans_constr\", \"loans_hel\", \"loans_multi\", \n",
    "                                    \"loans_farmland\", \"loans_foreign_re\", \"loans_com_ind\", \n",
    "                                    \"loans_indiv\", \"loans_cc\", \"loans_indiv_other\", \n",
    "                                    \"loans_auto\", \"loans_farm\", \"loans_dep\", \n",
    "                                    \"loans_foreign_gov\", \"obligations_US\", \"loans_other\", \n",
    "                                    \"accept_banks\", \"lease_receiv\", \"loans_leases_gross\", \n",
    "                                    \"unearned_income\", \"loans_leases\", \"reserve_losses\", \n",
    "                                    \"loans_leases_net\", \"securities\", \"sec_avail_sale\", \n",
    "                                    \"sec_held_mat\", \"sec_treasury\", \"sec_mtg_backed\", \n",
    "                                    \"sec_state_muni\", \"sec_equity\", \"cash_due_dep\", \n",
    "                                    \"fed_funds_sold\", \"bank_fixed_assets\", \"re_owned_other\", \n",
    "                                    \"trading_assets\", \"assets_intang\", \"mtg_serv_assets\", \n",
    "                                    \"fv_mtg_serv\", \"goodwill\", \"assets_other\", \n",
    "                                    \"liab_cap\", \"deposits\", \"deposits_foreign\", \n",
    "                                    \"deposits_domestic\", \"deposits_interest\", \n",
    "                                    \"deposits_noninterest\", \"deposits_insured\", \n",
    "                                    \"deposits_time\", \"deposits_brokered\", \n",
    "                                    \"fed_funds_purch\", \"fhlb_advances\", \"borrowed_other\", \n",
    "                                    \"bank_accept_liab\", \"debt_subord\", \"trading_liab\", \n",
    "                                    \"liab_other\", \"liab\", \"equity_cap\", \"bank_eq_cap\", \n",
    "                                    \"stock_pref\", \"stock_common\", \"surplus\", \n",
    "                                    \"profits\", \"forex_adj\", \"inc_comprehensive\", \n",
    "                                    \"gains_afs_sec\", \"tier1_leverage\", \"tier1_risk\", \n",
    "                                    \"risk_cap\", \"loans_30_89_due\", \"loans_90plus_due\", \n",
    "                                    \"loans_nonaccrual\", \"loans_restructured\", \n",
    "                                    \"income_uncollected\", \"loans_foreign_office\", \n",
    "                                    \"assets_foreign_office\", \"loans_held_sale\", \n",
    "                                    \"assets_earning\", \"loan_commit\", \"hel_unused\", \n",
    "                                    \"cc_lines_unused\", \"com_re_unused\", \"loan_commit_other\", \n",
    "                                    \"com_re_unsec_unused\", \"sec_underwriting\")"
   ]
  },
  {
   "cell_type": "code",
   "execution_count": 5,
   "metadata": {
    "vscode": {
     "languageId": "r"
    }
   },
   "outputs": [],
   "source": [
    "# Change second instance of \"loans_re\"\n",
    "colnames(FDIC_data)[colnames(FDIC_data) == \"loans_re\"][2] <- \"loans_re_alt\"    \n",
    "# Change second instance of \"loans_res_mort\"\n",
    "colnames(FDIC_data)[colnames(FDIC_data) == \"loans_res_mort\"][2] <- \"loans_res_mort_alt\"\n",
    "# Change second instance of \"loans_nonres\"\n",
    "colnames(FDIC_data)[colnames(FDIC_data) == \"loans_nonres\"][2] <- \"loans_nonres_alt\""
   ]
  },
  {
   "cell_type": "code",
   "execution_count": 6,
   "metadata": {
    "vscode": {
     "languageId": "r"
    }
   },
   "outputs": [],
   "source": [
    "# glimpse(FDIC_data)"
   ]
  },
  {
   "cell_type": "markdown",
   "metadata": {},
   "source": [
    "## Selecting columns needed for deposit prediction"
   ]
  },
  {
   "cell_type": "code",
   "execution_count": 7,
   "metadata": {
    "vscode": {
     "languageId": "r"
    }
   },
   "outputs": [
    {
     "ename": "ERROR",
     "evalue": "Error in parse(text = input): <text>:11:24: unexpected symbol\n10: \n11: glimpse(deposit_levels)readreadrereax\n                           ^\n",
     "output_type": "error",
     "traceback": [
      "Error in parse(text = input): <text>:11:24: unexpected symbol\n10: \n11: glimpse(deposit_levels)readreadrereax\n                           ^\nTraceback:\n"
     ]
    }
   ],
   "source": [
    "# Deposits = Foreign Office Deposits + Domestic Office Deposits\n",
    "columns_to_keep <- c(\"time\", \"deposits\")\n",
    "deposit_levels <- FDIC_data[, columns_to_keep]\n",
    "\n",
    "# Transform deposit column into a numeric instaed of character\n",
    "deposit_levels$deposits <- as.numeric(deposit_levels$deposits)\n",
    "\n",
    "# Make deposit its full value/correct unit (in million)\n",
    "deposit_levels$deposits <- deposit_levels$deposits * 1000000\n",
    "\n",
    "glimpse(deposit_levels)readreadrereax\n",
    "any(is.na(deposit_levels)) # no missing values"
   ]
  },
  {
   "cell_type": "code",
   "execution_count": null,
   "metadata": {
    "vscode": {
     "languageId": "r"
    }
   },
   "outputs": [],
   "source": [
    "saveRDS(deposit_levels, \"deposit_levels.rds\")  # Save the data to call it in other notebooks"
   ]
  }
 ],
 "metadata": {
  "kernelspec": {
   "display_name": "R",
   "language": "R",
   "name": "ir"
  },
  "language_info": {
   "codemirror_mode": "r",
   "file_extension": ".r",
   "mimetype": "text/x-r-source",
   "name": "R",
   "pygments_lexer": "r",
   "version": "3.6.3"
  }
 },
 "nbformat": 4,
 "nbformat_minor": 2
}
